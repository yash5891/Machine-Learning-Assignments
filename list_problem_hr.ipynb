{
  "nbformat": 4,
  "nbformat_minor": 0,
  "metadata": {
    "colab": {
      "provenance": [],
      "authorship_tag": "ABX9TyM2TsRmKOItxD+BBCLEaRmU",
      "include_colab_link": true
    },
    "kernelspec": {
      "name": "python3",
      "display_name": "Python 3"
    },
    "language_info": {
      "name": "python"
    }
  },
  "cells": [
    {
      "cell_type": "markdown",
      "metadata": {
        "id": "view-in-github",
        "colab_type": "text"
      },
      "source": [
        "<a href=\"https://colab.research.google.com/github/yash5891/Machine-Learning-Assignments/blob/main/list_problem_hr.ipynb\" target=\"_parent\"><img src=\"https://colab.research.google.com/assets/colab-badge.svg\" alt=\"Open In Colab\"/></a>"
      ]
    },
    {
      "cell_type": "code",
      "execution_count": 5,
      "metadata": {
        "colab": {
          "base_uri": "https://localhost:8080/"
        },
        "id": "hFoRcLfQBKrL",
        "outputId": "a330fddc-78b2-4cb9-b817-86c90ca2bbc6"
      },
      "outputs": [
        {
          "output_type": "stream",
          "name": "stdout",
          "text": [
            "1\n",
            "2\n",
            "[]\n"
          ]
        }
      ],
      "source": [
        "if __name__ == '__main__':\n",
        "    N = int(input())\n",
        "    L=[]\n",
        "    for i in range(0,N):\n",
        "        cmd=input().split()\n",
        "        if cmd[0] == \"insert\":\n",
        "          L.insert(int(cmd[1]),int(cmd[2]))\n",
        "        elif cmd[0] == \"append\":\n",
        "            L.append(int(cmd[1]))\n",
        "        elif cmd[0] == \"pop\":\n",
        "            L.pop()\n",
        "        elif cmd[0] == \"print\":\n",
        "            print(L)\n",
        "        elif cmd[0] == \"remove\":\n",
        "            L.remove(int(cmd[1]))\n",
        "        elif cmd[0] == \"sort\":\n",
        "            L.sort()\n",
        "        else:\n",
        "            L.reverse()\n",
        ""
      ]
    },
    {
      "cell_type": "code",
      "source": [],
      "metadata": {
        "id": "lb45gJvcBYvW"
      },
      "execution_count": null,
      "outputs": []
    }
  ]
}