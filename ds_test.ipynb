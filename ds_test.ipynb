{
  "cells": [
    {
      "cell_type": "markdown",
      "metadata": {
        "id": "view-in-github",
        "colab_type": "text"
      },
      "source": [
        "<a href=\"https://colab.research.google.com/github/yash5891/Machine-Learning-Assignments/blob/main/ds_test.ipynb\" target=\"_parent\"><img src=\"https://colab.research.google.com/assets/colab-badge.svg\" alt=\"Open In Colab\"/></a>"
      ]
    },
    {
      "cell_type": "markdown",
      "id": "4d5b6b2c-c78d-4ed2-b5bc-1016fb6c5df7",
      "metadata": {
        "tags": [],
        "id": "4d5b6b2c-c78d-4ed2-b5bc-1016fb6c5df7"
      },
      "source": [
        "# Data Science Test\n",
        "\n",
        "**Exam duration:**\n",
        "24 hours  \n",
        "\n",
        "**Required output:**\n",
        "The uploaded solution must be an ipython notebook (a file of type `ipynb`). All code must be written in python. All text must be written in Markdown.\n",
        "\n",
        "You may use Colab, Jupyter lab, Jupyter notebook or any other program to complete the exam.\n",
        "\n",
        "Upload your solution to Github before the deadline. You will get the upload link at bottom of the test.\n",
        "\n",
        "#### Before submission\n",
        "\n",
        "Make sure you are submitting error free code!\n",
        "\n",
        "Click Run --> Restart Kernal and Run all cells.\n",
        "\n",
        "#### Honor code\n",
        "\n",
        "As a student of AI Adventures, I **[enter_your_name here]** pledge to:\n",
        "\n",
        "1. Uphold the values of academic integrity, honesty, and respect in all of my academic work.\n",
        "\n",
        "2. Not engage in any form of academic misconduct, including cheating, plagiarism, or using unauthorized resources during exams.\n",
        "\n",
        "3. Commit to not using ChatGPT or any other AI language model during exam hours, and to rely only on my own knowledge, skills, and resources.\n",
        "\n",
        "4. Follow all exam rules and instructions, and not bring any unauthorized materials, devices, or resources into the exam room.\n",
        "\n",
        "5. Report any incidents of academic misconduct that I witness or become aware of, and cooperate fully with any investigation into such incidents.\n",
        "\n",
        "6. Not ask mentors questions that relate directly to coding during exams, such as \"why does my code snippet not work as expected?\" or \"how do I implement...?\"\n",
        "\n",
        "7. If I am stuck with implementation during an exam, I am allowed to use Google as a resource.\n",
        "\n",
        "By signing this pledge, I commit to upholding the highest standards of academic integrity and to avoiding all forms of cheating or academic misconduct during my studies at AI Adventures. I understand that violating this pledge may result in disciplinary actions.\n"
      ]
    },
    {
      "cell_type": "markdown",
      "id": "d9436835-161b-447c-997c-23a36b991bf1",
      "metadata": {
        "id": "d9436835-161b-447c-997c-23a36b991bf1"
      },
      "source": [
        "#### Answering the questions\n",
        "Most of the questions require you to implement something in Python but there might be some questions for which you do not need to write any code.\n",
        "\n",
        "For code questions (that is - almost all questions): you are required to show the **python** code you used to find the answer. An answer found using excel or other tools will not be accepted. The code should also be general, so that it would still work if the data were to change.\n",
        "\n",
        "The code output should only show the answer to the question with no extras. For example: if asked on 2018 data, show only 2018 data (and not 2015-2017 data in addition).\n",
        "\n",
        "We provide cells in which you can type your answer. Use can modify the to `Code` or `Markdown`. Use `Code` to write python code, and `Markdown` for explanations.  \n",
        "\n",
        "You are not required to use all the cells we provide, and you are also not required to use only the cells we provide. You may add or remove answer cell as you need."
      ]
    },
    {
      "cell_type": "markdown",
      "id": "5db84584-ca28-4bd8-962e-0cd4febec6b9",
      "metadata": {
        "id": "5db84584-ca28-4bd8-962e-0cd4febec6b9"
      },
      "source": [
        "#### Libraries\n",
        "\n",
        "To answer the questions you may use:\n",
        "- any library you prefer (not necessarily the ones which were presented in the course)\n",
        "- all materials that we have provided you during the courses\n",
        "- the whole www (especially documentation of libraries and sites like stackoverflow may give you useful hints)\n",
        "\n",
        "In case something does not work as expected, check that you have the most recent version of the library.\n",
        "\n",
        "You can update your used libraries with a command like the following:"
      ]
    },
    {
      "cell_type": "code",
      "execution_count": 79,
      "id": "4c8766a7-dde1-42e6-b70c-dea0ebe26fee",
      "metadata": {
        "id": "4c8766a7-dde1-42e6-b70c-dea0ebe26fee"
      },
      "outputs": [],
      "source": [
        "# !pip install -U <library_name>\n",
        "# remove the '#' sign in case you want to update any of the libraries"
      ]
    },
    {
      "cell_type": "markdown",
      "id": "26de46dc-6734-44b6-bdfb-e44241180149",
      "metadata": {
        "id": "26de46dc-6734-44b6-bdfb-e44241180149"
      },
      "source": [
        "# Good Luck!"
      ]
    },
    {
      "cell_type": "markdown",
      "id": "4225ae74-929b-4032-8315-797a9a62ddf8",
      "metadata": {
        "id": "4225ae74-929b-4032-8315-797a9a62ddf8"
      },
      "source": [
        "---"
      ]
    },
    {
      "cell_type": "markdown",
      "id": "ec685944-6a9c-40fc-9b94-80693afbb2bc",
      "metadata": {
        "jp-MarkdownHeadingCollapsed": true,
        "tags": [],
        "id": "ec685944-6a9c-40fc-9b94-80693afbb2bc"
      },
      "source": [
        "## The dataset\n",
        "\n",
        "Wildlife strikes with aircraft are increasing worldwide. Collecting and analyzing accurate data on wildlife strikes helps to better understand the scope and nature of the problem.\\\n",
        "In this exam, you will work with data on aircraft-wildlife collisions, courtesy of the [Federal Aviation Administration](https://wildlife.faa.gov/search)\\\n",
        "This dataset contains reports received from airlines, airports, pilots on aircraft collisions with wildlife.\\\n",
        "See the file: `about_the_dataset.xlsx` for an explanation on the columns in the dataset.\n"
      ]
    },
    {
      "cell_type": "markdown",
      "id": "f464ba11-8eb8-4c3b-80c6-db7dc3012a91",
      "metadata": {
        "jp-MarkdownHeadingCollapsed": true,
        "tags": [],
        "id": "f464ba11-8eb8-4c3b-80c6-db7dc3012a91"
      },
      "source": [
        "## Task 1 - Code of honor (mandatory, no points):"
      ]
    },
    {
      "cell_type": "markdown",
      "id": "ee969b1f-79f8-4f25-8f74-71dad2de9c13",
      "metadata": {
        "id": "ee969b1f-79f8-4f25-8f74-71dad2de9c13"
      },
      "source": [
        "Please copy the following sentence and add your full name:\n",
        "\n",
        "As a student of AI Adventures, I `yash` pledge to:\n",
        "\n",
        "1. Uphold the values of academic integrity, honesty, and respect in all of my academic work.\n",
        "\n",
        "2. Not engage in any form of academic misconduct, including cheating, plagiarism, or using unauthorized resources during exams.\n",
        "\n",
        "3. Commit to not using ChatGPT or any other AI language model during exam hours, and to rely only on my own knowledge, skills, and resources.\n",
        "\n",
        "4. Follow all exam rules and instructions, and not bring any unauthorized materials, devices, or resources into the exam room.\n",
        "\n",
        "5. Report any incidents of academic misconduct that I witness or become aware of, and cooperate fully with any investigation into such incidents.\n",
        "\n",
        "6. Not ask mentors questions that relate directly to coding during exams, such as \"why does my code snippet not work as expected?\" or \"how do I implement...?\"\n",
        "\n",
        "7. If I am stuck with implementation during an exam, I am allowed to use Google as a resource.\n",
        "\n",
        "By signing this pledge, I commit to upholding the highest standards of academic integrity and to avoiding all forms of cheating or academic misconduct during my studies at AI Adventures. I understand that violating this pledge may result in disciplinary actions."
      ]
    },
    {
      "cell_type": "markdown",
      "source": [
        "-------------------------------------------------------------------------------------"
      ],
      "metadata": {
        "id": "VGCzSEiIgw86"
      },
      "id": "VGCzSEiIgw86"
    },
    {
      "cell_type": "markdown",
      "id": "953aa328-510c-4f48-97ee-25d1c592ca3c",
      "metadata": {
        "jp-MarkdownHeadingCollapsed": true,
        "tags": [],
        "id": "953aa328-510c-4f48-97ee-25d1c592ca3c"
      },
      "source": [
        "## Task 2 - Data Import"
      ]
    },
    {
      "cell_type": "code",
      "source": [
        "from urllib import request\n",
        "import pandas as pd\n",
        "module_urls = [\"https://media.githubusercontent.com/media/Ai-Adventures/Test_Datasets/main/strikes_from_2020.csv\",\"https://media.githubusercontent.com/media/Ai-Adventures/Test_Datasets/main/strikes_until_2020.csv\"]\n",
        "for url in module_urls:\n",
        "  print(f'Fetching {url}')\n",
        "  module_name = url.split('/')[-1]\n",
        "  #with open(\"file_1.txt\") as f1, open(\"file_2.txt\") as f2\n",
        "  with request.urlopen(url) as f, open(module_name,'w') as outf:\n",
        "    a = f.read()\n",
        "    outf.write(a.decode('utf-8'))\n",
        "\n",
        "\n",
        "df1 = pd.read_csv('strikes_from_2020.csv')\n",
        "df2 = pd.read_csv('strikes_until_2020.csv')\n",
        "# this fills empty cells with empty strings\n",
        "df1.head()"
      ],
      "metadata": {
        "id": "288wssmtkG_O",
        "colab": {
          "base_uri": "https://localhost:8080/",
          "height": 519
        },
        "outputId": "10f75139-f79d-4b5e-b5e7-201557904246"
      },
      "id": "288wssmtkG_O",
      "execution_count": 80,
      "outputs": [
        {
          "output_type": "stream",
          "name": "stdout",
          "text": [
            "Fetching https://media.githubusercontent.com/media/Ai-Adventures/Test_Datasets/main/strikes_from_2020.csv\n",
            "Fetching https://media.githubusercontent.com/media/Ai-Adventures/Test_Datasets/main/strikes_until_2020.csv\n"
          ]
        },
        {
          "output_type": "stream",
          "name": "stderr",
          "text": [
            "<ipython-input-80-7d7349daf0e5>:14: DtypeWarning: Columns (18,21,23) have mixed types. Specify dtype option on import or set low_memory=False.\n",
            "  df2 = pd.read_csv('strikes_until_2020.csv')\n"
          ]
        },
        {
          "output_type": "execute_result",
          "data": {
            "text/plain": [
              "   Unnamed: 0  INDEX_NR    INCIDENT_DATE  INCIDENT_MONTH  INCIDENT_YEAR  \\\n",
              "0      224953   1082851  05/01/2021 0:00               1           2021   \n",
              "1      224997   1082943  01/01/2021 0:00               1           2021   \n",
              "2      224998   1082950  02/01/2021 0:00               1           2021   \n",
              "3      224999   1082951  02/01/2021 0:00               1           2021   \n",
              "4      225000   1082953  01/01/2021 0:00               1           2021   \n",
              "\n",
              "    TIME TIME_OF_DAY AIRPORT_ID                     AIRPORT   LATITUDE  ...  \\\n",
              "0    NaN         NaN       MNMG           MANAGUA INTL ARPT  12.141494  ...   \n",
              "1   8:25         NaN       KRFD  CHICAGO/ROCKFORD INTL ARPT  42.195360  ...   \n",
              "2   1:01         NaN       KTPA                  TAMPA INTL  27.975470  ...   \n",
              "3   1:55         NaN       KTPA                  TAMPA INTL  27.975470  ...   \n",
              "4  15:30        Dusk       KEVV         EVANSVILLE REGIONAL  38.037990  ...   \n",
              "\n",
              "   ENROUTE_STATE NR_INJURIES NR_FATALITIES COMMENTS REPORTED_NAME  \\\n",
              "0            NaN         NaN           NaN      NaN      REDACTED   \n",
              "1            NaN         NaN           NaN      NaN      REDACTED   \n",
              "2            NaN         NaN           NaN      NaN      REDACTED   \n",
              "3            NaN         NaN           NaN      NaN      REDACTED   \n",
              "4            NaN         NaN           NaN      NaN      REDACTED   \n",
              "\n",
              "  REPORTED_TITLE                SOURCE                    PERSON  \\\n",
              "0       REDACTED  Air Transport Report  Air Transport Operations   \n",
              "1       REDACTED     FAA Form 5200-7-E             Carcass Found   \n",
              "2       REDACTED     FAA Form 5200-7-E             Carcass Found   \n",
              "3       REDACTED     FAA Form 5200-7-E             Carcass Found   \n",
              "4       REDACTED     FAA Form 5200-7-E        Airport Operations   \n",
              "\n",
              "           LUPDATE TRANSFER  \n",
              "0  06/01/2021 0:00        0  \n",
              "1  06/01/2021 0:00        0  \n",
              "2  06/01/2021 0:00        0  \n",
              "3  06/01/2021 0:00        0  \n",
              "4  06/01/2021 0:00        0  \n",
              "\n",
              "[5 rows x 102 columns]"
            ],
            "text/html": [
              "\n",
              "  <div id=\"df-d674ee16-96eb-41f5-b0c4-db810a2a692f\" class=\"colab-df-container\">\n",
              "    <div>\n",
              "<style scoped>\n",
              "    .dataframe tbody tr th:only-of-type {\n",
              "        vertical-align: middle;\n",
              "    }\n",
              "\n",
              "    .dataframe tbody tr th {\n",
              "        vertical-align: top;\n",
              "    }\n",
              "\n",
              "    .dataframe thead th {\n",
              "        text-align: right;\n",
              "    }\n",
              "</style>\n",
              "<table border=\"1\" class=\"dataframe\">\n",
              "  <thead>\n",
              "    <tr style=\"text-align: right;\">\n",
              "      <th></th>\n",
              "      <th>Unnamed: 0</th>\n",
              "      <th>INDEX_NR</th>\n",
              "      <th>INCIDENT_DATE</th>\n",
              "      <th>INCIDENT_MONTH</th>\n",
              "      <th>INCIDENT_YEAR</th>\n",
              "      <th>TIME</th>\n",
              "      <th>TIME_OF_DAY</th>\n",
              "      <th>AIRPORT_ID</th>\n",
              "      <th>AIRPORT</th>\n",
              "      <th>LATITUDE</th>\n",
              "      <th>...</th>\n",
              "      <th>ENROUTE_STATE</th>\n",
              "      <th>NR_INJURIES</th>\n",
              "      <th>NR_FATALITIES</th>\n",
              "      <th>COMMENTS</th>\n",
              "      <th>REPORTED_NAME</th>\n",
              "      <th>REPORTED_TITLE</th>\n",
              "      <th>SOURCE</th>\n",
              "      <th>PERSON</th>\n",
              "      <th>LUPDATE</th>\n",
              "      <th>TRANSFER</th>\n",
              "    </tr>\n",
              "  </thead>\n",
              "  <tbody>\n",
              "    <tr>\n",
              "      <th>0</th>\n",
              "      <td>224953</td>\n",
              "      <td>1082851</td>\n",
              "      <td>05/01/2021 0:00</td>\n",
              "      <td>1</td>\n",
              "      <td>2021</td>\n",
              "      <td>NaN</td>\n",
              "      <td>NaN</td>\n",
              "      <td>MNMG</td>\n",
              "      <td>MANAGUA INTL ARPT</td>\n",
              "      <td>12.141494</td>\n",
              "      <td>...</td>\n",
              "      <td>NaN</td>\n",
              "      <td>NaN</td>\n",
              "      <td>NaN</td>\n",
              "      <td>NaN</td>\n",
              "      <td>REDACTED</td>\n",
              "      <td>REDACTED</td>\n",
              "      <td>Air Transport Report</td>\n",
              "      <td>Air Transport Operations</td>\n",
              "      <td>06/01/2021 0:00</td>\n",
              "      <td>0</td>\n",
              "    </tr>\n",
              "    <tr>\n",
              "      <th>1</th>\n",
              "      <td>224997</td>\n",
              "      <td>1082943</td>\n",
              "      <td>01/01/2021 0:00</td>\n",
              "      <td>1</td>\n",
              "      <td>2021</td>\n",
              "      <td>8:25</td>\n",
              "      <td>NaN</td>\n",
              "      <td>KRFD</td>\n",
              "      <td>CHICAGO/ROCKFORD INTL ARPT</td>\n",
              "      <td>42.195360</td>\n",
              "      <td>...</td>\n",
              "      <td>NaN</td>\n",
              "      <td>NaN</td>\n",
              "      <td>NaN</td>\n",
              "      <td>NaN</td>\n",
              "      <td>REDACTED</td>\n",
              "      <td>REDACTED</td>\n",
              "      <td>FAA Form 5200-7-E</td>\n",
              "      <td>Carcass Found</td>\n",
              "      <td>06/01/2021 0:00</td>\n",
              "      <td>0</td>\n",
              "    </tr>\n",
              "    <tr>\n",
              "      <th>2</th>\n",
              "      <td>224998</td>\n",
              "      <td>1082950</td>\n",
              "      <td>02/01/2021 0:00</td>\n",
              "      <td>1</td>\n",
              "      <td>2021</td>\n",
              "      <td>1:01</td>\n",
              "      <td>NaN</td>\n",
              "      <td>KTPA</td>\n",
              "      <td>TAMPA INTL</td>\n",
              "      <td>27.975470</td>\n",
              "      <td>...</td>\n",
              "      <td>NaN</td>\n",
              "      <td>NaN</td>\n",
              "      <td>NaN</td>\n",
              "      <td>NaN</td>\n",
              "      <td>REDACTED</td>\n",
              "      <td>REDACTED</td>\n",
              "      <td>FAA Form 5200-7-E</td>\n",
              "      <td>Carcass Found</td>\n",
              "      <td>06/01/2021 0:00</td>\n",
              "      <td>0</td>\n",
              "    </tr>\n",
              "    <tr>\n",
              "      <th>3</th>\n",
              "      <td>224999</td>\n",
              "      <td>1082951</td>\n",
              "      <td>02/01/2021 0:00</td>\n",
              "      <td>1</td>\n",
              "      <td>2021</td>\n",
              "      <td>1:55</td>\n",
              "      <td>NaN</td>\n",
              "      <td>KTPA</td>\n",
              "      <td>TAMPA INTL</td>\n",
              "      <td>27.975470</td>\n",
              "      <td>...</td>\n",
              "      <td>NaN</td>\n",
              "      <td>NaN</td>\n",
              "      <td>NaN</td>\n",
              "      <td>NaN</td>\n",
              "      <td>REDACTED</td>\n",
              "      <td>REDACTED</td>\n",
              "      <td>FAA Form 5200-7-E</td>\n",
              "      <td>Carcass Found</td>\n",
              "      <td>06/01/2021 0:00</td>\n",
              "      <td>0</td>\n",
              "    </tr>\n",
              "    <tr>\n",
              "      <th>4</th>\n",
              "      <td>225000</td>\n",
              "      <td>1082953</td>\n",
              "      <td>01/01/2021 0:00</td>\n",
              "      <td>1</td>\n",
              "      <td>2021</td>\n",
              "      <td>15:30</td>\n",
              "      <td>Dusk</td>\n",
              "      <td>KEVV</td>\n",
              "      <td>EVANSVILLE REGIONAL</td>\n",
              "      <td>38.037990</td>\n",
              "      <td>...</td>\n",
              "      <td>NaN</td>\n",
              "      <td>NaN</td>\n",
              "      <td>NaN</td>\n",
              "      <td>NaN</td>\n",
              "      <td>REDACTED</td>\n",
              "      <td>REDACTED</td>\n",
              "      <td>FAA Form 5200-7-E</td>\n",
              "      <td>Airport Operations</td>\n",
              "      <td>06/01/2021 0:00</td>\n",
              "      <td>0</td>\n",
              "    </tr>\n",
              "  </tbody>\n",
              "</table>\n",
              "<p>5 rows × 102 columns</p>\n",
              "</div>\n",
              "    <div class=\"colab-df-buttons\">\n",
              "\n",
              "  <div class=\"colab-df-container\">\n",
              "    <button class=\"colab-df-convert\" onclick=\"convertToInteractive('df-d674ee16-96eb-41f5-b0c4-db810a2a692f')\"\n",
              "            title=\"Convert this dataframe to an interactive table.\"\n",
              "            style=\"display:none;\">\n",
              "\n",
              "  <svg xmlns=\"http://www.w3.org/2000/svg\" height=\"24px\" viewBox=\"0 -960 960 960\">\n",
              "    <path d=\"M120-120v-720h720v720H120Zm60-500h600v-160H180v160Zm220 220h160v-160H400v160Zm0 220h160v-160H400v160ZM180-400h160v-160H180v160Zm440 0h160v-160H620v160ZM180-180h160v-160H180v160Zm440 0h160v-160H620v160Z\"/>\n",
              "  </svg>\n",
              "    </button>\n",
              "\n",
              "  <style>\n",
              "    .colab-df-container {\n",
              "      display:flex;\n",
              "      gap: 12px;\n",
              "    }\n",
              "\n",
              "    .colab-df-convert {\n",
              "      background-color: #E8F0FE;\n",
              "      border: none;\n",
              "      border-radius: 50%;\n",
              "      cursor: pointer;\n",
              "      display: none;\n",
              "      fill: #1967D2;\n",
              "      height: 32px;\n",
              "      padding: 0 0 0 0;\n",
              "      width: 32px;\n",
              "    }\n",
              "\n",
              "    .colab-df-convert:hover {\n",
              "      background-color: #E2EBFA;\n",
              "      box-shadow: 0px 1px 2px rgba(60, 64, 67, 0.3), 0px 1px 3px 1px rgba(60, 64, 67, 0.15);\n",
              "      fill: #174EA6;\n",
              "    }\n",
              "\n",
              "    .colab-df-buttons div {\n",
              "      margin-bottom: 4px;\n",
              "    }\n",
              "\n",
              "    [theme=dark] .colab-df-convert {\n",
              "      background-color: #3B4455;\n",
              "      fill: #D2E3FC;\n",
              "    }\n",
              "\n",
              "    [theme=dark] .colab-df-convert:hover {\n",
              "      background-color: #434B5C;\n",
              "      box-shadow: 0px 1px 3px 1px rgba(0, 0, 0, 0.15);\n",
              "      filter: drop-shadow(0px 1px 2px rgba(0, 0, 0, 0.3));\n",
              "      fill: #FFFFFF;\n",
              "    }\n",
              "  </style>\n",
              "\n",
              "    <script>\n",
              "      const buttonEl =\n",
              "        document.querySelector('#df-d674ee16-96eb-41f5-b0c4-db810a2a692f button.colab-df-convert');\n",
              "      buttonEl.style.display =\n",
              "        google.colab.kernel.accessAllowed ? 'block' : 'none';\n",
              "\n",
              "      async function convertToInteractive(key) {\n",
              "        const element = document.querySelector('#df-d674ee16-96eb-41f5-b0c4-db810a2a692f');\n",
              "        const dataTable =\n",
              "          await google.colab.kernel.invokeFunction('convertToInteractive',\n",
              "                                                    [key], {});\n",
              "        if (!dataTable) return;\n",
              "\n",
              "        const docLinkHtml = 'Like what you see? Visit the ' +\n",
              "          '<a target=\"_blank\" href=https://colab.research.google.com/notebooks/data_table.ipynb>data table notebook</a>'\n",
              "          + ' to learn more about interactive tables.';\n",
              "        element.innerHTML = '';\n",
              "        dataTable['output_type'] = 'display_data';\n",
              "        await google.colab.output.renderOutput(dataTable, element);\n",
              "        const docLink = document.createElement('div');\n",
              "        docLink.innerHTML = docLinkHtml;\n",
              "        element.appendChild(docLink);\n",
              "      }\n",
              "    </script>\n",
              "  </div>\n",
              "\n",
              "\n",
              "<div id=\"df-85022dca-c0a1-4b36-a826-034f269d8a2c\">\n",
              "  <button class=\"colab-df-quickchart\" onclick=\"quickchart('df-85022dca-c0a1-4b36-a826-034f269d8a2c')\"\n",
              "            title=\"Suggest charts\"\n",
              "            style=\"display:none;\">\n",
              "\n",
              "<svg xmlns=\"http://www.w3.org/2000/svg\" height=\"24px\"viewBox=\"0 0 24 24\"\n",
              "     width=\"24px\">\n",
              "    <g>\n",
              "        <path d=\"M19 3H5c-1.1 0-2 .9-2 2v14c0 1.1.9 2 2 2h14c1.1 0 2-.9 2-2V5c0-1.1-.9-2-2-2zM9 17H7v-7h2v7zm4 0h-2V7h2v10zm4 0h-2v-4h2v4z\"/>\n",
              "    </g>\n",
              "</svg>\n",
              "  </button>\n",
              "\n",
              "<style>\n",
              "  .colab-df-quickchart {\n",
              "      --bg-color: #E8F0FE;\n",
              "      --fill-color: #1967D2;\n",
              "      --hover-bg-color: #E2EBFA;\n",
              "      --hover-fill-color: #174EA6;\n",
              "      --disabled-fill-color: #AAA;\n",
              "      --disabled-bg-color: #DDD;\n",
              "  }\n",
              "\n",
              "  [theme=dark] .colab-df-quickchart {\n",
              "      --bg-color: #3B4455;\n",
              "      --fill-color: #D2E3FC;\n",
              "      --hover-bg-color: #434B5C;\n",
              "      --hover-fill-color: #FFFFFF;\n",
              "      --disabled-bg-color: #3B4455;\n",
              "      --disabled-fill-color: #666;\n",
              "  }\n",
              "\n",
              "  .colab-df-quickchart {\n",
              "    background-color: var(--bg-color);\n",
              "    border: none;\n",
              "    border-radius: 50%;\n",
              "    cursor: pointer;\n",
              "    display: none;\n",
              "    fill: var(--fill-color);\n",
              "    height: 32px;\n",
              "    padding: 0;\n",
              "    width: 32px;\n",
              "  }\n",
              "\n",
              "  .colab-df-quickchart:hover {\n",
              "    background-color: var(--hover-bg-color);\n",
              "    box-shadow: 0 1px 2px rgba(60, 64, 67, 0.3), 0 1px 3px 1px rgba(60, 64, 67, 0.15);\n",
              "    fill: var(--button-hover-fill-color);\n",
              "  }\n",
              "\n",
              "  .colab-df-quickchart-complete:disabled,\n",
              "  .colab-df-quickchart-complete:disabled:hover {\n",
              "    background-color: var(--disabled-bg-color);\n",
              "    fill: var(--disabled-fill-color);\n",
              "    box-shadow: none;\n",
              "  }\n",
              "\n",
              "  .colab-df-spinner {\n",
              "    border: 2px solid var(--fill-color);\n",
              "    border-color: transparent;\n",
              "    border-bottom-color: var(--fill-color);\n",
              "    animation:\n",
              "      spin 1s steps(1) infinite;\n",
              "  }\n",
              "\n",
              "  @keyframes spin {\n",
              "    0% {\n",
              "      border-color: transparent;\n",
              "      border-bottom-color: var(--fill-color);\n",
              "      border-left-color: var(--fill-color);\n",
              "    }\n",
              "    20% {\n",
              "      border-color: transparent;\n",
              "      border-left-color: var(--fill-color);\n",
              "      border-top-color: var(--fill-color);\n",
              "    }\n",
              "    30% {\n",
              "      border-color: transparent;\n",
              "      border-left-color: var(--fill-color);\n",
              "      border-top-color: var(--fill-color);\n",
              "      border-right-color: var(--fill-color);\n",
              "    }\n",
              "    40% {\n",
              "      border-color: transparent;\n",
              "      border-right-color: var(--fill-color);\n",
              "      border-top-color: var(--fill-color);\n",
              "    }\n",
              "    60% {\n",
              "      border-color: transparent;\n",
              "      border-right-color: var(--fill-color);\n",
              "    }\n",
              "    80% {\n",
              "      border-color: transparent;\n",
              "      border-right-color: var(--fill-color);\n",
              "      border-bottom-color: var(--fill-color);\n",
              "    }\n",
              "    90% {\n",
              "      border-color: transparent;\n",
              "      border-bottom-color: var(--fill-color);\n",
              "    }\n",
              "  }\n",
              "</style>\n",
              "\n",
              "  <script>\n",
              "    async function quickchart(key) {\n",
              "      const quickchartButtonEl =\n",
              "        document.querySelector('#' + key + ' button');\n",
              "      quickchartButtonEl.disabled = true;  // To prevent multiple clicks.\n",
              "      quickchartButtonEl.classList.add('colab-df-spinner');\n",
              "      try {\n",
              "        const charts = await google.colab.kernel.invokeFunction(\n",
              "            'suggestCharts', [key], {});\n",
              "      } catch (error) {\n",
              "        console.error('Error during call to suggestCharts:', error);\n",
              "      }\n",
              "      quickchartButtonEl.classList.remove('colab-df-spinner');\n",
              "      quickchartButtonEl.classList.add('colab-df-quickchart-complete');\n",
              "    }\n",
              "    (() => {\n",
              "      let quickchartButtonEl =\n",
              "        document.querySelector('#df-85022dca-c0a1-4b36-a826-034f269d8a2c button');\n",
              "      quickchartButtonEl.style.display =\n",
              "        google.colab.kernel.accessAllowed ? 'block' : 'none';\n",
              "    })();\n",
              "  </script>\n",
              "</div>\n",
              "\n",
              "    </div>\n",
              "  </div>\n"
            ],
            "application/vnd.google.colaboratory.intrinsic+json": {
              "type": "dataframe",
              "variable_name": "df1"
            }
          },
          "metadata": {},
          "execution_count": 80
        }
      ]
    },
    {
      "cell_type": "markdown",
      "id": "98f76b7c-8c5c-4b8e-ac79-19423bf83b3a",
      "metadata": {
        "tags": [],
        "id": "98f76b7c-8c5c-4b8e-ac79-19423bf83b3a"
      },
      "source": [
        "You will find two files:\\\n",
        "`strikes_until_2020.csv` - contains data on reported strikes up until 2020.\\\n",
        "`strikes_from_2020.csv` - contains data on reported strikes from the beginning of 2020 and onward.\n",
        "\n",
        "#### Task 2.1\n",
        "Place the files in the same directory with this python notebook.\n",
        "\n",
        "Read the files into dataframes. If you are unsure how to import a file\n",
        "using column names from a list, have a look at the documentation of the function that you use\n",
        "for the import. You may want to look into the original csv-file to find out how to configure the import.\\\n",
        "Note: you might encounter a `DtypeWarning` when reading the files. You can ignore this warning."
      ]
    },
    {
      "cell_type": "code",
      "execution_count": 80,
      "id": "990595c6-2bd8-4bc4-b909-268c5ac6f606",
      "metadata": {
        "id": "990595c6-2bd8-4bc4-b909-268c5ac6f606"
      },
      "outputs": [],
      "source": []
    },
    {
      "cell_type": "markdown",
      "id": "a0a2915c-5c87-4898-bc40-16cfddd21f51",
      "metadata": {
        "id": "a0a2915c-5c87-4898-bc40-16cfddd21f51"
      },
      "source": [
        "#### Task 2.2\n",
        "How many rows and how many columns does each dataframe contain?"
      ]
    },
    {
      "cell_type": "code",
      "execution_count": 81,
      "id": "80c9fd2c-ef4f-4d8e-a4cf-8bdf0682a6df",
      "metadata": {
        "id": "80c9fd2c-ef4f-4d8e-a4cf-8bdf0682a6df",
        "colab": {
          "base_uri": "https://localhost:8080/"
        },
        "outputId": "36149a20-596b-4e72-ef27-ddd38e862866"
      },
      "outputs": [
        {
          "output_type": "execute_result",
          "data": {
            "text/plain": [
              "(31472, 102)"
            ]
          },
          "metadata": {},
          "execution_count": 81
        }
      ],
      "source": [
        "df1.shape"
      ]
    },
    {
      "cell_type": "markdown",
      "id": "b49dde67-7cd5-4363-adfe-4e745ec15add",
      "metadata": {
        "id": "b49dde67-7cd5-4363-adfe-4e745ec15add"
      },
      "source": [
        "#### Task 2.3\n",
        "Present all of column names of one of the dataframes"
      ]
    },
    {
      "cell_type": "code",
      "source": [
        "df1.columns"
      ],
      "metadata": {
        "id": "8gbYlq8crrKs",
        "colab": {
          "base_uri": "https://localhost:8080/"
        },
        "outputId": "9edd4403-788d-4f6e-a3b5-cf5986fb99ea"
      },
      "id": "8gbYlq8crrKs",
      "execution_count": 82,
      "outputs": [
        {
          "output_type": "execute_result",
          "data": {
            "text/plain": [
              "Index(['Unnamed: 0', 'INDEX_NR', 'INCIDENT_DATE', 'INCIDENT_MONTH',\n",
              "       'INCIDENT_YEAR', 'TIME', 'TIME_OF_DAY', 'AIRPORT_ID', 'AIRPORT',\n",
              "       'LATITUDE',\n",
              "       ...\n",
              "       'ENROUTE_STATE', 'NR_INJURIES', 'NR_FATALITIES', 'COMMENTS',\n",
              "       'REPORTED_NAME', 'REPORTED_TITLE', 'SOURCE', 'PERSON', 'LUPDATE',\n",
              "       'TRANSFER'],\n",
              "      dtype='object', length=102)"
            ]
          },
          "metadata": {},
          "execution_count": 82
        }
      ]
    },
    {
      "cell_type": "code",
      "execution_count": 82,
      "id": "b9cb7898-8c9e-4062-a07a-35320b25bfb5",
      "metadata": {
        "id": "b9cb7898-8c9e-4062-a07a-35320b25bfb5"
      },
      "outputs": [],
      "source": []
    },
    {
      "cell_type": "markdown",
      "id": "e16e85fa-7c3c-4402-8c48-ea9fb09fa450",
      "metadata": {
        "jp-MarkdownHeadingCollapsed": true,
        "tags": [],
        "id": "e16e85fa-7c3c-4402-8c48-ea9fb09fa450"
      },
      "source": [
        "## Task 3 - Data Preprocessing"
      ]
    },
    {
      "cell_type": "markdown",
      "id": "6c27d5c2-e2c3-40ac-a5f4-605a80d176ff",
      "metadata": {
        "tags": [],
        "id": "6c27d5c2-e2c3-40ac-a5f4-605a80d176ff"
      },
      "source": [
        "#### Task 3.1\n",
        "Combine the two dataframes: `strikes_until_2020` and `strikes_from_2020` into one dataframe named `all_strikes`. \\\n",
        "Present three rows of the dataframe."
      ]
    },
    {
      "cell_type": "code",
      "execution_count": 83,
      "id": "37872430-f7d3-41fd-a033-4c60bd9bd241",
      "metadata": {
        "id": "37872430-f7d3-41fd-a033-4c60bd9bd241",
        "colab": {
          "base_uri": "https://localhost:8080/"
        },
        "outputId": "df9ae3b4-8d68-44d2-e44d-6597bae607f0"
      },
      "outputs": [
        {
          "output_type": "execute_result",
          "data": {
            "text/plain": [
              "(263880, 102)"
            ]
          },
          "metadata": {},
          "execution_count": 83
        }
      ],
      "source": [
        "all_strikes=pd.concat([df1, df2])\n",
        "all_strikes.shape"
      ]
    },
    {
      "cell_type": "markdown",
      "id": "3d11c4c3-6b3e-4d53-958d-7dff924ab477",
      "metadata": {
        "tags": [],
        "id": "3d11c4c3-6b3e-4d53-958d-7dff924ab477"
      },
      "source": [
        "#### Task 3.2\n",
        "\n",
        "Remove from the dataframe  columns that contain more than 180,000 missing values. How many columns are left?\\\n",
        "Note: in this question, as in the next ones, make sure to assign back to `all_strikes`"
      ]
    },
    {
      "cell_type": "code",
      "execution_count": 84,
      "id": "ccac999c-a984-4b33-820e-85994202fbe7",
      "metadata": {
        "id": "ccac999c-a984-4b33-820e-85994202fbe7",
        "colab": {
          "base_uri": "https://localhost:8080/"
        },
        "outputId": "a19abeb2-7ad6-4532-bd91-4909e9b31c10"
      },
      "outputs": [
        {
          "output_type": "execute_result",
          "data": {
            "text/plain": [
              "88"
            ]
          },
          "metadata": {},
          "execution_count": 84
        }
      ],
      "source": [
        "threshold = 180000\n",
        "all_strikes = all_strikes.dropna(axis=1, thresh=all_strikes.shape[0] - threshold)\n",
        "\n",
        "# Count the remaining columns\n",
        "remaining_columns = all_strikes.shape[1]\n",
        "remaining_columns"
      ]
    },
    {
      "cell_type": "markdown",
      "id": "c19c4ce1-c7a0-4e92-b6aa-7f92f962acca",
      "metadata": {
        "tags": [],
        "id": "c19c4ce1-c7a0-4e92-b6aa-7f92f962acca"
      },
      "source": [
        "#### Task 3.3\n",
        "Remove columns that contain the same values in ALL rows.\\\n",
        "Print the names of the columns you removed."
      ]
    },
    {
      "cell_type": "code",
      "execution_count": 85,
      "id": "cca39b47-6f50-4daf-8c68-af6b501f348d",
      "metadata": {
        "id": "cca39b47-6f50-4daf-8c68-af6b501f348d",
        "colab": {
          "base_uri": "https://localhost:8080/"
        },
        "outputId": "8cfc7cfd-62e1-4275-960e-9ac51ed697ad"
      },
      "outputs": [
        {
          "output_type": "stream",
          "name": "stdout",
          "text": [
            "Removed constant columns: ['STR_STR', 'REPORTED_NAME', 'REPORTED_TITLE', 'TRANSFER']\n"
          ]
        }
      ],
      "source": [
        "# prompt: Remove columns that contain the same values in ALL rows.\n",
        "# Print the names of the columns you removed.\n",
        "\n",
        "def remove_constant_columns(df):\n",
        "  constant_columns = []\n",
        "  for column in df.columns:\n",
        "    if df[column].nunique() == 1:\n",
        "      constant_columns.append(column)\n",
        "  df.drop(columns=constant_columns, inplace=True)\n",
        "  return constant_columns\n",
        "\n",
        "constant_columns = remove_constant_columns(all_strikes)\n",
        "print(\"Removed constant columns:\", constant_columns)\n"
      ]
    },
    {
      "cell_type": "markdown",
      "id": "18f3576f-23ac-42c2-a614-d345ebb6bec3",
      "metadata": {
        "tags": [],
        "id": "18f3576f-23ac-42c2-a614-d345ebb6bec3"
      },
      "source": [
        "#### Task 3.4\n",
        "\n",
        "Set the datatype of the date column to be of type datetime.\\\n",
        "This may prove to be a little tricky. You can use: `all_strikes['INCIDENT_DATE'].str[:-5]` to help."
      ]
    },
    {
      "cell_type": "code",
      "source": [
        "# prompt: Set the datatype of the date column to be of type datetime\n",
        "\n",
        "import pandas as pd\n",
        "all_strikes['INCIDENT_DATE'] = pd.to_datetime(all_strikes['INCIDENT_DATE'])\n",
        "all_strikes[\"INCIDENT_DATE\"]\n"
      ],
      "metadata": {
        "colab": {
          "base_uri": "https://localhost:8080/"
        },
        "id": "-rKqMVUpphVB",
        "outputId": "79d1d76a-2e4b-4a51-f339-e3a0e54870f0"
      },
      "id": "-rKqMVUpphVB",
      "execution_count": 86,
      "outputs": [
        {
          "output_type": "execute_result",
          "data": {
            "text/plain": [
              "0        2021-05-01\n",
              "1        2021-01-01\n",
              "2        2021-02-01\n",
              "3        2021-02-01\n",
              "4        2021-01-01\n",
              "            ...    \n",
              "232403   2012-08-26\n",
              "232404   2017-05-22\n",
              "232405   2016-03-01\n",
              "232406   2017-05-08\n",
              "232407   2018-05-26\n",
              "Name: INCIDENT_DATE, Length: 263880, dtype: datetime64[ns]"
            ]
          },
          "metadata": {},
          "execution_count": 86
        }
      ]
    },
    {
      "cell_type": "code",
      "execution_count": 86,
      "id": "a8c4e432-37e2-473b-ba13-7678a0b8f54e",
      "metadata": {
        "id": "a8c4e432-37e2-473b-ba13-7678a0b8f54e"
      },
      "outputs": [],
      "source": [
        "\n",
        "\n",
        "\n",
        "\n",
        "\n",
        "\n"
      ]
    },
    {
      "cell_type": "markdown",
      "id": "51eba7a0-00c1-48d8-9518-bcb300ea2bfb",
      "metadata": {
        "tags": [],
        "id": "51eba7a0-00c1-48d8-9518-bcb300ea2bfb"
      },
      "source": [
        "#### Task 3.5\n",
        "\n",
        "The `NUM_STRUCK` column should report the number of birds that struck the aircraft.\\\n",
        "Print all the unique values in this column (for example, if this column contains only `11` and `22` then print: 11, 22)"
      ]
    },
    {
      "cell_type": "code",
      "execution_count": 87,
      "id": "acb4af97-ef65-47e7-a10a-7544564e3955",
      "metadata": {
        "id": "acb4af97-ef65-47e7-a10a-7544564e3955",
        "colab": {
          "base_uri": "https://localhost:8080/"
        },
        "outputId": "a0f1434d-3eaf-4b37-f9f5-9af4f2f4745f"
      },
      "outputs": [
        {
          "output_type": "stream",
          "name": "stdout",
          "text": [
            "Unique values in NUM_STRUCK column: ['1' '11-100' '02-Oct' nan 'More than 100']\n"
          ]
        }
      ],
      "source": [
        "# prompt: The NUM_STRUCK column should report the number of birds that struck the aircraf\n",
        "\n",
        "unique_num_struck = all_strikes['NUM_STRUCK'].unique()\n",
        "print(\"Unique values in NUM_STRUCK column:\", unique_num_struck)\n"
      ]
    },
    {
      "cell_type": "markdown",
      "id": "a54533fe-15b8-40d4-bfdd-afa7d7505b14",
      "metadata": {
        "tags": [],
        "id": "a54533fe-15b8-40d4-bfdd-afa7d7505b14"
      },
      "source": [
        "#### Task 3.6\n",
        "\n",
        "For the `NUM_STRUCK` column, replace the value: `02-Oct` with the value: `2-10`\\\n",
        "Then, reprint all unique values in this column."
      ]
    },
    {
      "cell_type": "code",
      "execution_count": 88,
      "id": "8736c5ed-c384-4905-a9c4-ab9eac3e05e6",
      "metadata": {
        "id": "8736c5ed-c384-4905-a9c4-ab9eac3e05e6",
        "colab": {
          "base_uri": "https://localhost:8080/"
        },
        "outputId": "2b291714-aadd-4b86-9fbf-0e30983a8bed"
      },
      "outputs": [
        {
          "output_type": "stream",
          "name": "stdout",
          "text": [
            "Unique values in NUM_STRUCK column: ['1' '11-100' '2-10' nan 'More than 100']\n"
          ]
        }
      ],
      "source": [
        "# prompt: For the NUM_STRUCK column, replace the value: 02-Oct with the value: 2-10\n",
        "\n",
        "all_strikes['NUM_STRUCK'] = all_strikes['NUM_STRUCK'].replace('02-Oct', '2-10')\n",
        "unique_num_struck = all_strikes['NUM_STRUCK'].unique()\n",
        "print(\"Unique values in NUM_STRUCK column:\", unique_num_struck)\n"
      ]
    },
    {
      "cell_type": "markdown",
      "id": "b23120b1-a62a-4ad3-bf60-6d462fcd420d",
      "metadata": {
        "tags": [],
        "id": "b23120b1-a62a-4ad3-bf60-6d462fcd420d"
      },
      "source": [
        "#### Task 3.7\n",
        "\n",
        "There are columns that specify if a certain part of the aircraft was struck. Their values are either `0` or `1`.\\\n",
        "For example, `STR_WINDSHLD`=1 means that the aircraft was struck on its windshield.\\\n",
        "All columns indicating a strike begin with `STR_`.\n",
        "\n",
        "You need to add a column that accumlates the number of strikes for each aircraft (each row in the dataframe).\\\n",
        "Name the new column: `total_struck`\\\n",
        "Print the mean number of strikes using this function: `all_strikes[\"STR_total\"].mean()`"
      ]
    },
    {
      "cell_type": "code",
      "execution_count": 89,
      "id": "17e9da31-ea90-4ed2-8672-29c3e3459cb6",
      "metadata": {
        "id": "17e9da31-ea90-4ed2-8672-29c3e3459cb6",
        "colab": {
          "base_uri": "https://localhost:8080/"
        },
        "outputId": "84ef3806-ae92-4313-e9d5-8d5c64d74109"
      },
      "outputs": [
        {
          "output_type": "stream",
          "name": "stdout",
          "text": [
            "0.8371987266939518\n"
          ]
        }
      ],
      "source": [
        "# prompt: There are columns that specify if a certain part of the aircraft was struck. Their values are either 0 or 1.\n",
        "# For example, STR_WINDSHLD=1 means that the aircraft was struck on its windshield.\n",
        "# All columns indicating a strike begin with STR_.\n",
        "# You need to add a column that accumlates the number of strikes for each aircraft (each row in the dataframe).\n",
        "# Name the new column: total_struck\n",
        "# Print the mean\n",
        "\n",
        "# Calculate the total number of strikes for each aircraft\n",
        "all_strikes['total_struck'] = all_strikes.filter(regex='STR_').sum(axis=1)\n",
        "\n",
        "# Print the mean number of strikes\n",
        "print(all_strikes[\"total_struck\"].mean())\n"
      ]
    },
    {
      "cell_type": "markdown",
      "id": "cffe36d7-3278-424e-9927-24c34edd6588",
      "metadata": {
        "tags": [],
        "id": "cffe36d7-3278-424e-9927-24c34edd6588"
      },
      "source": [
        "#### Task 3.8\n",
        "\n",
        "Now, find all columns that indicate a certain part of the aircraft was damaged (hint: these columns begin with `DAM`).\\\n",
        "Add a column named: `total_damaged` that indicates the total damaged parts of an aircraft.\\\n",
        "Print the mean damage."
      ]
    },
    {
      "cell_type": "code",
      "execution_count": 90,
      "id": "2c74eaf6-72f5-42bc-9214-9d1ab39fcdf4",
      "metadata": {
        "id": "2c74eaf6-72f5-42bc-9214-9d1ab39fcdf4",
        "colab": {
          "base_uri": "https://localhost:8080/"
        },
        "outputId": "7c1de2cc-0a73-4c6f-b236-d92658fa5c43"
      },
      "outputs": [
        {
          "output_type": "execute_result",
          "data": {
            "text/plain": [
              "0.08663786569652873"
            ]
          },
          "metadata": {},
          "execution_count": 90
        }
      ],
      "source": [
        "\n",
        "all_strikes['total_damaged'] = all_strikes.filter(regex='DAM_').sum(axis=1)\n",
        "all_strikes[\"total_damaged\"].mean()"
      ]
    },
    {
      "cell_type": "markdown",
      "id": "6f995f4a-0664-423c-afc2-728fc107f3a3",
      "metadata": {
        "tags": [],
        "id": "6f995f4a-0664-423c-afc2-728fc107f3a3"
      },
      "source": [
        "## CHECKPOINT (not obligatory)"
      ]
    },
    {
      "cell_type": "markdown",
      "id": "9ac0ae28-e637-4a68-9072-3580596a4d6b",
      "metadata": {
        "id": "9ac0ae28-e637-4a68-9072-3580596a4d6b"
      },
      "source": [
        "If you are not sure that you performed the previous tasks correctly, you can now import the pickle: `strikes_checkpoint` and continue your work with it.\\\n",
        "Note: the file is compressed with zip, you need to unzip it first."
      ]
    },
    {
      "cell_type": "code",
      "execution_count": 91,
      "id": "574252ae-92a5-4a05-a604-2d68b1e4b48b",
      "metadata": {
        "id": "574252ae-92a5-4a05-a604-2d68b1e4b48b",
        "colab": {
          "base_uri": "https://localhost:8080/"
        },
        "outputId": "455ce739-7aa8-4eb1-a78b-99519e52e77a"
      },
      "outputs": [
        {
          "output_type": "stream",
          "name": "stdout",
          "text": [
            "        Unnamed: 0  INDEX_NR INCIDENT_DATE  INCIDENT_MONTH  INCIDENT_YEAR  \\\n",
            "0           224953   1082851    2021-05-01               1           2021   \n",
            "1           224997   1082943    2021-01-01               1           2021   \n",
            "2           224998   1082950    2021-02-01               1           2021   \n",
            "3           224999   1082951    2021-02-01               1           2021   \n",
            "4           225000   1082953    2021-01-01               1           2021   \n",
            "...            ...       ...           ...             ...            ...   \n",
            "232403      275193   1368903    2012-08-26               8           2012   \n",
            "232404      275215   1368932    2017-05-22               5           2017   \n",
            "232405      275290   1369058    2016-03-01               1           2016   \n",
            "232406      275350   1369164    2017-05-08               8           2017   \n",
            "232407      275370   1369206    2018-05-26               5           2018   \n",
            "\n",
            "         TIME TIME_OF_DAY AIRPORT_ID                     AIRPORT   LATITUDE  \\\n",
            "0         NaN         NaN       MNMG           MANAGUA INTL ARPT  12.141494   \n",
            "1        8:25         NaN       KRFD  CHICAGO/ROCKFORD INTL ARPT  42.195360   \n",
            "2        1:01         NaN       KTPA                  TAMPA INTL  27.975470   \n",
            "3        1:55         NaN       KTPA                  TAMPA INTL  27.975470   \n",
            "4       15:30        Dusk       KEVV         EVANSVILLE REGIONAL  38.037990   \n",
            "...       ...         ...        ...                         ...        ...   \n",
            "232403  22:18       Night       KJFK         JOHN F KENNEDY INTL  40.639750   \n",
            "232404   0:26       Night       KJFK         JOHN F KENNEDY INTL  40.639750   \n",
            "232405    NaN         NaN       KLGA             LA GUARDIA ARPT  40.777240   \n",
            "232406  17:00         Day       KJFK         JOHN F KENNEDY INTL  40.639750   \n",
            "232407  19:22         Day       KJFK         JOHN F KENNEDY INTL  40.639750   \n",
            "\n",
            "        ...   WARNED       NUM_SEEN NUM_STRUCK   SIZE  \\\n",
            "0       ...  Unknown         02-Oct          1  Small   \n",
            "1       ...  Unknown            NaN          1  Small   \n",
            "2       ...  Unknown            NaN          1  Small   \n",
            "3       ...  Unknown            NaN          1  Small   \n",
            "4       ...      Yes  More than 100     11-100  Small   \n",
            "...     ...      ...            ...        ...    ...   \n",
            "232403  ...  Unknown         02-Oct          1    NaN   \n",
            "232404  ...  Unknown            NaN          1  Small   \n",
            "232405  ...  Unknown            NaN          1  Large   \n",
            "232406  ...       No         11-100          1  Small   \n",
            "232407  ...      Yes         02-Oct          1  Small   \n",
            "\n",
            "                                                 COMMENTS  \\\n",
            "0                                                     NaN   \n",
            "1                                                     NaN   \n",
            "2                                                     NaN   \n",
            "3                                                     NaN   \n",
            "4                                                     NaN   \n",
            "...                                                   ...   \n",
            "232403  *** Strike Report: 2012-8-29-032402-R1( Report...   \n",
            "232404  *** Strike Report: 2017-5-22-050528-R4( Report...   \n",
            "232405  *** Strike Report: 2016-1-11-143501-R3( Report...   \n",
            "232406  *** Strike Report: 2017-8-6-083946-R2( Report ...   \n",
            "232407  *** Strike Report: 2018-5-26-195306-R3( Report...   \n",
            "\n",
            "                      SOURCE                    PERSON          LUPDATE  \\\n",
            "0       Air Transport Report  Air Transport Operations  06/01/2021 0:00   \n",
            "1          FAA Form 5200-7-E             Carcass Found  06/01/2021 0:00   \n",
            "2          FAA Form 5200-7-E             Carcass Found  06/01/2021 0:00   \n",
            "3          FAA Form 5200-7-E             Carcass Found  06/01/2021 0:00   \n",
            "4          FAA Form 5200-7-E        Airport Operations  06/01/2021 0:00   \n",
            "...                      ...                       ...              ...   \n",
            "232403     FAA Form 5200-7-E        Airport Operations  01/02/2023 0:00   \n",
            "232404              Multiple                     Pilot  01/02/2023 0:00   \n",
            "232405     FAA Form 5200-7-E             Carcass Found  02/02/2023 0:00   \n",
            "232406     FAA Form 5200-7-E                     Pilot  02/02/2023 0:00   \n",
            "232407              Multiple        Airport Operations  02/02/2023 0:00   \n",
            "\n",
            "       total_struck total_damaged  \n",
            "0                 1             0  \n",
            "1                 0             0  \n",
            "2                 0             0  \n",
            "3                 0             0  \n",
            "4                 4             0  \n",
            "...             ...           ...  \n",
            "232403            1             0  \n",
            "232404            1             0  \n",
            "232405            0             0  \n",
            "232406            1             0  \n",
            "232407            1             0  \n",
            "\n",
            "[263880 rows x 86 columns]\n"
          ]
        }
      ],
      "source": [
        "\n",
        "import pickle\n",
        "\n",
        "b = pickle.dumps(all_strikes)\n",
        "myEntry = pickle.loads(b)\n",
        "print(myEntry)\n",
        "\n"
      ]
    },
    {
      "cell_type": "markdown",
      "id": "6547402c-d520-4607-9762-746dfaeed6ba",
      "metadata": {
        "jp-MarkdownHeadingCollapsed": true,
        "tags": [],
        "id": "6547402c-d520-4607-9762-746dfaeed6ba"
      },
      "source": [
        "## Task 4 - Filtering"
      ]
    },
    {
      "cell_type": "markdown",
      "id": "ab5c2fb2-ff16-4873-8094-3ccf4d8c10d8",
      "metadata": {
        "id": "ab5c2fb2-ff16-4873-8094-3ccf4d8c10d8"
      },
      "source": [
        "#### Task 4.1\n",
        "\n",
        "Create a dataframe that contains only data from aircraft of type `A-320` from `INCIDENT_DATE` 1.1.2022 and onward.\\\n",
        "How many rows does your dataframe contain?"
      ]
    },
    {
      "cell_type": "code",
      "execution_count": 92,
      "id": "da7ae370-7113-4d3f-9972-b40646ff9e93",
      "metadata": {
        "id": "da7ae370-7113-4d3f-9972-b40646ff9e93",
        "colab": {
          "base_uri": "https://localhost:8080/"
        },
        "outputId": "b8b03813-b0a2-46d5-b288-425185e47c68"
      },
      "outputs": [
        {
          "output_type": "execute_result",
          "data": {
            "text/plain": [
              "Index(['Unnamed: 0', 'INDEX_NR', 'INCIDENT_DATE', 'INCIDENT_MONTH',\n",
              "       'INCIDENT_YEAR', 'TIME', 'TIME_OF_DAY', 'AIRPORT_ID', 'AIRPORT',\n",
              "       'LATITUDE', 'LONGITUDE', 'RUNWAY', 'STATE', 'FAAREGION', 'OPID',\n",
              "       'OPERATOR', 'REG', 'FLT', 'AIRCRAFT', 'AMA', 'AMO', 'EMA', 'EMO',\n",
              "       'AC_CLASS', 'AC_MASS', 'TYPE_ENG', 'NUM_ENGS', 'ENG_1_POS', 'ENG_2_POS',\n",
              "       'PHASE_OF_FLIGHT', 'HEIGHT', 'SPEED', 'DISTANCE', 'SKY',\n",
              "       'PRECIPITATION', 'INGESTED_OTHER', 'INDICATED_DAMAGE', 'DAMAGE_LEVEL',\n",
              "       'STR_RAD', 'DAM_RAD', 'STR_WINDSHLD', 'DAM_WINDSHLD', 'STR_NOSE',\n",
              "       'DAM_NOSE', 'STR_ENG1', 'DAM_ENG1', 'ING_ENG1', 'STR_ENG2', 'DAM_ENG2',\n",
              "       'ING_ENG2', 'STR_ENG3', 'DAM_ENG3', 'ING_ENG3', 'STR_ENG4', 'DAM_ENG4',\n",
              "       'ING_ENG4', 'STR_PROP', 'DAM_PROP', 'STR_WING_ROT', 'DAM_WING_ROT',\n",
              "       'STR_FUSE', 'DAM_FUSE', 'STR_LG', 'DAM_LG', 'STR_TAIL', 'DAM_TAIL',\n",
              "       'STR_LGHTS', 'DAM_LGHTS', 'STR_OTHER', 'DAM_OTHER', 'EFFECT',\n",
              "       'SPECIES_ID', 'SPECIES', 'REMARKS', 'REMAINS_COLLECTED', 'REMAINS_SENT',\n",
              "       'WARNED', 'NUM_SEEN', 'NUM_STRUCK', 'SIZE', 'COMMENTS', 'SOURCE',\n",
              "       'PERSON', 'LUPDATE', 'total_struck', 'total_damaged'],\n",
              "      dtype='object')"
            ]
          },
          "metadata": {},
          "execution_count": 92
        }
      ],
      "source": [
        "# a320=all_strikes[\"A_TYPE\"]==\"A-320\"\n",
        "all_strikes.columns\n",
        "d= all_strikes[(all_strikes['AIRCRAFT'] == 'A-320') & (all_strikes['INCIDENT_DATE'] >= '2022-01-01')]\n",
        "\n",
        "d.columns\n",
        "\n",
        "\n",
        "\n",
        "\n",
        "\n",
        "\n",
        "\n"
      ]
    },
    {
      "cell_type": "markdown",
      "id": "77908614-cdce-4b8d-aefb-4750bfe1ec06",
      "metadata": {
        "id": "77908614-cdce-4b8d-aefb-4750bfe1ec06"
      },
      "source": [
        "#### Task 4.2\n",
        "\n",
        "Create a dataframe the contains only data where the number `DMG_total`  (the total damage) is 5 or more.\\\n",
        "Print the number of rows in the dataframe."
      ]
    },
    {
      "cell_type": "code",
      "execution_count": 93,
      "id": "cb695607-35c2-4aa5-addc-824eb1258c9f",
      "metadata": {
        "id": "cb695607-35c2-4aa5-addc-824eb1258c9f",
        "colab": {
          "base_uri": "https://localhost:8080/",
          "height": 116
        },
        "outputId": "b2c719ba-2675-4ee3-c281-7bb787dadb46"
      },
      "outputs": [
        {
          "output_type": "execute_result",
          "data": {
            "text/plain": [
              "Empty DataFrame\n",
              "Columns: [Unnamed: 0, INDEX_NR, INCIDENT_DATE, INCIDENT_MONTH, INCIDENT_YEAR, TIME, TIME_OF_DAY, AIRPORT_ID, AIRPORT, LATITUDE, LONGITUDE, RUNWAY, STATE, FAAREGION, OPID, OPERATOR, REG, FLT, AIRCRAFT, AMA, AMO, EMA, EMO, AC_CLASS, AC_MASS, TYPE_ENG, NUM_ENGS, ENG_1_POS, ENG_2_POS, PHASE_OF_FLIGHT, HEIGHT, SPEED, DISTANCE, SKY, PRECIPITATION, INGESTED_OTHER, INDICATED_DAMAGE, DAMAGE_LEVEL, STR_RAD, DAM_RAD, STR_WINDSHLD, DAM_WINDSHLD, STR_NOSE, DAM_NOSE, STR_ENG1, DAM_ENG1, ING_ENG1, STR_ENG2, DAM_ENG2, ING_ENG2, STR_ENG3, DAM_ENG3, ING_ENG3, STR_ENG4, DAM_ENG4, ING_ENG4, STR_PROP, DAM_PROP, STR_WING_ROT, DAM_WING_ROT, STR_FUSE, DAM_FUSE, STR_LG, DAM_LG, STR_TAIL, DAM_TAIL, STR_LGHTS, DAM_LGHTS, STR_OTHER, DAM_OTHER, EFFECT, SPECIES_ID, SPECIES, REMARKS, REMAINS_COLLECTED, REMAINS_SENT, WARNED, NUM_SEEN, NUM_STRUCK, SIZE, COMMENTS, SOURCE, PERSON, LUPDATE, total_struck, total_damaged]\n",
              "Index: []\n",
              "\n",
              "[0 rows x 86 columns]"
            ],
            "text/html": [
              "\n",
              "  <div id=\"df-20206eb1-e74a-4d75-a9e9-68dabeee0d6c\" class=\"colab-df-container\">\n",
              "    <div>\n",
              "<style scoped>\n",
              "    .dataframe tbody tr th:only-of-type {\n",
              "        vertical-align: middle;\n",
              "    }\n",
              "\n",
              "    .dataframe tbody tr th {\n",
              "        vertical-align: top;\n",
              "    }\n",
              "\n",
              "    .dataframe thead th {\n",
              "        text-align: right;\n",
              "    }\n",
              "</style>\n",
              "<table border=\"1\" class=\"dataframe\">\n",
              "  <thead>\n",
              "    <tr style=\"text-align: right;\">\n",
              "      <th></th>\n",
              "      <th>Unnamed: 0</th>\n",
              "      <th>INDEX_NR</th>\n",
              "      <th>INCIDENT_DATE</th>\n",
              "      <th>INCIDENT_MONTH</th>\n",
              "      <th>INCIDENT_YEAR</th>\n",
              "      <th>TIME</th>\n",
              "      <th>TIME_OF_DAY</th>\n",
              "      <th>AIRPORT_ID</th>\n",
              "      <th>AIRPORT</th>\n",
              "      <th>LATITUDE</th>\n",
              "      <th>...</th>\n",
              "      <th>WARNED</th>\n",
              "      <th>NUM_SEEN</th>\n",
              "      <th>NUM_STRUCK</th>\n",
              "      <th>SIZE</th>\n",
              "      <th>COMMENTS</th>\n",
              "      <th>SOURCE</th>\n",
              "      <th>PERSON</th>\n",
              "      <th>LUPDATE</th>\n",
              "      <th>total_struck</th>\n",
              "      <th>total_damaged</th>\n",
              "    </tr>\n",
              "  </thead>\n",
              "  <tbody>\n",
              "  </tbody>\n",
              "</table>\n",
              "<p>0 rows × 86 columns</p>\n",
              "</div>\n",
              "    <div class=\"colab-df-buttons\">\n",
              "\n",
              "  <div class=\"colab-df-container\">\n",
              "    <button class=\"colab-df-convert\" onclick=\"convertToInteractive('df-20206eb1-e74a-4d75-a9e9-68dabeee0d6c')\"\n",
              "            title=\"Convert this dataframe to an interactive table.\"\n",
              "            style=\"display:none;\">\n",
              "\n",
              "  <svg xmlns=\"http://www.w3.org/2000/svg\" height=\"24px\" viewBox=\"0 -960 960 960\">\n",
              "    <path d=\"M120-120v-720h720v720H120Zm60-500h600v-160H180v160Zm220 220h160v-160H400v160Zm0 220h160v-160H400v160ZM180-400h160v-160H180v160Zm440 0h160v-160H620v160ZM180-180h160v-160H180v160Zm440 0h160v-160H620v160Z\"/>\n",
              "  </svg>\n",
              "    </button>\n",
              "\n",
              "  <style>\n",
              "    .colab-df-container {\n",
              "      display:flex;\n",
              "      gap: 12px;\n",
              "    }\n",
              "\n",
              "    .colab-df-convert {\n",
              "      background-color: #E8F0FE;\n",
              "      border: none;\n",
              "      border-radius: 50%;\n",
              "      cursor: pointer;\n",
              "      display: none;\n",
              "      fill: #1967D2;\n",
              "      height: 32px;\n",
              "      padding: 0 0 0 0;\n",
              "      width: 32px;\n",
              "    }\n",
              "\n",
              "    .colab-df-convert:hover {\n",
              "      background-color: #E2EBFA;\n",
              "      box-shadow: 0px 1px 2px rgba(60, 64, 67, 0.3), 0px 1px 3px 1px rgba(60, 64, 67, 0.15);\n",
              "      fill: #174EA6;\n",
              "    }\n",
              "\n",
              "    .colab-df-buttons div {\n",
              "      margin-bottom: 4px;\n",
              "    }\n",
              "\n",
              "    [theme=dark] .colab-df-convert {\n",
              "      background-color: #3B4455;\n",
              "      fill: #D2E3FC;\n",
              "    }\n",
              "\n",
              "    [theme=dark] .colab-df-convert:hover {\n",
              "      background-color: #434B5C;\n",
              "      box-shadow: 0px 1px 3px 1px rgba(0, 0, 0, 0.15);\n",
              "      filter: drop-shadow(0px 1px 2px rgba(0, 0, 0, 0.3));\n",
              "      fill: #FFFFFF;\n",
              "    }\n",
              "  </style>\n",
              "\n",
              "    <script>\n",
              "      const buttonEl =\n",
              "        document.querySelector('#df-20206eb1-e74a-4d75-a9e9-68dabeee0d6c button.colab-df-convert');\n",
              "      buttonEl.style.display =\n",
              "        google.colab.kernel.accessAllowed ? 'block' : 'none';\n",
              "\n",
              "      async function convertToInteractive(key) {\n",
              "        const element = document.querySelector('#df-20206eb1-e74a-4d75-a9e9-68dabeee0d6c');\n",
              "        const dataTable =\n",
              "          await google.colab.kernel.invokeFunction('convertToInteractive',\n",
              "                                                    [key], {});\n",
              "        if (!dataTable) return;\n",
              "\n",
              "        const docLinkHtml = 'Like what you see? Visit the ' +\n",
              "          '<a target=\"_blank\" href=https://colab.research.google.com/notebooks/data_table.ipynb>data table notebook</a>'\n",
              "          + ' to learn more about interactive tables.';\n",
              "        element.innerHTML = '';\n",
              "        dataTable['output_type'] = 'display_data';\n",
              "        await google.colab.output.renderOutput(dataTable, element);\n",
              "        const docLink = document.createElement('div');\n",
              "        docLink.innerHTML = docLinkHtml;\n",
              "        element.appendChild(docLink);\n",
              "      }\n",
              "    </script>\n",
              "  </div>\n",
              "\n",
              "\n",
              "    </div>\n",
              "  </div>\n"
            ],
            "application/vnd.google.colaboratory.intrinsic+json": {
              "type": "dataframe"
            }
          },
          "metadata": {},
          "execution_count": 93
        }
      ],
      "source": [
        "all_strikes[all_strikes[\"total_damaged\"]==\"5\"]\n"
      ]
    },
    {
      "cell_type": "markdown",
      "id": "8cecf66b-ca2e-4e0b-8d34-b1ece642dd3d",
      "metadata": {
        "jp-MarkdownHeadingCollapsed": true,
        "tags": [],
        "id": "8cecf66b-ca2e-4e0b-8d34-b1ece642dd3d"
      },
      "source": [
        "## Task 5 - Data Analysis"
      ]
    },
    {
      "cell_type": "markdown",
      "id": "a2fc8525-124c-4cd7-8c0a-18bb6d90bfb7",
      "metadata": {
        "id": "a2fc8525-124c-4cd7-8c0a-18bb6d90bfb7"
      },
      "source": [
        "#### Task 5.1\n",
        "\n",
        "\n"
      ]
    },
    {
      "cell_type": "markdown",
      "id": "2476aacf-7e7a-4dc6-813e-d56dfe37cfea",
      "metadata": {
        "id": "2476aacf-7e7a-4dc6-813e-d56dfe37cfea"
      },
      "source": [
        "Each reported incident is a row in the dataframe.\\\n",
        "Which airports (column `AIRPORT`) reported the most incidents?\\\n",
        "Present the names of the 10 airports who reported the most incidents.\\\n",
        "Note: You will see that the most common airport is `UNKNOWN`. Omit it and look at the 10 airports with a known name (for example: `MEMPHIS INTL` is one of these 10 airports)"
      ]
    },
    {
      "cell_type": "code",
      "execution_count": 94,
      "id": "4603f1b4-cda9-4e34-8d26-046763543d6c",
      "metadata": {
        "id": "4603f1b4-cda9-4e34-8d26-046763543d6c",
        "colab": {
          "base_uri": "https://localhost:8080/"
        },
        "outputId": "bec72afb-a022-41d9-8e95-7113c46fa3ac"
      },
      "outputs": [
        {
          "output_type": "stream",
          "name": "stdout",
          "text": [
            "DENVER INTL AIRPORT            8688\n",
            "DALLAS/FORT WORTH INTL ARPT    7126\n",
            "CHICAGO O'HARE INTL ARPT       5798\n",
            "JOHN F KENNEDY INTL            5681\n",
            "MEMPHIS INTL                   4377\n",
            "                               ... \n",
            "ANACORTES                         1\n",
            "BRISTOL INTL                      1\n",
            "GOOSE BAY                         1\n",
            "NEW CASTLE MUNICIPAL ARPT         1\n",
            "MONMOUTH MUNICIPAL                1\n",
            "Name: AIRPORT, Length: 2519, dtype: int64\n"
          ]
        }
      ],
      "source": [
        "# prompt: Each reported incident is a row in the dataframe.\n",
        "# Which airports (column AIRPORT) reported the most incidents?\n",
        "# Present the names of the 10 airports who reported the most incidents.\n",
        "# Note: You will see that the most common airport is UNKNOWN. Omit it and look at the 10 airports with a known name (for example: MEMPHIS INTL is one of these 10 airports)\n",
        "\n",
        "# Filter out rows where AIRPORT is 'UNKNOWN'\n",
        "airports_known = all_strikes[all_strikes['AIRPORT'] != 'UNKNOWN']\n",
        "\n",
        "# Group the data by airport and count the number of incidents\n",
        "airport_counts = airports_known['AIRPORT'].value_counts()\n",
        "\n",
        "# Get the top 10 airports with the most incidents\n",
        "top_10_airports = airport_counts\n",
        "\n",
        "# Print the results\n",
        "print(top_10_airports)\n"
      ]
    },
    {
      "cell_type": "markdown",
      "id": "096d7068-d7d2-4aa1-9d22-9ca4945f071b",
      "metadata": {
        "id": "096d7068-d7d2-4aa1-9d22-9ca4945f071b"
      },
      "source": [
        "#### Task 5.2\n",
        "Create a dataframe that contains only the 10 airports that reported the most incidents.\\\n",
        "Print the percentage of incidents (out of the total amount of incidents) reported by these 10 airports"
      ]
    },
    {
      "cell_type": "code",
      "execution_count": 95,
      "id": "5df6db40-0705-4696-97f3-54ce83b2ce03",
      "metadata": {
        "id": "5df6db40-0705-4696-97f3-54ce83b2ce03",
        "colab": {
          "base_uri": "https://localhost:8080/"
        },
        "outputId": "84314217-91a8-48e4-edb8-024b6d4d07ad"
      },
      "outputs": [
        {
          "output_type": "stream",
          "name": "stdout",
          "text": [
            "263880\n"
          ]
        }
      ],
      "source": [
        "# prompt: Create a dataframe that contains only the 10 airports that reported the most incidents.\n",
        "# Print the percentage of incidents (out of the total amount of incidents) reported by these 10 airports\n",
        "\n",
        "# Calculate the total number of incidents\n",
        "total_incidents = all_strikes.shape[0]\n",
        "\n",
        "# Calculate the number of incidents reported by the top 10 airports\n",
        "top_10_incidents = top_10_airports.sum()\n",
        "\n",
        "# Calculate the percentage of incidents reported by the top 10 airports\n",
        "percentage = (top_10_incidents / total_incidents) * 100\n",
        "\n",
        "# Print the results\n",
        "print(total_incidents)"
      ]
    },
    {
      "cell_type": "markdown",
      "id": "e54b0508-2d14-48d0-9d28-b74aa9c9f7d2",
      "metadata": {
        "id": "e54b0508-2d14-48d0-9d28-b74aa9c9f7d2"
      },
      "source": [
        "#### Task 5.3\n",
        "\n",
        "When do most incidents occur?\n",
        "Create a table that displays the average number of strikes (as indicated by the column `STR_total`) and the average damage (column `DMG_total`) at different times during the day (`TIME_OF_DAY`)"
      ]
    },
    {
      "cell_type": "code",
      "execution_count": 96,
      "id": "254e4c74-d709-42e2-a09a-65f70624e7b9",
      "metadata": {
        "id": "254e4c74-d709-42e2-a09a-65f70624e7b9",
        "colab": {
          "base_uri": "https://localhost:8080/"
        },
        "outputId": "888e94f0-94be-448d-fa8a-803b23a6bac8"
      },
      "outputs": [
        {
          "output_type": "stream",
          "name": "stdout",
          "text": [
            "         total_struck  total_damaged\n",
            "TIME                                \n",
            "#VALUE!      1.666667       0.000000\n",
            "%00:1        0.000000       0.000000\n",
            "%00:4        0.000000       0.000000\n",
            "%01:1        0.000000       0.000000\n",
            "%01:3        0.000000       0.000000\n",
            "...               ...            ...\n",
            "9:55         0.968750       0.062500\n",
            "9:56         1.171875       0.015625\n",
            "9:57         0.970149       0.000000\n",
            "9:58         1.153846       0.038462\n",
            "9:59         1.046875       0.031250\n",
            "\n",
            "[1479 rows x 2 columns]\n"
          ]
        }
      ],
      "source": [
        "# prompt: When do most incidents occur? Create a table that displays the average number of strikes (as indicated by the column STR_total) and the average damage (column DMG_total) at different times during the day (TIME_OF_DAY)\n",
        "\n",
        "# Group the data by time of day and calculate the average number of strikes and damage\n",
        "time_of_day_stats = all_strikes.groupby(\"TIME\")[['total_struck', 'total_damaged']].mean()\n",
        "\n",
        "# Print the results\n",
        "print(time_of_day_stats)\n"
      ]
    },
    {
      "cell_type": "markdown",
      "id": "0c5e2d10-789b-4584-afdc-091dcdc3a0ca",
      "metadata": {
        "id": "0c5e2d10-789b-4584-afdc-091dcdc3a0ca"
      },
      "source": [
        "#### Task 5.4\n",
        "\n",
        "Do warnings help?\\\n",
        "Create a table showing the total number of strikes (`STR_total`) when a warning was issued or not issued (column `WARNED`).\\\n",
        "Omit rows where it is unknown whether or not a warning was issued."
      ]
    },
    {
      "cell_type": "code",
      "execution_count": 97,
      "id": "9f606f2b-7653-4dab-bfd3-fa8f500037ee",
      "metadata": {
        "id": "9f606f2b-7653-4dab-bfd3-fa8f500037ee",
        "colab": {
          "base_uri": "https://localhost:8080/"
        },
        "outputId": "a9ab1b94-16f0-45a4-aa2d-877d5aa4f884"
      },
      "outputs": [
        {
          "output_type": "stream",
          "name": "stdout",
          "text": [
            "WARNED\n",
            "No         71210\n",
            "Unknown    94522\n",
            "Yes        55188\n",
            "Name: total_struck, dtype: int64\n"
          ]
        }
      ],
      "source": [
        "# prompt: Create a table showing the total number of strikes (STR_total) when a warning was issued or not issued (column WARNED).\n",
        "# Omit rows where it is unknown whether or not a warning was issued.\n",
        "\n",
        "# Filter out rows where WARNED is 'UNKNOWN'\n",
        "warned_data = all_strikes[all_strikes['WARNED'] != 'UNKNOWN']\n",
        "\n",
        "# Group the data by whether a warning was issued and sum the total number of strikes\n",
        "warned_counts = warned_data.groupby('WARNED')['total_struck'].sum()\n",
        "\n",
        "# Print the results\n",
        "print(warned_counts)\n"
      ]
    },
    {
      "cell_type": "markdown",
      "id": "19434c9a-6498-40b1-aa71-14056a2254d7",
      "metadata": {
        "id": "19434c9a-6498-40b1-aa71-14056a2254d7"
      },
      "source": [
        "#### Task 5.5\n",
        "Who reports the incidents most often? Use the column `PERSON` to find out."
      ]
    },
    {
      "cell_type": "code",
      "execution_count": 97,
      "id": "d144a155-12a1-4388-823a-8ed6a9462a5f",
      "metadata": {
        "id": "d144a155-12a1-4388-823a-8ed6a9462a5f"
      },
      "outputs": [],
      "source": []
    },
    {
      "cell_type": "code",
      "execution_count": 98,
      "id": "e072883c-1774-4d13-9281-86d590c55121",
      "metadata": {
        "id": "e072883c-1774-4d13-9281-86d590c55121",
        "colab": {
          "base_uri": "https://localhost:8080/"
        },
        "outputId": "f3aa27c9-f069-4c36-8241-cc56e6d4a6b9"
      },
      "outputs": [
        {
          "output_type": "stream",
          "name": "stdout",
          "text": [
            "                          total_damaged  total_struck\n",
            "PERSON                                               \n",
            "Air Transport Operations           3701         36624\n",
            "Airport Operations                 4354         66020\n",
            "Carcass Found                         0            42\n",
            "Other                              1808          6882\n",
            "Pilot                              7297         61151\n",
            "Tower                              2490         27689\n"
          ]
        }
      ],
      "source": [
        "# prompt: Who reports the incidents most often? Use the column PERSON to find out.\n",
        "\n",
        "# Group the data by reporting person and calculate the total damage and strikes\n",
        "person_stats = all_strikes.groupby('PERSON')[['total_damaged', 'total_struck']].sum()\n",
        "\n",
        "# Print the results\n",
        "print(person_stats)\n"
      ]
    },
    {
      "cell_type": "markdown",
      "id": "07b08342-d6ad-4424-af6d-7ac34b1d1b02",
      "metadata": {
        "id": "07b08342-d6ad-4424-af6d-7ac34b1d1b02"
      },
      "source": [
        "#### Task 5.6\n",
        "\n",
        "Who reports the incidents most often **when there is damage to the aircraft**?\n",
        "\n",
        "Create a table that displays the reporting person (`PERSON`) and the total damage (`DMG_total`) and total strikes (`STR_total`)"
      ]
    },
    {
      "cell_type": "markdown",
      "id": "7c6c3411-5fd3-426a-bd5a-08151e17cf75",
      "metadata": {
        "jp-MarkdownHeadingCollapsed": true,
        "tags": [],
        "id": "7c6c3411-5fd3-426a-bd5a-08151e17cf75"
      },
      "source": [
        "## Task 6 - Data Visualization"
      ]
    },
    {
      "cell_type": "markdown",
      "id": "25e38b11-2d62-4809-91a5-1d780573e73a",
      "metadata": {
        "id": "25e38b11-2d62-4809-91a5-1d780573e73a"
      },
      "source": [
        "#### Task 6.1\n",
        "\n",
        "Present **one** histogram plot that contains **two** distributions: the `SPEED` when there was and wasn't a warning (column `WARNED`)\\\n",
        "Note:\n",
        "* Remove outliers: that is, remove the two rows where the speed is higher than 1000 mph.\n",
        "* Do not display incidents with an Unknown warning.\n",
        "* Do not use more than 20 bins (see [histplot documentation](https://seaborn.pydata.org/generated/seaborn.histplot.html) )"
      ]
    },
    {
      "cell_type": "code",
      "execution_count": 99,
      "id": "1793a93a-2d56-4bd5-9d2a-4707bba2b391",
      "metadata": {
        "id": "1793a93a-2d56-4bd5-9d2a-4707bba2b391",
        "colab": {
          "base_uri": "https://localhost:8080/",
          "height": 467
        },
        "outputId": "b2104943-7b57-49ef-a922-5318cc11a153"
      },
      "outputs": [
        {
          "output_type": "execute_result",
          "data": {
            "text/plain": [
              "<Axes: xlabel='SPEED', ylabel='Count'>"
            ]
          },
          "metadata": {},
          "execution_count": 99
        },
        {
          "output_type": "display_data",
          "data": {
            "text/plain": [
              "<Figure size 640x480 with 1 Axes>"
            ],
            "image/png": "[encoded data removed]"
          },
          "metadata": {}
        }
      ],
      "source": [
        "# prompt: Present one histogram plot that contains two distributions: the SPEED when there was and wasn't a warning (column WARNED)\n",
        "# Note:\n",
        "\n",
        "import seaborn as sns\n",
        "\n",
        "# Filter out outliers and unknown warnings\n",
        "filtered_data = all_strikes[(all_strikes[\"SPEED\"] < 1000) & (all_strikes['WARNED'] != 'UNKNOWN')]\n",
        "\n",
        "# Create a histogram plot with two distributions\n",
        "sns.histplot(data=filtered_data, x=\"SPEED\", hue=\"WARNED\", bins=20)\n"
      ]
    },
    {
      "cell_type": "markdown",
      "id": "3e7c13f3-d99e-4e9f-b210-ba5032a3ddb4",
      "metadata": {
        "tags": [],
        "id": "3e7c13f3-d99e-4e9f-b210-ba5032a3ddb4"
      },
      "source": [
        "#### Task 6.2\n",
        "\n",
        "Present a figure that compares the `DMG_Total` in 2017-2022 (`INCIDENT_YEAR`), for different warnings (`WARNED`) types."
      ]
    },
    {
      "cell_type": "code",
      "execution_count": 108,
      "id": "3bf279c7-e1b6-4fbf-b90d-ea109cfa12e3",
      "metadata": {
        "id": "3bf279c7-e1b6-4fbf-b90d-ea109cfa12e3",
        "colab": {
          "base_uri": "https://localhost:8080/",
          "height": 467
        },
        "outputId": "45ca77b4-491a-43ae-fb1e-0b0971f24368"
      },
      "outputs": [
        {
          "output_type": "execute_result",
          "data": {
            "text/plain": [
              "<Axes: xlabel='INCIDENT_YEAR', ylabel='total_damaged'>"
            ]
          },
          "metadata": {},
          "execution_count": 108
        },
        {
          "output_type": "display_data",
          "data": {
            "text/plain": [
              "<Figure size 640x480 with 1 Axes>"
            ],
            "image/png": "[encoded data removed]"
          },
          "metadata": {}
        }
      ],
      "source": [
        "# prompt: Present a figure that compares the DMG_Total in 2017-2022 (INCIDENT_YEAR), for different warnings (WARNED) types.\n",
        "\n",
        "import seaborn as sns\n",
        "\n",
        "# Filter data for years 2017-2022\n",
        "filtered_data = all_strikes[(all_strikes['INCIDENT_YEAR'] >= 2017) & (all_strikes['INCIDENT_YEAR'] <= 2022)]\n",
        "\n",
        "# Create a box plot to compare DMG_Total for different warning types\n",
        "sns.barplot(data=filtered_data, x='INCIDENT_YEAR', y='total_damaged', hue='WARNED')\n"
      ]
    },
    {
      "cell_type": "markdown",
      "id": "2b945aa5-71b6-4fb0-a129-e8449907f1c4",
      "metadata": {
        "id": "2b945aa5-71b6-4fb0-a129-e8449907f1c4"
      },
      "source": [
        "#### Task 6.3\n",
        "\n",
        "Create a figure that compares and displays **how many** strikes (`STR_total`) occurred in different phases of the flight (`PHASE_OF_FLIGHT`). The figure should only present cases where there are 8 or more total strikes (`STR_total`). Make sure the categories on the x-axis are readable."
      ]
    },
    {
      "cell_type": "code",
      "execution_count": 114,
      "id": "afc19b6b-924c-41ff-ac5e-fe8b7a189911",
      "metadata": {
        "id": "afc19b6b-924c-41ff-ac5e-fe8b7a189911",
        "colab": {
          "base_uri": "https://localhost:8080/",
          "height": 468
        },
        "outputId": "d169b9f1-bbac-4373-b0cf-4fbbbc83422c"
      },
      "outputs": [
        {
          "output_type": "execute_result",
          "data": {
            "text/plain": [
              "<Axes: xlabel='total_struck', ylabel='PHASE_OF_FLIGHT'>"
            ]
          },
          "metadata": {},
          "execution_count": 114
        },
        {
          "output_type": "display_data",
          "data": {
            "text/plain": [
              "<Figure size 640x480 with 1 Axes>"
            ],
            "image/png": "[encoded data removed]"
          },
          "metadata": {}
        }
      ],
      "source": [
        "filtered=all_strikes[(all_strikes[\"total_struck\"]>=8)]\n",
        "\n",
        "sns.barplot(data=filtered,x=\"total_struck\",y=\"PHASE_OF_FLIGHT\")"
      ]
    },
    {
      "cell_type": "markdown",
      "id": "3565e33c-e625-4e5a-be96-04abb9da135a",
      "metadata": {
        "id": "3565e33c-e625-4e5a-be96-04abb9da135a"
      },
      "source": [
        "#### Task 6.4\n",
        "\n",
        "Create a figure that displays the correlation between the `HEIGHT` and the total strikes (`STR_total`)"
      ]
    },
    {
      "cell_type": "code",
      "execution_count": 120,
      "id": "28e10b9e-7e96-4186-84d7-907d919522b8",
      "metadata": {
        "id": "28e10b9e-7e96-4186-84d7-907d919522b8",
        "colab": {
          "base_uri": "https://localhost:8080/",
          "height": 467
        },
        "outputId": "ef6779c9-9bd1-4cc8-cad2-beefa57bba06"
      },
      "outputs": [
        {
          "output_type": "execute_result",
          "data": {
            "text/plain": [
              "<Axes: xlabel='HEIGHT', ylabel='total_struck'>"
            ]
          },
          "metadata": {},
          "execution_count": 120
        },
        {
          "output_type": "display_data",
          "data": {
            "text/plain": [
              "<Figure size 640x480 with 1 Axes>"
            ],
            "image/png": "[encoded data removed]"
          },
          "metadata": {}
        }
      ],
      "source": [
        "# prompt: Create a figure that displays the correlation between the HEIGHT and the total strikes (STR_total)\n",
        "\n",
        "sns.regplot(data=all_strikes, x=\"HEIGHT\", y=\"total_struck\")\n",
        "\n"
      ]
    },
    {
      "cell_type": "markdown",
      "id": "06df5cc8-eb15-4260-b170-690eb8ba24f9",
      "metadata": {
        "id": "06df5cc8-eb15-4260-b170-690eb8ba24f9"
      },
      "source": [
        "#### Task 6.5\n",
        "\n",
        "Create a figure that shows the **median** speed in different times of the day (`SPEED`, `TIME_OF_DAY`).\n",
        "Do not show cases where the speed is higher than 500 mph."
      ]
    },
    {
      "cell_type": "code",
      "execution_count": 100,
      "id": "eb50fbc6-64fb-45a6-8dc9-b4355645704b",
      "metadata": {
        "id": "eb50fbc6-64fb-45a6-8dc9-b4355645704b"
      },
      "outputs": [],
      "source": []
    },
    {
      "cell_type": "markdown",
      "id": "8dfcecb1-060d-409c-8ed5-de4931a78a4f",
      "metadata": {
        "jp-MarkdownHeadingCollapsed": true,
        "tags": [],
        "id": "8dfcecb1-060d-409c-8ed5-de4931a78a4f"
      },
      "source": [
        "## Task 7 - Statistics"
      ]
    },
    {
      "cell_type": "markdown",
      "id": "afae7c76-5b0f-4279-8583-bde3318d06f3",
      "metadata": {
        "id": "afae7c76-5b0f-4279-8583-bde3318d06f3"
      },
      "source": [
        "#### Task 7.1 (2 points):\n",
        "\n",
        "Which type of t-test should be used to determine if there is a statistical difference between the number of strikes (`STR_total`) when there was\\wasn't a warning (`WARNED=Yes\\No`)"
      ]
    },
    {
      "cell_type": "code",
      "execution_count": 100,
      "id": "64b0c75c-c57f-4acf-a889-2a5b0c17e242",
      "metadata": {
        "id": "64b0c75c-c57f-4acf-a889-2a5b0c17e242"
      },
      "outputs": [],
      "source": []
    },
    {
      "cell_type": "markdown",
      "id": "76722161-872a-4bcb-8fe2-1bbe431b0463",
      "metadata": {
        "tags": [],
        "id": "76722161-872a-4bcb-8fe2-1bbe431b0463"
      },
      "source": [
        "#### Task 7.2\n",
        "\n",
        "Apply the test you suggested in the previous task."
      ]
    },
    {
      "cell_type": "code",
      "execution_count": 100,
      "id": "23885df7-c857-4edc-b450-4f075b7b9250",
      "metadata": {
        "id": "23885df7-c857-4edc-b450-4f075b7b9250"
      },
      "outputs": [],
      "source": []
    },
    {
      "cell_type": "markdown",
      "id": "c9788afb-1045-4360-b193-3a884c0885d5",
      "metadata": {
        "id": "c9788afb-1045-4360-b193-3a884c0885d5"
      },
      "source": [
        "#### Task 7.3  \n",
        "\n",
        "What do the results tell us?\n",
        "Briefly interpret the results."
      ]
    },
    {
      "cell_type": "code",
      "execution_count": 100,
      "id": "8f2b8902-eaca-4534-bee0-8216ea3e17a0",
      "metadata": {
        "id": "8f2b8902-eaca-4534-bee0-8216ea3e17a0"
      },
      "outputs": [],
      "source": []
    },
    {
      "cell_type": "markdown",
      "id": "1393aaa3-391c-4655-809f-5429400ea5b2",
      "metadata": {
        "id": "1393aaa3-391c-4655-809f-5429400ea5b2"
      },
      "source": [
        "#### Task 7.4\n",
        "\n",
        "Which type of test should be used to determine whether the proportion of total damage (`DMG_total`) out of all the total strikes (`STR_total`), is constant in all `INCIDENT_YEAR`?"
      ]
    },
    {
      "cell_type": "code",
      "execution_count": 100,
      "id": "3ac39157-d52f-4f23-95ed-6dd80f6e773a",
      "metadata": {
        "id": "3ac39157-d52f-4f23-95ed-6dd80f6e773a"
      },
      "outputs": [],
      "source": []
    },
    {
      "cell_type": "markdown",
      "id": "a90b8a67-ab94-49e0-b1e3-4b8caea0ed80",
      "metadata": {
        "id": "a90b8a67-ab94-49e0-b1e3-4b8caea0ed80"
      },
      "source": [
        "#### Task 7.5\n",
        "\n",
        "Apply the test you suggested in the previous task."
      ]
    },
    {
      "cell_type": "code",
      "execution_count": 100,
      "id": "8ead0a04-c284-4541-8b24-5132df2d810a",
      "metadata": {
        "id": "8ead0a04-c284-4541-8b24-5132df2d810a"
      },
      "outputs": [],
      "source": []
    },
    {
      "cell_type": "markdown",
      "id": "e4cc2a3d-25c7-49db-9376-faafb4e1b100",
      "metadata": {
        "id": "e4cc2a3d-25c7-49db-9376-faafb4e1b100"
      },
      "source": [
        "#### Task 7.6\n",
        "\n",
        "Briefly interpret the results."
      ]
    },
    {
      "cell_type": "code",
      "execution_count": 100,
      "id": "42bac2d9-41c0-4cef-9aee-681900fc9ed4",
      "metadata": {
        "id": "42bac2d9-41c0-4cef-9aee-681900fc9ed4"
      },
      "outputs": [],
      "source": []
    },
    {
      "cell_type": "markdown",
      "id": "1f9f802d-d85c-4fd6-981a-5a2682870a38",
      "metadata": {
        "jp-MarkdownHeadingCollapsed": true,
        "tags": [],
        "id": "1f9f802d-d85c-4fd6-981a-5a2682870a38"
      },
      "source": [
        "## Task 8 - Web scraping"
      ]
    },
    {
      "cell_type": "markdown",
      "id": "e6de8b9e-72eb-423c-81c1-413edb6ec12b",
      "metadata": {
        "tags": [],
        "id": "e6de8b9e-72eb-423c-81c1-413edb6ec12b"
      },
      "source": [
        "#### Task 8.1\n",
        "How much do airplanes cost on ebay?\n",
        "\n",
        "Analyze this link: https://www.ebay.com/sch/i.html?_from=R40&_trksid=p2334524.m570.l1313&_nkw=airplanes&_sacat=0&LH_TitleDesc=0&_odkw=planes&_osacat=0&_sop=12&LH_PrefLoc=2\n",
        "\n",
        "Create a list of the **names** of all items sold on this page. No need to scroll to the next pages.\n"
      ]
    },
    {
      "cell_type": "code",
      "execution_count": 100,
      "id": "b035c48a-dbbb-46c9-bfe7-d406891ec154",
      "metadata": {
        "id": "b035c48a-dbbb-46c9-bfe7-d406891ec154"
      },
      "outputs": [],
      "source": []
    },
    {
      "cell_type": "markdown",
      "id": "b598ec93-f552-4ff4-9557-5a5f9ee6ab2a",
      "metadata": {
        "id": "b598ec93-f552-4ff4-9557-5a5f9ee6ab2a"
      },
      "source": [
        "#### Task 8.2\n",
        "\n",
        "Create a list of all the **item prices** sold on this page. Again, focus only on this first page of results."
      ]
    },
    {
      "cell_type": "code",
      "execution_count": 100,
      "id": "29dcf659-e5c1-47e7-b9ea-981285743309",
      "metadata": {
        "id": "29dcf659-e5c1-47e7-b9ea-981285743309"
      },
      "outputs": [],
      "source": []
    },
    {
      "cell_type": "markdown",
      "id": "7f308e60-87ed-49ba-b19c-da7b7252cd7b",
      "metadata": {
        "id": "7f308e60-87ed-49ba-b19c-da7b7252cd7b"
      },
      "source": [
        "#### Task 8.3\n",
        "\n",
        "Combine both lists into a dataframe and print the dataframe. It should show the item names and prices."
      ]
    },
    {
      "cell_type": "code",
      "execution_count": 100,
      "id": "f55d76ea-94a4-4fd0-bfe2-883433660b0d",
      "metadata": {
        "id": "f55d76ea-94a4-4fd0-bfe2-883433660b0d"
      },
      "outputs": [],
      "source": []
    }
  ],
  "metadata": {
    "kernelspec": {
      "display_name": "Python 3 (ipykernel)",
      "language": "python",
      "name": "python3"
    },
    "language_info": {
      "codemirror_mode": {
        "name": "ipython",
        "version": 3
      },
      "file_extension": ".py",
      "mimetype": "text/x-python",
      "name": "python",
      "nbconvert_exporter": "python",
      "pygments_lexer": "ipython3",
      "version": "3.11.0"
    },
    "colab": {
      "provenance": [],
      "include_colab_link": true
    }
  },
  "nbformat": 4,
  "nbformat_minor": 5
}