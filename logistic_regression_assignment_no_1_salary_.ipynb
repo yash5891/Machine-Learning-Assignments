{
  "cells": [
    {
      "cell_type": "markdown",
      "metadata": {
        "id": "view-in-github",
        "colab_type": "text"
      },
      "source": [
        "<a href=\"https://colab.research.google.com/github/yash5891/Machine-Learning-Assignments/blob/main/logistic_regression_assignment_no_1_salary_.ipynb\" target=\"_parent\"><img src=\"https://colab.research.google.com/assets/colab-badge.svg\" alt=\"Open In Colab\"/></a>"
      ]
    },
    {
      "cell_type": "code",
      "execution_count": null,
      "id": "1295cd13-aa8b-45d8-90a3-f22e9e766594",
      "metadata": {
        "id": "1295cd13-aa8b-45d8-90a3-f22e9e766594",
        "outputId": "fe508506-738f-4608-c1b6-21d004226636"
      },
      "outputs": [
        {
          "data": {
            "text/html": [
              "<div>\n",
              "<style scoped>\n",
              "    .dataframe tbody tr th:only-of-type {\n",
              "        vertical-align: middle;\n",
              "    }\n",
              "\n",
              "    .dataframe tbody tr th {\n",
              "        vertical-align: top;\n",
              "    }\n",
              "\n",
              "    .dataframe thead th {\n",
              "        text-align: right;\n",
              "    }\n",
              "</style>\n",
              "<table border=\"1\" class=\"dataframe\">\n",
              "  <thead>\n",
              "    <tr style=\"text-align: right;\">\n",
              "      <th></th>\n",
              "      <th>YearsExperience</th>\n",
              "      <th>Salary</th>\n",
              "    </tr>\n",
              "  </thead>\n",
              "  <tbody>\n",
              "    <tr>\n",
              "      <th>0</th>\n",
              "      <td>1.1</td>\n",
              "      <td>39343.0</td>\n",
              "    </tr>\n",
              "    <tr>\n",
              "      <th>1</th>\n",
              "      <td>1.3</td>\n",
              "      <td>46205.0</td>\n",
              "    </tr>\n",
              "    <tr>\n",
              "      <th>2</th>\n",
              "      <td>1.5</td>\n",
              "      <td>37731.0</td>\n",
              "    </tr>\n",
              "    <tr>\n",
              "      <th>3</th>\n",
              "      <td>2.0</td>\n",
              "      <td>43525.0</td>\n",
              "    </tr>\n",
              "    <tr>\n",
              "      <th>4</th>\n",
              "      <td>2.2</td>\n",
              "      <td>39891.0</td>\n",
              "    </tr>\n",
              "    <tr>\n",
              "      <th>5</th>\n",
              "      <td>2.9</td>\n",
              "      <td>56642.0</td>\n",
              "    </tr>\n",
              "    <tr>\n",
              "      <th>6</th>\n",
              "      <td>3.0</td>\n",
              "      <td>60150.0</td>\n",
              "    </tr>\n",
              "    <tr>\n",
              "      <th>7</th>\n",
              "      <td>3.2</td>\n",
              "      <td>54445.0</td>\n",
              "    </tr>\n",
              "    <tr>\n",
              "      <th>8</th>\n",
              "      <td>3.2</td>\n",
              "      <td>64445.0</td>\n",
              "    </tr>\n",
              "    <tr>\n",
              "      <th>9</th>\n",
              "      <td>3.7</td>\n",
              "      <td>57189.0</td>\n",
              "    </tr>\n",
              "    <tr>\n",
              "      <th>10</th>\n",
              "      <td>3.9</td>\n",
              "      <td>63218.0</td>\n",
              "    </tr>\n",
              "    <tr>\n",
              "      <th>11</th>\n",
              "      <td>4.0</td>\n",
              "      <td>55794.0</td>\n",
              "    </tr>\n",
              "    <tr>\n",
              "      <th>12</th>\n",
              "      <td>4.0</td>\n",
              "      <td>56957.0</td>\n",
              "    </tr>\n",
              "    <tr>\n",
              "      <th>13</th>\n",
              "      <td>4.1</td>\n",
              "      <td>57081.0</td>\n",
              "    </tr>\n",
              "    <tr>\n",
              "      <th>14</th>\n",
              "      <td>4.5</td>\n",
              "      <td>61111.0</td>\n",
              "    </tr>\n",
              "    <tr>\n",
              "      <th>15</th>\n",
              "      <td>4.9</td>\n",
              "      <td>67938.0</td>\n",
              "    </tr>\n",
              "    <tr>\n",
              "      <th>16</th>\n",
              "      <td>5.1</td>\n",
              "      <td>66029.0</td>\n",
              "    </tr>\n",
              "    <tr>\n",
              "      <th>17</th>\n",
              "      <td>5.3</td>\n",
              "      <td>83088.0</td>\n",
              "    </tr>\n",
              "    <tr>\n",
              "      <th>18</th>\n",
              "      <td>5.9</td>\n",
              "      <td>81363.0</td>\n",
              "    </tr>\n",
              "    <tr>\n",
              "      <th>19</th>\n",
              "      <td>6.0</td>\n",
              "      <td>93940.0</td>\n",
              "    </tr>\n",
              "    <tr>\n",
              "      <th>20</th>\n",
              "      <td>6.8</td>\n",
              "      <td>91738.0</td>\n",
              "    </tr>\n",
              "    <tr>\n",
              "      <th>21</th>\n",
              "      <td>7.1</td>\n",
              "      <td>98273.0</td>\n",
              "    </tr>\n",
              "    <tr>\n",
              "      <th>22</th>\n",
              "      <td>7.9</td>\n",
              "      <td>101302.0</td>\n",
              "    </tr>\n",
              "    <tr>\n",
              "      <th>23</th>\n",
              "      <td>8.2</td>\n",
              "      <td>113812.0</td>\n",
              "    </tr>\n",
              "    <tr>\n",
              "      <th>24</th>\n",
              "      <td>8.7</td>\n",
              "      <td>109431.0</td>\n",
              "    </tr>\n",
              "    <tr>\n",
              "      <th>25</th>\n",
              "      <td>9.0</td>\n",
              "      <td>105582.0</td>\n",
              "    </tr>\n",
              "    <tr>\n",
              "      <th>26</th>\n",
              "      <td>9.5</td>\n",
              "      <td>116969.0</td>\n",
              "    </tr>\n",
              "    <tr>\n",
              "      <th>27</th>\n",
              "      <td>9.6</td>\n",
              "      <td>112635.0</td>\n",
              "    </tr>\n",
              "    <tr>\n",
              "      <th>28</th>\n",
              "      <td>10.3</td>\n",
              "      <td>122391.0</td>\n",
              "    </tr>\n",
              "    <tr>\n",
              "      <th>29</th>\n",
              "      <td>10.5</td>\n",
              "      <td>121872.0</td>\n",
              "    </tr>\n",
              "  </tbody>\n",
              "</table>\n",
              "</div>"
            ],
            "text/plain": [
              "    YearsExperience    Salary\n",
              "0               1.1   39343.0\n",
              "1               1.3   46205.0\n",
              "2               1.5   37731.0\n",
              "3               2.0   43525.0\n",
              "4               2.2   39891.0\n",
              "5               2.9   56642.0\n",
              "6               3.0   60150.0\n",
              "7               3.2   54445.0\n",
              "8               3.2   64445.0\n",
              "9               3.7   57189.0\n",
              "10              3.9   63218.0\n",
              "11              4.0   55794.0\n",
              "12              4.0   56957.0\n",
              "13              4.1   57081.0\n",
              "14              4.5   61111.0\n",
              "15              4.9   67938.0\n",
              "16              5.1   66029.0\n",
              "17              5.3   83088.0\n",
              "18              5.9   81363.0\n",
              "19              6.0   93940.0\n",
              "20              6.8   91738.0\n",
              "21              7.1   98273.0\n",
              "22              7.9  101302.0\n",
              "23              8.2  113812.0\n",
              "24              8.7  109431.0\n",
              "25              9.0  105582.0\n",
              "26              9.5  116969.0\n",
              "27              9.6  112635.0\n",
              "28             10.3  122391.0\n",
              "29             10.5  121872.0"
            ]
          },
          "execution_count": 4,
          "metadata": {},
          "output_type": "execute_result"
        }
      ],
      "source": [
        "import pandas as pd\n",
        "import numpy as np\n",
        "import matplotlib.pyplot as plt\n",
        "\n",
        "\n",
        "# # Loading The Dataset\n",
        "#\n",
        "\n",
        "# In[2]:\n",
        "\n",
        "\n",
        "df=pd.read_csv(r\"C:\\Users\\yashk\\Downloads\\Salary_Data  ml ass3.csv\")\n",
        "df\n"
      ]
    },
    {
      "cell_type": "code",
      "execution_count": null,
      "id": "095bf675-2c72-4229-a769-d0883a3210b6",
      "metadata": {
        "id": "095bf675-2c72-4229-a769-d0883a3210b6",
        "outputId": "e05b5c6f-329d-4f67-9526-a08db3a26cb0"
      },
      "outputs": [
        {
          "name": "stdout",
          "output_type": "stream",
          "text": [
            "Index(['YearsExperience', 'Salary'], dtype='object')\n",
            "(30, 2)\n"
          ]
        }
      ],
      "source": [
        "print(df.columns)\n",
        "print(df.shape)\n",
        "#checking the shapes and coloumns"
      ]
    },
    {
      "cell_type": "code",
      "execution_count": null,
      "id": "0129af0c-2a6e-4c2d-8ce0-2aaf80ff83fa",
      "metadata": {
        "id": "0129af0c-2a6e-4c2d-8ce0-2aaf80ff83fa",
        "outputId": "0252ddf6-a5b1-44d4-e6a1-491f92ffc3a7"
      },
      "outputs": [
        {
          "name": "stdout",
          "output_type": "stream",
          "text": [
            "    YearsExperience    Salary\n",
            "27              9.6  112635.0\n",
            "11              4.0   55794.0\n",
            "0               1.1   39343.0\n",
            "12              4.0   56957.0\n",
            "28             10.3  122391.0\n",
            "19              6.0   93940.0\n",
            "14              4.5   61111.0\n",
            "24              8.7  109431.0\n",
            "3               2.0   43525.0\n",
            "1               1.3   46205.0\n"
          ]
        }
      ],
      "source": [
        "print(df.sample(10))\n",
        "#taking samples"
      ]
    },
    {
      "cell_type": "code",
      "execution_count": null,
      "id": "a0eba38d-8563-4389-8897-68dcb40dee7f",
      "metadata": {
        "id": "a0eba38d-8563-4389-8897-68dcb40dee7f",
        "outputId": "a1e4c72d-21ac-468f-e20b-38ce3bb7c257"
      },
      "outputs": [
        {
          "data": {
            "text/plain": [
              "YearsExperience    0\n",
              "Salary             0\n",
              "dtype: int64"
            ]
          },
          "execution_count": 7,
          "metadata": {},
          "output_type": "execute_result"
        }
      ],
      "source": [
        "df.isnull().sum()\n",
        "#checking isnull values"
      ]
    },
    {
      "cell_type": "code",
      "execution_count": null,
      "id": "012b652b-92a8-44e2-b3dc-17215e4c405f",
      "metadata": {
        "id": "012b652b-92a8-44e2-b3dc-17215e4c405f",
        "outputId": "fdfeed61-5cd5-43ae-a581-8a9fe2551294"
      },
      "outputs": [
        {
          "data": {
            "text/plain": [
              "array([[ 1.1],\n",
              "       [ 1.3],\n",
              "       [ 1.5],\n",
              "       [ 2. ],\n",
              "       [ 2.2],\n",
              "       [ 2.9],\n",
              "       [ 3. ],\n",
              "       [ 3.2],\n",
              "       [ 3.2],\n",
              "       [ 3.7],\n",
              "       [ 3.9],\n",
              "       [ 4. ],\n",
              "       [ 4. ],\n",
              "       [ 4.1],\n",
              "       [ 4.5],\n",
              "       [ 4.9],\n",
              "       [ 5.1],\n",
              "       [ 5.3],\n",
              "       [ 5.9],\n",
              "       [ 6. ],\n",
              "       [ 6.8],\n",
              "       [ 7.1],\n",
              "       [ 7.9],\n",
              "       [ 8.2],\n",
              "       [ 8.7],\n",
              "       [ 9. ],\n",
              "       [ 9.5],\n",
              "       [ 9.6],\n",
              "       [10.3],\n",
              "       [10.5]])"
            ]
          },
          "execution_count": 10,
          "metadata": {},
          "output_type": "execute_result"
        }
      ],
      "source": [
        "X=df.iloc[:, :-1].values\n",
        "X\n",
        "#taking the values of all rows and coloumns"
      ]
    },
    {
      "cell_type": "code",
      "execution_count": null,
      "id": "10acaca8-d031-4684-8153-2064e06eaa75",
      "metadata": {
        "id": "10acaca8-d031-4684-8153-2064e06eaa75",
        "outputId": "b3f14391-7c05-4542-cfaf-8ed5c156de1c"
      },
      "outputs": [
        {
          "data": {
            "text/plain": [
              "array([ 39343.,  46205.,  37731.,  43525.,  39891.,  56642.,  60150.,\n",
              "        54445.,  64445.,  57189.,  63218.,  55794.,  56957.,  57081.,\n",
              "        61111.,  67938.,  66029.,  83088.,  81363.,  93940.,  91738.,\n",
              "        98273., 101302., 113812., 109431., 105582., 116969., 112635.,\n",
              "       122391., 121872.])"
            ]
          },
          "execution_count": 16,
          "metadata": {},
          "output_type": "execute_result"
        }
      ],
      "source": [
        "y=df.iloc[ :,1].values\n",
        "y\n",
        "#taking the values of all rows and First coloumns"
      ]
    },
    {
      "cell_type": "code",
      "execution_count": null,
      "id": "b0ecc6fb-07cd-41c3-821e-6e30bda9f551",
      "metadata": {
        "id": "b0ecc6fb-07cd-41c3-821e-6e30bda9f551"
      },
      "outputs": [],
      "source": [
        "from sklearn.model_selection import train_test_split\n",
        "X_train, X_test, y_train, y_test =train_test_split(X,y ,test_size=0.2 ,random_state=42)\n",
        "#testing model on 20% of data  and splitting it in 80% for training and 20 percent testing"
      ]
    },
    {
      "cell_type": "code",
      "execution_count": null,
      "id": "9a665b71-b8a2-4c3c-9151-925b49b37362",
      "metadata": {
        "id": "9a665b71-b8a2-4c3c-9151-925b49b37362",
        "outputId": "d1eb5107-e92a-4cb1-fa9d-c780c2950934"
      },
      "outputs": [
        {
          "name": "stdout",
          "output_type": "stream",
          "text": [
            "(24, 1)\n",
            "(24,)\n",
            "(6, 1)\n",
            "(6,)\n"
          ]
        }
      ],
      "source": [
        "print(X_train.shape)\n",
        "print(y_train.shape)\n",
        "print(X_test.shape)\n",
        "print(y_test.shape)\n",
        "#checking shapes and coloumns\n"
      ]
    },
    {
      "cell_type": "code",
      "execution_count": null,
      "id": "805ad06c-bc6c-438e-bd34-6bda2235463b",
      "metadata": {
        "id": "805ad06c-bc6c-438e-bd34-6bda2235463b",
        "outputId": "1fbe0654-4c32-4ab1-9756-4b1c04a55f7b"
      },
      "outputs": [
        {
          "data": {
            "text/plain": [
              "array([[9.6],\n",
              "       [4.9],\n",
              "       [8.2],\n",
              "       [5.3],\n",
              "       [3.2],\n",
              "       [3.7]])"
            ]
          },
          "execution_count": 19,
          "metadata": {},
          "output_type": "execute_result"
        }
      ],
      "source": [
        "X_test\n",
        "#checking data stored in X_test"
      ]
    },
    {
      "cell_type": "code",
      "execution_count": null,
      "id": "61fd8773-137b-448a-9203-bd7e20700120",
      "metadata": {
        "id": "61fd8773-137b-448a-9203-bd7e20700120",
        "outputId": "79d11628-d084-4f54-b452-2c2e9cd75853"
      },
      "outputs": [
        {
          "data": {
            "text/html": [
              "<style>#sk-container-id-1 {\n",
              "  /* Definition of color scheme common for light and dark mode */\n",
              "  --sklearn-color-text: black;\n",
              "  --sklearn-color-line: gray;\n",
              "  /* Definition of color scheme for unfitted estimators */\n",
              "  --sklearn-color-unfitted-level-0: #fff5e6;\n",
              "  --sklearn-color-unfitted-level-1: #f6e4d2;\n",
              "  --sklearn-color-unfitted-level-2: #ffe0b3;\n",
              "  --sklearn-color-unfitted-level-3: chocolate;\n",
              "  /* Definition of color scheme for fitted estimators */\n",
              "  --sklearn-color-fitted-level-0: #f0f8ff;\n",
              "  --sklearn-color-fitted-level-1: #d4ebff;\n",
              "  --sklearn-color-fitted-level-2: #b3dbfd;\n",
              "  --sklearn-color-fitted-level-3: cornflowerblue;\n",
              "\n",
              "  /* Specific color for light theme */\n",
              "  --sklearn-color-text-on-default-background: var(--sg-text-color, var(--theme-code-foreground, var(--jp-content-font-color1, black)));\n",
              "  --sklearn-color-background: var(--sg-background-color, var(--theme-background, var(--jp-layout-color0, white)));\n",
              "  --sklearn-color-border-box: var(--sg-text-color, var(--theme-code-foreground, var(--jp-content-font-color1, black)));\n",
              "  --sklearn-color-icon: #696969;\n",
              "\n",
              "  @media (prefers-color-scheme: dark) {\n",
              "    /* Redefinition of color scheme for dark theme */\n",
              "    --sklearn-color-text-on-default-background: var(--sg-text-color, var(--theme-code-foreground, var(--jp-content-font-color1, white)));\n",
              "    --sklearn-color-background: var(--sg-background-color, var(--theme-background, var(--jp-layout-color0, #111)));\n",
              "    --sklearn-color-border-box: var(--sg-text-color, var(--theme-code-foreground, var(--jp-content-font-color1, white)));\n",
              "    --sklearn-color-icon: #878787;\n",
              "  }\n",
              "}\n",
              "\n",
              "#sk-container-id-1 {\n",
              "  color: var(--sklearn-color-text);\n",
              "}\n",
              "\n",
              "#sk-container-id-1 pre {\n",
              "  padding: 0;\n",
              "}\n",
              "\n",
              "#sk-container-id-1 input.sk-hidden--visually {\n",
              "  border: 0;\n",
              "  clip: rect(1px 1px 1px 1px);\n",
              "  clip: rect(1px, 1px, 1px, 1px);\n",
              "  height: 1px;\n",
              "  margin: -1px;\n",
              "  overflow: hidden;\n",
              "  padding: 0;\n",
              "  position: absolute;\n",
              "  width: 1px;\n",
              "}\n",
              "\n",
              "#sk-container-id-1 div.sk-dashed-wrapped {\n",
              "  border: 1px dashed var(--sklearn-color-line);\n",
              "  margin: 0 0.4em 0.5em 0.4em;\n",
              "  box-sizing: border-box;\n",
              "  padding-bottom: 0.4em;\n",
              "  background-color: var(--sklearn-color-background);\n",
              "}\n",
              "\n",
              "#sk-container-id-1 div.sk-container {\n",
              "  /* jupyter's `normalize.less` sets `[hidden] { display: none; }`\n",
              "     but bootstrap.min.css set `[hidden] { display: none !important; }`\n",
              "     so we also need the `!important` here to be able to override the\n",
              "     default hidden behavior on the sphinx rendered scikit-learn.org.\n",
              "     See: https://github.com/scikit-learn/scikit-learn/issues/21755 */\n",
              "  display: inline-block !important;\n",
              "  position: relative;\n",
              "}\n",
              "\n",
              "#sk-container-id-1 div.sk-text-repr-fallback {\n",
              "  display: none;\n",
              "}\n",
              "\n",
              "div.sk-parallel-item,\n",
              "div.sk-serial,\n",
              "div.sk-item {\n",
              "  /* draw centered vertical line to link estimators */\n",
              "  background-image: linear-gradient(var(--sklearn-color-text-on-default-background), var(--sklearn-color-text-on-default-background));\n",
              "  background-size: 2px 100%;\n",
              "  background-repeat: no-repeat;\n",
              "  background-position: center center;\n",
              "}\n",
              "\n",
              "/* Parallel-specific style estimator block */\n",
              "\n",
              "#sk-container-id-1 div.sk-parallel-item::after {\n",
              "  content: \"\";\n",
              "  width: 100%;\n",
              "  border-bottom: 2px solid var(--sklearn-color-text-on-default-background);\n",
              "  flex-grow: 1;\n",
              "}\n",
              "\n",
              "#sk-container-id-1 div.sk-parallel {\n",
              "  display: flex;\n",
              "  align-items: stretch;\n",
              "  justify-content: center;\n",
              "  background-color: var(--sklearn-color-background);\n",
              "  position: relative;\n",
              "}\n",
              "\n",
              "#sk-container-id-1 div.sk-parallel-item {\n",
              "  display: flex;\n",
              "  flex-direction: column;\n",
              "}\n",
              "\n",
              "#sk-container-id-1 div.sk-parallel-item:first-child::after {\n",
              "  align-self: flex-end;\n",
              "  width: 50%;\n",
              "}\n",
              "\n",
              "#sk-container-id-1 div.sk-parallel-item:last-child::after {\n",
              "  align-self: flex-start;\n",
              "  width: 50%;\n",
              "}\n",
              "\n",
              "#sk-container-id-1 div.sk-parallel-item:only-child::after {\n",
              "  width: 0;\n",
              "}\n",
              "\n",
              "/* Serial-specific style estimator block */\n",
              "\n",
              "#sk-container-id-1 div.sk-serial {\n",
              "  display: flex;\n",
              "  flex-direction: column;\n",
              "  align-items: center;\n",
              "  background-color: var(--sklearn-color-background);\n",
              "  padding-right: 1em;\n",
              "  padding-left: 1em;\n",
              "}\n",
              "\n",
              "\n",
              "/* Toggleable style: style used for estimator/Pipeline/ColumnTransformer box that is\n",
              "clickable and can be expanded/collapsed.\n",
              "- Pipeline and ColumnTransformer use this feature and define the default style\n",
              "- Estimators will overwrite some part of the style using the `sk-estimator` class\n",
              "*/\n",
              "\n",
              "/* Pipeline and ColumnTransformer style (default) */\n",
              "\n",
              "#sk-container-id-1 div.sk-toggleable {\n",
              "  /* Default theme specific background. It is overwritten whether we have a\n",
              "  specific estimator or a Pipeline/ColumnTransformer */\n",
              "  background-color: var(--sklearn-color-background);\n",
              "}\n",
              "\n",
              "/* Toggleable label */\n",
              "#sk-container-id-1 label.sk-toggleable__label {\n",
              "  cursor: pointer;\n",
              "  display: block;\n",
              "  width: 100%;\n",
              "  margin-bottom: 0;\n",
              "  padding: 0.5em;\n",
              "  box-sizing: border-box;\n",
              "  text-align: center;\n",
              "}\n",
              "\n",
              "#sk-container-id-1 label.sk-toggleable__label-arrow:before {\n",
              "  /* Arrow on the left of the label */\n",
              "  content: \"▸\";\n",
              "  float: left;\n",
              "  margin-right: 0.25em;\n",
              "  color: var(--sklearn-color-icon);\n",
              "}\n",
              "\n",
              "#sk-container-id-1 label.sk-toggleable__label-arrow:hover:before {\n",
              "  color: var(--sklearn-color-text);\n",
              "}\n",
              "\n",
              "/* Toggleable content - dropdown */\n",
              "\n",
              "#sk-container-id-1 div.sk-toggleable__content {\n",
              "  max-height: 0;\n",
              "  max-width: 0;\n",
              "  overflow: hidden;\n",
              "  text-align: left;\n",
              "  /* unfitted */\n",
              "  background-color: var(--sklearn-color-unfitted-level-0);\n",
              "}\n",
              "\n",
              "#sk-container-id-1 div.sk-toggleable__content.fitted {\n",
              "  /* fitted */\n",
              "  background-color: var(--sklearn-color-fitted-level-0);\n",
              "}\n",
              "\n",
              "#sk-container-id-1 div.sk-toggleable__content pre {\n",
              "  margin: 0.2em;\n",
              "  border-radius: 0.25em;\n",
              "  color: var(--sklearn-color-text);\n",
              "  /* unfitted */\n",
              "  background-color: var(--sklearn-color-unfitted-level-0);\n",
              "}\n",
              "\n",
              "#sk-container-id-1 div.sk-toggleable__content.fitted pre {\n",
              "  /* unfitted */\n",
              "  background-color: var(--sklearn-color-fitted-level-0);\n",
              "}\n",
              "\n",
              "#sk-container-id-1 input.sk-toggleable__control:checked~div.sk-toggleable__content {\n",
              "  /* Expand drop-down */\n",
              "  max-height: 200px;\n",
              "  max-width: 100%;\n",
              "  overflow: auto;\n",
              "}\n",
              "\n",
              "#sk-container-id-1 input.sk-toggleable__control:checked~label.sk-toggleable__label-arrow:before {\n",
              "  content: \"▾\";\n",
              "}\n",
              "\n",
              "/* Pipeline/ColumnTransformer-specific style */\n",
              "\n",
              "#sk-container-id-1 div.sk-label input.sk-toggleable__control:checked~label.sk-toggleable__label {\n",
              "  color: var(--sklearn-color-text);\n",
              "  background-color: var(--sklearn-color-unfitted-level-2);\n",
              "}\n",
              "\n",
              "#sk-container-id-1 div.sk-label.fitted input.sk-toggleable__control:checked~label.sk-toggleable__label {\n",
              "  background-color: var(--sklearn-color-fitted-level-2);\n",
              "}\n",
              "\n",
              "/* Estimator-specific style */\n",
              "\n",
              "/* Colorize estimator box */\n",
              "#sk-container-id-1 div.sk-estimator input.sk-toggleable__control:checked~label.sk-toggleable__label {\n",
              "  /* unfitted */\n",
              "  background-color: var(--sklearn-color-unfitted-level-2);\n",
              "}\n",
              "\n",
              "#sk-container-id-1 div.sk-estimator.fitted input.sk-toggleable__control:checked~label.sk-toggleable__label {\n",
              "  /* fitted */\n",
              "  background-color: var(--sklearn-color-fitted-level-2);\n",
              "}\n",
              "\n",
              "#sk-container-id-1 div.sk-label label.sk-toggleable__label,\n",
              "#sk-container-id-1 div.sk-label label {\n",
              "  /* The background is the default theme color */\n",
              "  color: var(--sklearn-color-text-on-default-background);\n",
              "}\n",
              "\n",
              "/* On hover, darken the color of the background */\n",
              "#sk-container-id-1 div.sk-label:hover label.sk-toggleable__label {\n",
              "  color: var(--sklearn-color-text);\n",
              "  background-color: var(--sklearn-color-unfitted-level-2);\n",
              "}\n",
              "\n",
              "/* Label box, darken color on hover, fitted */\n",
              "#sk-container-id-1 div.sk-label.fitted:hover label.sk-toggleable__label.fitted {\n",
              "  color: var(--sklearn-color-text);\n",
              "  background-color: var(--sklearn-color-fitted-level-2);\n",
              "}\n",
              "\n",
              "/* Estimator label */\n",
              "\n",
              "#sk-container-id-1 div.sk-label label {\n",
              "  font-family: monospace;\n",
              "  font-weight: bold;\n",
              "  display: inline-block;\n",
              "  line-height: 1.2em;\n",
              "}\n",
              "\n",
              "#sk-container-id-1 div.sk-label-container {\n",
              "  text-align: center;\n",
              "}\n",
              "\n",
              "/* Estimator-specific */\n",
              "#sk-container-id-1 div.sk-estimator {\n",
              "  font-family: monospace;\n",
              "  border: 1px dotted var(--sklearn-color-border-box);\n",
              "  border-radius: 0.25em;\n",
              "  box-sizing: border-box;\n",
              "  margin-bottom: 0.5em;\n",
              "  /* unfitted */\n",
              "  background-color: var(--sklearn-color-unfitted-level-0);\n",
              "}\n",
              "\n",
              "#sk-container-id-1 div.sk-estimator.fitted {\n",
              "  /* fitted */\n",
              "  background-color: var(--sklearn-color-fitted-level-0);\n",
              "}\n",
              "\n",
              "/* on hover */\n",
              "#sk-container-id-1 div.sk-estimator:hover {\n",
              "  /* unfitted */\n",
              "  background-color: var(--sklearn-color-unfitted-level-2);\n",
              "}\n",
              "\n",
              "#sk-container-id-1 div.sk-estimator.fitted:hover {\n",
              "  /* fitted */\n",
              "  background-color: var(--sklearn-color-fitted-level-2);\n",
              "}\n",
              "\n",
              "/* Specification for estimator info (e.g. \"i\" and \"?\") */\n",
              "\n",
              "/* Common style for \"i\" and \"?\" */\n",
              "\n",
              ".sk-estimator-doc-link,\n",
              "a:link.sk-estimator-doc-link,\n",
              "a:visited.sk-estimator-doc-link {\n",
              "  float: right;\n",
              "  font-size: smaller;\n",
              "  line-height: 1em;\n",
              "  font-family: monospace;\n",
              "  background-color: var(--sklearn-color-background);\n",
              "  border-radius: 1em;\n",
              "  height: 1em;\n",
              "  width: 1em;\n",
              "  text-decoration: none !important;\n",
              "  margin-left: 1ex;\n",
              "  /* unfitted */\n",
              "  border: var(--sklearn-color-unfitted-level-1) 1pt solid;\n",
              "  color: var(--sklearn-color-unfitted-level-1);\n",
              "}\n",
              "\n",
              ".sk-estimator-doc-link.fitted,\n",
              "a:link.sk-estimator-doc-link.fitted,\n",
              "a:visited.sk-estimator-doc-link.fitted {\n",
              "  /* fitted */\n",
              "  border: var(--sklearn-color-fitted-level-1) 1pt solid;\n",
              "  color: var(--sklearn-color-fitted-level-1);\n",
              "}\n",
              "\n",
              "/* On hover */\n",
              "div.sk-estimator:hover .sk-estimator-doc-link:hover,\n",
              ".sk-estimator-doc-link:hover,\n",
              "div.sk-label-container:hover .sk-estimator-doc-link:hover,\n",
              ".sk-estimator-doc-link:hover {\n",
              "  /* unfitted */\n",
              "  background-color: var(--sklearn-color-unfitted-level-3);\n",
              "  color: var(--sklearn-color-background);\n",
              "  text-decoration: none;\n",
              "}\n",
              "\n",
              "div.sk-estimator.fitted:hover .sk-estimator-doc-link.fitted:hover,\n",
              ".sk-estimator-doc-link.fitted:hover,\n",
              "div.sk-label-container:hover .sk-estimator-doc-link.fitted:hover,\n",
              ".sk-estimator-doc-link.fitted:hover {\n",
              "  /* fitted */\n",
              "  background-color: var(--sklearn-color-fitted-level-3);\n",
              "  color: var(--sklearn-color-background);\n",
              "  text-decoration: none;\n",
              "}\n",
              "\n",
              "/* Span, style for the box shown on hovering the info icon */\n",
              ".sk-estimator-doc-link span {\n",
              "  display: none;\n",
              "  z-index: 9999;\n",
              "  position: relative;\n",
              "  font-weight: normal;\n",
              "  right: .2ex;\n",
              "  padding: .5ex;\n",
              "  margin: .5ex;\n",
              "  width: min-content;\n",
              "  min-width: 20ex;\n",
              "  max-width: 50ex;\n",
              "  color: var(--sklearn-color-text);\n",
              "  box-shadow: 2pt 2pt 4pt #999;\n",
              "  /* unfitted */\n",
              "  background: var(--sklearn-color-unfitted-level-0);\n",
              "  border: .5pt solid var(--sklearn-color-unfitted-level-3);\n",
              "}\n",
              "\n",
              ".sk-estimator-doc-link.fitted span {\n",
              "  /* fitted */\n",
              "  background: var(--sklearn-color-fitted-level-0);\n",
              "  border: var(--sklearn-color-fitted-level-3);\n",
              "}\n",
              "\n",
              ".sk-estimator-doc-link:hover span {\n",
              "  display: block;\n",
              "}\n",
              "\n",
              "/* \"?\"-specific style due to the `<a>` HTML tag */\n",
              "\n",
              "#sk-container-id-1 a.estimator_doc_link {\n",
              "  float: right;\n",
              "  font-size: 1rem;\n",
              "  line-height: 1em;\n",
              "  font-family: monospace;\n",
              "  background-color: var(--sklearn-color-background);\n",
              "  border-radius: 1rem;\n",
              "  height: 1rem;\n",
              "  width: 1rem;\n",
              "  text-decoration: none;\n",
              "  /* unfitted */\n",
              "  color: var(--sklearn-color-unfitted-level-1);\n",
              "  border: var(--sklearn-color-unfitted-level-1) 1pt solid;\n",
              "}\n",
              "\n",
              "#sk-container-id-1 a.estimator_doc_link.fitted {\n",
              "  /* fitted */\n",
              "  border: var(--sklearn-color-fitted-level-1) 1pt solid;\n",
              "  color: var(--sklearn-color-fitted-level-1);\n",
              "}\n",
              "\n",
              "/* On hover */\n",
              "#sk-container-id-1 a.estimator_doc_link:hover {\n",
              "  /* unfitted */\n",
              "  background-color: var(--sklearn-color-unfitted-level-3);\n",
              "  color: var(--sklearn-color-background);\n",
              "  text-decoration: none;\n",
              "}\n",
              "\n",
              "#sk-container-id-1 a.estimator_doc_link.fitted:hover {\n",
              "  /* fitted */\n",
              "  background-color: var(--sklearn-color-fitted-level-3);\n",
              "}\n",
              "</style><div id=\"sk-container-id-1\" class=\"sk-top-container\"><div class=\"sk-text-repr-fallback\"><pre>LinearRegression()</pre><b>In a Jupyter environment, please rerun this cell to show the HTML representation or trust the notebook. <br />On GitHub, the HTML representation is unable to render, please try loading this page with nbviewer.org.</b></div><div class=\"sk-container\" hidden><div class=\"sk-item\"><div class=\"sk-estimator fitted sk-toggleable\"><input class=\"sk-toggleable__control sk-hidden--visually\" id=\"sk-estimator-id-1\" type=\"checkbox\" checked><label for=\"sk-estimator-id-1\" class=\"sk-toggleable__label fitted sk-toggleable__label-arrow fitted\">&nbsp;&nbsp;LinearRegression<a class=\"sk-estimator-doc-link fitted\" rel=\"noreferrer\" target=\"_blank\" href=\"https://scikit-learn.org/1.4/modules/generated/sklearn.linear_model.LinearRegression.html\">?<span>Documentation for LinearRegression</span></a><span class=\"sk-estimator-doc-link fitted\">i<span>Fitted</span></span></label><div class=\"sk-toggleable__content fitted\"><pre>LinearRegression()</pre></div> </div></div></div></div>"
            ],
            "text/plain": [
              "LinearRegression()"
            ]
          },
          "execution_count": 20,
          "metadata": {},
          "output_type": "execute_result"
        }
      ],
      "source": [
        "from sklearn.linear_model import LinearRegression\n",
        "#installing linear regration model\n",
        "linear_regression=LinearRegression()\n",
        "#fitting to the training data\n",
        "\n",
        "linear_regression.fit(X_train,y_train)\n",
        "#Fitting model to x_train and y_train"
      ]
    },
    {
      "cell_type": "code",
      "execution_count": null,
      "id": "aa0a25c3-3264-442b-b545-846721aebdbd",
      "metadata": {
        "id": "aa0a25c3-3264-442b-b545-846721aebdbd",
        "outputId": "3dd5b5ca-7a41-4e86-8a39-6f10c8152556"
      },
      "outputs": [
        {
          "data": {
            "text/plain": [
              "array([118476.57161947,  74633.55753713, 105416.95040345,  78364.87788457,\n",
              "        58775.44606054,  63439.59649483])"
            ]
          },
          "execution_count": 31,
          "metadata": {},
          "output_type": "execute_result"
        }
      ],
      "source": [
        "\n",
        "predictions=linear_regression.predict(X_test)\n",
        "predictions\n",
        "#predicting values of x_test\n"
      ]
    },
    {
      "cell_type": "code",
      "execution_count": null,
      "id": "7324c2e3-2373-4e90-9a90-cc82b105f9b7",
      "metadata": {
        "id": "7324c2e3-2373-4e90-9a90-cc82b105f9b7",
        "outputId": "e46e5439-963e-4bf3-cb79-904bad0bc694"
      },
      "outputs": [
        {
          "name": "stdout",
          "output_type": "stream",
          "text": [
            "predicted-------------- original\n",
            "118476.57161946858        112635.0       \n",
            "74633.55753713317         67938.0        \n",
            "105416.95040345377        113812.0       \n",
            "78364.87788456597         83088.0        \n",
            "58775.44606054376         64445.0        \n",
            "63439.59649483476         57189.0        \n"
          ]
        }
      ],
      "source": [
        "print('predicted-------------- original')\n",
        "for pos in range(0,len(predictions)):\n",
        "    print(f'{predictions[pos]:<{25}} {y_test[pos]:<{15}}')\n",
        "#comparing original and predicted values\n"
      ]
    },
    {
      "cell_type": "code",
      "execution_count": null,
      "id": "c0c108c6-6499-4a1d-90cd-d0f900a5a346",
      "metadata": {
        "id": "c0c108c6-6499-4a1d-90cd-d0f900a5a346",
        "outputId": "b9a50db8-ac70-4f37-d905-481d6f7d69c7"
      },
      "outputs": [
        {
          "data": {
            "text/plain": [
              "array([[10.3],\n",
              "       [ 8.7],\n",
              "       [ 4. ],\n",
              "       [ 1.1],\n",
              "       [ 2.2],\n",
              "       [ 5.1],\n",
              "       [ 2.9],\n",
              "       [ 4.1],\n",
              "       [ 4. ],\n",
              "       [ 7.9],\n",
              "       [ 1.3],\n",
              "       [ 1.5],\n",
              "       [ 9. ],\n",
              "       [ 2. ],\n",
              "       [ 7.1],\n",
              "       [ 9.5],\n",
              "       [ 5.9],\n",
              "       [10.5],\n",
              "       [ 6.8],\n",
              "       [ 3.2],\n",
              "       [ 3.9],\n",
              "       [ 4.5],\n",
              "       [ 6. ],\n",
              "       [ 3. ]])"
            ]
          },
          "execution_count": 34,
          "metadata": {},
          "output_type": "execute_result"
        }
      ],
      "source": [
        "X_train"
      ]
    },
    {
      "cell_type": "code",
      "execution_count": null,
      "id": "7663bda0-7bf3-4798-b5ed-743c9bc22374",
      "metadata": {
        "id": "7663bda0-7bf3-4798-b5ed-743c9bc22374",
        "outputId": "1b1ebe5f-c9c0-4a65-9666-ad7e314afea4"
      },
      "outputs": [
        {
          "data": {
            "image/png": "[encoded data removed]",
            "text/plain": [
              "<Figure size 640x480 with 1 Axes>"
            ]
          },
          "metadata": {},
          "output_type": "display_data"
        }
      ],
      "source": [
        "plt.scatter(X_train,y_train,color='blue')\n",
        "plt.plot(X_train,linear_regression.predict(X_train),color='red')\n",
        "plt.title('year vs salary')\n",
        "plt.xlabel('year of experience')\n",
        "plt.ylabel('salary')\n",
        "plt.show()\n",
        "#checking how years of experience affect salary on x_train data\n"
      ]
    },
    {
      "cell_type": "code",
      "execution_count": null,
      "id": "8e619fd0-d241-42cd-8347-d6414701ec2a",
      "metadata": {
        "id": "8e619fd0-d241-42cd-8347-d6414701ec2a"
      },
      "outputs": [],
      "source": [
        "x2=linear_regression.predict(X_train)"
      ]
    },
    {
      "cell_type": "code",
      "execution_count": null,
      "id": "d53d8264-83af-4547-9e2f-8d5ba1f3927c",
      "metadata": {
        "id": "d53d8264-83af-4547-9e2f-8d5ba1f3927c",
        "outputId": "804b6252-879a-4278-b10c-4c6c276d58af"
      },
      "outputs": [
        {
          "data": {
            "text/plain": [
              "array([[10.3],\n",
              "       [ 8.7],\n",
              "       [ 4. ],\n",
              "       [ 1.1],\n",
              "       [ 2.2],\n",
              "       [ 5.1],\n",
              "       [ 2.9],\n",
              "       [ 4.1],\n",
              "       [ 4. ],\n",
              "       [ 7.9],\n",
              "       [ 1.3],\n",
              "       [ 1.5],\n",
              "       [ 9. ],\n",
              "       [ 2. ],\n",
              "       [ 7.1],\n",
              "       [ 9.5],\n",
              "       [ 5.9],\n",
              "       [10.5],\n",
              "       [ 6.8],\n",
              "       [ 3.2],\n",
              "       [ 3.9],\n",
              "       [ 4.5],\n",
              "       [ 6. ],\n",
              "       [ 3. ]])"
            ]
          },
          "execution_count": 40,
          "metadata": {},
          "output_type": "execute_result"
        }
      ],
      "source": [
        "x2\n",
        "X_train"
      ]
    },
    {
      "cell_type": "code",
      "execution_count": null,
      "id": "f8db8746-fdeb-421f-9793-19efcfa3c2c7",
      "metadata": {
        "id": "f8db8746-fdeb-421f-9793-19efcfa3c2c7",
        "outputId": "80324a0b-768f-4d72-f200-9b4d1a325e66"
      },
      "outputs": [
        {
          "data": {
            "image/png": "[encoded data removed]",
            "text/plain": [
              "<Figure size 640x480 with 1 Axes>"
            ]
          },
          "metadata": {},
          "output_type": "display_data"
        }
      ],
      "source": [
        "plt.scatter(X_test, y_test, color='blue')\n",
        "plt.plot(X_train, linear_regression.predict(X_train), color='red')\n",
        "plt.title('Years VS Salary')\n",
        "plt.xlabel('Years of Experience')\n",
        "plt.ylabel('Salary')\n",
        "plt.show()\n",
        "#checking how years of experience affect salary on x_test data"
      ]
    },
    {
      "cell_type": "code",
      "execution_count": null,
      "id": "8a065647-808a-4751-966e-0bf8940e28df",
      "metadata": {
        "id": "8a065647-808a-4751-966e-0bf8940e28df",
        "outputId": "d54904ae-16f4-44d5-d5d5-86f901007b38"
      },
      "outputs": [
        {
          "name": "stdout",
          "output_type": "stream",
          "text": [
            "the model perfomance for training set\n",
            "0.9518041044008629\n",
            "6069.309669701906\n"
          ]
        }
      ],
      "source": [
        "from sklearn.metrics import mean_squared_error,r2_score\n",
        "\n",
        "#model evaluation for training data\n",
        "y_train_predict = linear_regression.predict(X_train)\n",
        "rmse = (np.sqrt(mean_squared_error(y_train, y_train_predict)))\n",
        "r2 = r2_score(y_train, y_train_predict)\n",
        "print('the model perfomance for training set')\n",
        "print(r2)\n",
        "print(rmse)\n",
        "#getting rootmean square error values\n",
        "#checking comparison of how well model is fitted to the data on x_train"
      ]
    },
    {
      "cell_type": "code",
      "execution_count": null,
      "id": "599a33f8-0f51-4ed3-b55b-06d597809a4f",
      "metadata": {
        "id": "599a33f8-0f51-4ed3-b55b-06d597809a4f",
        "outputId": "66c480cc-e58e-4f98-e015-31ef045e5c73"
      },
      "outputs": [
        {
          "name": "stdout",
          "output_type": "stream",
          "text": [
            "the model perforence for testing set\n",
            "0.9207273173596824\n",
            "6363.345403924193\n"
          ]
        }
      ],
      "source": [
        "y_test_predict=linear_regression.predict(X_test)\n",
        "rmse=(np.sqrt(mean_squared_error(y_test,y_test_predict)))\n",
        "r2=r2_score(y_test,y_test_predict)\n",
        "print('the model perforence for testing set')\n",
        "print(r2)\n",
        "print(rmse)\n",
        "#getting rootmean square error values\n",
        "#checking comparison of how well model is fitted to the data on x_test"
      ]
    },
    {
      "cell_type": "code",
      "execution_count": null,
      "id": "c7d4b3ef-e292-4576-9c4a-6120d4f84dbb",
      "metadata": {
        "id": "c7d4b3ef-e292-4576-9c4a-6120d4f84dbb",
        "outputId": "e69e2f45-756d-4b3c-c634-ad00a2765f71"
      },
      "outputs": [
        {
          "name": "stdout",
          "output_type": "stream",
          "text": [
            "Experience Salary     d=Xi-Xm               e=Yi-Ym             d*e                  e*e\n",
            "------------------------------------------------------------------------------------------------\n",
            "[10.3]     122391.0   [5.1125]             48183.375            [246337.5046875]     [26.13765625]       \n",
            "[8.7]      109431.0   [3.5125]             35223.375            [123722.1046875]     [12.33765625]       \n",
            "[4.]       56957.0    [-1.1875]            -17250.625           [20485.1171875]      [1.41015625]        \n",
            "[1.1]      39343.0    [-4.0875]            -34864.625           [142509.1546875]     [16.70765625]       \n",
            "[2.2]      39891.0    [-2.9875]            -34316.625           [102520.9171875]     [8.92515625]        \n",
            "[5.1]      66029.0    [-0.0875]            -8178.625            [715.6296875]        [0.00765625]        \n",
            "[2.9]      56642.0    [-2.2875]            -17565.625           [40181.3671875]      [5.23265625]        \n",
            "[4.1]      57081.0    [-1.0875]            -17126.625           [18625.2046875]      [1.18265625]        \n",
            "[4.]       55794.0    [-1.1875]            -18413.625           [21866.1796875]      [1.41015625]        \n",
            "[7.9]      101302.0   [2.7125]             27094.375            [73493.4921875]      [7.35765625]        \n",
            "[1.3]      46205.0    [-3.8875]            -28002.625           [108860.2046875]     [15.11265625]       \n",
            "[1.5]      37731.0    [-3.6875]            -36476.625           [134507.5546875]     [13.59765625]       \n",
            "[9.]       105582.0   [3.8125]             31374.375            [119614.8046875]     [14.53515625]       \n",
            "[2.]       43525.0    [-3.1875]            -30682.625           [97800.8671875]      [10.16015625]       \n",
            "[7.1]      98273.0    [1.9125]             24065.375            [46025.0296875]      [3.65765625]        \n",
            "[9.5]      116969.0   [4.3125]             42761.375            [184408.4296875]     [18.59765625]       \n",
            "[5.9]      81363.0    [0.7125]             7155.375             [5098.2046875]       [0.50765625]        \n",
            "[10.5]     121872.0   [5.3125]             47664.375            [253216.9921875]     [28.22265625]       \n",
            "[6.8]      91738.0    [1.6125]             17530.375            [28267.7296875]      [2.60015625]        \n",
            "[3.2]      54445.0    [-1.9875]            -19762.625           [39278.2171875]      [3.95015625]        \n",
            "[3.9]      63218.0    [-1.2875]            -10989.625           [14149.1421875]      [1.65765625]        \n",
            "[4.5]      61111.0    [-0.6875]            -13096.625           [9003.9296875]       [0.47265625]        \n",
            "[6.]       93940.0    [0.8125]             19732.375            [16032.5546875]      [0.66015625]        \n",
            "[3.]       60150.0    [-2.1875]            -14057.625           [30751.0546875]      [4.78515625]        \n"
          ]
        }
      ],
      "source": [
        "Xm = np.mean(X_train)\n",
        "Ym = np.mean(y_train)\n",
        "sum1 = 0\n",
        "sum2 = 0\n",
        "print('Experience Salary     d=Xi-Xm               e=Yi-Ym             d*e                  e*e')\n",
        "print('------------------------------------------------------------------------------------------------')\n",
        "for pos in range(0, len(X_train)):\n",
        "    d = (X_train[pos] - Xm)\n",
        "    e = (y_train[pos] - Ym)\n",
        "    sum1 = sum1 + d*e\n",
        "    sum2 = sum2 = d*d\n",
        "    print(f'{str(X_train[pos]):{10}} {str(y_train[pos]):{10}} {str(X_train[pos]-Xm):{20}} {str(y_train[pos]-Ym):20} {str(d*e):{20}} {str(d*d):{20}}')\n",
        "\n"
      ]
    },
    {
      "cell_type": "code",
      "execution_count": null,
      "id": "0703811d-8566-4359-95ef-588561665463",
      "metadata": {
        "id": "0703811d-8566-4359-95ef-588561665463",
        "outputId": "36e58557-f1b5-40fd-d44e-0b8151060fb2"
      },
      "outputs": [
        {
          "ename": "NameError",
          "evalue": "name 'Yi' is not defined",
          "output_type": "error",
          "traceback": [
            "\u001b[1;31m---------------------------------------------------------------------------\u001b[0m",
            "\u001b[1;31mNameError\u001b[0m                                 Traceback (most recent call last)",
            "Cell \u001b[1;32mIn[48], line 1\u001b[0m\n\u001b[1;32m----> 1\u001b[0m \u001b[43mYi\u001b[49m\n",
            "\u001b[1;31mNameError\u001b[0m: name 'Yi' is not defined"
          ]
        }
      ],
      "source": []
    },
    {
      "cell_type": "code",
      "execution_count": null,
      "id": "89a58715-ae18-4b6f-a7da-c48a862bf890",
      "metadata": {
        "id": "89a58715-ae18-4b6f-a7da-c48a862bf890"
      },
      "outputs": [],
      "source": [
        "Xm = np.mean(X_train)"
      ]
    },
    {
      "cell_type": "code",
      "execution_count": null,
      "id": "eeaae34c-e56b-4d0f-8008-d25b4301c489",
      "metadata": {
        "id": "eeaae34c-e56b-4d0f-8008-d25b4301c489",
        "outputId": "ed5082ce-5d81-425c-e1f7-3de4b8a2fb74"
      },
      "outputs": [
        {
          "data": {
            "text/plain": [
              "5.1875"
            ]
          },
          "execution_count": 50,
          "metadata": {},
          "output_type": "execute_result"
        }
      ],
      "source": [
        "Xm"
      ]
    },
    {
      "cell_type": "code",
      "execution_count": null,
      "id": "2fa979fe-1661-46a1-8478-3d61e667cb4b",
      "metadata": {
        "id": "2fa979fe-1661-46a1-8478-3d61e667cb4b",
        "outputId": "f397d0b8-497a-46fc-d4ff-0420eef69e0e"
      },
      "outputs": [
        {
          "data": {
            "text/plain": [
              "74207.625"
            ]
          },
          "execution_count": 51,
          "metadata": {},
          "output_type": "execute_result"
        }
      ],
      "source": [
        "Ym = np.mean(y_train)\n",
        "Ym"
      ]
    },
    {
      "cell_type": "code",
      "execution_count": null,
      "id": "e3baa0c3-315a-4831-9ee7-4ea66ce2e177",
      "metadata": {
        "id": "e3baa0c3-315a-4831-9ee7-4ea66ce2e177"
      },
      "outputs": [],
      "source": []
    }
  ],
  "metadata": {
    "kernelspec": {
      "display_name": "Python 3 (ipykernel)",
      "language": "python",
      "name": "python3"
    },
    "language_info": {
      "codemirror_mode": {
        "name": "ipython",
        "version": 3
      },
      "file_extension": ".py",
      "mimetype": "text/x-python",
      "name": "python",
      "nbconvert_exporter": "python",
      "pygments_lexer": "ipython3",
      "version": "3.10.0"
    },
    "colab": {
      "provenance": [],
      "include_colab_link": true
    }
  },
  "nbformat": 4,
  "nbformat_minor": 5
}