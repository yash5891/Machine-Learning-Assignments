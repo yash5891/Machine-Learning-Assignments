{
  "nbformat": 4,
  "nbformat_minor": 0,
  "metadata": {
    "colab": {
      "provenance": [],
      "authorship_tag": "ABX9TyPPW7+7dPdzcccOZMnSH1BJ",
      "include_colab_link": true
    },
    "kernelspec": {
      "name": "python3",
      "display_name": "Python 3"
    },
    "language_info": {
      "name": "python"
    }
  },
  "cells": [
    {
      "cell_type": "markdown",
      "metadata": {
        "id": "view-in-github",
        "colab_type": "text"
      },
      "source": [
        "<a href=\"https://colab.research.google.com/github/yash5891/Machine-Learning-Assignments/blob/main/linear_regression.ipynb\" target=\"_parent\"><img src=\"https://colab.research.google.com/assets/colab-badge.svg\" alt=\"Open In Colab\"/></a>"
      ]
    },
    {
      "cell_type": "code",
      "execution_count": null,
      "metadata": {
        "id": "c5xvktK6Szmg"
      },
      "outputs": [],
      "source": [
        "import torch\n",
        "import numpy as np\n",
        "import pandas as pd\n"
      ]
    },
    {
      "cell_type": "code",
      "source": [
        "df=pd.read_csv(\"/content/train.csv\")"
      ],
      "metadata": {
        "id": "L-sum-99TsaT"
      },
      "execution_count": null,
      "outputs": []
    },
    {
      "cell_type": "code",
      "source": [
        "df.head()"
      ],
      "metadata": {
        "colab": {
          "base_uri": "https://localhost:8080/",
          "height": 255
        },
        "id": "5wPnThcXTt-_",
        "outputId": "da7c525e-7a68-4ba4-b8f2-9a64c28a7330"
      },
      "execution_count": null,
      "outputs": [
        {
          "output_type": "execute_result",
          "data": {
            "text/plain": [
              "   Id  MSSubClass MSZoning  LotFrontage  LotArea Street Alley LotShape  \\\n",
              "0   1          60       RL         65.0     8450   Pave   NaN      Reg   \n",
              "1   2          20       RL         80.0     9600   Pave   NaN      Reg   \n",
              "2   3          60       RL         68.0    11250   Pave   NaN      IR1   \n",
              "3   4          70       RL         60.0     9550   Pave   NaN      IR1   \n",
              "4   5          60       RL         84.0    14260   Pave   NaN      IR1   \n",
              "\n",
              "  LandContour Utilities  ... PoolArea PoolQC Fence MiscFeature MiscVal MoSold  \\\n",
              "0         Lvl    AllPub  ...        0    NaN   NaN         NaN       0      2   \n",
              "1         Lvl    AllPub  ...        0    NaN   NaN         NaN       0      5   \n",
              "2         Lvl    AllPub  ...        0    NaN   NaN         NaN       0      9   \n",
              "3         Lvl    AllPub  ...        0    NaN   NaN         NaN       0      2   \n",
              "4         Lvl    AllPub  ...        0    NaN   NaN         NaN       0     12   \n",
              "\n",
              "  YrSold  SaleType  SaleCondition  SalePrice  \n",
              "0   2008        WD         Normal     208500  \n",
              "1   2007        WD         Normal     181500  \n",
              "2   2008        WD         Normal     223500  \n",
              "3   2006        WD        Abnorml     140000  \n",
              "4   2008        WD         Normal     250000  \n",
              "\n",
              "[5 rows x 81 columns]"
            ],
            "text/html": [
              "\n",
              "  <div id=\"df-2690f2fe-5a1f-4ba1-b61a-18f136a7bb67\" class=\"colab-df-container\">\n",
              "    <div>\n",
              "<style scoped>\n",
              "    .dataframe tbody tr th:only-of-type {\n",
              "        vertical-align: middle;\n",
              "    }\n",
              "\n",
              "    .dataframe tbody tr th {\n",
              "        vertical-align: top;\n",
              "    }\n",
              "\n",
              "    .dataframe thead th {\n",
              "        text-align: right;\n",
              "    }\n",
              "</style>\n",
              "<table border=\"1\" class=\"dataframe\">\n",
              "  <thead>\n",
              "    <tr style=\"text-align: right;\">\n",
              "      <th></th>\n",
              "      <th>Id</th>\n",
              "      <th>MSSubClass</th>\n",
              "      <th>MSZoning</th>\n",
              "      <th>LotFrontage</th>\n",
              "      <th>LotArea</th>\n",
              "      <th>Street</th>\n",
              "      <th>Alley</th>\n",
              "      <th>LotShape</th>\n",
              "      <th>LandContour</th>\n",
              "      <th>Utilities</th>\n",
              "      <th>...</th>\n",
              "      <th>PoolArea</th>\n",
              "      <th>PoolQC</th>\n",
              "      <th>Fence</th>\n",
              "      <th>MiscFeature</th>\n",
              "      <th>MiscVal</th>\n",
              "      <th>MoSold</th>\n",
              "      <th>YrSold</th>\n",
              "      <th>SaleType</th>\n",
              "      <th>SaleCondition</th>\n",
              "      <th>SalePrice</th>\n",
              "    </tr>\n",
              "  </thead>\n",
              "  <tbody>\n",
              "    <tr>\n",
              "      <th>0</th>\n",
              "      <td>1</td>\n",
              "      <td>60</td>\n",
              "      <td>RL</td>\n",
              "      <td>65.0</td>\n",
              "      <td>8450</td>\n",
              "      <td>Pave</td>\n",
              "      <td>NaN</td>\n",
              "      <td>Reg</td>\n",
              "      <td>Lvl</td>\n",
              "      <td>AllPub</td>\n",
              "      <td>...</td>\n",
              "      <td>0</td>\n",
              "      <td>NaN</td>\n",
              "      <td>NaN</td>\n",
              "      <td>NaN</td>\n",
              "      <td>0</td>\n",
              "      <td>2</td>\n",
              "      <td>2008</td>\n",
              "      <td>WD</td>\n",
              "      <td>Normal</td>\n",
              "      <td>208500</td>\n",
              "    </tr>\n",
              "    <tr>\n",
              "      <th>1</th>\n",
              "      <td>2</td>\n",
              "      <td>20</td>\n",
              "      <td>RL</td>\n",
              "      <td>80.0</td>\n",
              "      <td>9600</td>\n",
              "      <td>Pave</td>\n",
              "      <td>NaN</td>\n",
              "      <td>Reg</td>\n",
              "      <td>Lvl</td>\n",
              "      <td>AllPub</td>\n",
              "      <td>...</td>\n",
              "      <td>0</td>\n",
              "      <td>NaN</td>\n",
              "      <td>NaN</td>\n",
              "      <td>NaN</td>\n",
              "      <td>0</td>\n",
              "      <td>5</td>\n",
              "      <td>2007</td>\n",
              "      <td>WD</td>\n",
              "      <td>Normal</td>\n",
              "      <td>181500</td>\n",
              "    </tr>\n",
              "    <tr>\n",
              "      <th>2</th>\n",
              "      <td>3</td>\n",
              "      <td>60</td>\n",
              "      <td>RL</td>\n",
              "      <td>68.0</td>\n",
              "      <td>11250</td>\n",
              "      <td>Pave</td>\n",
              "      <td>NaN</td>\n",
              "      <td>IR1</td>\n",
              "      <td>Lvl</td>\n",
              "      <td>AllPub</td>\n",
              "      <td>...</td>\n",
              "      <td>0</td>\n",
              "      <td>NaN</td>\n",
              "      <td>NaN</td>\n",
              "      <td>NaN</td>\n",
              "      <td>0</td>\n",
              "      <td>9</td>\n",
              "      <td>2008</td>\n",
              "      <td>WD</td>\n",
              "      <td>Normal</td>\n",
              "      <td>223500</td>\n",
              "    </tr>\n",
              "    <tr>\n",
              "      <th>3</th>\n",
              "      <td>4</td>\n",
              "      <td>70</td>\n",
              "      <td>RL</td>\n",
              "      <td>60.0</td>\n",
              "      <td>9550</td>\n",
              "      <td>Pave</td>\n",
              "      <td>NaN</td>\n",
              "      <td>IR1</td>\n",
              "      <td>Lvl</td>\n",
              "      <td>AllPub</td>\n",
              "      <td>...</td>\n",
              "      <td>0</td>\n",
              "      <td>NaN</td>\n",
              "      <td>NaN</td>\n",
              "      <td>NaN</td>\n",
              "      <td>0</td>\n",
              "      <td>2</td>\n",
              "      <td>2006</td>\n",
              "      <td>WD</td>\n",
              "      <td>Abnorml</td>\n",
              "      <td>140000</td>\n",
              "    </tr>\n",
              "    <tr>\n",
              "      <th>4</th>\n",
              "      <td>5</td>\n",
              "      <td>60</td>\n",
              "      <td>RL</td>\n",
              "      <td>84.0</td>\n",
              "      <td>14260</td>\n",
              "      <td>Pave</td>\n",
              "      <td>NaN</td>\n",
              "      <td>IR1</td>\n",
              "      <td>Lvl</td>\n",
              "      <td>AllPub</td>\n",
              "      <td>...</td>\n",
              "      <td>0</td>\n",
              "      <td>NaN</td>\n",
              "      <td>NaN</td>\n",
              "      <td>NaN</td>\n",
              "      <td>0</td>\n",
              "      <td>12</td>\n",
              "      <td>2008</td>\n",
              "      <td>WD</td>\n",
              "      <td>Normal</td>\n",
              "      <td>250000</td>\n",
              "    </tr>\n",
              "  </tbody>\n",
              "</table>\n",
              "<p>5 rows × 81 columns</p>\n",
              "</div>\n",
              "    <div class=\"colab-df-buttons\">\n",
              "\n",
              "  <div class=\"colab-df-container\">\n",
              "    <button class=\"colab-df-convert\" onclick=\"convertToInteractive('df-2690f2fe-5a1f-4ba1-b61a-18f136a7bb67')\"\n",
              "            title=\"Convert this dataframe to an interactive table.\"\n",
              "            style=\"display:none;\">\n",
              "\n",
              "  <svg xmlns=\"http://www.w3.org/2000/svg\" height=\"24px\" viewBox=\"0 -960 960 960\">\n",
              "    <path d=\"M120-120v-720h720v720H120Zm60-500h600v-160H180v160Zm220 220h160v-160H400v160Zm0 220h160v-160H400v160ZM180-400h160v-160H180v160Zm440 0h160v-160H620v160ZM180-180h160v-160H180v160Zm440 0h160v-160H620v160Z\"/>\n",
              "  </svg>\n",
              "    </button>\n",
              "\n",
              "  <style>\n",
              "    .colab-df-container {\n",
              "      display:flex;\n",
              "      gap: 12px;\n",
              "    }\n",
              "\n",
              "    .colab-df-convert {\n",
              "      background-color: #E8F0FE;\n",
              "      border: none;\n",
              "      border-radius: 50%;\n",
              "      cursor: pointer;\n",
              "      display: none;\n",
              "      fill: #1967D2;\n",
              "      height: 32px;\n",
              "      padding: 0 0 0 0;\n",
              "      width: 32px;\n",
              "    }\n",
              "\n",
              "    .colab-df-convert:hover {\n",
              "      background-color: #E2EBFA;\n",
              "      box-shadow: 0px 1px 2px rgba(60, 64, 67, 0.3), 0px 1px 3px 1px rgba(60, 64, 67, 0.15);\n",
              "      fill: #174EA6;\n",
              "    }\n",
              "\n",
              "    .colab-df-buttons div {\n",
              "      margin-bottom: 4px;\n",
              "    }\n",
              "\n",
              "    [theme=dark] .colab-df-convert {\n",
              "      background-color: #3B4455;\n",
              "      fill: #D2E3FC;\n",
              "    }\n",
              "\n",
              "    [theme=dark] .colab-df-convert:hover {\n",
              "      background-color: #434B5C;\n",
              "      box-shadow: 0px 1px 3px 1px rgba(0, 0, 0, 0.15);\n",
              "      filter: drop-shadow(0px 1px 2px rgba(0, 0, 0, 0.3));\n",
              "      fill: #FFFFFF;\n",
              "    }\n",
              "  </style>\n",
              "\n",
              "    <script>\n",
              "      const buttonEl =\n",
              "        document.querySelector('#df-2690f2fe-5a1f-4ba1-b61a-18f136a7bb67 button.colab-df-convert');\n",
              "      buttonEl.style.display =\n",
              "        google.colab.kernel.accessAllowed ? 'block' : 'none';\n",
              "\n",
              "      async function convertToInteractive(key) {\n",
              "        const element = document.querySelector('#df-2690f2fe-5a1f-4ba1-b61a-18f136a7bb67');\n",
              "        const dataTable =\n",
              "          await google.colab.kernel.invokeFunction('convertToInteractive',\n",
              "                                                    [key], {});\n",
              "        if (!dataTable) return;\n",
              "\n",
              "        const docLinkHtml = 'Like what you see? Visit the ' +\n",
              "          '<a target=\"_blank\" href=https://colab.research.google.com/notebooks/data_table.ipynb>data table notebook</a>'\n",
              "          + ' to learn more about interactive tables.';\n",
              "        element.innerHTML = '';\n",
              "        dataTable['output_type'] = 'display_data';\n",
              "        await google.colab.output.renderOutput(dataTable, element);\n",
              "        const docLink = document.createElement('div');\n",
              "        docLink.innerHTML = docLinkHtml;\n",
              "        element.appendChild(docLink);\n",
              "      }\n",
              "    </script>\n",
              "  </div>\n",
              "\n",
              "\n",
              "<div id=\"df-0ccd3bd5-1737-42e1-9f5c-8d5ed32cf0c5\">\n",
              "  <button class=\"colab-df-quickchart\" onclick=\"quickchart('df-0ccd3bd5-1737-42e1-9f5c-8d5ed32cf0c5')\"\n",
              "            title=\"Suggest charts\"\n",
              "            style=\"display:none;\">\n",
              "\n",
              "<svg xmlns=\"http://www.w3.org/2000/svg\" height=\"24px\"viewBox=\"0 0 24 24\"\n",
              "     width=\"24px\">\n",
              "    <g>\n",
              "        <path d=\"M19 3H5c-1.1 0-2 .9-2 2v14c0 1.1.9 2 2 2h14c1.1 0 2-.9 2-2V5c0-1.1-.9-2-2-2zM9 17H7v-7h2v7zm4 0h-2V7h2v10zm4 0h-2v-4h2v4z\"/>\n",
              "    </g>\n",
              "</svg>\n",
              "  </button>\n",
              "\n",
              "<style>\n",
              "  .colab-df-quickchart {\n",
              "      --bg-color: #E8F0FE;\n",
              "      --fill-color: #1967D2;\n",
              "      --hover-bg-color: #E2EBFA;\n",
              "      --hover-fill-color: #174EA6;\n",
              "      --disabled-fill-color: #AAA;\n",
              "      --disabled-bg-color: #DDD;\n",
              "  }\n",
              "\n",
              "  [theme=dark] .colab-df-quickchart {\n",
              "      --bg-color: #3B4455;\n",
              "      --fill-color: #D2E3FC;\n",
              "      --hover-bg-color: #434B5C;\n",
              "      --hover-fill-color: #FFFFFF;\n",
              "      --disabled-bg-color: #3B4455;\n",
              "      --disabled-fill-color: #666;\n",
              "  }\n",
              "\n",
              "  .colab-df-quickchart {\n",
              "    background-color: var(--bg-color);\n",
              "    border: none;\n",
              "    border-radius: 50%;\n",
              "    cursor: pointer;\n",
              "    display: none;\n",
              "    fill: var(--fill-color);\n",
              "    height: 32px;\n",
              "    padding: 0;\n",
              "    width: 32px;\n",
              "  }\n",
              "\n",
              "  .colab-df-quickchart:hover {\n",
              "    background-color: var(--hover-bg-color);\n",
              "    box-shadow: 0 1px 2px rgba(60, 64, 67, 0.3), 0 1px 3px 1px rgba(60, 64, 67, 0.15);\n",
              "    fill: var(--button-hover-fill-color);\n",
              "  }\n",
              "\n",
              "  .colab-df-quickchart-complete:disabled,\n",
              "  .colab-df-quickchart-complete:disabled:hover {\n",
              "    background-color: var(--disabled-bg-color);\n",
              "    fill: var(--disabled-fill-color);\n",
              "    box-shadow: none;\n",
              "  }\n",
              "\n",
              "  .colab-df-spinner {\n",
              "    border: 2px solid var(--fill-color);\n",
              "    border-color: transparent;\n",
              "    border-bottom-color: var(--fill-color);\n",
              "    animation:\n",
              "      spin 1s steps(1) infinite;\n",
              "  }\n",
              "\n",
              "  @keyframes spin {\n",
              "    0% {\n",
              "      border-color: transparent;\n",
              "      border-bottom-color: var(--fill-color);\n",
              "      border-left-color: var(--fill-color);\n",
              "    }\n",
              "    20% {\n",
              "      border-color: transparent;\n",
              "      border-left-color: var(--fill-color);\n",
              "      border-top-color: var(--fill-color);\n",
              "    }\n",
              "    30% {\n",
              "      border-color: transparent;\n",
              "      border-left-color: var(--fill-color);\n",
              "      border-top-color: var(--fill-color);\n",
              "      border-right-color: var(--fill-color);\n",
              "    }\n",
              "    40% {\n",
              "      border-color: transparent;\n",
              "      border-right-color: var(--fill-color);\n",
              "      border-top-color: var(--fill-color);\n",
              "    }\n",
              "    60% {\n",
              "      border-color: transparent;\n",
              "      border-right-color: var(--fill-color);\n",
              "    }\n",
              "    80% {\n",
              "      border-color: transparent;\n",
              "      border-right-color: var(--fill-color);\n",
              "      border-bottom-color: var(--fill-color);\n",
              "    }\n",
              "    90% {\n",
              "      border-color: transparent;\n",
              "      border-bottom-color: var(--fill-color);\n",
              "    }\n",
              "  }\n",
              "</style>\n",
              "\n",
              "  <script>\n",
              "    async function quickchart(key) {\n",
              "      const quickchartButtonEl =\n",
              "        document.querySelector('#' + key + ' button');\n",
              "      quickchartButtonEl.disabled = true;  // To prevent multiple clicks.\n",
              "      quickchartButtonEl.classList.add('colab-df-spinner');\n",
              "      try {\n",
              "        const charts = await google.colab.kernel.invokeFunction(\n",
              "            'suggestCharts', [key], {});\n",
              "      } catch (error) {\n",
              "        console.error('Error during call to suggestCharts:', error);\n",
              "      }\n",
              "      quickchartButtonEl.classList.remove('colab-df-spinner');\n",
              "      quickchartButtonEl.classList.add('colab-df-quickchart-complete');\n",
              "    }\n",
              "    (() => {\n",
              "      let quickchartButtonEl =\n",
              "        document.querySelector('#df-0ccd3bd5-1737-42e1-9f5c-8d5ed32cf0c5 button');\n",
              "      quickchartButtonEl.style.display =\n",
              "        google.colab.kernel.accessAllowed ? 'block' : 'none';\n",
              "    })();\n",
              "  </script>\n",
              "</div>\n",
              "\n",
              "    </div>\n",
              "  </div>\n"
            ],
            "application/vnd.google.colaboratory.intrinsic+json": {
              "type": "dataframe",
              "variable_name": "df"
            }
          },
          "metadata": {},
          "execution_count": 5
        }
      ]
    },
    {
      "cell_type": "code",
      "source": [
        "df.info()"
      ],
      "metadata": {
        "colab": {
          "base_uri": "https://localhost:8080/"
        },
        "id": "Oo_i4Xa2T7QR",
        "outputId": "2872f182-7fd6-4559-e278-c7a2ab70ad26"
      },
      "execution_count": null,
      "outputs": [
        {
          "output_type": "stream",
          "name": "stdout",
          "text": [
            "<class 'pandas.core.frame.DataFrame'>\n",
            "RangeIndex: 1460 entries, 0 to 1459\n",
            "Data columns (total 81 columns):\n",
            " #   Column         Non-Null Count  Dtype  \n",
            "---  ------         --------------  -----  \n",
            " 0   Id             1460 non-null   int64  \n",
            " 1   MSSubClass     1460 non-null   int64  \n",
            " 2   MSZoning       1460 non-null   object \n",
            " 3   LotFrontage    1201 non-null   float64\n",
            " 4   LotArea        1460 non-null   int64  \n",
            " 5   Street         1460 non-null   object \n",
            " 6   Alley          91 non-null     object \n",
            " 7   LotShape       1460 non-null   object \n",
            " 8   LandContour    1460 non-null   object \n",
            " 9   Utilities      1460 non-null   object \n",
            " 10  LotConfig      1460 non-null   object \n",
            " 11  LandSlope      1460 non-null   object \n",
            " 12  Neighborhood   1460 non-null   object \n",
            " 13  Condition1     1460 non-null   object \n",
            " 14  Condition2     1460 non-null   object \n",
            " 15  BldgType       1460 non-null   object \n",
            " 16  HouseStyle     1460 non-null   object \n",
            " 17  OverallQual    1460 non-null   int64  \n",
            " 18  OverallCond    1460 non-null   int64  \n",
            " 19  YearBuilt      1460 non-null   int64  \n",
            " 20  YearRemodAdd   1460 non-null   int64  \n",
            " 21  RoofStyle      1460 non-null   object \n",
            " 22  RoofMatl       1460 non-null   object \n",
            " 23  Exterior1st    1460 non-null   object \n",
            " 24  Exterior2nd    1460 non-null   object \n",
            " 25  MasVnrType     588 non-null    object \n",
            " 26  MasVnrArea     1452 non-null   float64\n",
            " 27  ExterQual      1460 non-null   object \n",
            " 28  ExterCond      1460 non-null   object \n",
            " 29  Foundation     1460 non-null   object \n",
            " 30  BsmtQual       1423 non-null   object \n",
            " 31  BsmtCond       1423 non-null   object \n",
            " 32  BsmtExposure   1422 non-null   object \n",
            " 33  BsmtFinType1   1423 non-null   object \n",
            " 34  BsmtFinSF1     1460 non-null   int64  \n",
            " 35  BsmtFinType2   1422 non-null   object \n",
            " 36  BsmtFinSF2     1460 non-null   int64  \n",
            " 37  BsmtUnfSF      1460 non-null   int64  \n",
            " 38  TotalBsmtSF    1460 non-null   int64  \n",
            " 39  Heating        1460 non-null   object \n",
            " 40  HeatingQC      1460 non-null   object \n",
            " 41  CentralAir     1460 non-null   object \n",
            " 42  Electrical     1459 non-null   object \n",
            " 43  1stFlrSF       1460 non-null   int64  \n",
            " 44  2ndFlrSF       1460 non-null   int64  \n",
            " 45  LowQualFinSF   1460 non-null   int64  \n",
            " 46  GrLivArea      1460 non-null   int64  \n",
            " 47  BsmtFullBath   1460 non-null   int64  \n",
            " 48  BsmtHalfBath   1460 non-null   int64  \n",
            " 49  FullBath       1460 non-null   int64  \n",
            " 50  HalfBath       1460 non-null   int64  \n",
            " 51  BedroomAbvGr   1460 non-null   int64  \n",
            " 52  KitchenAbvGr   1460 non-null   int64  \n",
            " 53  KitchenQual    1460 non-null   object \n",
            " 54  TotRmsAbvGrd   1460 non-null   int64  \n",
            " 55  Functional     1460 non-null   object \n",
            " 56  Fireplaces     1460 non-null   int64  \n",
            " 57  FireplaceQu    770 non-null    object \n",
            " 58  GarageType     1379 non-null   object \n",
            " 59  GarageYrBlt    1379 non-null   float64\n",
            " 60  GarageFinish   1379 non-null   object \n",
            " 61  GarageCars     1460 non-null   int64  \n",
            " 62  GarageArea     1460 non-null   int64  \n",
            " 63  GarageQual     1379 non-null   object \n",
            " 64  GarageCond     1379 non-null   object \n",
            " 65  PavedDrive     1460 non-null   object \n",
            " 66  WoodDeckSF     1460 non-null   int64  \n",
            " 67  OpenPorchSF    1460 non-null   int64  \n",
            " 68  EnclosedPorch  1460 non-null   int64  \n",
            " 69  3SsnPorch      1460 non-null   int64  \n",
            " 70  ScreenPorch    1460 non-null   int64  \n",
            " 71  PoolArea       1460 non-null   int64  \n",
            " 72  PoolQC         7 non-null      object \n",
            " 73  Fence          281 non-null    object \n",
            " 74  MiscFeature    54 non-null     object \n",
            " 75  MiscVal        1460 non-null   int64  \n",
            " 76  MoSold         1460 non-null   int64  \n",
            " 77  YrSold         1460 non-null   int64  \n",
            " 78  SaleType       1460 non-null   object \n",
            " 79  SaleCondition  1460 non-null   object \n",
            " 80  SalePrice      1460 non-null   int64  \n",
            "dtypes: float64(3), int64(35), object(43)\n",
            "memory usage: 924.0+ KB\n"
          ]
        }
      ]
    },
    {
      "cell_type": "code",
      "source": [
        "df.isnull().sum()"
      ],
      "metadata": {
        "colab": {
          "base_uri": "https://localhost:8080/"
        },
        "id": "CHloPoOFUDHB",
        "outputId": "04ee1c06-4e39-43de-b45f-e058660c1179"
      },
      "execution_count": null,
      "outputs": [
        {
          "output_type": "execute_result",
          "data": {
            "text/plain": [
              "Id                 0\n",
              "MSSubClass         0\n",
              "MSZoning           0\n",
              "LotFrontage      259\n",
              "LotArea            0\n",
              "                ... \n",
              "MoSold             0\n",
              "YrSold             0\n",
              "SaleType           0\n",
              "SaleCondition      0\n",
              "SalePrice          0\n",
              "Length: 81, dtype: int64"
            ]
          },
          "metadata": {},
          "execution_count": 7
        }
      ]
    },
    {
      "cell_type": "code",
      "source": [
        "df.shape"
      ],
      "metadata": {
        "colab": {
          "base_uri": "https://localhost:8080/"
        },
        "id": "X5quO79DUSDe",
        "outputId": "aa76a846-217d-4d80-d08d-d19d54ba6c1a"
      },
      "execution_count": null,
      "outputs": [
        {
          "output_type": "execute_result",
          "data": {
            "text/plain": [
              "(1460, 81)"
            ]
          },
          "metadata": {},
          "execution_count": 9
        }
      ]
    },
    {
      "cell_type": "code",
      "source": [],
      "metadata": {
        "colab": {
          "base_uri": "https://localhost:8080/",
          "height": 183
        },
        "id": "asZPrT-oUVlU",
        "outputId": "e3aa5cc2-e5f3-4313-e9cd-fb91235baadd"
      },
      "execution_count": null,
      "outputs": [
        {
          "output_type": "error",
          "ename": "TypeError",
          "evalue": "can't convert np.ndarray of type numpy.object_. The only supported types are: float64, float32, float16, complex64, complex128, int64, int32, int16, int8, uint64, uint32, uint16, uint8, and bool.",
          "traceback": [
            "\u001b[0;31m---------------------------------------------------------------------------\u001b[0m",
            "\u001b[0;31mTypeError\u001b[0m                                 Traceback (most recent call last)",
            "\u001b[0;32m<ipython-input-12-a99bf7b1bfac>\u001b[0m in \u001b[0;36m<cell line: 1>\u001b[0;34m()\u001b[0m\n\u001b[0;32m----> 1\u001b[0;31m \u001b[0mdf\u001b[0m\u001b[0;34m=\u001b[0m\u001b[0mtorch\u001b[0m\u001b[0;34m.\u001b[0m\u001b[0mfrom_numpy\u001b[0m\u001b[0;34m(\u001b[0m\u001b[0mdf\u001b[0m\u001b[0;34m.\u001b[0m\u001b[0mvalues\u001b[0m\u001b[0;34m)\u001b[0m\u001b[0;34m\u001b[0m\u001b[0;34m\u001b[0m\u001b[0m\n\u001b[0m",
            "\u001b[0;31mTypeError\u001b[0m: can't convert np.ndarray of type numpy.object_. The only supported types are: float64, float32, float16, complex64, complex128, int64, int32, int16, int8, uint64, uint32, uint16, uint8, and bool."
          ]
        }
      ]
    },
    {
      "cell_type": "code",
      "source": [
        "# prompt: do label encoding for object columns\n",
        "\n",
        "from sklearn.preprocessing import LabelEncoder\n",
        "le = LabelEncoder()\n",
        "for col in df.select_dtypes(include='object'):\n",
        "    df[col] = le.fit_transform(df[col])\n"
      ],
      "metadata": {
        "id": "TRQM_XOFUmHK"
      },
      "execution_count": null,
      "outputs": []
    },
    {
      "cell_type": "code",
      "source": [
        "\n",
        "df.describe()\n",
        "df.info()\n"
      ],
      "metadata": {
        "colab": {
          "base_uri": "https://localhost:8080/"
        },
        "id": "pwATbzofVOjz",
        "outputId": "bdd6376b-b39d-467e-ef07-e4546e34049e"
      },
      "execution_count": null,
      "outputs": [
        {
          "output_type": "stream",
          "name": "stdout",
          "text": [
            "<class 'pandas.core.frame.DataFrame'>\n",
            "Index: 1121 entries, 0 to 1459\n",
            "Data columns (total 81 columns):\n",
            " #   Column         Non-Null Count  Dtype  \n",
            "---  ------         --------------  -----  \n",
            " 0   Id             1121 non-null   int64  \n",
            " 1   MSSubClass     1121 non-null   int64  \n",
            " 2   MSZoning       1121 non-null   int64  \n",
            " 3   LotFrontage    1121 non-null   float64\n",
            " 4   LotArea        1121 non-null   int64  \n",
            " 5   Street         1121 non-null   int64  \n",
            " 6   Alley          1121 non-null   int64  \n",
            " 7   LotShape       1121 non-null   int64  \n",
            " 8   LandContour    1121 non-null   int64  \n",
            " 9   Utilities      1121 non-null   int64  \n",
            " 10  LotConfig      1121 non-null   int64  \n",
            " 11  LandSlope      1121 non-null   int64  \n",
            " 12  Neighborhood   1121 non-null   int64  \n",
            " 13  Condition1     1121 non-null   int64  \n",
            " 14  Condition2     1121 non-null   int64  \n",
            " 15  BldgType       1121 non-null   int64  \n",
            " 16  HouseStyle     1121 non-null   int64  \n",
            " 17  OverallQual    1121 non-null   int64  \n",
            " 18  OverallCond    1121 non-null   int64  \n",
            " 19  YearBuilt      1121 non-null   int64  \n",
            " 20  YearRemodAdd   1121 non-null   int64  \n",
            " 21  RoofStyle      1121 non-null   int64  \n",
            " 22  RoofMatl       1121 non-null   int64  \n",
            " 23  Exterior1st    1121 non-null   int64  \n",
            " 24  Exterior2nd    1121 non-null   int64  \n",
            " 25  MasVnrType     1121 non-null   int64  \n",
            " 26  MasVnrArea     1121 non-null   float64\n",
            " 27  ExterQual      1121 non-null   int64  \n",
            " 28  ExterCond      1121 non-null   int64  \n",
            " 29  Foundation     1121 non-null   int64  \n",
            " 30  BsmtQual       1121 non-null   int64  \n",
            " 31  BsmtCond       1121 non-null   int64  \n",
            " 32  BsmtExposure   1121 non-null   int64  \n",
            " 33  BsmtFinType1   1121 non-null   int64  \n",
            " 34  BsmtFinSF1     1121 non-null   int64  \n",
            " 35  BsmtFinType2   1121 non-null   int64  \n",
            " 36  BsmtFinSF2     1121 non-null   int64  \n",
            " 37  BsmtUnfSF      1121 non-null   int64  \n",
            " 38  TotalBsmtSF    1121 non-null   int64  \n",
            " 39  Heating        1121 non-null   int64  \n",
            " 40  HeatingQC      1121 non-null   int64  \n",
            " 41  CentralAir     1121 non-null   int64  \n",
            " 42  Electrical     1121 non-null   int64  \n",
            " 43  1stFlrSF       1121 non-null   int64  \n",
            " 44  2ndFlrSF       1121 non-null   int64  \n",
            " 45  LowQualFinSF   1121 non-null   int64  \n",
            " 46  GrLivArea      1121 non-null   int64  \n",
            " 47  BsmtFullBath   1121 non-null   int64  \n",
            " 48  BsmtHalfBath   1121 non-null   int64  \n",
            " 49  FullBath       1121 non-null   int64  \n",
            " 50  HalfBath       1121 non-null   int64  \n",
            " 51  BedroomAbvGr   1121 non-null   int64  \n",
            " 52  KitchenAbvGr   1121 non-null   int64  \n",
            " 53  KitchenQual    1121 non-null   int64  \n",
            " 54  TotRmsAbvGrd   1121 non-null   int64  \n",
            " 55  Functional     1121 non-null   int64  \n",
            " 56  Fireplaces     1121 non-null   int64  \n",
            " 57  FireplaceQu    1121 non-null   int64  \n",
            " 58  GarageType     1121 non-null   int64  \n",
            " 59  GarageYrBlt    1121 non-null   float64\n",
            " 60  GarageFinish   1121 non-null   int64  \n",
            " 61  GarageCars     1121 non-null   int64  \n",
            " 62  GarageArea     1121 non-null   int64  \n",
            " 63  GarageQual     1121 non-null   int64  \n",
            " 64  GarageCond     1121 non-null   int64  \n",
            " 65  PavedDrive     1121 non-null   int64  \n",
            " 66  WoodDeckSF     1121 non-null   int64  \n",
            " 67  OpenPorchSF    1121 non-null   int64  \n",
            " 68  EnclosedPorch  1121 non-null   int64  \n",
            " 69  3SsnPorch      1121 non-null   int64  \n",
            " 70  ScreenPorch    1121 non-null   int64  \n",
            " 71  PoolArea       1121 non-null   int64  \n",
            " 72  PoolQC         1121 non-null   int64  \n",
            " 73  Fence          1121 non-null   int64  \n",
            " 74  MiscFeature    1121 non-null   int64  \n",
            " 75  MiscVal        1121 non-null   int64  \n",
            " 76  MoSold         1121 non-null   int64  \n",
            " 77  YrSold         1121 non-null   int64  \n",
            " 78  SaleType       1121 non-null   int64  \n",
            " 79  SaleCondition  1121 non-null   int64  \n",
            " 80  SalePrice      1121 non-null   int64  \n",
            "dtypes: float64(3), int64(78)\n",
            "memory usage: 718.1 KB\n"
          ]
        }
      ]
    },
    {
      "cell_type": "markdown",
      "source": [],
      "metadata": {
        "id": "hdY2YRofYom9"
      }
    },
    {
      "cell_type": "code",
      "source": [
        "# prompt: do feature selection\n",
        "\n",
        "from sklearn.feature_selection import SelectKBest, chi2\n",
        "\n",
        "X = df.drop('SalePrice', axis=1)\n",
        "y = df['SalePrice']\n",
        "\n",
        "selector = SelectKBest(chi2, k=10)\n",
        "X_new = selector.fit_transform(X, y)\n",
        "\n",
        "print(X_new.shape)\n"
      ],
      "metadata": {
        "colab": {
          "base_uri": "https://localhost:8080/"
        },
        "id": "nwOUcEyjXTFp",
        "outputId": "8ef5e4e6-2bef-452c-b4d2-be14ac60a6d7"
      },
      "execution_count": null,
      "outputs": [
        {
          "output_type": "stream",
          "name": "stdout",
          "text": [
            "(1121, 10)\n"
          ]
        }
      ]
    },
    {
      "cell_type": "code",
      "source": [
        "# prompt: drop the columns which contain nan values\n",
        "\n",
        "df = df.dropna()\n",
        "df\n"
      ],
      "metadata": {
        "id": "t90Y49qwYcnc"
      },
      "execution_count": null,
      "outputs": []
    },
    {
      "cell_type": "code",
      "source": [
        "# prompt: convert data frame to numpy array\n",
        "\n",
        "X_new = X.to_numpy()\n",
        "X_new"
      ],
      "metadata": {
        "colab": {
          "base_uri": "https://localhost:8080/"
        },
        "id": "-4husyJ1Z4td",
        "outputId": "be4027b5-8db1-4863-d1b6-51b412f18d23"
      },
      "execution_count": null,
      "outputs": [
        {
          "output_type": "execute_result",
          "data": {
            "text/plain": [
              "array([[1.000e+00, 6.000e+01, 3.000e+00, ..., 2.008e+03, 8.000e+00,\n",
              "        4.000e+00],\n",
              "       [2.000e+00, 2.000e+01, 3.000e+00, ..., 2.007e+03, 8.000e+00,\n",
              "        4.000e+00],\n",
              "       [3.000e+00, 6.000e+01, 3.000e+00, ..., 2.008e+03, 8.000e+00,\n",
              "        4.000e+00],\n",
              "       ...,\n",
              "       [1.458e+03, 7.000e+01, 3.000e+00, ..., 2.010e+03, 8.000e+00,\n",
              "        4.000e+00],\n",
              "       [1.459e+03, 2.000e+01, 3.000e+00, ..., 2.010e+03, 8.000e+00,\n",
              "        4.000e+00],\n",
              "       [1.460e+03, 2.000e+01, 3.000e+00, ..., 2.008e+03, 8.000e+00,\n",
              "        4.000e+00]])"
            ]
          },
          "metadata": {},
          "execution_count": 43
        }
      ]
    },
    {
      "cell_type": "code",
      "source": [
        "inputs = torch.from_numpy(X_new)\n",
        "targets = torch.from_numpy(y.to_numpy())\n",
        "targets.shape"
      ],
      "metadata": {
        "colab": {
          "base_uri": "https://localhost:8080/"
        },
        "id": "Skk5RJfKaDRy",
        "outputId": "5fe3d2c7-ea4d-4474-d5a7-1362c77f3673"
      },
      "execution_count": null,
      "outputs": [
        {
          "output_type": "execute_result",
          "data": {
            "text/plain": [
              "torch.Size([1121])"
            ]
          },
          "metadata": {},
          "execution_count": 177
        }
      ]
    },
    {
      "cell_type": "code",
      "source": [
        "inputs\n",
        "# inputs = inputs.f"
      ],
      "metadata": {
        "colab": {
          "base_uri": "https://localhost:8080/"
        },
        "id": "lvD6NHdKavqP",
        "outputId": "003108ab-127c-4b95-ee76-d68c7a7f0054"
      },
      "execution_count": null,
      "outputs": [
        {
          "output_type": "execute_result",
          "data": {
            "text/plain": [
              "tensor([[1.0000e+00, 6.0000e+01, 3.0000e+00,  ..., 2.0080e+03, 8.0000e+00,\n",
              "         4.0000e+00],\n",
              "        [2.0000e+00, 2.0000e+01, 3.0000e+00,  ..., 2.0070e+03, 8.0000e+00,\n",
              "         4.0000e+00],\n",
              "        [3.0000e+00, 6.0000e+01, 3.0000e+00,  ..., 2.0080e+03, 8.0000e+00,\n",
              "         4.0000e+00],\n",
              "        ...,\n",
              "        [1.4580e+03, 7.0000e+01, 3.0000e+00,  ..., 2.0100e+03, 8.0000e+00,\n",
              "         4.0000e+00],\n",
              "        [1.4590e+03, 2.0000e+01, 3.0000e+00,  ..., 2.0100e+03, 8.0000e+00,\n",
              "         4.0000e+00],\n",
              "        [1.4600e+03, 2.0000e+01, 3.0000e+00,  ..., 2.0080e+03, 8.0000e+00,\n",
              "         4.0000e+00]], dtype=torch.float64)"
            ]
          },
          "metadata": {},
          "execution_count": 113
        }
      ]
    },
    {
      "cell_type": "code",
      "source": [
        "targets"
      ],
      "metadata": {
        "colab": {
          "base_uri": "https://localhost:8080/"
        },
        "id": "FkwRysuGazlw",
        "outputId": "676525a3-b293-4f87-a2a5-cc2463c5ffd4"
      },
      "execution_count": null,
      "outputs": [
        {
          "output_type": "execute_result",
          "data": {
            "text/plain": [
              "tensor([208500, 181500, 223500,  ..., 266500, 142125, 147500])"
            ]
          },
          "metadata": {},
          "execution_count": 114
        }
      ]
    },
    {
      "cell_type": "code",
      "source": [],
      "metadata": {
        "id": "MEvXX7AToUDk"
      },
      "execution_count": null,
      "outputs": []
    },
    {
      "cell_type": "code",
      "source": [
        "# prompt: how many tensor column do input hav\n"
      ],
      "metadata": {
        "id": "i1W2wwOndLR1"
      },
      "execution_count": null,
      "outputs": []
    },
    {
      "cell_type": "code",
      "source": [
        "w = torch.randn(1,80, requires_grad= True,dtype=torch.float)\n",
        "b = torch.randn(1, requires_grad= True,dtype=torch.float)\n"
      ],
      "metadata": {
        "id": "kmesykGOdLOV"
      },
      "execution_count": null,
      "outputs": []
    },
    {
      "cell_type": "code",
      "source": [
        "w=w.double()\n",
        "b=b.double()"
      ],
      "metadata": {
        "id": "o00TnrBGdYMN"
      },
      "execution_count": null,
      "outputs": []
    },
    {
      "cell_type": "code",
      "source": [
        "b.shape"
      ],
      "metadata": {
        "colab": {
          "base_uri": "https://localhost:8080/"
        },
        "id": "p7gR1sv_dZFx",
        "outputId": "d5bf35cd-ae89-4e99-9e60-3be923f9b1b3"
      },
      "execution_count": null,
      "outputs": [
        {
          "output_type": "execute_result",
          "data": {
            "text/plain": [
              "torch.Size([1])"
            ]
          },
          "metadata": {},
          "execution_count": 78
        }
      ]
    },
    {
      "cell_type": "code",
      "source": [
        "def model(x):\n",
        "    return x @ w.t() + b"
      ],
      "metadata": {
        "id": "0VnQTnfrdj-N"
      },
      "execution_count": null,
      "outputs": []
    },
    {
      "cell_type": "code",
      "source": [
        "preds=model(inputs)"
      ],
      "metadata": {
        "id": "GQTggQiUdpzx"
      },
      "execution_count": null,
      "outputs": []
    },
    {
      "cell_type": "code",
      "source": [
        "preds"
      ],
      "metadata": {
        "colab": {
          "base_uri": "https://localhost:8080/"
        },
        "id": "qnubjX0ed4cm",
        "outputId": "d64e1042-86e4-432d-c38f-f5598347647f"
      },
      "execution_count": null,
      "outputs": [
        {
          "output_type": "execute_result",
          "data": {
            "text/plain": [
              "tensor([[2377.4071],\n",
              "        [3306.2923],\n",
              "        [2672.9892],\n",
              "        ...,\n",
              "        [7513.7333],\n",
              "        [1974.7660],\n",
              "        [2797.1494]], dtype=torch.float64, grad_fn=<AddBackward0>)"
            ]
          },
          "metadata": {},
          "execution_count": 83
        }
      ]
    },
    {
      "cell_type": "code",
      "source": [
        "def mse(t1, t2):\n",
        "  diff = t1 - t2\n",
        "  return torch.sum((diff**2))/ diff.numel()"
      ],
      "metadata": {
        "id": "Cx_R0llPgost"
      },
      "execution_count": null,
      "outputs": []
    },
    {
      "cell_type": "code",
      "source": [
        "loss = mse(preds, targets)\n",
        "print(loss)"
      ],
      "metadata": {
        "colab": {
          "base_uri": "https://localhost:8080/"
        },
        "id": "fN3jecqqgsub",
        "outputId": "e590438c-1bed-4bd4-a408-6ba50b664bc8"
      },
      "execution_count": null,
      "outputs": [
        {
          "output_type": "stream",
          "name": "stdout",
          "text": [
            "tensor(4.0414e+10, dtype=torch.float64, grad_fn=<DivBackward0>)\n"
          ]
        }
      ]
    },
    {
      "cell_type": "code",
      "source": [
        "a=loss.backward()"
      ],
      "metadata": {
        "colab": {
          "base_uri": "https://localhost:8080/",
          "height": 426
        },
        "id": "AG238KFPgubU",
        "outputId": "50c14899-c078-4fa0-f51a-b95750849aa7"
      },
      "execution_count": null,
      "outputs": [
        {
          "output_type": "error",
          "ename": "RuntimeError",
          "evalue": "Trying to backward through the graph a second time (or directly access saved tensors after they have already been freed). Saved intermediate values of the graph are freed when you call .backward() or autograd.grad(). Specify retain_graph=True if you need to backward through the graph a second time or if you need to access saved tensors after calling backward.",
          "traceback": [
            "\u001b[0;31m---------------------------------------------------------------------------\u001b[0m",
            "\u001b[0;31mRuntimeError\u001b[0m                              Traceback (most recent call last)",
            "\u001b[0;32m<ipython-input-89-d24c04abb9b9>\u001b[0m in \u001b[0;36m<cell line: 1>\u001b[0;34m()\u001b[0m\n\u001b[0;32m----> 1\u001b[0;31m \u001b[0ma\u001b[0m\u001b[0;34m=\u001b[0m\u001b[0mloss\u001b[0m\u001b[0;34m.\u001b[0m\u001b[0mbackward\u001b[0m\u001b[0;34m(\u001b[0m\u001b[0;34m)\u001b[0m\u001b[0;34m\u001b[0m\u001b[0;34m\u001b[0m\u001b[0m\n\u001b[0m",
            "\u001b[0;32m/usr/local/lib/python3.10/dist-packages/torch/_tensor.py\u001b[0m in \u001b[0;36mbackward\u001b[0;34m(self, gradient, retain_graph, create_graph, inputs)\u001b[0m\n\u001b[1;32m    523\u001b[0m                 \u001b[0minputs\u001b[0m\u001b[0;34m=\u001b[0m\u001b[0minputs\u001b[0m\u001b[0;34m,\u001b[0m\u001b[0;34m\u001b[0m\u001b[0;34m\u001b[0m\u001b[0m\n\u001b[1;32m    524\u001b[0m             )\n\u001b[0;32m--> 525\u001b[0;31m         torch.autograd.backward(\n\u001b[0m\u001b[1;32m    526\u001b[0m             \u001b[0mself\u001b[0m\u001b[0;34m,\u001b[0m \u001b[0mgradient\u001b[0m\u001b[0;34m,\u001b[0m \u001b[0mretain_graph\u001b[0m\u001b[0;34m,\u001b[0m \u001b[0mcreate_graph\u001b[0m\u001b[0;34m,\u001b[0m \u001b[0minputs\u001b[0m\u001b[0;34m=\u001b[0m\u001b[0minputs\u001b[0m\u001b[0;34m\u001b[0m\u001b[0;34m\u001b[0m\u001b[0m\n\u001b[1;32m    527\u001b[0m         )\n",
            "\u001b[0;32m/usr/local/lib/python3.10/dist-packages/torch/autograd/__init__.py\u001b[0m in \u001b[0;36mbackward\u001b[0;34m(tensors, grad_tensors, retain_graph, create_graph, grad_variables, inputs)\u001b[0m\n\u001b[1;32m    265\u001b[0m     \u001b[0;31m# some Python versions print out the first line of a multi-line function\u001b[0m\u001b[0;34m\u001b[0m\u001b[0;34m\u001b[0m\u001b[0m\n\u001b[1;32m    266\u001b[0m     \u001b[0;31m# calls in the traceback and some print out the last line\u001b[0m\u001b[0;34m\u001b[0m\u001b[0;34m\u001b[0m\u001b[0m\n\u001b[0;32m--> 267\u001b[0;31m     _engine_run_backward(\n\u001b[0m\u001b[1;32m    268\u001b[0m         \u001b[0mtensors\u001b[0m\u001b[0;34m,\u001b[0m\u001b[0;34m\u001b[0m\u001b[0;34m\u001b[0m\u001b[0m\n\u001b[1;32m    269\u001b[0m         \u001b[0mgrad_tensors_\u001b[0m\u001b[0;34m,\u001b[0m\u001b[0;34m\u001b[0m\u001b[0;34m\u001b[0m\u001b[0m\n",
            "\u001b[0;32m/usr/local/lib/python3.10/dist-packages/torch/autograd/graph.py\u001b[0m in \u001b[0;36m_engine_run_backward\u001b[0;34m(t_outputs, *args, **kwargs)\u001b[0m\n\u001b[1;32m    742\u001b[0m         \u001b[0munregister_hooks\u001b[0m \u001b[0;34m=\u001b[0m \u001b[0m_register_logging_hooks_on_whole_graph\u001b[0m\u001b[0;34m(\u001b[0m\u001b[0mt_outputs\u001b[0m\u001b[0;34m)\u001b[0m\u001b[0;34m\u001b[0m\u001b[0;34m\u001b[0m\u001b[0m\n\u001b[1;32m    743\u001b[0m     \u001b[0;32mtry\u001b[0m\u001b[0;34m:\u001b[0m\u001b[0;34m\u001b[0m\u001b[0;34m\u001b[0m\u001b[0m\n\u001b[0;32m--> 744\u001b[0;31m         return Variable._execution_engine.run_backward(  # Calls into the C++ engine to run the backward pass\n\u001b[0m\u001b[1;32m    745\u001b[0m             \u001b[0mt_outputs\u001b[0m\u001b[0;34m,\u001b[0m \u001b[0;34m*\u001b[0m\u001b[0margs\u001b[0m\u001b[0;34m,\u001b[0m \u001b[0;34m**\u001b[0m\u001b[0mkwargs\u001b[0m\u001b[0;34m\u001b[0m\u001b[0;34m\u001b[0m\u001b[0m\n\u001b[1;32m    746\u001b[0m         )  # Calls into the C++ engine to run the backward pass\n",
            "\u001b[0;31mRuntimeError\u001b[0m: Trying to backward through the graph a second time (or directly access saved tensors after they have already been freed). Saved intermediate values of the graph are freed when you call .backward() or autograd.grad(). Specify retain_graph=True if you need to backward through the graph a second time or if you need to access saved tensors after calling backward."
          ]
        }
      ]
    },
    {
      "cell_type": "code",
      "source": [
        "new_var = w.retain_grad()\n",
        "new_var"
      ],
      "metadata": {
        "id": "rYA6G5IYgzMb"
      },
      "execution_count": null,
      "outputs": []
    },
    {
      "cell_type": "code",
      "source": [
        "lr = 1e-5\n",
        "with torch.no_grad():\n",
        "    w -= w.grad * lr\n",
        "    b -= b.grad * lr\n"
      ],
      "metadata": {
        "colab": {
          "base_uri": "https://localhost:8080/",
          "height": 219
        },
        "id": "IKAPx3qVhO8l",
        "outputId": "45114e57-fbb0-42e4-8441-ddc51587d548"
      },
      "execution_count": null,
      "outputs": [
        {
          "output_type": "error",
          "ename": "TypeError",
          "evalue": "unsupported operand type(s) for *: 'NoneType' and 'float'",
          "traceback": [
            "\u001b[0;31m---------------------------------------------------------------------------\u001b[0m",
            "\u001b[0;31mTypeError\u001b[0m                                 Traceback (most recent call last)",
            "\u001b[0;32m<ipython-input-95-60159356ea14>\u001b[0m in \u001b[0;36m<cell line: 2>\u001b[0;34m()\u001b[0m\n\u001b[1;32m      1\u001b[0m \u001b[0mlr\u001b[0m \u001b[0;34m=\u001b[0m \u001b[0;36m1e-5\u001b[0m\u001b[0;34m\u001b[0m\u001b[0;34m\u001b[0m\u001b[0m\n\u001b[1;32m      2\u001b[0m \u001b[0;32mwith\u001b[0m \u001b[0mtorch\u001b[0m\u001b[0;34m.\u001b[0m\u001b[0mno_grad\u001b[0m\u001b[0;34m(\u001b[0m\u001b[0;34m)\u001b[0m\u001b[0;34m:\u001b[0m\u001b[0;34m\u001b[0m\u001b[0;34m\u001b[0m\u001b[0m\n\u001b[0;32m----> 3\u001b[0;31m     \u001b[0mw\u001b[0m \u001b[0;34m-=\u001b[0m \u001b[0mw\u001b[0m\u001b[0;34m.\u001b[0m\u001b[0mgrad\u001b[0m \u001b[0;34m*\u001b[0m \u001b[0mlr\u001b[0m\u001b[0;34m\u001b[0m\u001b[0;34m\u001b[0m\u001b[0m\n\u001b[0m\u001b[1;32m      4\u001b[0m     \u001b[0mb\u001b[0m \u001b[0;34m-=\u001b[0m \u001b[0mb\u001b[0m\u001b[0;34m.\u001b[0m\u001b[0mgrad\u001b[0m \u001b[0;34m*\u001b[0m \u001b[0mlr\u001b[0m\u001b[0;34m\u001b[0m\u001b[0;34m\u001b[0m\u001b[0m\n\u001b[1;32m      5\u001b[0m \u001b[0;34m\u001b[0m\u001b[0m\n",
            "\u001b[0;31mTypeError\u001b[0m: unsupported operand type(s) for *: 'NoneType' and 'float'"
          ]
        }
      ]
    },
    {
      "cell_type": "code",
      "source": [
        "from torch import nn\n",
        "from torch.utils.data import TensorDataset\n",
        "from torch.utils.data import DataLoader\n"
      ],
      "metadata": {
        "id": "43rMXNNch7jZ"
      },
      "execution_count": null,
      "outputs": []
    },
    {
      "cell_type": "code",
      "source": [
        "train_ds = TensorDataset(inputs, targets)\n",
        "train_ds[0:3]"
      ],
      "metadata": {
        "colab": {
          "base_uri": "https://localhost:8080/"
        },
        "id": "BxGK3x08ldhj",
        "outputId": "9b583e69-9002-49a7-9d60-e38d73cc597f"
      },
      "execution_count": null,
      "outputs": [
        {
          "output_type": "execute_result",
          "data": {
            "text/plain": [
              "(tensor([[1.0000e+00, 6.0000e+01, 3.0000e+00, 6.5000e+01, 8.4500e+03, 1.0000e+00,\n",
              "          2.0000e+00, 3.0000e+00, 3.0000e+00, 0.0000e+00, 4.0000e+00, 0.0000e+00,\n",
              "          5.0000e+00, 2.0000e+00, 2.0000e+00, 0.0000e+00, 5.0000e+00, 7.0000e+00,\n",
              "          5.0000e+00, 2.0030e+03, 2.0030e+03, 1.0000e+00, 1.0000e+00, 1.2000e+01,\n",
              "          1.3000e+01, 1.0000e+00, 1.9600e+02, 2.0000e+00, 4.0000e+00, 2.0000e+00,\n",
              "          2.0000e+00, 3.0000e+00, 3.0000e+00, 2.0000e+00, 7.0600e+02, 5.0000e+00,\n",
              "          0.0000e+00, 1.5000e+02, 8.5600e+02, 1.0000e+00, 0.0000e+00, 1.0000e+00,\n",
              "          4.0000e+00, 8.5600e+02, 8.5400e+02, 0.0000e+00, 1.7100e+03, 1.0000e+00,\n",
              "          0.0000e+00, 2.0000e+00, 1.0000e+00, 3.0000e+00, 1.0000e+00, 2.0000e+00,\n",
              "          8.0000e+00, 6.0000e+00, 0.0000e+00, 5.0000e+00, 1.0000e+00, 2.0030e+03,\n",
              "          1.0000e+00, 2.0000e+00, 5.4800e+02, 4.0000e+00, 4.0000e+00, 2.0000e+00,\n",
              "          0.0000e+00, 6.1000e+01, 0.0000e+00, 0.0000e+00, 0.0000e+00, 0.0000e+00,\n",
              "          3.0000e+00, 4.0000e+00, 4.0000e+00, 0.0000e+00, 2.0000e+00, 2.0080e+03,\n",
              "          8.0000e+00, 4.0000e+00],\n",
              "         [2.0000e+00, 2.0000e+01, 3.0000e+00, 8.0000e+01, 9.6000e+03, 1.0000e+00,\n",
              "          2.0000e+00, 3.0000e+00, 3.0000e+00, 0.0000e+00, 2.0000e+00, 0.0000e+00,\n",
              "          2.4000e+01, 1.0000e+00, 2.0000e+00, 0.0000e+00, 2.0000e+00, 6.0000e+00,\n",
              "          8.0000e+00, 1.9760e+03, 1.9760e+03, 1.0000e+00, 1.0000e+00, 8.0000e+00,\n",
              "          8.0000e+00, 3.0000e+00, 0.0000e+00, 3.0000e+00, 4.0000e+00, 1.0000e+00,\n",
              "          2.0000e+00, 3.0000e+00, 1.0000e+00, 0.0000e+00, 9.7800e+02, 5.0000e+00,\n",
              "          0.0000e+00, 2.8400e+02, 1.2620e+03, 1.0000e+00, 0.0000e+00, 1.0000e+00,\n",
              "          4.0000e+00, 1.2620e+03, 0.0000e+00, 0.0000e+00, 1.2620e+03, 0.0000e+00,\n",
              "          1.0000e+00, 2.0000e+00, 0.0000e+00, 3.0000e+00, 1.0000e+00, 3.0000e+00,\n",
              "          6.0000e+00, 6.0000e+00, 1.0000e+00, 4.0000e+00, 1.0000e+00, 1.9760e+03,\n",
              "          1.0000e+00, 2.0000e+00, 4.6000e+02, 4.0000e+00, 4.0000e+00, 2.0000e+00,\n",
              "          2.9800e+02, 0.0000e+00, 0.0000e+00, 0.0000e+00, 0.0000e+00, 0.0000e+00,\n",
              "          3.0000e+00, 4.0000e+00, 4.0000e+00, 0.0000e+00, 5.0000e+00, 2.0070e+03,\n",
              "          8.0000e+00, 4.0000e+00],\n",
              "         [3.0000e+00, 6.0000e+01, 3.0000e+00, 6.8000e+01, 1.1250e+04, 1.0000e+00,\n",
              "          2.0000e+00, 0.0000e+00, 3.0000e+00, 0.0000e+00, 4.0000e+00, 0.0000e+00,\n",
              "          5.0000e+00, 2.0000e+00, 2.0000e+00, 0.0000e+00, 5.0000e+00, 7.0000e+00,\n",
              "          5.0000e+00, 2.0010e+03, 2.0020e+03, 1.0000e+00, 1.0000e+00, 1.2000e+01,\n",
              "          1.3000e+01, 1.0000e+00, 1.6200e+02, 2.0000e+00, 4.0000e+00, 2.0000e+00,\n",
              "          2.0000e+00, 3.0000e+00, 2.0000e+00, 2.0000e+00, 4.8600e+02, 5.0000e+00,\n",
              "          0.0000e+00, 4.3400e+02, 9.2000e+02, 1.0000e+00, 0.0000e+00, 1.0000e+00,\n",
              "          4.0000e+00, 9.2000e+02, 8.6600e+02, 0.0000e+00, 1.7860e+03, 1.0000e+00,\n",
              "          0.0000e+00, 2.0000e+00, 1.0000e+00, 3.0000e+00, 1.0000e+00, 2.0000e+00,\n",
              "          6.0000e+00, 6.0000e+00, 1.0000e+00, 4.0000e+00, 1.0000e+00, 2.0010e+03,\n",
              "          1.0000e+00, 2.0000e+00, 6.0800e+02, 4.0000e+00, 4.0000e+00, 2.0000e+00,\n",
              "          0.0000e+00, 4.2000e+01, 0.0000e+00, 0.0000e+00, 0.0000e+00, 0.0000e+00,\n",
              "          3.0000e+00, 4.0000e+00, 4.0000e+00, 0.0000e+00, 9.0000e+00, 2.0080e+03,\n",
              "          8.0000e+00, 4.0000e+00]]),\n",
              " tensor([208500., 181500., 223500.]))"
            ]
          },
          "metadata": {},
          "execution_count": 152
        }
      ]
    },
    {
      "cell_type": "code",
      "source": [
        "bs = 5\n",
        "train_loader = DataLoader(train_ds, batch_size = bs, shuffle = True)"
      ],
      "metadata": {
        "id": "0Nk-YO_YllLw"
      },
      "execution_count": null,
      "outputs": []
    },
    {
      "cell_type": "code",
      "source": [
        "for xb, yb in train_loader:\n",
        "    print(xb.double())\n",
        "    print(yb.double())\n",
        "    break"
      ],
      "metadata": {
        "colab": {
          "base_uri": "https://localhost:8080/"
        },
        "id": "TrWQS65bmEaa",
        "outputId": "d899ec6c-b049-4445-fd13-048750c1c1dc"
      },
      "execution_count": null,
      "outputs": [
        {
          "output_type": "stream",
          "name": "stdout",
          "text": [
            "tensor([[5.0700e+02, 6.0000e+01, 3.0000e+00, 8.0000e+01, 9.5540e+03, 1.0000e+00,\n",
            "         2.0000e+00, 0.0000e+00, 3.0000e+00, 0.0000e+00, 4.0000e+00, 0.0000e+00,\n",
            "         2.0000e+01, 2.0000e+00, 2.0000e+00, 0.0000e+00, 5.0000e+00, 8.0000e+00,\n",
            "         5.0000e+00, 1.9930e+03, 1.9940e+03, 1.0000e+00, 1.0000e+00, 1.2000e+01,\n",
            "         1.3000e+01, 1.0000e+00, 1.2500e+02, 2.0000e+00, 4.0000e+00, 2.0000e+00,\n",
            "         2.0000e+00, 3.0000e+00, 3.0000e+00, 2.0000e+00, 3.8000e+02, 5.0000e+00,\n",
            "         0.0000e+00, 3.9700e+02, 7.7700e+02, 1.0000e+00, 0.0000e+00, 1.0000e+00,\n",
            "         4.0000e+00, 1.0650e+03, 8.4600e+02, 0.0000e+00, 1.9110e+03, 0.0000e+00,\n",
            "         0.0000e+00, 2.0000e+00, 1.0000e+00, 3.0000e+00, 1.0000e+00, 2.0000e+00,\n",
            "         8.0000e+00, 6.0000e+00, 1.0000e+00, 4.0000e+00, 1.0000e+00, 1.9930e+03,\n",
            "         1.0000e+00, 2.0000e+00, 4.7100e+02, 4.0000e+00, 4.0000e+00, 2.0000e+00,\n",
            "         1.8200e+02, 8.1000e+01, 0.0000e+00, 0.0000e+00, 0.0000e+00, 0.0000e+00,\n",
            "         3.0000e+00, 4.0000e+00, 4.0000e+00, 0.0000e+00, 9.0000e+00, 2.0060e+03,\n",
            "         8.0000e+00, 4.0000e+00],\n",
            "        [4.2100e+02, 9.0000e+01, 4.0000e+00, 7.8000e+01, 7.0600e+03, 1.0000e+00,\n",
            "         2.0000e+00, 3.0000e+00, 3.0000e+00, 0.0000e+00, 4.0000e+00, 0.0000e+00,\n",
            "         1.1000e+01, 2.0000e+00, 2.0000e+00, 2.0000e+00, 6.0000e+00, 7.0000e+00,\n",
            "         5.0000e+00, 1.9970e+03, 1.9980e+03, 1.0000e+00, 1.0000e+00, 1.2000e+01,\n",
            "         1.3000e+01, 1.0000e+00, 2.0000e+02, 3.0000e+00, 2.0000e+00, 2.0000e+00,\n",
            "         2.0000e+00, 1.0000e+00, 1.0000e+00, 2.0000e+00, 1.3090e+03, 5.0000e+00,\n",
            "         0.0000e+00, 3.5000e+01, 1.3440e+03, 1.0000e+00, 0.0000e+00, 1.0000e+00,\n",
            "         4.0000e+00, 1.3440e+03, 0.0000e+00, 0.0000e+00, 1.3440e+03, 2.0000e+00,\n",
            "         0.0000e+00, 2.0000e+00, 0.0000e+00, 2.0000e+00, 2.0000e+00, 3.0000e+00,\n",
            "         8.0000e+00, 6.0000e+00, 0.0000e+00, 5.0000e+00, 1.0000e+00, 1.9970e+03,\n",
            "         0.0000e+00, 4.0000e+00, 7.8400e+02, 4.0000e+00, 4.0000e+00, 2.0000e+00,\n",
            "         0.0000e+00, 0.0000e+00, 0.0000e+00, 0.0000e+00, 0.0000e+00, 0.0000e+00,\n",
            "         3.0000e+00, 4.0000e+00, 4.0000e+00, 0.0000e+00, 1.1000e+01, 2.0080e+03,\n",
            "         8.0000e+00, 2.0000e+00],\n",
            "        [2.2700e+02, 6.0000e+01, 3.0000e+00, 8.2000e+01, 9.9500e+03, 1.0000e+00,\n",
            "         2.0000e+00, 0.0000e+00, 3.0000e+00, 0.0000e+00, 4.0000e+00, 0.0000e+00,\n",
            "         1.5000e+01, 2.0000e+00, 2.0000e+00, 0.0000e+00, 5.0000e+00, 7.0000e+00,\n",
            "         5.0000e+00, 1.9950e+03, 1.9950e+03, 1.0000e+00, 1.0000e+00, 1.2000e+01,\n",
            "         1.3000e+01, 1.0000e+00, 2.9000e+02, 2.0000e+00, 4.0000e+00, 2.0000e+00,\n",
            "         2.0000e+00, 3.0000e+00, 3.0000e+00, 2.0000e+00, 5.6500e+02, 5.0000e+00,\n",
            "         0.0000e+00, 6.3800e+02, 1.2030e+03, 1.0000e+00, 0.0000e+00, 1.0000e+00,\n",
            "         4.0000e+00, 1.2140e+03, 1.3060e+03, 0.0000e+00, 2.5200e+03, 0.0000e+00,\n",
            "         0.0000e+00, 2.0000e+00, 1.0000e+00, 4.0000e+00, 1.0000e+00, 2.0000e+00,\n",
            "         9.0000e+00, 6.0000e+00, 1.0000e+00, 4.0000e+00, 1.0000e+00, 1.9950e+03,\n",
            "         1.0000e+00, 3.0000e+00, 7.2100e+02, 4.0000e+00, 4.0000e+00, 2.0000e+00,\n",
            "         2.2400e+02, 1.1400e+02, 0.0000e+00, 0.0000e+00, 0.0000e+00, 0.0000e+00,\n",
            "         3.0000e+00, 4.0000e+00, 4.0000e+00, 0.0000e+00, 6.0000e+00, 2.0070e+03,\n",
            "         8.0000e+00, 0.0000e+00],\n",
            "        [6.0100e+02, 6.0000e+01, 3.0000e+00, 7.4000e+01, 1.0927e+04, 1.0000e+00,\n",
            "         2.0000e+00, 3.0000e+00, 3.0000e+00, 0.0000e+00, 4.0000e+00, 0.0000e+00,\n",
            "         1.6000e+01, 2.0000e+00, 2.0000e+00, 0.0000e+00, 5.0000e+00, 8.0000e+00,\n",
            "         5.0000e+00, 2.0050e+03, 2.0050e+03, 1.0000e+00, 1.0000e+00, 1.2000e+01,\n",
            "         1.3000e+01, 1.0000e+00, 2.8000e+02, 2.0000e+00, 4.0000e+00, 2.0000e+00,\n",
            "         2.0000e+00, 3.0000e+00, 0.0000e+00, 2.0000e+00, 5.4600e+02, 5.0000e+00,\n",
            "         0.0000e+00, 5.1200e+02, 1.0580e+03, 1.0000e+00, 0.0000e+00, 1.0000e+00,\n",
            "         4.0000e+00, 1.0580e+03, 8.4600e+02, 0.0000e+00, 1.9040e+03, 1.0000e+00,\n",
            "         0.0000e+00, 2.0000e+00, 1.0000e+00, 3.0000e+00, 1.0000e+00, 0.0000e+00,\n",
            "         8.0000e+00, 6.0000e+00, 1.0000e+00, 2.0000e+00, 3.0000e+00, 2.0030e+03,\n",
            "         0.0000e+00, 2.0000e+00, 7.3600e+02, 4.0000e+00, 4.0000e+00, 2.0000e+00,\n",
            "         1.7900e+02, 6.0000e+01, 0.0000e+00, 0.0000e+00, 0.0000e+00, 0.0000e+00,\n",
            "         3.0000e+00, 4.0000e+00, 4.0000e+00, 0.0000e+00, 6.0000e+00, 2.0060e+03,\n",
            "         8.0000e+00, 4.0000e+00],\n",
            "        [9.9000e+01, 3.0000e+01, 3.0000e+00, 8.5000e+01, 1.0625e+04, 1.0000e+00,\n",
            "         2.0000e+00, 3.0000e+00, 3.0000e+00, 0.0000e+00, 0.0000e+00, 0.0000e+00,\n",
            "         7.0000e+00, 2.0000e+00, 2.0000e+00, 0.0000e+00, 2.0000e+00, 5.0000e+00,\n",
            "         5.0000e+00, 1.9200e+03, 1.9500e+03, 1.0000e+00, 1.0000e+00, 1.3000e+01,\n",
            "         1.4000e+01, 3.0000e+00, 0.0000e+00, 3.0000e+00, 4.0000e+00, 0.0000e+00,\n",
            "         3.0000e+00, 3.0000e+00, 3.0000e+00, 0.0000e+00, 1.0800e+02, 5.0000e+00,\n",
            "         0.0000e+00, 3.5000e+02, 4.5800e+02, 1.0000e+00, 1.0000e+00, 0.0000e+00,\n",
            "         4.0000e+00, 8.3500e+02, 0.0000e+00, 0.0000e+00, 8.3500e+02, 0.0000e+00,\n",
            "         0.0000e+00, 1.0000e+00, 0.0000e+00, 2.0000e+00, 1.0000e+00, 3.0000e+00,\n",
            "         5.0000e+00, 6.0000e+00, 0.0000e+00, 5.0000e+00, 2.0000e+00, 1.9200e+03,\n",
            "         2.0000e+00, 1.0000e+00, 3.6600e+02, 1.0000e+00, 4.0000e+00, 2.0000e+00,\n",
            "         0.0000e+00, 0.0000e+00, 7.7000e+01, 0.0000e+00, 0.0000e+00, 0.0000e+00,\n",
            "         3.0000e+00, 4.0000e+00, 2.0000e+00, 4.0000e+02, 5.0000e+00, 2.0100e+03,\n",
            "         0.0000e+00, 0.0000e+00]], dtype=torch.float64)\n",
            "tensor([215000., 206300., 290000., 275000.,  83000.], dtype=torch.float64)\n"
          ]
        }
      ]
    },
    {
      "cell_type": "code",
      "source": [
        "class Linear_Regression(torch.nn.Module):\n",
        "     def __init__(self, input_dim, output_dim):\n",
        "         super(Linear_Regression, self).__init__()\n",
        "         self.linear = torch.nn.Linear(input_dim, output_dim)\n",
        "     def forward(self, x):\n",
        "         outputs = self.linear(x)\n",
        "         return outputs"
      ],
      "metadata": {
        "id": "q76QqxlomOJx"
      },
      "execution_count": null,
      "outputs": []
    },
    {
      "cell_type": "code",
      "source": [
        "model = Linear_Regression(80,1)"
      ],
      "metadata": {
        "id": "V18vTKWPmW5F"
      },
      "execution_count": null,
      "outputs": []
    },
    {
      "cell_type": "code",
      "source": [
        "list(model.parameters())[0][0].dtype"
      ],
      "metadata": {
        "colab": {
          "base_uri": "https://localhost:8080/"
        },
        "id": "50yPVqcnodl7",
        "outputId": "c4838b64-aa69-4fdf-bb0b-c3086af004f7"
      },
      "execution_count": null,
      "outputs": [
        {
          "output_type": "execute_result",
          "data": {
            "text/plain": [
              "torch.float32"
            ]
          },
          "metadata": {},
          "execution_count": 157
        }
      ]
    },
    {
      "cell_type": "code",
      "source": [
        "\n",
        "targets.shape\n"
      ],
      "metadata": {
        "colab": {
          "base_uri": "https://localhost:8080/"
        },
        "id": "xVk4ocxtomuq",
        "outputId": "4b4973fb-762e-457e-e1bd-9d650a973328"
      },
      "execution_count": null,
      "outputs": [
        {
          "output_type": "execute_result",
          "data": {
            "text/plain": [
              "torch.Size([1121, 1])"
            ]
          },
          "metadata": {},
          "execution_count": 183
        }
      ]
    },
    {
      "cell_type": "code",
      "source": [
        "preds = model(inputs.type(torch.float32))\n",
        "preds"
      ],
      "metadata": {
        "colab": {
          "base_uri": "https://localhost:8080/"
        },
        "id": "iswJuNDTmZEw",
        "outputId": "e7c01f68-f80a-4c57-b9e8-72f29d805d8e"
      },
      "execution_count": null,
      "outputs": [
        {
          "output_type": "execute_result",
          "data": {
            "text/plain": [
              "tensor([[ 886.6315],\n",
              "        [ 942.7352],\n",
              "        [1089.5115],\n",
              "        ...,\n",
              "        [ 969.2125],\n",
              "        [ 798.3675],\n",
              "        [ 925.8561]], grad_fn=<AddmmBackward0>)"
            ]
          },
          "metadata": {},
          "execution_count": 159
        }
      ]
    },
    {
      "cell_type": "code",
      "source": [
        "(list(model.parameters()))"
      ],
      "metadata": {
        "colab": {
          "base_uri": "https://localhost:8080/"
        },
        "id": "5hdm-2cFn2OI",
        "outputId": "08f7e693-5b96-484e-c001-6c0114bcc1d7"
      },
      "execution_count": null,
      "outputs": [
        {
          "output_type": "execute_result",
          "data": {
            "text/plain": [
              "[Parameter containing:\n",
              " tensor([[-0.0121, -0.0083,  0.0235,  0.0660,  0.0835,  0.0272, -0.1069, -0.0715,\n",
              "          -0.0779,  0.1072, -0.0183, -0.0829,  0.0769, -0.0602, -0.0906, -0.0599,\n",
              "          -0.0687, -0.0916,  0.0020,  0.0730, -0.0177,  0.0092,  0.1064, -0.0448,\n",
              "           0.0503,  0.0763,  0.1100, -0.0176, -0.0908, -0.0892, -0.0159, -0.0535,\n",
              "          -0.0007, -0.0944,  0.0912,  0.0333, -0.0382, -0.0889,  0.0952, -0.0099,\n",
              "          -0.0707, -0.0143, -0.0498, -0.0165,  0.0262,  0.0366,  0.1037,  0.0256,\n",
              "          -0.0204,  0.0975,  0.0261,  0.0245, -0.0626,  0.0244, -0.0731,  0.0380,\n",
              "           0.0326, -0.0164, -0.0409, -0.0412, -0.0214,  0.0275,  0.0329, -0.0101,\n",
              "          -0.0390,  0.0852, -0.0017, -0.0870,  0.0607, -0.0880, -0.0984,  0.0527,\n",
              "           0.1032,  0.0671, -0.1115,  0.0367,  0.0986, -0.1005,  0.0650, -0.0043]],\n",
              "        requires_grad=True),\n",
              " Parameter containing:\n",
              " tensor([-0.0667], requires_grad=True)]"
            ]
          },
          "metadata": {},
          "execution_count": 160
        }
      ]
    },
    {
      "cell_type": "code",
      "source": [
        "import torch.nn.functional as F"
      ],
      "metadata": {
        "id": "wJ3pOl2Uplyo"
      },
      "execution_count": null,
      "outputs": []
    },
    {
      "cell_type": "code",
      "source": [
        "# prompt: convert my target variable shape into same as input variable\n",
        "\n",
        "targets = targets.view(targets.shape[0], 1)\n",
        "targets.shape"
      ],
      "metadata": {
        "colab": {
          "base_uri": "https://localhost:8080/"
        },
        "id": "rxXh6z1QtwPG",
        "outputId": "f69f7647-d6db-4c7d-a857-17f8b9cf0e83"
      },
      "execution_count": null,
      "outputs": [
        {
          "output_type": "execute_result",
          "data": {
            "text/plain": [
              "torch.Size([1121, 1])"
            ]
          },
          "metadata": {},
          "execution_count": 195
        }
      ]
    },
    {
      "cell_type": "code",
      "source": [
        "loss_fn = F.mse_loss\n",
        "loss = loss_fn(model(inputs.type(torch.float32)), targets.type(torch.float32))\n",
        "\n",
        "print(loss)\n",
        "opt = torch.optim.SGD(model.parameters(), lr=1e-5)"
      ],
      "metadata": {
        "colab": {
          "base_uri": "https://localhost:8080/"
        },
        "id": "Fyc80egHqrnI",
        "outputId": "452b2164-13b2-4d79-aaef-28c11f44883f"
      },
      "execution_count": null,
      "outputs": [
        {
          "output_type": "stream",
          "name": "stdout",
          "text": [
            "tensor(nan, grad_fn=<MseLossBackward0>)\n"
          ]
        }
      ]
    },
    {
      "cell_type": "code",
      "source": [
        "inputs.type(torch.float32)"
      ],
      "metadata": {
        "colab": {
          "base_uri": "https://localhost:8080/"
        },
        "id": "R2gwO_bhrmGf",
        "outputId": "98866b6d-fb9a-4e7f-bf54-33168da0a2a9"
      },
      "execution_count": null,
      "outputs": [
        {
          "output_type": "execute_result",
          "data": {
            "text/plain": [
              "tensor([[1.0000e+00, 6.0000e+01, 3.0000e+00,  ..., 2.0080e+03, 8.0000e+00,\n",
              "         4.0000e+00],\n",
              "        [2.0000e+00, 2.0000e+01, 3.0000e+00,  ..., 2.0070e+03, 8.0000e+00,\n",
              "         4.0000e+00],\n",
              "        [3.0000e+00, 6.0000e+01, 3.0000e+00,  ..., 2.0080e+03, 8.0000e+00,\n",
              "         4.0000e+00],\n",
              "        ...,\n",
              "        [1.4580e+03, 7.0000e+01, 3.0000e+00,  ..., 2.0100e+03, 8.0000e+00,\n",
              "         4.0000e+00],\n",
              "        [1.4590e+03, 2.0000e+01, 3.0000e+00,  ..., 2.0100e+03, 8.0000e+00,\n",
              "         4.0000e+00],\n",
              "        [1.4600e+03, 2.0000e+01, 3.0000e+00,  ..., 2.0080e+03, 8.0000e+00,\n",
              "         4.0000e+00]])"
            ]
          },
          "metadata": {},
          "execution_count": 197
        }
      ]
    },
    {
      "cell_type": "code",
      "source": [
        "# prompt: change my double into float of inputs and targets\n",
        "\n",
        "inputs = inputs.float()\n",
        "targets = targets.float()\n"
      ],
      "metadata": {
        "id": "nLMOvsPzrvVo"
      },
      "execution_count": null,
      "outputs": []
    },
    {
      "cell_type": "code",
      "source": [],
      "metadata": {
        "id": "EkTFrHIHxhZr"
      },
      "execution_count": null,
      "outputs": []
    },
    {
      "cell_type": "code",
      "source": [
        "# Utility function to train the model\n",
        "def fit(num_epochs, model, loss_fn, opt, train_dl):\n",
        "\n",
        "    # Repeat for given number of epochs\n",
        "    for epoch in range(num_epochs):\n",
        "\n",
        "        # Train with batches of data\n",
        "        for xb,yb in train_dl:\n",
        "\n",
        "            # 1. Generate predictions\n",
        "            pred = model(xb)\n",
        "\n",
        "            # 2. Calculate loss\n",
        "            loss_fn = F.mse_loss(pred.unsqueeze(1), yb, reduction='none')\n",
        "\n",
        "            # 3. Compute gradients\n",
        "\n",
        "\n",
        "            # 4. Update parameters using gradients\n",
        "            opt.step()\n",
        "\n",
        "            # 5. Reset the gradients to zero\n",
        "            opt.zero_grad()\n",
        "\n",
        "        # Print the progress\n",
        "        if (epoch+1) % 10 == 0:\n",
        "            print('Epoch [{}/{}], Loss: {:.4f}'.format(epoch+1, num_epochs, loss.item()))"
      ],
      "metadata": {
        "id": "tR7p9QAnsxSF"
      },
      "execution_count": null,
      "outputs": []
    },
    {
      "cell_type": "code",
      "source": [
        "fit(100, model, loss_fn, opt, train_loader)\n"
      ],
      "metadata": {
        "colab": {
          "base_uri": "https://localhost:8080/"
        },
        "id": "0MESizoXsx-E",
        "outputId": "82167512-150c-4086-cd94-dfc9d5706ba1"
      },
      "execution_count": null,
      "outputs": [
        {
          "output_type": "stream",
          "name": "stderr",
          "text": [
            "<ipython-input-203-01527d76db33>:14: UserWarning: Using a target size (torch.Size([5])) that is different to the input size (torch.Size([5, 1, 1])). This will likely lead to incorrect results due to broadcasting. Please ensure they have the same size.\n",
            "  loss_fn = F.mse_loss(pred.unsqueeze(1), yb, reduction='none')\n",
            "<ipython-input-203-01527d76db33>:14: UserWarning: Using a target size (torch.Size([1])) that is different to the input size (torch.Size([1, 1, 1])). This will likely lead to incorrect results due to broadcasting. Please ensure they have the same size.\n",
            "  loss_fn = F.mse_loss(pred.unsqueeze(1), yb, reduction='none')\n"
          ]
        },
        {
          "output_type": "stream",
          "name": "stdout",
          "text": [
            "Epoch [10/100], Loss: nan\n",
            "Epoch [20/100], Loss: nan\n",
            "Epoch [30/100], Loss: nan\n",
            "Epoch [40/100], Loss: nan\n",
            "Epoch [50/100], Loss: nan\n",
            "Epoch [60/100], Loss: nan\n",
            "Epoch [70/100], Loss: nan\n",
            "Epoch [80/100], Loss: nan\n",
            "Epoch [90/100], Loss: nan\n",
            "Epoch [100/100], Loss: nan\n"
          ]
        }
      ]
    },
    {
      "cell_type": "code",
      "source": [
        "model(torch.tensor([5.0700e+02, 6.0000e+01, 3.0000e+00, 8.0000e+01, 9.5540e+03, 1.0000e+00,\n",
        "         2.0000e+00, 0.0000e+00, 3.0000e+00, 0.0000e+00, 4.0000e+00, 0.0000e+00,\n",
        "         2.0000e+01, 2.0000e+00, 2.0000e+00, 0.0000e+00, 5.0000e+00, 8.0000e+00,\n",
        "         5.0000e+00, 1.9930e+03, 1.9940e+03, 1.0000e+00, 1.0000e+00, 1.2000e+01,\n",
        "         1.3000e+01, 1.0000e+00, 1.2500e+02, 2.0000e+00, 4.0000e+00, 2.0000e+00,\n",
        "         2.0000e+00, 3.0000e+00, 3.0000e+00, 2.0000e+00, 3.8000e+02, 5.0000e+00,\n",
        "         0.0000e+00, 3.9700e+02, 7.7700e+02, 1.0000e+00, 0.0000e+00, 1.0000e+00,\n",
        "         4.0000e+00, 1.0650e+03, 8.4600e+02, 0.0000e+00, 1.9110e+03, 0.0000e+00,\n",
        "         0.0000e+00, 2.0000e+00, 1.0000e+00, 3.0000e+00, 1.0000e+00, 2.0000e+00,\n",
        "         8.0000e+00, 6.0000e+00, 1.0000e+00, 4.0000e+00, 1.0000e+00, 1.9930e+03,\n",
        "         1.0000e+00, 2.0000e+00, 4.7100e+02, 4.0000e+00, 4.0000e+00, 2.0000e+00,\n",
        "         1.8200e+02, 8.1000e+01, 0.0000e+00, 0.0000e+00, 0.0000e+00, 0.0000e+00,\n",
        "         3.0000e+00, 4.0000e+00, 4.0000e+00, 0.0000e+00, 9.0000e+00, 2.0060e+03,\n",
        "         8.0000e+00, 4.0000e+00]))"
      ],
      "metadata": {
        "colab": {
          "base_uri": "https://localhost:8080/"
        },
        "id": "JCqDRd10u2b7",
        "outputId": "6d7fe7a0-da44-4212-e7a5-209cd876ef23"
      },
      "execution_count": null,
      "outputs": [
        {
          "output_type": "execute_result",
          "data": {
            "text/plain": [
              "tensor([-159.4886], grad_fn=<ViewBackward0>)"
            ]
          },
          "metadata": {},
          "execution_count": 172
        }
      ]
    },
    {
      "cell_type": "code",
      "source": [
        "preds = model(inputs)\n",
        "preds"
      ],
      "metadata": {
        "colab": {
          "base_uri": "https://localhost:8080/"
        },
        "id": "j3EbBIm7vED4",
        "outputId": "631da201-2a8e-4705-8e21-bc1bf442a990"
      },
      "execution_count": null,
      "outputs": [
        {
          "output_type": "execute_result",
          "data": {
            "text/plain": [
              "tensor([[-134.1738],\n",
              "        [-100.3491],\n",
              "        [-177.4652],\n",
              "        ...,\n",
              "        [-126.8522],\n",
              "        [-114.5823],\n",
              "        [ -81.2015]], grad_fn=<AddmmBackward0>)"
            ]
          },
          "metadata": {},
          "execution_count": 173
        }
      ]
    },
    {
      "cell_type": "code",
      "source": [
        "# prompt: convert my target data into 2d\n",
        "\n",
        "targets = targets.reshape(-1,1)\n",
        "targets.shape()\n"
      ],
      "metadata": {
        "colab": {
          "base_uri": "https://localhost:8080/",
          "height": 183
        },
        "id": "EF444AFZvKua",
        "outputId": "8aca4b4e-5c71-41ac-fc9c-0f997eac0693"
      },
      "execution_count": null,
      "outputs": [
        {
          "output_type": "error",
          "ename": "TypeError",
          "evalue": "'torch.Size' object is not callable",
          "traceback": [
            "\u001b[0;31m---------------------------------------------------------------------------\u001b[0m",
            "\u001b[0;31mTypeError\u001b[0m                                 Traceback (most recent call last)",
            "\u001b[0;32m<ipython-input-180-128641ba9df0>\u001b[0m in \u001b[0;36m<cell line: 4>\u001b[0;34m()\u001b[0m\n\u001b[1;32m      2\u001b[0m \u001b[0;34m\u001b[0m\u001b[0m\n\u001b[1;32m      3\u001b[0m \u001b[0mtargets\u001b[0m \u001b[0;34m=\u001b[0m \u001b[0mtargets\u001b[0m\u001b[0;34m.\u001b[0m\u001b[0mreshape\u001b[0m\u001b[0;34m(\u001b[0m\u001b[0;34m-\u001b[0m\u001b[0;36m1\u001b[0m\u001b[0;34m,\u001b[0m\u001b[0;36m1\u001b[0m\u001b[0;34m)\u001b[0m\u001b[0;34m\u001b[0m\u001b[0;34m\u001b[0m\u001b[0m\n\u001b[0;32m----> 4\u001b[0;31m \u001b[0mtargets\u001b[0m\u001b[0;34m.\u001b[0m\u001b[0mshape\u001b[0m\u001b[0;34m(\u001b[0m\u001b[0;34m)\u001b[0m\u001b[0;34m\u001b[0m\u001b[0;34m\u001b[0m\u001b[0m\n\u001b[0m",
            "\u001b[0;31mTypeError\u001b[0m: 'torch.Size' object is not callable"
          ]
        }
      ]
    },
    {
      "cell_type": "code",
      "source": [
        "# prompt: convert my target variable data into float\n",
        "\n",
        "targets = targets.float()\n",
        "targets.shape()"
      ],
      "metadata": {
        "colab": {
          "base_uri": "https://localhost:8080/",
          "height": 183
        },
        "id": "zIkxHS5fwZFq",
        "outputId": "6ed8279f-13a7-495d-c363-80949409b2b2"
      },
      "execution_count": null,
      "outputs": [
        {
          "output_type": "error",
          "ename": "TypeError",
          "evalue": "'torch.Size' object is not callable",
          "traceback": [
            "\u001b[0;31m---------------------------------------------------------------------------\u001b[0m",
            "\u001b[0;31mTypeError\u001b[0m                                 Traceback (most recent call last)",
            "\u001b[0;32m<ipython-input-187-52ad4e8c981f>\u001b[0m in \u001b[0;36m<cell line: 4>\u001b[0;34m()\u001b[0m\n\u001b[1;32m      2\u001b[0m \u001b[0;34m\u001b[0m\u001b[0m\n\u001b[1;32m      3\u001b[0m \u001b[0mtargets\u001b[0m \u001b[0;34m=\u001b[0m \u001b[0mtargets\u001b[0m\u001b[0;34m.\u001b[0m\u001b[0mfloat\u001b[0m\u001b[0;34m(\u001b[0m\u001b[0;34m)\u001b[0m\u001b[0;34m\u001b[0m\u001b[0;34m\u001b[0m\u001b[0m\n\u001b[0;32m----> 4\u001b[0;31m \u001b[0mtargets\u001b[0m\u001b[0;34m.\u001b[0m\u001b[0mshape\u001b[0m\u001b[0;34m(\u001b[0m\u001b[0;34m)\u001b[0m\u001b[0;34m\u001b[0m\u001b[0;34m\u001b[0m\u001b[0m\n\u001b[0m",
            "\u001b[0;31mTypeError\u001b[0m: 'torch.Size' object is not callable"
          ]
        }
      ]
    },
    {
      "cell_type": "code",
      "source": [],
      "metadata": {
        "id": "Xyyp-0Gmw0sM"
      },
      "execution_count": null,
      "outputs": []
    }
  ]
}