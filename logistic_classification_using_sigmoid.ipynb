{
  "nbformat": 4,
  "nbformat_minor": 0,
  "metadata": {
    "colab": {
      "provenance": [],
      "authorship_tag": "ABX9TyNYrJWz1bwkB5mgdyV5sca/",
      "include_colab_link": true
    },
    "kernelspec": {
      "name": "python3",
      "display_name": "Python 3"
    },
    "language_info": {
      "name": "python"
    }
  },
  "cells": [
    {
      "cell_type": "markdown",
      "metadata": {
        "id": "view-in-github",
        "colab_type": "text"
      },
      "source": [
        "<a href=\"https://colab.research.google.com/github/yash5891/Machine-Learning-Assignments/blob/main/logistic_classification_using_sigmoid.ipynb\" target=\"_parent\"><img src=\"https://colab.research.google.com/assets/colab-badge.svg\" alt=\"Open In Colab\"/></a>"
      ]
    },
    {
      "cell_type": "code",
      "execution_count": 56,
      "metadata": {
        "id": "1dgMTY5LcHlK"
      },
      "outputs": [],
      "source": [
        "import torch\n",
        "import numpy as np\n",
        "import pandas as pd\n"
      ]
    },
    {
      "cell_type": "code",
      "source": [
        "df=pd.read_csv('/content/creditcard.csv')\n",
        "df"
      ],
      "metadata": {
        "colab": {
          "base_uri": "https://localhost:8080/",
          "height": 480
        },
        "id": "0GwLmVeldABZ",
        "outputId": "406002c3-4e55-4150-d804-5e012744df21"
      },
      "execution_count": 57,
      "outputs": [
        {
          "output_type": "stream",
          "name": "stderr",
          "text": [
            "<ipython-input-57-9b4e49130649>:1: DtypeWarning: Columns (28) have mixed types. Specify dtype option on import or set low_memory=False.\n",
            "  df=pd.read_csv('/content/creditcard.csv')\n"
          ]
        },
        {
          "output_type": "execute_result",
          "data": {
            "text/plain": [
              "         Time         V1         V2        V3        V4        V5        V6  \\\n",
              "0           0  -1.359807  -0.072781  2.536347  1.378155 -0.338321  0.462388   \n",
              "1           0   1.191857   0.266151  0.166480  0.448154  0.060018 -0.082361   \n",
              "2           1  -1.358354  -1.340163  1.773209  0.379780 -0.503198  1.800499   \n",
              "3           1  -0.966272  -0.185226  1.792993 -0.863291 -0.010309  1.247203   \n",
              "4           2  -1.158233   0.877737  1.548718  0.403034 -0.407193  0.095921   \n",
              "...       ...        ...        ...       ...       ...       ...       ...   \n",
              "136737  81844 -10.972016 -10.165075  0.579235  1.914312  3.971221 -3.571746   \n",
              "136738  81844   1.424511  -1.481277  0.827126 -1.263302 -1.806258  0.125942   \n",
              "136739  81845   1.067404   0.087153  0.100938  0.986393 -0.082482 -0.412316   \n",
              "136740  81846  -0.833219   0.746826  1.747488 -0.016827 -0.406360  0.205399   \n",
              "136741  81847  -0.418805   0.740210 -0.340755 -0.849297  2.720622  3.617123   \n",
              "\n",
              "              V7        V8        V9  ...       V21       V22       V23  \\\n",
              "0       0.239599  0.098698  0.363787  ... -0.018307  0.277838 -0.110474   \n",
              "1      -0.078803  0.085102 -0.255425  ... -0.225775 -0.638672  0.101288   \n",
              "2       0.791461  0.247676 -1.514654  ...  0.247998  0.771679  0.909412   \n",
              "3       0.237609  0.377436 -1.387024  ... -0.108300  0.005274 -0.190321   \n",
              "4       0.592941 -0.270533  0.817739  ... -0.009431  0.798278 -0.137458   \n",
              "...          ...       ...       ...  ...       ...       ...       ...   \n",
              "136737 -1.678594 -0.472964  1.746022  ... -1.950947  1.310955  3.551754   \n",
              "136738 -1.553317  0.090583 -0.915535  ... -0.275377 -0.339339 -0.071301   \n",
              "136739  0.255298 -0.118738 -0.350417  ...  0.113590  0.182403 -0.230636   \n",
              "136740 -0.314283  0.605285  0.109673  ... -0.001167  0.019274 -0.191846   \n",
              "136741  0.524513  0.658118  0.207301  ... -0.160854 -0.264370 -0.207264   \n",
              "\n",
              "             V24       V25       V26       V27                 V28  Amount  \\\n",
              "0       0.066928  0.128539 -0.189115  0.133558           -0.021053  149.62   \n",
              "1      -0.339846  0.167170  0.125895 -0.008983            0.014724    2.69   \n",
              "2      -0.689281 -0.327642 -0.139097 -0.055353           -0.059752  378.66   \n",
              "3      -1.175575  0.647376 -0.221929  0.062723            0.061458  123.50   \n",
              "4       0.141267 -0.206010  0.502292  0.219422            0.215153   69.99   \n",
              "...          ...       ...       ...       ...                 ...     ...   \n",
              "136737  0.384646  1.611309  1.441667  2.522778   -1.41864956210692  117.02   \n",
              "136738 -0.464163  0.329077 -0.146875  0.066696  0.0310399021239038   58.00   \n",
              "136739  0.035431  0.690598 -0.336135 -0.002191  0.0222817106909724   85.90   \n",
              "136740 -0.389853 -0.148594  0.426455 -0.013927  0.0384589819489235    6.80   \n",
              "136741  0.987706  0.237498 -0.580972 -0.119332                   -     NaN   \n",
              "\n",
              "        Class  \n",
              "0         0.0  \n",
              "1         0.0  \n",
              "2         0.0  \n",
              "3         0.0  \n",
              "4         0.0  \n",
              "...       ...  \n",
              "136737    0.0  \n",
              "136738    0.0  \n",
              "136739    0.0  \n",
              "136740    0.0  \n",
              "136741    NaN  \n",
              "\n",
              "[136742 rows x 31 columns]"
            ],
            "text/html": [
              "\n",
              "  <div id=\"df-f4ec3817-0778-4322-9bfe-81e335db55c3\" class=\"colab-df-container\">\n",
              "    <div>\n",
              "<style scoped>\n",
              "    .dataframe tbody tr th:only-of-type {\n",
              "        vertical-align: middle;\n",
              "    }\n",
              "\n",
              "    .dataframe tbody tr th {\n",
              "        vertical-align: top;\n",
              "    }\n",
              "\n",
              "    .dataframe thead th {\n",
              "        text-align: right;\n",
              "    }\n",
              "</style>\n",
              "<table border=\"1\" class=\"dataframe\">\n",
              "  <thead>\n",
              "    <tr style=\"text-align: right;\">\n",
              "      <th></th>\n",
              "      <th>Time</th>\n",
              "      <th>V1</th>\n",
              "      <th>V2</th>\n",
              "      <th>V3</th>\n",
              "      <th>V4</th>\n",
              "      <th>V5</th>\n",
              "      <th>V6</th>\n",
              "      <th>V7</th>\n",
              "      <th>V8</th>\n",
              "      <th>V9</th>\n",
              "      <th>...</th>\n",
              "      <th>V21</th>\n",
              "      <th>V22</th>\n",
              "      <th>V23</th>\n",
              "      <th>V24</th>\n",
              "      <th>V25</th>\n",
              "      <th>V26</th>\n",
              "      <th>V27</th>\n",
              "      <th>V28</th>\n",
              "      <th>Amount</th>\n",
              "      <th>Class</th>\n",
              "    </tr>\n",
              "  </thead>\n",
              "  <tbody>\n",
              "    <tr>\n",
              "      <th>0</th>\n",
              "      <td>0</td>\n",
              "      <td>-1.359807</td>\n",
              "      <td>-0.072781</td>\n",
              "      <td>2.536347</td>\n",
              "      <td>1.378155</td>\n",
              "      <td>-0.338321</td>\n",
              "      <td>0.462388</td>\n",
              "      <td>0.239599</td>\n",
              "      <td>0.098698</td>\n",
              "      <td>0.363787</td>\n",
              "      <td>...</td>\n",
              "      <td>-0.018307</td>\n",
              "      <td>0.277838</td>\n",
              "      <td>-0.110474</td>\n",
              "      <td>0.066928</td>\n",
              "      <td>0.128539</td>\n",
              "      <td>-0.189115</td>\n",
              "      <td>0.133558</td>\n",
              "      <td>-0.021053</td>\n",
              "      <td>149.62</td>\n",
              "      <td>0.0</td>\n",
              "    </tr>\n",
              "    <tr>\n",
              "      <th>1</th>\n",
              "      <td>0</td>\n",
              "      <td>1.191857</td>\n",
              "      <td>0.266151</td>\n",
              "      <td>0.166480</td>\n",
              "      <td>0.448154</td>\n",
              "      <td>0.060018</td>\n",
              "      <td>-0.082361</td>\n",
              "      <td>-0.078803</td>\n",
              "      <td>0.085102</td>\n",
              "      <td>-0.255425</td>\n",
              "      <td>...</td>\n",
              "      <td>-0.225775</td>\n",
              "      <td>-0.638672</td>\n",
              "      <td>0.101288</td>\n",
              "      <td>-0.339846</td>\n",
              "      <td>0.167170</td>\n",
              "      <td>0.125895</td>\n",
              "      <td>-0.008983</td>\n",
              "      <td>0.014724</td>\n",
              "      <td>2.69</td>\n",
              "      <td>0.0</td>\n",
              "    </tr>\n",
              "    <tr>\n",
              "      <th>2</th>\n",
              "      <td>1</td>\n",
              "      <td>-1.358354</td>\n",
              "      <td>-1.340163</td>\n",
              "      <td>1.773209</td>\n",
              "      <td>0.379780</td>\n",
              "      <td>-0.503198</td>\n",
              "      <td>1.800499</td>\n",
              "      <td>0.791461</td>\n",
              "      <td>0.247676</td>\n",
              "      <td>-1.514654</td>\n",
              "      <td>...</td>\n",
              "      <td>0.247998</td>\n",
              "      <td>0.771679</td>\n",
              "      <td>0.909412</td>\n",
              "      <td>-0.689281</td>\n",
              "      <td>-0.327642</td>\n",
              "      <td>-0.139097</td>\n",
              "      <td>-0.055353</td>\n",
              "      <td>-0.059752</td>\n",
              "      <td>378.66</td>\n",
              "      <td>0.0</td>\n",
              "    </tr>\n",
              "    <tr>\n",
              "      <th>3</th>\n",
              "      <td>1</td>\n",
              "      <td>-0.966272</td>\n",
              "      <td>-0.185226</td>\n",
              "      <td>1.792993</td>\n",
              "      <td>-0.863291</td>\n",
              "      <td>-0.010309</td>\n",
              "      <td>1.247203</td>\n",
              "      <td>0.237609</td>\n",
              "      <td>0.377436</td>\n",
              "      <td>-1.387024</td>\n",
              "      <td>...</td>\n",
              "      <td>-0.108300</td>\n",
              "      <td>0.005274</td>\n",
              "      <td>-0.190321</td>\n",
              "      <td>-1.175575</td>\n",
              "      <td>0.647376</td>\n",
              "      <td>-0.221929</td>\n",
              "      <td>0.062723</td>\n",
              "      <td>0.061458</td>\n",
              "      <td>123.50</td>\n",
              "      <td>0.0</td>\n",
              "    </tr>\n",
              "    <tr>\n",
              "      <th>4</th>\n",
              "      <td>2</td>\n",
              "      <td>-1.158233</td>\n",
              "      <td>0.877737</td>\n",
              "      <td>1.548718</td>\n",
              "      <td>0.403034</td>\n",
              "      <td>-0.407193</td>\n",
              "      <td>0.095921</td>\n",
              "      <td>0.592941</td>\n",
              "      <td>-0.270533</td>\n",
              "      <td>0.817739</td>\n",
              "      <td>...</td>\n",
              "      <td>-0.009431</td>\n",
              "      <td>0.798278</td>\n",
              "      <td>-0.137458</td>\n",
              "      <td>0.141267</td>\n",
              "      <td>-0.206010</td>\n",
              "      <td>0.502292</td>\n",
              "      <td>0.219422</td>\n",
              "      <td>0.215153</td>\n",
              "      <td>69.99</td>\n",
              "      <td>0.0</td>\n",
              "    </tr>\n",
              "    <tr>\n",
              "      <th>...</th>\n",
              "      <td>...</td>\n",
              "      <td>...</td>\n",
              "      <td>...</td>\n",
              "      <td>...</td>\n",
              "      <td>...</td>\n",
              "      <td>...</td>\n",
              "      <td>...</td>\n",
              "      <td>...</td>\n",
              "      <td>...</td>\n",
              "      <td>...</td>\n",
              "      <td>...</td>\n",
              "      <td>...</td>\n",
              "      <td>...</td>\n",
              "      <td>...</td>\n",
              "      <td>...</td>\n",
              "      <td>...</td>\n",
              "      <td>...</td>\n",
              "      <td>...</td>\n",
              "      <td>...</td>\n",
              "      <td>...</td>\n",
              "      <td>...</td>\n",
              "    </tr>\n",
              "    <tr>\n",
              "      <th>136737</th>\n",
              "      <td>81844</td>\n",
              "      <td>-10.972016</td>\n",
              "      <td>-10.165075</td>\n",
              "      <td>0.579235</td>\n",
              "      <td>1.914312</td>\n",
              "      <td>3.971221</td>\n",
              "      <td>-3.571746</td>\n",
              "      <td>-1.678594</td>\n",
              "      <td>-0.472964</td>\n",
              "      <td>1.746022</td>\n",
              "      <td>...</td>\n",
              "      <td>-1.950947</td>\n",
              "      <td>1.310955</td>\n",
              "      <td>3.551754</td>\n",
              "      <td>0.384646</td>\n",
              "      <td>1.611309</td>\n",
              "      <td>1.441667</td>\n",
              "      <td>2.522778</td>\n",
              "      <td>-1.41864956210692</td>\n",
              "      <td>117.02</td>\n",
              "      <td>0.0</td>\n",
              "    </tr>\n",
              "    <tr>\n",
              "      <th>136738</th>\n",
              "      <td>81844</td>\n",
              "      <td>1.424511</td>\n",
              "      <td>-1.481277</td>\n",
              "      <td>0.827126</td>\n",
              "      <td>-1.263302</td>\n",
              "      <td>-1.806258</td>\n",
              "      <td>0.125942</td>\n",
              "      <td>-1.553317</td>\n",
              "      <td>0.090583</td>\n",
              "      <td>-0.915535</td>\n",
              "      <td>...</td>\n",
              "      <td>-0.275377</td>\n",
              "      <td>-0.339339</td>\n",
              "      <td>-0.071301</td>\n",
              "      <td>-0.464163</td>\n",
              "      <td>0.329077</td>\n",
              "      <td>-0.146875</td>\n",
              "      <td>0.066696</td>\n",
              "      <td>0.0310399021239038</td>\n",
              "      <td>58.00</td>\n",
              "      <td>0.0</td>\n",
              "    </tr>\n",
              "    <tr>\n",
              "      <th>136739</th>\n",
              "      <td>81845</td>\n",
              "      <td>1.067404</td>\n",
              "      <td>0.087153</td>\n",
              "      <td>0.100938</td>\n",
              "      <td>0.986393</td>\n",
              "      <td>-0.082482</td>\n",
              "      <td>-0.412316</td>\n",
              "      <td>0.255298</td>\n",
              "      <td>-0.118738</td>\n",
              "      <td>-0.350417</td>\n",
              "      <td>...</td>\n",
              "      <td>0.113590</td>\n",
              "      <td>0.182403</td>\n",
              "      <td>-0.230636</td>\n",
              "      <td>0.035431</td>\n",
              "      <td>0.690598</td>\n",
              "      <td>-0.336135</td>\n",
              "      <td>-0.002191</td>\n",
              "      <td>0.0222817106909724</td>\n",
              "      <td>85.90</td>\n",
              "      <td>0.0</td>\n",
              "    </tr>\n",
              "    <tr>\n",
              "      <th>136740</th>\n",
              "      <td>81846</td>\n",
              "      <td>-0.833219</td>\n",
              "      <td>0.746826</td>\n",
              "      <td>1.747488</td>\n",
              "      <td>-0.016827</td>\n",
              "      <td>-0.406360</td>\n",
              "      <td>0.205399</td>\n",
              "      <td>-0.314283</td>\n",
              "      <td>0.605285</td>\n",
              "      <td>0.109673</td>\n",
              "      <td>...</td>\n",
              "      <td>-0.001167</td>\n",
              "      <td>0.019274</td>\n",
              "      <td>-0.191846</td>\n",
              "      <td>-0.389853</td>\n",
              "      <td>-0.148594</td>\n",
              "      <td>0.426455</td>\n",
              "      <td>-0.013927</td>\n",
              "      <td>0.0384589819489235</td>\n",
              "      <td>6.80</td>\n",
              "      <td>0.0</td>\n",
              "    </tr>\n",
              "    <tr>\n",
              "      <th>136741</th>\n",
              "      <td>81847</td>\n",
              "      <td>-0.418805</td>\n",
              "      <td>0.740210</td>\n",
              "      <td>-0.340755</td>\n",
              "      <td>-0.849297</td>\n",
              "      <td>2.720622</td>\n",
              "      <td>3.617123</td>\n",
              "      <td>0.524513</td>\n",
              "      <td>0.658118</td>\n",
              "      <td>0.207301</td>\n",
              "      <td>...</td>\n",
              "      <td>-0.160854</td>\n",
              "      <td>-0.264370</td>\n",
              "      <td>-0.207264</td>\n",
              "      <td>0.987706</td>\n",
              "      <td>0.237498</td>\n",
              "      <td>-0.580972</td>\n",
              "      <td>-0.119332</td>\n",
              "      <td>-</td>\n",
              "      <td>NaN</td>\n",
              "      <td>NaN</td>\n",
              "    </tr>\n",
              "  </tbody>\n",
              "</table>\n",
              "<p>136742 rows × 31 columns</p>\n",
              "</div>\n",
              "    <div class=\"colab-df-buttons\">\n",
              "\n",
              "  <div class=\"colab-df-container\">\n",
              "    <button class=\"colab-df-convert\" onclick=\"convertToInteractive('df-f4ec3817-0778-4322-9bfe-81e335db55c3')\"\n",
              "            title=\"Convert this dataframe to an interactive table.\"\n",
              "            style=\"display:none;\">\n",
              "\n",
              "  <svg xmlns=\"http://www.w3.org/2000/svg\" height=\"24px\" viewBox=\"0 -960 960 960\">\n",
              "    <path d=\"M120-120v-720h720v720H120Zm60-500h600v-160H180v160Zm220 220h160v-160H400v160Zm0 220h160v-160H400v160ZM180-400h160v-160H180v160Zm440 0h160v-160H620v160ZM180-180h160v-160H180v160Zm440 0h160v-160H620v160Z\"/>\n",
              "  </svg>\n",
              "    </button>\n",
              "\n",
              "  <style>\n",
              "    .colab-df-container {\n",
              "      display:flex;\n",
              "      gap: 12px;\n",
              "    }\n",
              "\n",
              "    .colab-df-convert {\n",
              "      background-color: #E8F0FE;\n",
              "      border: none;\n",
              "      border-radius: 50%;\n",
              "      cursor: pointer;\n",
              "      display: none;\n",
              "      fill: #1967D2;\n",
              "      height: 32px;\n",
              "      padding: 0 0 0 0;\n",
              "      width: 32px;\n",
              "    }\n",
              "\n",
              "    .colab-df-convert:hover {\n",
              "      background-color: #E2EBFA;\n",
              "      box-shadow: 0px 1px 2px rgba(60, 64, 67, 0.3), 0px 1px 3px 1px rgba(60, 64, 67, 0.15);\n",
              "      fill: #174EA6;\n",
              "    }\n",
              "\n",
              "    .colab-df-buttons div {\n",
              "      margin-bottom: 4px;\n",
              "    }\n",
              "\n",
              "    [theme=dark] .colab-df-convert {\n",
              "      background-color: #3B4455;\n",
              "      fill: #D2E3FC;\n",
              "    }\n",
              "\n",
              "    [theme=dark] .colab-df-convert:hover {\n",
              "      background-color: #434B5C;\n",
              "      box-shadow: 0px 1px 3px 1px rgba(0, 0, 0, 0.15);\n",
              "      filter: drop-shadow(0px 1px 2px rgba(0, 0, 0, 0.3));\n",
              "      fill: #FFFFFF;\n",
              "    }\n",
              "  </style>\n",
              "\n",
              "    <script>\n",
              "      const buttonEl =\n",
              "        document.querySelector('#df-f4ec3817-0778-4322-9bfe-81e335db55c3 button.colab-df-convert');\n",
              "      buttonEl.style.display =\n",
              "        google.colab.kernel.accessAllowed ? 'block' : 'none';\n",
              "\n",
              "      async function convertToInteractive(key) {\n",
              "        const element = document.querySelector('#df-f4ec3817-0778-4322-9bfe-81e335db55c3');\n",
              "        const dataTable =\n",
              "          await google.colab.kernel.invokeFunction('convertToInteractive',\n",
              "                                                    [key], {});\n",
              "        if (!dataTable) return;\n",
              "\n",
              "        const docLinkHtml = 'Like what you see? Visit the ' +\n",
              "          '<a target=\"_blank\" href=https://colab.research.google.com/notebooks/data_table.ipynb>data table notebook</a>'\n",
              "          + ' to learn more about interactive tables.';\n",
              "        element.innerHTML = '';\n",
              "        dataTable['output_type'] = 'display_data';\n",
              "        await google.colab.output.renderOutput(dataTable, element);\n",
              "        const docLink = document.createElement('div');\n",
              "        docLink.innerHTML = docLinkHtml;\n",
              "        element.appendChild(docLink);\n",
              "      }\n",
              "    </script>\n",
              "  </div>\n",
              "\n",
              "\n",
              "<div id=\"df-d900eeca-e0c4-4cf2-88a5-d504297295a9\">\n",
              "  <button class=\"colab-df-quickchart\" onclick=\"quickchart('df-d900eeca-e0c4-4cf2-88a5-d504297295a9')\"\n",
              "            title=\"Suggest charts\"\n",
              "            style=\"display:none;\">\n",
              "\n",
              "<svg xmlns=\"http://www.w3.org/2000/svg\" height=\"24px\"viewBox=\"0 0 24 24\"\n",
              "     width=\"24px\">\n",
              "    <g>\n",
              "        <path d=\"M19 3H5c-1.1 0-2 .9-2 2v14c0 1.1.9 2 2 2h14c1.1 0 2-.9 2-2V5c0-1.1-.9-2-2-2zM9 17H7v-7h2v7zm4 0h-2V7h2v10zm4 0h-2v-4h2v4z\"/>\n",
              "    </g>\n",
              "</svg>\n",
              "  </button>\n",
              "\n",
              "<style>\n",
              "  .colab-df-quickchart {\n",
              "      --bg-color: #E8F0FE;\n",
              "      --fill-color: #1967D2;\n",
              "      --hover-bg-color: #E2EBFA;\n",
              "      --hover-fill-color: #174EA6;\n",
              "      --disabled-fill-color: #AAA;\n",
              "      --disabled-bg-color: #DDD;\n",
              "  }\n",
              "\n",
              "  [theme=dark] .colab-df-quickchart {\n",
              "      --bg-color: #3B4455;\n",
              "      --fill-color: #D2E3FC;\n",
              "      --hover-bg-color: #434B5C;\n",
              "      --hover-fill-color: #FFFFFF;\n",
              "      --disabled-bg-color: #3B4455;\n",
              "      --disabled-fill-color: #666;\n",
              "  }\n",
              "\n",
              "  .colab-df-quickchart {\n",
              "    background-color: var(--bg-color);\n",
              "    border: none;\n",
              "    border-radius: 50%;\n",
              "    cursor: pointer;\n",
              "    display: none;\n",
              "    fill: var(--fill-color);\n",
              "    height: 32px;\n",
              "    padding: 0;\n",
              "    width: 32px;\n",
              "  }\n",
              "\n",
              "  .colab-df-quickchart:hover {\n",
              "    background-color: var(--hover-bg-color);\n",
              "    box-shadow: 0 1px 2px rgba(60, 64, 67, 0.3), 0 1px 3px 1px rgba(60, 64, 67, 0.15);\n",
              "    fill: var(--button-hover-fill-color);\n",
              "  }\n",
              "\n",
              "  .colab-df-quickchart-complete:disabled,\n",
              "  .colab-df-quickchart-complete:disabled:hover {\n",
              "    background-color: var(--disabled-bg-color);\n",
              "    fill: var(--disabled-fill-color);\n",
              "    box-shadow: none;\n",
              "  }\n",
              "\n",
              "  .colab-df-spinner {\n",
              "    border: 2px solid var(--fill-color);\n",
              "    border-color: transparent;\n",
              "    border-bottom-color: var(--fill-color);\n",
              "    animation:\n",
              "      spin 1s steps(1) infinite;\n",
              "  }\n",
              "\n",
              "  @keyframes spin {\n",
              "    0% {\n",
              "      border-color: transparent;\n",
              "      border-bottom-color: var(--fill-color);\n",
              "      border-left-color: var(--fill-color);\n",
              "    }\n",
              "    20% {\n",
              "      border-color: transparent;\n",
              "      border-left-color: var(--fill-color);\n",
              "      border-top-color: var(--fill-color);\n",
              "    }\n",
              "    30% {\n",
              "      border-color: transparent;\n",
              "      border-left-color: var(--fill-color);\n",
              "      border-top-color: var(--fill-color);\n",
              "      border-right-color: var(--fill-color);\n",
              "    }\n",
              "    40% {\n",
              "      border-color: transparent;\n",
              "      border-right-color: var(--fill-color);\n",
              "      border-top-color: var(--fill-color);\n",
              "    }\n",
              "    60% {\n",
              "      border-color: transparent;\n",
              "      border-right-color: var(--fill-color);\n",
              "    }\n",
              "    80% {\n",
              "      border-color: transparent;\n",
              "      border-right-color: var(--fill-color);\n",
              "      border-bottom-color: var(--fill-color);\n",
              "    }\n",
              "    90% {\n",
              "      border-color: transparent;\n",
              "      border-bottom-color: var(--fill-color);\n",
              "    }\n",
              "  }\n",
              "</style>\n",
              "\n",
              "  <script>\n",
              "    async function quickchart(key) {\n",
              "      const quickchartButtonEl =\n",
              "        document.querySelector('#' + key + ' button');\n",
              "      quickchartButtonEl.disabled = true;  // To prevent multiple clicks.\n",
              "      quickchartButtonEl.classList.add('colab-df-spinner');\n",
              "      try {\n",
              "        const charts = await google.colab.kernel.invokeFunction(\n",
              "            'suggestCharts', [key], {});\n",
              "      } catch (error) {\n",
              "        console.error('Error during call to suggestCharts:', error);\n",
              "      }\n",
              "      quickchartButtonEl.classList.remove('colab-df-spinner');\n",
              "      quickchartButtonEl.classList.add('colab-df-quickchart-complete');\n",
              "    }\n",
              "    (() => {\n",
              "      let quickchartButtonEl =\n",
              "        document.querySelector('#df-d900eeca-e0c4-4cf2-88a5-d504297295a9 button');\n",
              "      quickchartButtonEl.style.display =\n",
              "        google.colab.kernel.accessAllowed ? 'block' : 'none';\n",
              "    })();\n",
              "  </script>\n",
              "</div>\n",
              "\n",
              "  <div id=\"id_74bee8f3-6365-4ad9-a146-9f59db84ddf2\">\n",
              "    <style>\n",
              "      .colab-df-generate {\n",
              "        background-color: #E8F0FE;\n",
              "        border: none;\n",
              "        border-radius: 50%;\n",
              "        cursor: pointer;\n",
              "        display: none;\n",
              "        fill: #1967D2;\n",
              "        height: 32px;\n",
              "        padding: 0 0 0 0;\n",
              "        width: 32px;\n",
              "      }\n",
              "\n",
              "      .colab-df-generate:hover {\n",
              "        background-color: #E2EBFA;\n",
              "        box-shadow: 0px 1px 2px rgba(60, 64, 67, 0.3), 0px 1px 3px 1px rgba(60, 64, 67, 0.15);\n",
              "        fill: #174EA6;\n",
              "      }\n",
              "\n",
              "      [theme=dark] .colab-df-generate {\n",
              "        background-color: #3B4455;\n",
              "        fill: #D2E3FC;\n",
              "      }\n",
              "\n",
              "      [theme=dark] .colab-df-generate:hover {\n",
              "        background-color: #434B5C;\n",
              "        box-shadow: 0px 1px 3px 1px rgba(0, 0, 0, 0.15);\n",
              "        filter: drop-shadow(0px 1px 2px rgba(0, 0, 0, 0.3));\n",
              "        fill: #FFFFFF;\n",
              "      }\n",
              "    </style>\n",
              "    <button class=\"colab-df-generate\" onclick=\"generateWithVariable('df')\"\n",
              "            title=\"Generate code using this dataframe.\"\n",
              "            style=\"display:none;\">\n",
              "\n",
              "  <svg xmlns=\"http://www.w3.org/2000/svg\" height=\"24px\"viewBox=\"0 0 24 24\"\n",
              "       width=\"24px\">\n",
              "    <path d=\"M7,19H8.4L18.45,9,17,7.55,7,17.6ZM5,21V16.75L18.45,3.32a2,2,0,0,1,2.83,0l1.4,1.43a1.91,1.91,0,0,1,.58,1.4,1.91,1.91,0,0,1-.58,1.4L9.25,21ZM18.45,9,17,7.55Zm-12,3A5.31,5.31,0,0,0,4.9,8.1,5.31,5.31,0,0,0,1,6.5,5.31,5.31,0,0,0,4.9,4.9,5.31,5.31,0,0,0,6.5,1,5.31,5.31,0,0,0,8.1,4.9,5.31,5.31,0,0,0,12,6.5,5.46,5.46,0,0,0,6.5,12Z\"/>\n",
              "  </svg>\n",
              "    </button>\n",
              "    <script>\n",
              "      (() => {\n",
              "      const buttonEl =\n",
              "        document.querySelector('#id_74bee8f3-6365-4ad9-a146-9f59db84ddf2 button.colab-df-generate');\n",
              "      buttonEl.style.display =\n",
              "        google.colab.kernel.accessAllowed ? 'block' : 'none';\n",
              "\n",
              "      buttonEl.onclick = () => {\n",
              "        google.colab.notebook.generateWithVariable('df');\n",
              "      }\n",
              "      })();\n",
              "    </script>\n",
              "  </div>\n",
              "\n",
              "    </div>\n",
              "  </div>\n"
            ],
            "application/vnd.google.colaboratory.intrinsic+json": {
              "type": "dataframe",
              "variable_name": "df"
            }
          },
          "metadata": {},
          "execution_count": 57
        }
      ]
    },
    {
      "cell_type": "code",
      "source": [
        "# prompt: convert my df data set into tensor\n",
        "\n",
        "df_tensor = torch.tensor(df.values)\n",
        "\n",
        "df_tensor"
      ],
      "metadata": {
        "colab": {
          "base_uri": "https://localhost:8080/",
          "height": 238
        },
        "id": "KQ2JU8XJgt_E",
        "outputId": "86ea281a-c0a0-490b-fadc-9f6a74a94e9f"
      },
      "execution_count": 58,
      "outputs": [
        {
          "output_type": "error",
          "ename": "TypeError",
          "evalue": "can't convert np.ndarray of type numpy.object_. The only supported types are: float64, float32, float16, complex64, complex128, int64, int32, int16, int8, uint64, uint32, uint16, uint8, and bool.",
          "traceback": [
            "\u001b[0;31m---------------------------------------------------------------------------\u001b[0m",
            "\u001b[0;31mTypeError\u001b[0m                                 Traceback (most recent call last)",
            "\u001b[0;32m<ipython-input-58-144e50a6df61>\u001b[0m in \u001b[0;36m<cell line: 3>\u001b[0;34m()\u001b[0m\n\u001b[1;32m      1\u001b[0m \u001b[0;31m# prompt: convert my df data set into tensor\u001b[0m\u001b[0;34m\u001b[0m\u001b[0;34m\u001b[0m\u001b[0m\n\u001b[1;32m      2\u001b[0m \u001b[0;34m\u001b[0m\u001b[0m\n\u001b[0;32m----> 3\u001b[0;31m \u001b[0mdf_tensor\u001b[0m \u001b[0;34m=\u001b[0m \u001b[0mtorch\u001b[0m\u001b[0;34m.\u001b[0m\u001b[0mtensor\u001b[0m\u001b[0;34m(\u001b[0m\u001b[0mdf\u001b[0m\u001b[0;34m.\u001b[0m\u001b[0mvalues\u001b[0m\u001b[0;34m)\u001b[0m\u001b[0;34m\u001b[0m\u001b[0;34m\u001b[0m\u001b[0m\n\u001b[0m\u001b[1;32m      4\u001b[0m \u001b[0;34m\u001b[0m\u001b[0m\n\u001b[1;32m      5\u001b[0m \u001b[0mdf_tensor\u001b[0m\u001b[0;34m\u001b[0m\u001b[0;34m\u001b[0m\u001b[0m\n",
            "\u001b[0;31mTypeError\u001b[0m: can't convert np.ndarray of type numpy.object_. The only supported types are: float64, float32, float16, complex64, complex128, int64, int32, int16, int8, uint64, uint32, uint16, uint8, and bool."
          ]
        }
      ]
    },
    {
      "cell_type": "code",
      "source": [
        "\n",
        "df.info()"
      ],
      "metadata": {
        "colab": {
          "base_uri": "https://localhost:8080/"
        },
        "id": "gUhwOT3bdFl9",
        "outputId": "73805098-311f-4d56-80e2-e6c36906641b"
      },
      "execution_count": 59,
      "outputs": [
        {
          "output_type": "stream",
          "name": "stdout",
          "text": [
            "<class 'pandas.core.frame.DataFrame'>\n",
            "RangeIndex: 136742 entries, 0 to 136741\n",
            "Data columns (total 31 columns):\n",
            " #   Column  Non-Null Count   Dtype  \n",
            "---  ------  --------------   -----  \n",
            " 0   Time    136742 non-null  int64  \n",
            " 1   V1      136742 non-null  float64\n",
            " 2   V2      136742 non-null  float64\n",
            " 3   V3      136742 non-null  float64\n",
            " 4   V4      136742 non-null  float64\n",
            " 5   V5      136742 non-null  float64\n",
            " 6   V6      136742 non-null  float64\n",
            " 7   V7      136742 non-null  float64\n",
            " 8   V8      136742 non-null  float64\n",
            " 9   V9      136742 non-null  float64\n",
            " 10  V10     136742 non-null  float64\n",
            " 11  V11     136742 non-null  float64\n",
            " 12  V12     136742 non-null  float64\n",
            " 13  V13     136742 non-null  float64\n",
            " 14  V14     136742 non-null  float64\n",
            " 15  V15     136742 non-null  float64\n",
            " 16  V16     136742 non-null  float64\n",
            " 17  V17     136742 non-null  float64\n",
            " 18  V18     136742 non-null  float64\n",
            " 19  V19     136742 non-null  float64\n",
            " 20  V20     136742 non-null  float64\n",
            " 21  V21     136742 non-null  float64\n",
            " 22  V22     136742 non-null  float64\n",
            " 23  V23     136742 non-null  float64\n",
            " 24  V24     136742 non-null  float64\n",
            " 25  V25     136742 non-null  float64\n",
            " 26  V26     136742 non-null  float64\n",
            " 27  V27     136742 non-null  float64\n",
            " 28  V28     136742 non-null  object \n",
            " 29  Amount  136741 non-null  float64\n",
            " 30  Class   136741 non-null  float64\n",
            "dtypes: float64(29), int64(1), object(1)\n",
            "memory usage: 32.3+ MB\n"
          ]
        }
      ]
    },
    {
      "cell_type": "code",
      "source": [
        "# prompt: convert df into float\n",
        "\n"
      ],
      "metadata": {
        "id": "16jajripdWu_"
      },
      "execution_count": null,
      "outputs": []
    },
    {
      "cell_type": "code",
      "source": [],
      "metadata": {
        "id": "fNBMJomyhKBG"
      },
      "execution_count": null,
      "outputs": []
    },
    {
      "cell_type": "code",
      "source": [
        "df_tensor.shape"
      ],
      "metadata": {
        "id": "lucRIRHUr6B_"
      },
      "execution_count": null,
      "outputs": []
    },
    {
      "cell_type": "code",
      "source": [
        "# inputs=df.drop('Class',axis=1)\n",
        "# target=df['Class']\n",
        "\n",
        "inputs = df_tensor[:,:-1]\n",
        "targets = df_tensor[:,-1]"
      ],
      "metadata": {
        "id": "kRgqTM8Hd5Ay"
      },
      "execution_count": 60,
      "outputs": []
    },
    {
      "cell_type": "code",
      "source": [
        "\n",
        "inputs = inputs.type(torch.float32)\n",
        "\n",
        "inputs.shape"
      ],
      "metadata": {
        "colab": {
          "base_uri": "https://localhost:8080/"
        },
        "id": "hgAPDT0rxCmu",
        "outputId": "3e3c36c1-1562-4191-98d9-38f8f8c14397"
      },
      "execution_count": 61,
      "outputs": [
        {
          "output_type": "execute_result",
          "data": {
            "text/plain": [
              "torch.Size([9965, 30])"
            ]
          },
          "metadata": {},
          "execution_count": 61
        }
      ]
    },
    {
      "cell_type": "code",
      "source": [
        "from torch.utils.data import TensorDataset\n",
        "train_ds = TensorDataset(inputs, targets)\n",
        "train_ds[0:3]"
      ],
      "metadata": {
        "colab": {
          "base_uri": "https://localhost:8080/"
        },
        "id": "FslNQPWAeEMB",
        "outputId": "733f53a6-d7c4-4162-a500-4cb1e560462b"
      },
      "execution_count": 62,
      "outputs": [
        {
          "output_type": "execute_result",
          "data": {
            "text/plain": [
              "(tensor([[ 0.0000e+00, -1.3598e+00, -7.2781e-02,  2.5363e+00,  1.3782e+00,\n",
              "          -3.3832e-01,  4.6239e-01,  2.3960e-01,  9.8698e-02,  3.6379e-01,\n",
              "           9.0794e-02, -5.5160e-01, -6.1780e-01, -9.9139e-01, -3.1117e-01,\n",
              "           1.4682e+00, -4.7040e-01,  2.0797e-01,  2.5791e-02,  4.0399e-01,\n",
              "           2.5141e-01, -1.8307e-02,  2.7784e-01, -1.1047e-01,  6.6928e-02,\n",
              "           1.2854e-01, -1.8911e-01,  1.3356e-01, -2.1053e-02,  1.4962e+02],\n",
              "         [ 0.0000e+00,  1.1919e+00,  2.6615e-01,  1.6648e-01,  4.4815e-01,\n",
              "           6.0018e-02, -8.2361e-02, -7.8803e-02,  8.5102e-02, -2.5543e-01,\n",
              "          -1.6697e-01,  1.6127e+00,  1.0652e+00,  4.8910e-01, -1.4377e-01,\n",
              "           6.3556e-01,  4.6392e-01, -1.1480e-01, -1.8336e-01, -1.4578e-01,\n",
              "          -6.9083e-02, -2.2578e-01, -6.3867e-01,  1.0129e-01, -3.3985e-01,\n",
              "           1.6717e-01,  1.2589e-01, -8.9831e-03,  1.4724e-02,  2.6900e+00],\n",
              "         [ 1.0000e+00, -1.3584e+00, -1.3402e+00,  1.7732e+00,  3.7978e-01,\n",
              "          -5.0320e-01,  1.8005e+00,  7.9146e-01,  2.4768e-01, -1.5147e+00,\n",
              "           2.0764e-01,  6.2450e-01,  6.6084e-02,  7.1729e-01, -1.6595e-01,\n",
              "           2.3459e+00, -2.8901e+00,  1.1100e+00, -1.2136e-01, -2.2619e+00,\n",
              "           5.2498e-01,  2.4800e-01,  7.7168e-01,  9.0941e-01, -6.8928e-01,\n",
              "          -3.2764e-01, -1.3910e-01, -5.5353e-02, -5.9752e-02,  3.7866e+02]]),\n",
              " tensor([0., 0., 0.], dtype=torch.float64))"
            ]
          },
          "metadata": {},
          "execution_count": 62
        }
      ]
    },
    {
      "cell_type": "code",
      "source": [],
      "metadata": {
        "id": "S1EhENUoxAO6"
      },
      "execution_count": 62,
      "outputs": []
    },
    {
      "cell_type": "code",
      "source": [
        "from torch.utils.data import DataLoader\n",
        "bs=10\n",
        "train_loader = DataLoader(train_ds, batch_size = bs, shuffle = True)"
      ],
      "metadata": {
        "id": "5rkjjSaafHhh"
      },
      "execution_count": 63,
      "outputs": []
    },
    {
      "cell_type": "code",
      "source": [
        "for xb, yb in train_loader:\n",
        "    print(xb)\n",
        "    print(yb)\n",
        "    break"
      ],
      "metadata": {
        "colab": {
          "base_uri": "https://localhost:8080/"
        },
        "id": "f09iqs2kflR0",
        "outputId": "9cfe6bde-23c1-4b1a-88e7-ee3f258284a9"
      },
      "execution_count": 64,
      "outputs": [
        {
          "output_type": "stream",
          "name": "stdout",
          "text": [
            "tensor([[ 3.1720e+03, -1.2591e+00, -5.6572e-01,  2.6011e+00,  3.5985e+00,\n",
            "         -1.4930e+00,  1.6833e+00,  6.9979e-01,  1.2426e-01,  2.7751e-01,\n",
            "          4.4368e-01, -1.1162e+00, -8.4942e-01, -1.7135e+00, -7.8257e-01,\n",
            "         -4.5166e-01, -9.9818e-01,  1.0162e+00, -2.1226e-01,  7.9460e-01,\n",
            "          1.3363e-01,  1.1902e-01,  8.8761e-01,  2.7845e-01,  4.2508e-01,\n",
            "         -2.5533e-01,  4.1634e-01,  1.8900e-02, -6.6565e-02,  3.3996e+02],\n",
            "        [ 1.3485e+04, -5.2152e-01,  6.3426e-01,  2.5967e+00,  1.2386e+00,\n",
            "          3.0855e-02,  9.9851e-02,  3.7820e-01, -9.5721e-02,  1.6226e+00,\n",
            "         -8.6556e-01,  5.1178e-01, -1.9372e+00,  1.4861e+00,  7.3791e-01,\n",
            "         -1.7228e+00, -1.2326e+00,  1.2646e+00, -6.5572e-01, -4.7254e-01,\n",
            "         -7.8610e-02, -1.3062e-01,  3.6340e-01, -1.3780e-01,  5.7145e-01,\n",
            "         -1.7652e-01, -4.3332e-01, -1.7032e-03, -8.2008e-02,  9.0000e+00],\n",
            "        [ 7.3310e+03,  1.4569e-01,  6.4863e-02,  1.5081e+00, -6.6177e-01,\n",
            "         -2.2749e-01, -1.8615e-01,  3.7660e-01, -6.2522e-01,  7.3381e-01,\n",
            "          4.7302e-01, -1.7747e-01, -3.7780e+00,  1.2434e+00,  5.4332e-01,\n",
            "         -1.0132e+00,  1.8759e-01,  1.2438e+00, -1.0539e+00,  1.7253e+00,\n",
            "          2.1852e-01, -1.5237e-01,  2.2768e-01, -1.2031e-01, -1.8370e-01,\n",
            "         -6.7726e-01, -3.7084e-01, -2.7032e-01, -2.8078e-01,  3.3000e+01],\n",
            "        [ 1.0599e+04, -1.1331e+00,  1.0370e+00,  1.8927e+00, -1.1497e+00,\n",
            "          6.1605e-02, -7.6510e-01,  6.7642e-01, -2.6017e-01,  1.6773e+00,\n",
            "         -3.2957e-01,  1.2362e+00, -2.0520e+00,  2.2420e+00,  9.4133e-01,\n",
            "         -6.5556e-03,  3.4535e-02,  2.9069e-01, -7.7722e-01, -1.4273e+00,\n",
            "          2.9483e-01, -2.9863e-01, -1.6445e-01, -2.1360e-02,  3.8843e-01,\n",
            "         -3.7915e-01,  6.6966e-01,  3.0937e-01,  9.2705e-02,  1.8960e+01],\n",
            "        [ 1.0970e+04, -6.4333e-01,  5.6603e-01,  2.1196e+00, -9.7041e-01,\n",
            "          5.5617e-02, -2.8499e-01,  3.9605e-01, -1.6310e-01,  1.2589e+00,\n",
            "         -6.9084e-01,  1.7508e+00, -2.6622e+00,  7.1375e-01,  1.4489e+00,\n",
            "         -5.6625e-01,  8.5643e-01, -3.5883e-01,  9.3540e-01, -4.4378e-01,\n",
            "         -8.9635e-02, -3.1730e-03,  2.4119e-01, -2.8791e-01, -2.1825e-03,\n",
            "         -2.2212e-01,  8.5368e-01, -3.2506e-01, -1.4378e-01,  1.5950e+01],\n",
            "        [ 5.0300e+02,  8.6054e-01, -7.4780e-01, -9.5515e-01, -1.1241e+00,\n",
            "          1.8654e-01, -3.8594e-01,  7.0344e-01, -2.8269e-01,  4.8260e-01,\n",
            "         -9.3549e-01,  6.5506e-01,  1.6190e+00,  1.3811e+00,  5.0903e-01,\n",
            "          7.2431e-01, -1.4389e-01, -9.1289e-01,  2.9035e-01,  1.5167e+00,\n",
            "          5.4676e-01, -2.3628e-01, -1.1852e+00, -3.2984e-01, -1.0274e+00,\n",
            "          6.1331e-01, -9.7986e-01, -1.8398e-02,  4.6621e-02,  2.6893e+02],\n",
            "        [ 1.8510e+03, -2.4773e+00,  1.9956e+00, -6.7930e-01, -2.9799e+00,\n",
            "          2.0523e+00,  3.0743e+00,  1.6012e-01,  8.2997e-01,  1.7174e+00,\n",
            "          2.3161e+00,  2.9996e-02, -2.4464e-01, -1.1172e-01, -7.4650e-01,\n",
            "          8.6455e-01,  6.5615e-01, -1.3569e+00, -7.0307e-02, -5.8174e-01,\n",
            "          1.3787e+00, -4.5870e-01, -6.6653e-01, -3.8850e-02,  9.9986e-01,\n",
            "          2.5642e-01,  7.4606e-01,  1.0199e+00,  5.4476e-01,  3.8400e+00],\n",
            "        [ 1.2587e+04, -5.7084e+00,  4.7946e+00, -1.1555e+00,  4.2161e-01,\n",
            "         -5.8819e-01,  1.1523e+00, -1.4285e+00, -6.0650e+00,  3.7837e+00,\n",
            "          4.4053e+00,  2.3585e+00, -1.5756e+00,  7.2216e-01,  7.9244e-01,\n",
            "         -1.0240e+00, -1.3633e+00,  1.0560e+00, -5.9399e-02,  1.8072e-01,\n",
            "         -1.5481e+00,  5.4411e+00, -9.5592e-01,  1.0079e+00,  4.5643e-02,\n",
            "         -1.3190e+00, -9.1556e-01, -5.0452e+00,  2.1142e-01,  1.0000e+00],\n",
            "        [ 6.4700e+02,  1.1896e+00,  2.2998e-01,  6.2519e-01,  5.5251e-01,\n",
            "         -4.7036e-01, -7.6685e-01,  1.7707e-02, -1.1100e-01, -3.2952e-01,\n",
            "          8.0094e-02,  1.7784e+00,  1.4770e+00,  8.5647e-01,  3.1832e-01,\n",
            "          2.4488e-01,  4.0958e-01, -6.3699e-01, -1.9321e-01,  8.6817e-02,\n",
            "         -3.1827e-02, -1.8035e-01, -5.4401e-01,  1.3502e-01,  5.4881e-01,\n",
            "          1.7978e-01,  6.1484e-02, -2.9649e-02,  1.3586e-02,  8.9900e+00],\n",
            "        [ 3.7410e+03,  1.3863e+00, -7.0873e-01, -9.2384e-01, -1.6100e+00,\n",
            "          1.4506e+00,  3.2776e+00, -1.1600e+00,  7.0833e-01,  3.5919e-01,\n",
            "          2.7838e-01,  1.0096e+00, -3.1730e+00,  1.8706e+00,  1.4143e+00,\n",
            "          2.6084e-01,  1.5346e+00,  4.4630e-01, -8.6423e-01,  7.6409e-01,\n",
            "          2.3794e-01, -2.7339e-01, -9.0237e-01,  7.4371e-02,  9.2042e-01,\n",
            "          3.5417e-01, -5.0921e-01, -2.1404e-02,  1.6798e-02,  4.9760e+01]])\n",
            "tensor([0., 0., 0., 0., 0., 0., 0., 0., 0., 0.], dtype=torch.float64)\n"
          ]
        }
      ]
    },
    {
      "cell_type": "code",
      "source": [
        "class Logistic_Regression(torch.nn.Module):\n",
        "     def __init__(self, input_dim, output_dim):\n",
        "         super(Logistic_Regression, self).__init__()\n",
        "         self.linear = torch.nn.Linear(input_dim, output_dim,dtype=torch.float32)\n",
        "     def forward(self, x):\n",
        "         outputs = torch.sigmoid(self.linear(x))\n",
        "         return outputs"
      ],
      "metadata": {
        "id": "Jss-nY6cgLuJ"
      },
      "execution_count": 65,
      "outputs": []
    },
    {
      "cell_type": "code",
      "source": [
        "model = Logistic_Regression(30,1)"
      ],
      "metadata": {
        "id": "IrOVOZKqgMQ7"
      },
      "execution_count": 66,
      "outputs": []
    },
    {
      "cell_type": "code",
      "source": [
        "model"
      ],
      "metadata": {
        "colab": {
          "base_uri": "https://localhost:8080/"
        },
        "id": "NdesHr3bqR5Q",
        "outputId": "1246c0dd-b581-4d27-f298-98ea04e000d6"
      },
      "execution_count": 67,
      "outputs": [
        {
          "output_type": "execute_result",
          "data": {
            "text/plain": [
              "Logistic_Regression(\n",
              "  (linear): Linear(in_features=30, out_features=1, bias=True)\n",
              ")"
            ]
          },
          "metadata": {},
          "execution_count": 67
        }
      ]
    },
    {
      "cell_type": "code",
      "source": [
        "# prompt: convert my inputs into float 64\n",
        "\n",
        "inputs = inputs.type(torch.float32)\n",
        "\n",
        "inputs.shape"
      ],
      "metadata": {
        "colab": {
          "base_uri": "https://localhost:8080/"
        },
        "id": "A2qPkaSAuW9Z",
        "outputId": "878a47fd-8fd7-4502-a949-b91771b81c90"
      },
      "execution_count": 68,
      "outputs": [
        {
          "output_type": "execute_result",
          "data": {
            "text/plain": [
              "torch.Size([9965, 30])"
            ]
          },
          "metadata": {},
          "execution_count": 68
        }
      ]
    },
    {
      "cell_type": "code",
      "source": [
        "preds = model(inputs)"
      ],
      "metadata": {
        "id": "Zs7ViGh0qZbs"
      },
      "execution_count": 69,
      "outputs": []
    },
    {
      "cell_type": "code",
      "source": [],
      "metadata": {
        "id": "tmBFLdbZqd4w"
      },
      "execution_count": null,
      "outputs": []
    },
    {
      "cell_type": "code",
      "source": [
        "preds"
      ],
      "metadata": {
        "colab": {
          "base_uri": "https://localhost:8080/"
        },
        "id": "QOM3miTNrNfV",
        "outputId": "5c4210e4-9dc8-4651-8fbc-b6884d00a363"
      },
      "execution_count": 70,
      "outputs": [
        {
          "output_type": "execute_result",
          "data": {
            "text/plain": [
              "tensor([[1.0000],\n",
              "        [0.6051],\n",
              "        [1.0000],\n",
              "        ...,\n",
              "        [1.0000],\n",
              "        [1.0000],\n",
              "        [   nan]], grad_fn=<SigmoidBackward0>)"
            ]
          },
          "metadata": {},
          "execution_count": 70
        }
      ]
    },
    {
      "cell_type": "code",
      "source": [
        "def class_loss(predictions, targets):\n",
        "    return torch.where(targets==preds, 1., 0).mean()\n",
        "  # return torch.where(targets==pred, 0, 1).mean()"
      ],
      "metadata": {
        "id": "XenuNXZOsFUq"
      },
      "execution_count": 71,
      "outputs": []
    },
    {
      "cell_type": "code",
      "source": [
        "loss = class_loss(preds, targets)\n",
        "loss"
      ],
      "metadata": {
        "colab": {
          "base_uri": "https://localhost:8080/"
        },
        "id": "BciDB7kWs6ec",
        "outputId": "a3fc13d8-4607-4240-c269-a53220b9a7b5"
      },
      "execution_count": 72,
      "outputs": [
        {
          "output_type": "execute_result",
          "data": {
            "text/plain": [
              "tensor(0.0030)"
            ]
          },
          "metadata": {},
          "execution_count": 72
        }
      ]
    },
    {
      "cell_type": "code",
      "source": [
        "model.parameters()"
      ],
      "metadata": {
        "colab": {
          "base_uri": "https://localhost:8080/"
        },
        "id": "NdWEtA8otGNz",
        "outputId": "218c46ad-4bac-4290-d3ce-60a0f6c5cb29"
      },
      "execution_count": 73,
      "outputs": [
        {
          "output_type": "execute_result",
          "data": {
            "text/plain": [
              "<generator object Module.parameters at 0x7dd75b389700>"
            ]
          },
          "metadata": {},
          "execution_count": 73
        }
      ]
    },
    {
      "cell_type": "code",
      "source": [
        "opt = torch.optim.SGD(model.parameters(), lr=1e-5)"
      ],
      "metadata": {
        "id": "lNQFdKtPuqKm"
      },
      "execution_count": 74,
      "outputs": []
    },
    {
      "cell_type": "code",
      "source": [
        "list(model.parameters())\n"
      ],
      "metadata": {
        "colab": {
          "base_uri": "https://localhost:8080/"
        },
        "id": "PO__AdbGur6h",
        "outputId": "8676434c-1741-4687-c618-7451b37c0b6f"
      },
      "execution_count": 75,
      "outputs": [
        {
          "output_type": "execute_result",
          "data": {
            "text/plain": [
              "[Parameter containing:\n",
              " tensor([[ 0.0069,  0.1792, -0.1531,  0.0692, -0.0822,  0.0029,  0.1357,  0.0960,\n",
              "           0.1438, -0.0036,  0.1717, -0.0840,  0.1090, -0.0428,  0.1444, -0.0486,\n",
              "           0.0254,  0.1400,  0.1411, -0.0663,  0.1569,  0.0156, -0.0155,  0.1011,\n",
              "          -0.0116,  0.1028,  0.0171,  0.0723, -0.1308,  0.1038]],\n",
              "        requires_grad=True),\n",
              " Parameter containing:\n",
              " tensor([0.1200], requires_grad=True)]"
            ]
          },
          "metadata": {},
          "execution_count": 75
        }
      ]
    },
    {
      "cell_type": "code",
      "source": [
        "def fit(num_epochs, model, loss_fn, opt, train_dl):\n",
        "    # correct = 0\n",
        "    total = 0\n",
        "    correct = 0\n",
        "    # Repeat for given number of epochs\n",
        "    for epoch in range(num_epochs):\n",
        "        epoch_loss = 0\n",
        "        epoch_acc = 0\n",
        "        # Train with batches of data\n",
        "        for xb,yb in train_dl:\n",
        "\n",
        "\n",
        "            # 1. Generate predictions\n",
        "            pred = model(xb)\n",
        "\n",
        "            # loss=loss.requires\n",
        "            # 2. Calculate loss\n",
        "            loss = loss_fn(pred, yb)\n",
        "\n",
        "            y_pred_tag = torch.round(pred)\n",
        "            correct_results_sum = (y_pred_tag == yb).sum().float()\n",
        "            acc = correct_results_sum/yb.shape[0]\n",
        "            acc = torch.round(acc * 100)\n",
        "            loss.requires_grad = True\n",
        "            # 3. Compute gradients\n",
        "            loss.backward()\n",
        "\n",
        "            # 4. Update parameters using gradients\n",
        "            opt.step()\n",
        "\n",
        "            # 5. Reset the gradients to zero\n",
        "            opt.zero_grad()\n",
        "\n",
        "            epoch_loss += loss.item()\n",
        "\n",
        "        # Print the progress\n",
        "        if (epoch+1) % 10 == 0:\n",
        "\n",
        "            print('Epoch [{}/{}], Loss: {:.4f}, Accuracy: {:.2f}'.format(epoch+1, num_epochs, loss.item(), acc/len(train_dl)))"
      ],
      "metadata": {
        "id": "aufNhpopuvqK"
      },
      "execution_count": 84,
      "outputs": []
    },
    {
      "cell_type": "code",
      "source": [
        "preds = model(inputs)\n",
        "preds"
      ],
      "metadata": {
        "colab": {
          "base_uri": "https://localhost:8080/"
        },
        "id": "l7hfPtRivt8f",
        "outputId": "4c13939c-7509-4ab6-bf89-389403edba1f"
      },
      "execution_count": 86,
      "outputs": [
        {
          "output_type": "execute_result",
          "data": {
            "text/plain": [
              "tensor([[1.0000],\n",
              "        [0.6051],\n",
              "        [1.0000],\n",
              "        ...,\n",
              "        [1.0000],\n",
              "        [1.0000],\n",
              "        [   nan]], grad_fn=<SigmoidBackward0>)"
            ]
          },
          "metadata": {},
          "execution_count": 86
        }
      ]
    },
    {
      "cell_type": "code",
      "source": [
        "fit(100, model, class_loss, opt, train_loader)"
      ],
      "metadata": {
        "colab": {
          "base_uri": "https://localhost:8080/"
        },
        "id": "3YYvbdstu5Lx",
        "outputId": "2bebf5dc-ee74-4a6d-d20b-e931fbc7cf2e"
      },
      "execution_count": 85,
      "outputs": [
        {
          "output_type": "stream",
          "name": "stdout",
          "text": [
            "Epoch [10/100], Loss: 0.0000, Accuracy: 0.00\n",
            "Epoch [20/100], Loss: 0.0000, Accuracy: 0.00\n",
            "Epoch [30/100], Loss: 0.0000, Accuracy: 0.00\n",
            "Epoch [40/100], Loss: 0.0000, Accuracy: 0.00\n",
            "Epoch [50/100], Loss: 0.0000, Accuracy: 0.00\n",
            "Epoch [60/100], Loss: 0.0000, Accuracy: 0.00\n",
            "Epoch [70/100], Loss: 0.1566, Accuracy: 0.10\n",
            "Epoch [80/100], Loss: 0.0000, Accuracy: 0.00\n",
            "Epoch [90/100], Loss: 0.0000, Accuracy: 0.00\n",
            "Epoch [100/100], Loss: 0.0000, Accuracy: 0.00\n"
          ]
        }
      ]
    }
  ]
}