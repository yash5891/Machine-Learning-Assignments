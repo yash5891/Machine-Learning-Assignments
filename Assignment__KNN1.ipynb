{
  "cells": [
    {
      "cell_type": "markdown",
      "metadata": {
        "id": "view-in-github",
        "colab_type": "text"
      },
      "source": [
        "<a href=\"https://colab.research.google.com/github/yash5891/Machine-Learning-Assignments/blob/main/Assignment__KNN1.ipynb\" target=\"_parent\"><img src=\"https://colab.research.google.com/assets/colab-badge.svg\" alt=\"Open In Colab\"/></a>"
      ]
    },
    {
      "cell_type": "markdown",
      "id": "7d2cb2da",
      "metadata": {
        "id": "7d2cb2da"
      },
      "source": [
        "# Social Network Ads:"
      ]
    },
    {
      "cell_type": "markdown",
      "id": "596a3aaa",
      "metadata": {
        "id": "596a3aaa"
      },
      "source": [
        "# Import Libraries"
      ]
    },
    {
      "cell_type": "code",
      "execution_count": null,
      "id": "b6761d4a",
      "metadata": {
        "id": "b6761d4a"
      },
      "outputs": [],
      "source": [
        "import numpy as np\n",
        "import pandas as pd\n",
        "import seaborn as sns\n",
        "import matplotlib.pyplot as plt\n",
        "import warnings\n",
        "warnings.filterwarnings('ignore')"
      ]
    },
    {
      "cell_type": "markdown",
      "id": "697f387c",
      "metadata": {
        "id": "697f387c"
      },
      "source": [
        "***Data Loading***"
      ]
    },
    {
      "cell_type": "code",
      "execution_count": null,
      "id": "5109f816",
      "metadata": {
        "id": "5109f816",
        "outputId": "ef0ec670-0d65-404e-d7d5-59f61eaa9fe6"
      },
      "outputs": [
        {
          "data": {
            "text/html": [
              "<div>\n",
              "<style scoped>\n",
              "    .dataframe tbody tr th:only-of-type {\n",
              "        vertical-align: middle;\n",
              "    }\n",
              "\n",
              "    .dataframe tbody tr th {\n",
              "        vertical-align: top;\n",
              "    }\n",
              "\n",
              "    .dataframe thead th {\n",
              "        text-align: right;\n",
              "    }\n",
              "</style>\n",
              "<table border=\"1\" class=\"dataframe\">\n",
              "  <thead>\n",
              "    <tr style=\"text-align: right;\">\n",
              "      <th></th>\n",
              "      <th>User ID</th>\n",
              "      <th>Gender</th>\n",
              "      <th>Age</th>\n",
              "      <th>EstimatedSalary</th>\n",
              "      <th>Purchased</th>\n",
              "    </tr>\n",
              "  </thead>\n",
              "  <tbody>\n",
              "    <tr>\n",
              "      <th>0</th>\n",
              "      <td>15624510</td>\n",
              "      <td>Male</td>\n",
              "      <td>19</td>\n",
              "      <td>19000</td>\n",
              "      <td>0</td>\n",
              "    </tr>\n",
              "    <tr>\n",
              "      <th>1</th>\n",
              "      <td>15810944</td>\n",
              "      <td>Male</td>\n",
              "      <td>35</td>\n",
              "      <td>20000</td>\n",
              "      <td>0</td>\n",
              "    </tr>\n",
              "    <tr>\n",
              "      <th>2</th>\n",
              "      <td>15668575</td>\n",
              "      <td>Female</td>\n",
              "      <td>26</td>\n",
              "      <td>43000</td>\n",
              "      <td>0</td>\n",
              "    </tr>\n",
              "    <tr>\n",
              "      <th>3</th>\n",
              "      <td>15603246</td>\n",
              "      <td>Female</td>\n",
              "      <td>27</td>\n",
              "      <td>57000</td>\n",
              "      <td>0</td>\n",
              "    </tr>\n",
              "    <tr>\n",
              "      <th>4</th>\n",
              "      <td>15804002</td>\n",
              "      <td>Male</td>\n",
              "      <td>19</td>\n",
              "      <td>76000</td>\n",
              "      <td>0</td>\n",
              "    </tr>\n",
              "  </tbody>\n",
              "</table>\n",
              "</div>"
            ],
            "text/plain": [
              "    User ID  Gender  Age  EstimatedSalary  Purchased\n",
              "0  15624510    Male   19            19000          0\n",
              "1  15810944    Male   35            20000          0\n",
              "2  15668575  Female   26            43000          0\n",
              "3  15603246  Female   27            57000          0\n",
              "4  15804002    Male   19            76000          0"
            ]
          },
          "execution_count": 6,
          "metadata": {},
          "output_type": "execute_result"
        }
      ],
      "source": [
        "data = pd.read_csv(\"/content/Social_Network_Ads.csv\")\n",
        "data.head()"
      ]
    },
    {
      "cell_type": "code",
      "execution_count": null,
      "id": "f99a594a",
      "metadata": {
        "id": "f99a594a",
        "outputId": "6715c225-0d40-4cd8-ef0c-a8886f13f79c"
      },
      "outputs": [
        {
          "data": {
            "text/plain": [
              "User ID            0\n",
              "Gender             0\n",
              "Age                0\n",
              "EstimatedSalary    0\n",
              "Purchased          0\n",
              "dtype: int64"
            ]
          },
          "execution_count": 7,
          "metadata": {},
          "output_type": "execute_result"
        }
      ],
      "source": [
        "data.isnull().sum() #No null value"
      ]
    },
    {
      "cell_type": "code",
      "execution_count": null,
      "id": "649efcb5",
      "metadata": {
        "id": "649efcb5",
        "outputId": "e1549072-91b0-42d6-dfba-f65dfb29940d"
      },
      "outputs": [
        {
          "data": {
            "text/plain": [
              "(400, 5)"
            ]
          },
          "execution_count": 5,
          "metadata": {},
          "output_type": "execute_result"
        }
      ],
      "source": [
        "social.shape #size of data"
      ]
    },
    {
      "cell_type": "markdown",
      "id": "b30119d8",
      "metadata": {
        "id": "b30119d8"
      },
      "source": [
        "# Data visualization"
      ]
    },
    {
      "cell_type": "code",
      "execution_count": null,
      "id": "393295cf",
      "metadata": {
        "id": "393295cf",
        "outputId": "9d1b80fa-df4e-4dc4-855e-58d0987eebcc"
      },
      "outputs": [
        {
          "data": {
            "image/png": "[encoded data removed]",
            "text/plain": [
              "<Figure size 360x288 with 1 Axes>"
            ]
          },
          "metadata": {
            "needs_background": "light"
          },
          "output_type": "display_data"
        }
      ],
      "source": [
        "plt.figure(figsize=(5,4))\n",
        "sns.countplot(x='Purchased', data=data)\n",
        "plt.show()"
      ]
    },
    {
      "cell_type": "markdown",
      "id": "9c1e8469",
      "metadata": {
        "id": "9c1e8469"
      },
      "source": [
        "***Observation***:\n",
        "    \n",
        "    - Not purchased(near to 250)>purchased(near to 150)"
      ]
    },
    {
      "cell_type": "code",
      "execution_count": null,
      "id": "d4dbbb3e",
      "metadata": {
        "id": "d4dbbb3e",
        "outputId": "7cbdacc0-5325-4b1c-cc32-0bfb455e591e"
      },
      "outputs": [
        {
          "name": "stdout",
          "output_type": "stream",
          "text": [
            "257 people did not purchased and 143 people purchased\n"
          ]
        }
      ],
      "source": [
        "not_purchased = data.groupby('Purchased')['Purchased'].count()[0]\n",
        "purchased = data.groupby('Purchased')['Purchased'].count()[1]\n",
        "\n",
        "\n",
        "pur = dict(data.Purchased.value_counts())\n",
        "pur\n",
        "\n",
        "print(f'{not_purchased} people did not purchased and {purchased} people purchased')"
      ]
    },
    {
      "cell_type": "code",
      "execution_count": null,
      "id": "a0434a90",
      "metadata": {
        "id": "a0434a90",
        "outputId": "ad7c7cf6-7be4-4722-de42-bbf9e1ebe51c"
      },
      "outputs": [
        {
          "data": {
            "image/png": "[encoded data removed]",
            "text/plain": [
              "<Figure size 360x216 with 1 Axes>"
            ]
          },
          "metadata": {
            "needs_background": "light"
          },
          "output_type": "display_data"
        }
      ],
      "source": [
        "plt.figure(figsize=(5,3))\n",
        "sns.countplot(y='Gender', data=data)\n",
        "plt.show()"
      ]
    },
    {
      "cell_type": "markdown",
      "id": "80aad89f",
      "metadata": {
        "id": "80aad89f"
      },
      "source": [
        "***Observation***:\n",
        "\n",
        " -   Distribution of Male and Female gender is nearly equal"
      ]
    },
    {
      "cell_type": "code",
      "execution_count": null,
      "id": "ec8c8d1a",
      "metadata": {
        "id": "ec8c8d1a",
        "outputId": "a0d4fd5e-98d4-45a3-e914-090bf3bbe3d3"
      },
      "outputs": [
        {
          "data": {
            "text/plain": [
              "{'Female': 204, 'Male': 196}"
            ]
          },
          "execution_count": 20,
          "metadata": {},
          "output_type": "execute_result"
        }
      ],
      "source": [
        "gen = dict(data.Gender.value_counts())\n",
        "gen"
      ]
    },
    {
      "cell_type": "code",
      "execution_count": null,
      "id": "b0079852",
      "metadata": {
        "id": "b0079852",
        "outputId": "b174e95a-fa3e-40cf-ba06-c4c496a4e9c5"
      },
      "outputs": [
        {
          "data": {
            "text/plain": [
              "35    32\n",
              "37    20\n",
              "26    16\n",
              "41    16\n",
              "42    16\n",
              "39    15\n",
              "40    15\n",
              "48    14\n",
              "47    14\n",
              "27    13\n",
              "38    13\n",
              "28    12\n",
              "36    12\n",
              "46    12\n",
              "31    11\n",
              "30    11\n",
              "49    10\n",
              "29    10\n",
              "33     9\n",
              "32     9\n",
              "24     9\n",
              "59     7\n",
              "19     7\n",
              "45     7\n",
              "20     7\n",
              "60     7\n",
              "34     6\n",
              "23     6\n",
              "52     6\n",
              "25     6\n",
              "58     6\n",
              "53     5\n",
              "57     5\n",
              "22     5\n",
              "18     5\n",
              "21     4\n",
              "50     4\n",
              "54     4\n",
              "55     3\n",
              "56     3\n",
              "51     3\n",
              "43     3\n",
              "44     2\n",
              "Name: Age, dtype: int64"
            ]
          },
          "execution_count": 25,
          "metadata": {},
          "output_type": "execute_result"
        }
      ],
      "source": [
        "data.Age.value_counts()"
      ]
    },
    {
      "cell_type": "code",
      "execution_count": null,
      "id": "d24fadd6",
      "metadata": {
        "id": "d24fadd6",
        "outputId": "ce9c9e91-c217-40d4-ca13-d33416ff82d2"
      },
      "outputs": [
        {
          "data": {
            "image/png": "[encoded data removed]",
            "text/plain": [
              "<Figure size 720x360 with 1 Axes>"
            ]
          },
          "metadata": {},
          "output_type": "display_data"
        }
      ],
      "source": [
        "plt.figure(figsize=(10,5))\n",
        "sns.set_theme(style=\"whitegrid\")\n",
        "sns.countplot(data['Age'],color='green')\n",
        "plt.title('Age Count', size=20)\n",
        "plt.xlabel('Age',size=10)\n",
        "plt.ylabel('Count',size=10)\n",
        "plt.show()"
      ]
    },
    {
      "cell_type": "markdown",
      "id": "4ec27ecf",
      "metadata": {
        "id": "4ec27ecf"
      },
      "source": [
        "***Observation***:\n",
        "\n",
        " - Mostly 35 years old people are engage with social network ads\n",
        " - less engagement in social network ads seen in age 44 people\n",
        "\n",
        "    "
      ]
    },
    {
      "cell_type": "code",
      "execution_count": null,
      "id": "b6fd9d63",
      "metadata": {
        "id": "b6fd9d63"
      },
      "outputs": [],
      "source": [
        "pur_age = dict(social.groupby(['Purchased','Age'])['Purchased'].count()[1])"
      ]
    },
    {
      "cell_type": "code",
      "execution_count": null,
      "id": "5a367684",
      "metadata": {
        "id": "5a367684",
        "outputId": "b9e23556-4fbd-42fa-ffa8-4fac3c504d09"
      },
      "outputs": [
        {
          "data": {
            "text/plain": [
              "Purchased  Age\n",
              "0          18     5\n",
              "           19     7\n",
              "           20     7\n",
              "           21     4\n",
              "           22     5\n",
              "                 ..\n",
              "1          56     3\n",
              "           57     5\n",
              "           58     6\n",
              "           59     5\n",
              "           60     7\n",
              "Name: Purchased, Length: 70, dtype: int64"
            ]
          },
          "execution_count": 51,
          "metadata": {},
          "output_type": "execute_result"
        }
      ],
      "source": [
        "age__=social.groupby(['Purchased','Age'])['Purchased'].count()\n",
        "age__"
      ]
    },
    {
      "cell_type": "code",
      "execution_count": null,
      "id": "aee6185c",
      "metadata": {
        "id": "aee6185c"
      },
      "outputs": [],
      "source": [
        "df1=data[data['Purchased']==1]\n"
      ]
    },
    {
      "cell_type": "code",
      "execution_count": null,
      "id": "37f72522",
      "metadata": {
        "id": "37f72522",
        "outputId": "0465ddf7-df07-4006-9418-2d4ff4e47690"
      },
      "outputs": [
        {
          "data": {
            "image/png": "[encoded data removed]",
            "text/plain": [
              "<Figure size 864x576 with 1 Axes>"
            ]
          },
          "metadata": {},
          "output_type": "display_data"
        }
      ],
      "source": [
        "plt.figure(figsize=(12,8))\n",
        "sns.countplot(df1['Age'])\n",
        "plt.xticks(rotation=90)\n",
        "plt.show()"
      ]
    },
    {
      "cell_type": "markdown",
      "id": "b6351868",
      "metadata": {
        "id": "b6351868"
      },
      "source": [
        "***Observation***\n",
        "\n",
        " -  From this graph we can observe that 48 year old people purchased more ads\n",
        " -  From 27 year old to 60 year old are purchasing ads...so this is our target group\n",
        " -  But we have to focus more on age group of 45-49 old"
      ]
    },
    {
      "cell_type": "code",
      "execution_count": null,
      "id": "0b45ce0b",
      "metadata": {
        "scrolled": true,
        "id": "0b45ce0b",
        "outputId": "254d3032-54d0-480d-e47c-9d2081c0560d"
      },
      "outputs": [
        {
          "data": {
            "text/plain": [
              "<AxesSubplot:xlabel='EstimatedSalary', ylabel='Density'>"
            ]
          },
          "execution_count": 60,
          "metadata": {},
          "output_type": "execute_result"
        },
        {
          "data": {
            "image/png": "[encoded data removed]",
            "text/plain": [
              "<Figure size 864x576 with 1 Axes>"
            ]
          },
          "metadata": {},
          "output_type": "display_data"
        }
      ],
      "source": [
        "plt.figure(figsize=(12,8))\n",
        "sns.distplot(data[\"EstimatedSalary\"])\n"
      ]
    },
    {
      "cell_type": "markdown",
      "id": "82d7531e",
      "metadata": {
        "id": "82d7531e"
      },
      "source": [
        "***Observation***:\n",
        "    \n",
        "    -positively skewed graph\n",
        "    -Most estimated salary between 20000 to 100000\n",
        "    -less estimated salary between 10000 to 150000\n",
        "    -very less estimated salary is less than 20000 annd greater than 150000"
      ]
    },
    {
      "cell_type": "code",
      "execution_count": null,
      "id": "78f0d6e9",
      "metadata": {
        "id": "78f0d6e9",
        "outputId": "5d8a6c5b-7d57-4ff4-8610-ebe962bf27b3"
      },
      "outputs": [
        {
          "data": {
            "text/plain": [
              "<AxesSubplot:xlabel='Age', ylabel='Density'>"
            ]
          },
          "execution_count": 58,
          "metadata": {},
          "output_type": "execute_result"
        },
        {
          "data": {
            "image/png": "[encoded data removed]",
            "text/plain": [
              "<Figure size 864x576 with 1 Axes>"
            ]
          },
          "metadata": {},
          "output_type": "display_data"
        }
      ],
      "source": [
        "plt.figure(figsize=(12,8))\n",
        "sns.distplot(data[\"Age\"])"
      ]
    },
    {
      "cell_type": "markdown",
      "id": "f0d3b340",
      "metadata": {
        "id": "f0d3b340"
      },
      "source": [
        "***Observation***:\n",
        "    \n",
        "   -    Symmetric distribution\n",
        "    \n",
        "   - 35 to 45 age people are more on social network"
      ]
    },
    {
      "cell_type": "code",
      "execution_count": null,
      "id": "378687d3",
      "metadata": {
        "id": "378687d3",
        "outputId": "5c8ab808-a21d-433c-9e68-74b6d841fd8d"
      },
      "outputs": [
        {
          "data": {
            "text/plain": [
              "<AxesSubplot:xlabel='Age', ylabel='EstimatedSalary'>"
            ]
          },
          "execution_count": 88,
          "metadata": {},
          "output_type": "execute_result"
        },
        {
          "data": {
            "image/png": "[encoded data removed]",
            "text/plain": [
              "<Figure size 432x288 with 1 Axes>"
            ]
          },
          "metadata": {},
          "output_type": "display_data"
        }
      ],
      "source": [
        "sns.scatterplot(x = 'Age',y = 'EstimatedSalary', data =data, hue = 'Purchased', palette ='PiYG')"
      ]
    },
    {
      "cell_type": "markdown",
      "id": "c985e047",
      "metadata": {
        "id": "c985e047"
      },
      "source": [
        "***Observations***:\n",
        "\n",
        "  - From this Scatterplot we can see people distributed in Purchased and non-puchased group\n",
        "  - most of people who are not purchaing belong to less salary(<80000) and age less than 40\n",
        "  - most of people who are purchasing belong to age group having age more than 40 eventhough salary is less or more"
      ]
    },
    {
      "cell_type": "code",
      "execution_count": null,
      "id": "5dd9f2ed",
      "metadata": {
        "id": "5dd9f2ed"
      },
      "outputs": [],
      "source": [
        "data['Male']=pd.get_dummies(data['Gender'],drop_first=True)"
      ]
    },
    {
      "cell_type": "code",
      "execution_count": null,
      "id": "6f23b07c",
      "metadata": {
        "id": "6f23b07c",
        "outputId": "a2dd28f2-a74b-46d4-faa4-a7b943395f9b"
      },
      "outputs": [
        {
          "data": {
            "text/html": [
              "<div>\n",
              "<style scoped>\n",
              "    .dataframe tbody tr th:only-of-type {\n",
              "        vertical-align: middle;\n",
              "    }\n",
              "\n",
              "    .dataframe tbody tr th {\n",
              "        vertical-align: top;\n",
              "    }\n",
              "\n",
              "    .dataframe thead th {\n",
              "        text-align: right;\n",
              "    }\n",
              "</style>\n",
              "<table border=\"1\" class=\"dataframe\">\n",
              "  <thead>\n",
              "    <tr style=\"text-align: right;\">\n",
              "      <th></th>\n",
              "      <th>User ID</th>\n",
              "      <th>Gender</th>\n",
              "      <th>Age</th>\n",
              "      <th>EstimatedSalary</th>\n",
              "      <th>Purchased</th>\n",
              "      <th>Male</th>\n",
              "    </tr>\n",
              "  </thead>\n",
              "  <tbody>\n",
              "    <tr>\n",
              "      <th>0</th>\n",
              "      <td>15624510</td>\n",
              "      <td>Male</td>\n",
              "      <td>19</td>\n",
              "      <td>19000</td>\n",
              "      <td>0</td>\n",
              "      <td>1</td>\n",
              "    </tr>\n",
              "    <tr>\n",
              "      <th>1</th>\n",
              "      <td>15810944</td>\n",
              "      <td>Male</td>\n",
              "      <td>35</td>\n",
              "      <td>20000</td>\n",
              "      <td>0</td>\n",
              "      <td>1</td>\n",
              "    </tr>\n",
              "    <tr>\n",
              "      <th>2</th>\n",
              "      <td>15668575</td>\n",
              "      <td>Female</td>\n",
              "      <td>26</td>\n",
              "      <td>43000</td>\n",
              "      <td>0</td>\n",
              "      <td>0</td>\n",
              "    </tr>\n",
              "    <tr>\n",
              "      <th>3</th>\n",
              "      <td>15603246</td>\n",
              "      <td>Female</td>\n",
              "      <td>27</td>\n",
              "      <td>57000</td>\n",
              "      <td>0</td>\n",
              "      <td>0</td>\n",
              "    </tr>\n",
              "    <tr>\n",
              "      <th>4</th>\n",
              "      <td>15804002</td>\n",
              "      <td>Male</td>\n",
              "      <td>19</td>\n",
              "      <td>76000</td>\n",
              "      <td>0</td>\n",
              "      <td>1</td>\n",
              "    </tr>\n",
              "    <tr>\n",
              "      <th>...</th>\n",
              "      <td>...</td>\n",
              "      <td>...</td>\n",
              "      <td>...</td>\n",
              "      <td>...</td>\n",
              "      <td>...</td>\n",
              "      <td>...</td>\n",
              "    </tr>\n",
              "    <tr>\n",
              "      <th>395</th>\n",
              "      <td>15691863</td>\n",
              "      <td>Female</td>\n",
              "      <td>46</td>\n",
              "      <td>41000</td>\n",
              "      <td>1</td>\n",
              "      <td>0</td>\n",
              "    </tr>\n",
              "    <tr>\n",
              "      <th>396</th>\n",
              "      <td>15706071</td>\n",
              "      <td>Male</td>\n",
              "      <td>51</td>\n",
              "      <td>23000</td>\n",
              "      <td>1</td>\n",
              "      <td>1</td>\n",
              "    </tr>\n",
              "    <tr>\n",
              "      <th>397</th>\n",
              "      <td>15654296</td>\n",
              "      <td>Female</td>\n",
              "      <td>50</td>\n",
              "      <td>20000</td>\n",
              "      <td>1</td>\n",
              "      <td>0</td>\n",
              "    </tr>\n",
              "    <tr>\n",
              "      <th>398</th>\n",
              "      <td>15755018</td>\n",
              "      <td>Male</td>\n",
              "      <td>36</td>\n",
              "      <td>33000</td>\n",
              "      <td>0</td>\n",
              "      <td>1</td>\n",
              "    </tr>\n",
              "    <tr>\n",
              "      <th>399</th>\n",
              "      <td>15594041</td>\n",
              "      <td>Female</td>\n",
              "      <td>49</td>\n",
              "      <td>36000</td>\n",
              "      <td>1</td>\n",
              "      <td>0</td>\n",
              "    </tr>\n",
              "  </tbody>\n",
              "</table>\n",
              "<p>400 rows × 6 columns</p>\n",
              "</div>"
            ],
            "text/plain": [
              "      User ID  Gender  Age  EstimatedSalary  Purchased  Male\n",
              "0    15624510    Male   19            19000          0     1\n",
              "1    15810944    Male   35            20000          0     1\n",
              "2    15668575  Female   26            43000          0     0\n",
              "3    15603246  Female   27            57000          0     0\n",
              "4    15804002    Male   19            76000          0     1\n",
              "..        ...     ...  ...              ...        ...   ...\n",
              "395  15691863  Female   46            41000          1     0\n",
              "396  15706071    Male   51            23000          1     1\n",
              "397  15654296  Female   50            20000          1     0\n",
              "398  15755018    Male   36            33000          0     1\n",
              "399  15594041  Female   49            36000          1     0\n",
              "\n",
              "[400 rows x 6 columns]"
            ]
          },
          "execution_count": 67,
          "metadata": {},
          "output_type": "execute_result"
        }
      ],
      "source": [
        "data"
      ]
    },
    {
      "cell_type": "code",
      "execution_count": null,
      "id": "32a99d79",
      "metadata": {
        "id": "32a99d79",
        "outputId": "8e103395-1137-464b-d5ab-6f09ddaba9c0"
      },
      "outputs": [
        {
          "data": {
            "text/html": [
              "<div>\n",
              "<style scoped>\n",
              "    .dataframe tbody tr th:only-of-type {\n",
              "        vertical-align: middle;\n",
              "    }\n",
              "\n",
              "    .dataframe tbody tr th {\n",
              "        vertical-align: top;\n",
              "    }\n",
              "\n",
              "    .dataframe thead th {\n",
              "        text-align: right;\n",
              "    }\n",
              "</style>\n",
              "<table border=\"1\" class=\"dataframe\">\n",
              "  <thead>\n",
              "    <tr style=\"text-align: right;\">\n",
              "      <th></th>\n",
              "      <th>User ID</th>\n",
              "      <th>Gender</th>\n",
              "      <th>Age</th>\n",
              "      <th>EstimatedSalary</th>\n",
              "      <th>Purchased</th>\n",
              "    </tr>\n",
              "  </thead>\n",
              "  <tbody>\n",
              "    <tr>\n",
              "      <th>0</th>\n",
              "      <td>15624510</td>\n",
              "      <td>Male</td>\n",
              "      <td>19</td>\n",
              "      <td>19000</td>\n",
              "      <td>0</td>\n",
              "    </tr>\n",
              "    <tr>\n",
              "      <th>1</th>\n",
              "      <td>15810944</td>\n",
              "      <td>Male</td>\n",
              "      <td>35</td>\n",
              "      <td>20000</td>\n",
              "      <td>0</td>\n",
              "    </tr>\n",
              "    <tr>\n",
              "      <th>2</th>\n",
              "      <td>15668575</td>\n",
              "      <td>Female</td>\n",
              "      <td>26</td>\n",
              "      <td>43000</td>\n",
              "      <td>0</td>\n",
              "    </tr>\n",
              "    <tr>\n",
              "      <th>3</th>\n",
              "      <td>15603246</td>\n",
              "      <td>Female</td>\n",
              "      <td>27</td>\n",
              "      <td>57000</td>\n",
              "      <td>0</td>\n",
              "    </tr>\n",
              "    <tr>\n",
              "      <th>4</th>\n",
              "      <td>15804002</td>\n",
              "      <td>Male</td>\n",
              "      <td>19</td>\n",
              "      <td>76000</td>\n",
              "      <td>0</td>\n",
              "    </tr>\n",
              "  </tbody>\n",
              "</table>\n",
              "</div>"
            ],
            "text/plain": [
              "    User ID  Gender  Age  EstimatedSalary  Purchased\n",
              "0  15624510    Male   19            19000          0\n",
              "1  15810944    Male   35            20000          0\n",
              "2  15668575  Female   26            43000          0\n",
              "3  15603246  Female   27            57000          0\n",
              "4  15804002    Male   19            76000          0"
            ]
          },
          "execution_count": 68,
          "metadata": {},
          "output_type": "execute_result"
        }
      ],
      "source": [
        "data.drop(['User ID','Gender'], axis=1, inplace=True)\n"
      ]
    },
    {
      "cell_type": "code",
      "execution_count": null,
      "id": "16ca4b6f",
      "metadata": {
        "id": "16ca4b6f",
        "outputId": "c8b1da2c-53a9-40a6-b04b-81e029ac288f"
      },
      "outputs": [
        {
          "data": {
            "text/html": [
              "<div>\n",
              "<style scoped>\n",
              "    .dataframe tbody tr th:only-of-type {\n",
              "        vertical-align: middle;\n",
              "    }\n",
              "\n",
              "    .dataframe tbody tr th {\n",
              "        vertical-align: top;\n",
              "    }\n",
              "\n",
              "    .dataframe thead th {\n",
              "        text-align: right;\n",
              "    }\n",
              "</style>\n",
              "<table border=\"1\" class=\"dataframe\">\n",
              "  <thead>\n",
              "    <tr style=\"text-align: right;\">\n",
              "      <th></th>\n",
              "      <th>Age</th>\n",
              "      <th>EstimatedSalary</th>\n",
              "      <th>Purchased</th>\n",
              "      <th>Male</th>\n",
              "    </tr>\n",
              "  </thead>\n",
              "  <tbody>\n",
              "    <tr>\n",
              "      <th>0</th>\n",
              "      <td>19</td>\n",
              "      <td>19000</td>\n",
              "      <td>0</td>\n",
              "      <td>1</td>\n",
              "    </tr>\n",
              "    <tr>\n",
              "      <th>1</th>\n",
              "      <td>35</td>\n",
              "      <td>20000</td>\n",
              "      <td>0</td>\n",
              "      <td>1</td>\n",
              "    </tr>\n",
              "    <tr>\n",
              "      <th>2</th>\n",
              "      <td>26</td>\n",
              "      <td>43000</td>\n",
              "      <td>0</td>\n",
              "      <td>0</td>\n",
              "    </tr>\n",
              "    <tr>\n",
              "      <th>3</th>\n",
              "      <td>27</td>\n",
              "      <td>57000</td>\n",
              "      <td>0</td>\n",
              "      <td>0</td>\n",
              "    </tr>\n",
              "    <tr>\n",
              "      <th>4</th>\n",
              "      <td>19</td>\n",
              "      <td>76000</td>\n",
              "      <td>0</td>\n",
              "      <td>1</td>\n",
              "    </tr>\n",
              "  </tbody>\n",
              "</table>\n",
              "</div>"
            ],
            "text/plain": [
              "   Age  EstimatedSalary  Purchased  Male\n",
              "0   19            19000          0     1\n",
              "1   35            20000          0     1\n",
              "2   26            43000          0     0\n",
              "3   27            57000          0     0\n",
              "4   19            76000          0     1"
            ]
          },
          "execution_count": 125,
          "metadata": {},
          "output_type": "execute_result"
        }
      ],
      "source": [
        "data.head()"
      ]
    },
    {
      "cell_type": "code",
      "execution_count": null,
      "id": "39350f72",
      "metadata": {
        "id": "39350f72",
        "outputId": "04b104eb-1113-4603-a81a-0a9bca4b395f"
      },
      "outputs": [
        {
          "data": {
            "text/plain": [
              "<AxesSubplot:>"
            ]
          },
          "execution_count": 127,
          "metadata": {},
          "output_type": "execute_result"
        },
        {
          "data": {
            "image/png": "[encoded data removed]",
            "text/plain": [
              "<Figure size 432x288 with 2 Axes>"
            ]
          },
          "metadata": {},
          "output_type": "display_data"
        }
      ],
      "source": [
        "sns.heatmap(data.corr(),annot=True)"
      ]
    },
    {
      "cell_type": "markdown",
      "id": "033a0070",
      "metadata": {
        "id": "033a0070"
      },
      "source": [
        "# Data splitting"
      ]
    },
    {
      "cell_type": "code",
      "execution_count": null,
      "id": "3c2df145",
      "metadata": {
        "id": "3c2df145"
      },
      "outputs": [],
      "source": [
        "y = data['Purchased']\n",
        "x = data.drop(['Purchased'],axis=1)"
      ]
    },
    {
      "cell_type": "markdown",
      "id": "b0b5fd63",
      "metadata": {
        "id": "b0b5fd63"
      },
      "source": [
        "from sklearn.model_selection import train_test_split\n",
        "x_train, x_test, y_train, y_test = train_test_split(x, y, test_size=0.25, random_state=0 )#train-test-split"
      ]
    },
    {
      "cell_type": "markdown",
      "id": "0fcff42c",
      "metadata": {
        "id": "0fcff42c"
      },
      "source": [
        "# Feature scaling"
      ]
    },
    {
      "cell_type": "code",
      "execution_count": null,
      "id": "e54d8476",
      "metadata": {
        "id": "e54d8476"
      },
      "outputs": [],
      "source": [
        "from sklearn.preprocessing import StandardScaler\n",
        "sc=StandardScaler()\n",
        "x_train=sc.fit_transform(x_train)\n",
        "x_test=sc.transform(x_test)"
      ]
    },
    {
      "cell_type": "markdown",
      "id": "a1584c78",
      "metadata": {
        "id": "a1584c78"
      },
      "source": [
        "# Model Building"
      ]
    },
    {
      "cell_type": "code",
      "execution_count": null,
      "id": "44c768a4",
      "metadata": {
        "id": "44c768a4"
      },
      "outputs": [],
      "source": [
        "from sklearn.neighbors import KNeighborsClassifier\n"
      ]
    },
    {
      "cell_type": "code",
      "execution_count": null,
      "id": "96ea8943",
      "metadata": {
        "id": "96ea8943",
        "outputId": "07284582-df5b-41d7-80a0-af6f7b09dbd9"
      },
      "outputs": [
        {
          "data": {
            "text/plain": [
              "KNeighborsClassifier()"
            ]
          },
          "execution_count": 93,
          "metadata": {},
          "output_type": "execute_result"
        }
      ],
      "source": [
        "classifier = KNeighborsClassifier(n_neighbors = 5, metric = 'minkowski', p = 2)\n",
        "classifier.fit(x_train, y_train)"
      ]
    },
    {
      "cell_type": "code",
      "execution_count": null,
      "id": "f0219f8b",
      "metadata": {
        "id": "f0219f8b",
        "outputId": "a1c77aeb-1f12-45ee-c209-82e81cb44ade"
      },
      "outputs": [
        {
          "data": {
            "text/plain": [
              "array([0, 0, 0, 0, 0, 0, 0, 1, 0, 1, 0, 0, 0, 0, 0, 1, 0, 0, 1, 0, 0, 1,\n",
              "       0, 1, 0, 1, 0, 0, 0, 0, 0, 0, 1, 0, 0, 0, 0, 0, 0, 1, 0, 0, 0, 0,\n",
              "       1, 0, 0, 1, 0, 1, 1, 0, 0, 1, 1, 1, 0, 0, 1, 0, 0, 1, 0, 1, 0, 1,\n",
              "       0, 0, 0, 0, 1, 0, 0, 1, 0, 0, 0, 0, 1, 1, 1, 1, 0, 0, 1, 0, 0, 1,\n",
              "       1, 0, 0, 1, 0, 0, 0, 0, 0, 1, 1, 1], dtype=int64)"
            ]
          },
          "execution_count": 95,
          "metadata": {},
          "output_type": "execute_result"
        }
      ],
      "source": [
        "y_pred = classifier.predict(x_test)\n",
        "y_pred"
      ]
    },
    {
      "cell_type": "markdown",
      "id": "d41ba6d7",
      "metadata": {
        "id": "d41ba6d7"
      },
      "source": [
        "# Evaluation metrics"
      ]
    },
    {
      "cell_type": "code",
      "execution_count": null,
      "id": "afaeedab",
      "metadata": {
        "id": "afaeedab"
      },
      "outputs": [],
      "source": [
        "from sklearn.metrics import confusion_matrix, accuracy_score, classification_report"
      ]
    },
    {
      "cell_type": "code",
      "execution_count": null,
      "id": "71f22aeb",
      "metadata": {
        "id": "71f22aeb",
        "outputId": "c003410c-2ccb-44f6-9054-54741f2a3c13"
      },
      "outputs": [
        {
          "data": {
            "image/png": "[encoded data removed]",
            "text/plain": [
              "<Figure size 432x288 with 2 Axes>"
            ]
          },
          "metadata": {},
          "output_type": "display_data"
        }
      ],
      "source": [
        "cm=confusion_matrix(y_test,y_pred)\n",
        "sns.heatmap(cm, annot=True, fmt='d', cmap='BuGn')\n",
        "plt.show()"
      ]
    },
    {
      "cell_type": "code",
      "execution_count": null,
      "id": "f6129b80",
      "metadata": {
        "id": "f6129b80",
        "outputId": "b6efd77c-3d86-47af-feba-80fc1f10d6d6"
      },
      "outputs": [
        {
          "name": "stdout",
          "output_type": "stream",
          "text": [
            "              precision    recall  f1-score   support\n",
            "\n",
            "           0       0.96      0.94      0.95        68\n",
            "           1       0.88      0.91      0.89        32\n",
            "\n",
            "    accuracy                           0.93       100\n",
            "   macro avg       0.92      0.92      0.92       100\n",
            "weighted avg       0.93      0.93      0.93       100\n",
            "\n"
          ]
        }
      ],
      "source": [
        "print(classification_report(y_test, y_pred))"
      ]
    },
    {
      "cell_type": "markdown",
      "id": "247d3732",
      "metadata": {
        "id": "247d3732"
      },
      "source": [
        "## Interpretaion:\n",
        "\n",
        "  - Accuracy is 93%\n",
        "  - precision 96%\n",
        "  - recall 94 %\n",
        "  - f1 score is 95 %\n",
        "  \n",
        "  accuracy is quite good"
      ]
    },
    {
      "cell_type": "markdown",
      "id": "b9a3d1c6",
      "metadata": {
        "id": "b9a3d1c6"
      },
      "source": [
        "***To check the presence  overfitting***"
      ]
    },
    {
      "cell_type": "code",
      "execution_count": null,
      "id": "8f2bbf4d",
      "metadata": {
        "id": "8f2bbf4d"
      },
      "outputs": [],
      "source": [
        "from sklearn.model_selection import KFold\n",
        "from sklearn.model_selection import cross_val_score"
      ]
    },
    {
      "cell_type": "code",
      "execution_count": null,
      "id": "8bd6ee8d",
      "metadata": {
        "id": "8bd6ee8d",
        "outputId": "241b4029-7e80-49ae-bb2a-42b76828865e"
      },
      "outputs": [
        {
          "data": {
            "text/plain": [
              "0.8024351924587588"
            ]
          },
          "execution_count": 124,
          "metadata": {},
          "output_type": "execute_result"
        }
      ],
      "source": [
        "kfold = KFold(n_splits=3, shuffle=True, random_state=42)\n",
        "\n",
        "# Initialize KNN classifier\n",
        "knn = KNeighborsClassifier(n_neighbors=5)\n",
        "\n",
        "# Perform K-fold cross-validation\n",
        "cv_results = cross_val_score(knn, x, y, cv=kfold, scoring='accuracy')\n",
        "cv_results.mean()"
      ]
    },
    {
      "cell_type": "markdown",
      "id": "f546177c",
      "metadata": {
        "id": "f546177c"
      },
      "source": [
        "**Interpretation**:\n",
        "\n",
        " - model accuracy before cross validation is greater which is 93% but after cross validation it decreases(80%)\n",
        " - so,here is overfitting\n",
        "  - Accuracy afer cross validation is 80% which is good"
      ]
    },
    {
      "cell_type": "markdown",
      "id": "ec994556",
      "metadata": {
        "id": "ec994556"
      },
      "source": [
        "**In KNN Choice of k is very critical. A small value of k means that noise will have a higher influence on the result. A large value makes it computationally expensive and is contradictory to the basic idea behind KNN, that close points might have similar densities or classes.The default parameter for the number of neighbors k is 5.**\n",
        "\n"
      ]
    },
    {
      "cell_type": "code",
      "execution_count": null,
      "id": "3712fe67",
      "metadata": {
        "id": "3712fe67"
      },
      "outputs": [],
      "source": [
        "error_rate = []\n",
        "\n",
        "for i in range(1,40):\n",
        "\n",
        "    knn = KNeighborsClassifier(n_neighbors=i)\n",
        "    knn.fit(x_train,y_train)\n",
        "    pred_i = knn.predict(x_test)\n",
        "    error_rate.append(np.mean(pred_i != y_test))"
      ]
    },
    {
      "cell_type": "code",
      "execution_count": null,
      "id": "5cd9fcea",
      "metadata": {
        "id": "5cd9fcea",
        "outputId": "8bf95962-23a6-40a4-a945-41811ce65ab2"
      },
      "outputs": [
        {
          "data": {
            "text/plain": [
              "Text(0, 0.5, 'Error Rate')"
            ]
          },
          "execution_count": 110,
          "metadata": {},
          "output_type": "execute_result"
        },
        {
          "data": {
            "image/png": "[encoded data removed]",
            "text/plain": [
              "<Figure size 720x432 with 1 Axes>"
            ]
          },
          "metadata": {},
          "output_type": "display_data"
        }
      ],
      "source": [
        "plt.figure(figsize=(10,6))\n",
        "plt.plot(range(1,40),error_rate,color='black', linestyle='dashed', marker='*',\n",
        "         markerfacecolor='red', markersize=10)\n",
        "plt.title('Error Rate vs. K Value')\n",
        "plt.xlabel('K')\n",
        "plt.ylabel('Error Rate')"
      ]
    },
    {
      "cell_type": "markdown",
      "id": "982103e9",
      "metadata": {
        "id": "982103e9"
      },
      "source": [
        "**Interpretaion:**\n",
        "    \n",
        "    -  K=5 to K=18 we have less error rate\n",
        "    -  but for K=35 maximum error rate"
      ]
    },
    {
      "cell_type": "code",
      "execution_count": null,
      "id": "d78ea094",
      "metadata": {
        "id": "d78ea094",
        "outputId": "27960bbc-1af5-4bfc-f042-8438b6ef9acd"
      },
      "outputs": [
        {
          "name": "stdout",
          "output_type": "stream",
          "text": [
            "WITH K=15\n",
            "\n",
            "\n",
            "[[64  4]\n",
            " [ 3 29]]\n",
            "\n",
            "\n",
            "              precision    recall  f1-score   support\n",
            "\n",
            "           0       0.96      0.94      0.95        68\n",
            "           1       0.88      0.91      0.89        32\n",
            "\n",
            "    accuracy                           0.93       100\n",
            "   macro avg       0.92      0.92      0.92       100\n",
            "weighted avg       0.93      0.93      0.93       100\n",
            "\n",
            "\n",
            "\n"
          ]
        },
        {
          "data": {
            "image/png": "[encoded data removed]",
            "text/plain": [
              "<Figure size 432x288 with 2 Axes>"
            ]
          },
          "metadata": {},
          "output_type": "display_data"
        }
      ],
      "source": [
        "knn1 = KNeighborsClassifier(n_neighbors=15)\n",
        "\n",
        "knn1.fit(x_train,y_train)\n",
        "pred1 = knn1.predict(x_test)\n",
        "\n",
        "print('WITH K=15')\n",
        "print('\\n')\n",
        "print(confusion_matrix(y_test,pred1))\n",
        "sns.heatmap(confusion_matrix(y_test,pred1), annot=True, fmt='d', cmap='GnBu')\n",
        "print('\\n')\n",
        "print(classification_report(y_test,pred1))\n",
        "print('\\n')"
      ]
    },
    {
      "cell_type": "markdown",
      "id": "9359c366",
      "metadata": {
        "id": "9359c366"
      },
      "source": [
        " **Interpretaion**:\n",
        "    \n",
        "   -   The result of K=5 and K=15 are same"
      ]
    },
    {
      "cell_type": "markdown",
      "id": "bd871fb5",
      "metadata": {
        "id": "bd871fb5"
      },
      "source": [
        "## Conclusion:\n",
        "\n",
        "  - We build KNN model on social network ad dataset with initial accuracy of 93% percent\n",
        "  - This high accuracy cause the doubt of overfitting in data\n",
        "  - so after cross validataion we get 80% accuracy  this implies that there is overfitting in data\n",
        "  - but after cross validation we get 80% accuracy which is also good\n",
        "  - so our model correctly predicting result with 80% accuracy\n",
        "  - This dataset is related to social network ad so that much accuray is also perfect for classification\n",
        "  "
      ]
    }
  ],
  "metadata": {
    "kernelspec": {
      "display_name": "Python 3 (ipykernel)",
      "language": "python",
      "name": "python3"
    },
    "language_info": {
      "codemirror_mode": {
        "name": "ipython",
        "version": 3
      },
      "file_extension": ".py",
      "mimetype": "text/x-python",
      "name": "python",
      "nbconvert_exporter": "python",
      "pygments_lexer": "ipython3",
      "version": "3.9.12"
    },
    "colab": {
      "provenance": [],
      "include_colab_link": true
    }
  },
  "nbformat": 4,
  "nbformat_minor": 5
}