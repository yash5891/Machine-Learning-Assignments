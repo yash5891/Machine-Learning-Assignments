{
  "nbformat": 4,
  "nbformat_minor": 0,
  "metadata": {
    "colab": {
      "provenance": [],
      "authorship_tag": "ABX9TyM9KhK6EcGALF7vgV0TAV3a",
      "include_colab_link": true
    },
    "kernelspec": {
      "name": "python3",
      "display_name": "Python 3"
    },
    "language_info": {
      "name": "python"
    }
  },
  "cells": [
    {
      "cell_type": "markdown",
      "metadata": {
        "id": "view-in-github",
        "colab_type": "text"
      },
      "source": [
        "<a href=\"https://colab.research.google.com/github/yash5891/Machine-Learning-Assignments/blob/main/web_scrappingt.ipynb\" target=\"_parent\"><img src=\"https://colab.research.google.com/assets/colab-badge.svg\" alt=\"Open In Colab\"/></a>"
      ]
    },
    {
      "cell_type": "code",
      "execution_count": null,
      "metadata": {
        "colab": {
          "base_uri": "https://localhost:8080/"
        },
        "id": "9rGmwBTqVp1f",
        "outputId": "fb3fc24f-4d8f-4f2d-a76f-b49e7effa06a"
      },
      "outputs": [
        {
          "output_type": "execute_result",
          "data": {
            "text/plain": [
              "<Response [200]>"
            ]
          },
          "metadata": {},
          "execution_count": 87
        }
      ],
      "source": [
        "import requests\n",
        "from bs4 import BeautifulSoup as bs\n",
        "\n",
        "\n",
        "\n",
        "url=\"https://books.toscrape.com/index.html\"\n",
        "a=requests.get(url)\n",
        "a\n"
      ]
    },
    {
      "cell_type": "code",
      "source": [
        "a"
      ],
      "metadata": {
        "colab": {
          "base_uri": "https://localhost:8080/"
        },
        "id": "xYJ6RvrNV334",
        "outputId": "316c0306-8559-422d-e718-6ed5e731ecea"
      },
      "execution_count": null,
      "outputs": [
        {
          "output_type": "execute_result",
          "data": {
            "text/plain": [
              "<Response [200]>"
            ]
          },
          "metadata": {},
          "execution_count": 88
        }
      ]
    },
    {
      "cell_type": "code",
      "source": [
        "a=bs(a.text)\n",
        "a"
      ],
      "metadata": {
        "id": "QcPQOHFDWFjW",
        "colab": {
          "base_uri": "https://localhost:8080/"
        },
        "outputId": "ae3e4376-a58a-42f5-f1d9-e060de0a495a"
      },
      "execution_count": null,
      "outputs": [
        {
          "output_type": "execute_result",
          "data": {
            "text/plain": [
              "<!DOCTYPE html>\n",
              "<!--[if lt IE 7]>      <html lang=\"en-us\" class=\"no-js lt-ie9 lt-ie8 lt-ie7\"> <![endif]--><!--[if IE 7]>         <html lang=\"en-us\" class=\"no-js lt-ie9 lt-ie8\"> <![endif]--><!--[if IE 8]>         <html lang=\"en-us\" class=\"no-js lt-ie9\"> <![endif]--><!--[if gt IE 8]><!--><html class=\"no-js\" lang=\"en-us\"> <!--<![endif]-->\n",
              "<head>\n",
              "<title>\n",
              "    All products | Books to Scrape - Sandbox\n",
              "</title>\n",
              "<meta content=\"text/html; charset=utf-8\" http-equiv=\"content-type\"/>\n",
              "<meta content=\"24th Jun 2016 09:29\" name=\"created\"/>\n",
              "<meta content=\"\" name=\"description\"/>\n",
              "<meta content=\"width=device-width\" name=\"viewport\"/>\n",
              "<meta content=\"NOARCHIVE,NOCACHE\" name=\"robots\"/>\n",
              "<!-- Le HTML5 shim, for IE6-8 support of HTML elements -->\n",
              "<!--[if lt IE 9]>\n",
              "        <script src=\"//html5shim.googlecode.com/svn/trunk/html5.js\"></script>\n",
              "        <![endif]-->\n",
              "<link href=\"static/oscar/favicon.ico\" rel=\"shortcut icon\"/>\n",
              "<link href=\"static/oscar/css/styles.css\" rel=\"stylesheet\" type=\"text/css\"/>\n",
              "<link href=\"static/oscar/js/bootstrap-datetimepicker/bootstrap-datetimepicker.css\" rel=\"stylesheet\"/>\n",
              "<link href=\"static/oscar/css/datetimepicker.css\" rel=\"stylesheet\" type=\"text/css\"/>\n",
              "</head>\n",
              "<body class=\"default\" id=\"default\">\n",
              "<header class=\"header container-fluid\">\n",
              "<div class=\"page_inner\">\n",
              "<div class=\"row\">\n",
              "<div class=\"col-sm-8 h1\"><a href=\"index.html\">Books to Scrape</a><small> We love being scraped!</small>\n",
              "</div>\n",
              "</div>\n",
              "</div>\n",
              "</header>\n",
              "<div class=\"container-fluid page\">\n",
              "<div class=\"page_inner\">\n",
              "<ul class=\"breadcrumb\">\n",
              "<li>\n",
              "<a href=\"index.html\">Home</a>\n",
              "</li>\n",
              "<li class=\"active\">All products</li>\n",
              "</ul>\n",
              "<div class=\"row\">\n",
              "<aside class=\"sidebar col-sm-4 col-md-3\">\n",
              "<div id=\"promotions_left\">\n",
              "</div>\n",
              "<div class=\"side_categories\">\n",
              "<ul class=\"nav nav-list\">\n",
              "<li>\n",
              "<a href=\"catalogue/category/books_1/index.html\">\n",
              "                            \n",
              "                                Books\n",
              "                            \n",
              "                        </a>\n",
              "<ul>\n",
              "<li>\n",
              "<a href=\"catalogue/category/books/travel_2/index.html\">\n",
              "                            \n",
              "                                Travel\n",
              "                            \n",
              "                        </a>\n",
              "</li>\n",
              "<li>\n",
              "<a href=\"catalogue/category/books/mystery_3/index.html\">\n",
              "                            \n",
              "                                Mystery\n",
              "                            \n",
              "                        </a>\n",
              "</li>\n",
              "<li>\n",
              "<a href=\"catalogue/category/books/historical-fiction_4/index.html\">\n",
              "                            \n",
              "                                Historical Fiction\n",
              "                            \n",
              "                        </a>\n",
              "</li>\n",
              "<li>\n",
              "<a href=\"catalogue/category/books/sequential-art_5/index.html\">\n",
              "                            \n",
              "                                Sequential Art\n",
              "                            \n",
              "                        </a>\n",
              "</li>\n",
              "<li>\n",
              "<a href=\"catalogue/category/books/classics_6/index.html\">\n",
              "                            \n",
              "                                Classics\n",
              "                            \n",
              "                        </a>\n",
              "</li>\n",
              "<li>\n",
              "<a href=\"catalogue/category/books/philosophy_7/index.html\">\n",
              "                            \n",
              "                                Philosophy\n",
              "                            \n",
              "                        </a>\n",
              "</li>\n",
              "<li>\n",
              "<a href=\"catalogue/category/books/romance_8/index.html\">\n",
              "                            \n",
              "                                Romance\n",
              "                            \n",
              "                        </a>\n",
              "</li>\n",
              "<li>\n",
              "<a href=\"catalogue/category/books/womens-fiction_9/index.html\">\n",
              "                            \n",
              "                                Womens Fiction\n",
              "                            \n",
              "                        </a>\n",
              "</li>\n",
              "<li>\n",
              "<a href=\"catalogue/category/books/fiction_10/index.html\">\n",
              "                            \n",
              "                                Fiction\n",
              "                            \n",
              "                        </a>\n",
              "</li>\n",
              "<li>\n",
              "<a href=\"catalogue/category/books/childrens_11/index.html\">\n",
              "                            \n",
              "                                Childrens\n",
              "                            \n",
              "                        </a>\n",
              "</li>\n",
              "<li>\n",
              "<a href=\"catalogue/category/books/religion_12/index.html\">\n",
              "                            \n",
              "                                Religion\n",
              "                            \n",
              "                        </a>\n",
              "</li>\n",
              "<li>\n",
              "<a href=\"catalogue/category/books/nonfiction_13/index.html\">\n",
              "                            \n",
              "                                Nonfiction\n",
              "                            \n",
              "                        </a>\n",
              "</li>\n",
              "<li>\n",
              "<a href=\"catalogue/category/books/music_14/index.html\">\n",
              "                            \n",
              "                                Music\n",
              "                            \n",
              "                        </a>\n",
              "</li>\n",
              "<li>\n",
              "<a href=\"catalogue/category/books/default_15/index.html\">\n",
              "                            \n",
              "                                Default\n",
              "                            \n",
              "                        </a>\n",
              "</li>\n",
              "<li>\n",
              "<a href=\"catalogue/category/books/science-fiction_16/index.html\">\n",
              "                            \n",
              "                                Science Fiction\n",
              "                            \n",
              "                        </a>\n",
              "</li>\n",
              "<li>\n",
              "<a href=\"catalogue/category/books/sports-and-games_17/index.html\">\n",
              "                            \n",
              "                                Sports and Games\n",
              "                            \n",
              "                        </a>\n",
              "</li>\n",
              "<li>\n",
              "<a href=\"catalogue/category/books/add-a-comment_18/index.html\">\n",
              "                            \n",
              "                                Add a comment\n",
              "                            \n",
              "                        </a>\n",
              "</li>\n",
              "<li>\n",
              "<a href=\"catalogue/category/books/fantasy_19/index.html\">\n",
              "                            \n",
              "                                Fantasy\n",
              "                            \n",
              "                        </a>\n",
              "</li>\n",
              "<li>\n",
              "<a href=\"catalogue/category/books/new-adult_20/index.html\">\n",
              "                            \n",
              "                                New Adult\n",
              "                            \n",
              "                        </a>\n",
              "</li>\n",
              "<li>\n",
              "<a href=\"catalogue/category/books/young-adult_21/index.html\">\n",
              "                            \n",
              "                                Young Adult\n",
              "                            \n",
              "                        </a>\n",
              "</li>\n",
              "<li>\n",
              "<a href=\"catalogue/category/books/science_22/index.html\">\n",
              "                            \n",
              "                                Science\n",
              "                            \n",
              "                        </a>\n",
              "</li>\n",
              "<li>\n",
              "<a href=\"catalogue/category/books/poetry_23/index.html\">\n",
              "                            \n",
              "                                Poetry\n",
              "                            \n",
              "                        </a>\n",
              "</li>\n",
              "<li>\n",
              "<a href=\"catalogue/category/books/paranormal_24/index.html\">\n",
              "                            \n",
              "                                Paranormal\n",
              "                            \n",
              "                        </a>\n",
              "</li>\n",
              "<li>\n",
              "<a href=\"catalogue/category/books/art_25/index.html\">\n",
              "                            \n",
              "                                Art\n",
              "                            \n",
              "                        </a>\n",
              "</li>\n",
              "<li>\n",
              "<a href=\"catalogue/category/books/psychology_26/index.html\">\n",
              "                            \n",
              "                                Psychology\n",
              "                            \n",
              "                        </a>\n",
              "</li>\n",
              "<li>\n",
              "<a href=\"catalogue/category/books/autobiography_27/index.html\">\n",
              "                            \n",
              "                                Autobiography\n",
              "                            \n",
              "                        </a>\n",
              "</li>\n",
              "<li>\n",
              "<a href=\"catalogue/category/books/parenting_28/index.html\">\n",
              "                            \n",
              "                                Parenting\n",
              "                            \n",
              "                        </a>\n",
              "</li>\n",
              "<li>\n",
              "<a href=\"catalogue/category/books/adult-fiction_29/index.html\">\n",
              "                            \n",
              "                                Adult Fiction\n",
              "                            \n",
              "                        </a>\n",
              "</li>\n",
              "<li>\n",
              "<a href=\"catalogue/category/books/humor_30/index.html\">\n",
              "                            \n",
              "                                Humor\n",
              "                            \n",
              "                        </a>\n",
              "</li>\n",
              "<li>\n",
              "<a href=\"catalogue/category/books/horror_31/index.html\">\n",
              "                            \n",
              "                                Horror\n",
              "                            \n",
              "                        </a>\n",
              "</li>\n",
              "<li>\n",
              "<a href=\"catalogue/category/books/history_32/index.html\">\n",
              "                            \n",
              "                                History\n",
              "                            \n",
              "                        </a>\n",
              "</li>\n",
              "<li>\n",
              "<a href=\"catalogue/category/books/food-and-drink_33/index.html\">\n",
              "                            \n",
              "                                Food and Drink\n",
              "                            \n",
              "                        </a>\n",
              "</li>\n",
              "<li>\n",
              "<a href=\"catalogue/category/books/christian-fiction_34/index.html\">\n",
              "                            \n",
              "                                Christian Fiction\n",
              "                            \n",
              "                        </a>\n",
              "</li>\n",
              "<li>\n",
              "<a href=\"catalogue/category/books/business_35/index.html\">\n",
              "                            \n",
              "                                Business\n",
              "                            \n",
              "                        </a>\n",
              "</li>\n",
              "<li>\n",
              "<a href=\"catalogue/category/books/biography_36/index.html\">\n",
              "                            \n",
              "                                Biography\n",
              "                            \n",
              "                        </a>\n",
              "</li>\n",
              "<li>\n",
              "<a href=\"catalogue/category/books/thriller_37/index.html\">\n",
              "                            \n",
              "                                Thriller\n",
              "                            \n",
              "                        </a>\n",
              "</li>\n",
              "<li>\n",
              "<a href=\"catalogue/category/books/contemporary_38/index.html\">\n",
              "                            \n",
              "                                Contemporary\n",
              "                            \n",
              "                        </a>\n",
              "</li>\n",
              "<li>\n",
              "<a href=\"catalogue/category/books/spirituality_39/index.html\">\n",
              "                            \n",
              "                                Spirituality\n",
              "                            \n",
              "                        </a>\n",
              "</li>\n",
              "<li>\n",
              "<a href=\"catalogue/category/books/academic_40/index.html\">\n",
              "                            \n",
              "                                Academic\n",
              "                            \n",
              "                        </a>\n",
              "</li>\n",
              "<li>\n",
              "<a href=\"catalogue/category/books/self-help_41/index.html\">\n",
              "                            \n",
              "                                Self Help\n",
              "                            \n",
              "                        </a>\n",
              "</li>\n",
              "<li>\n",
              "<a href=\"catalogue/category/books/historical_42/index.html\">\n",
              "                            \n",
              "                                Historical\n",
              "                            \n",
              "                        </a>\n",
              "</li>\n",
              "<li>\n",
              "<a href=\"catalogue/category/books/christian_43/index.html\">\n",
              "                            \n",
              "                                Christian\n",
              "                            \n",
              "                        </a>\n",
              "</li>\n",
              "<li>\n",
              "<a href=\"catalogue/category/books/suspense_44/index.html\">\n",
              "                            \n",
              "                                Suspense\n",
              "                            \n",
              "                        </a>\n",
              "</li>\n",
              "<li>\n",
              "<a href=\"catalogue/category/books/short-stories_45/index.html\">\n",
              "                            \n",
              "                                Short Stories\n",
              "                            \n",
              "                        </a>\n",
              "</li>\n",
              "<li>\n",
              "<a href=\"catalogue/category/books/novels_46/index.html\">\n",
              "                            \n",
              "                                Novels\n",
              "                            \n",
              "                        </a>\n",
              "</li>\n",
              "<li>\n",
              "<a href=\"catalogue/category/books/health_47/index.html\">\n",
              "                            \n",
              "                                Health\n",
              "                            \n",
              "                        </a>\n",
              "</li>\n",
              "<li>\n",
              "<a href=\"catalogue/category/books/politics_48/index.html\">\n",
              "                            \n",
              "                                Politics\n",
              "                            \n",
              "                        </a>\n",
              "</li>\n",
              "<li>\n",
              "<a href=\"catalogue/category/books/cultural_49/index.html\">\n",
              "                            \n",
              "                                Cultural\n",
              "                            \n",
              "                        </a>\n",
              "</li>\n",
              "<li>\n",
              "<a href=\"catalogue/category/books/erotica_50/index.html\">\n",
              "                            \n",
              "                                Erotica\n",
              "                            \n",
              "                        </a>\n",
              "</li>\n",
              "<li>\n",
              "<a href=\"catalogue/category/books/crime_51/index.html\">\n",
              "                            \n",
              "                                Crime\n",
              "                            \n",
              "                        </a>\n",
              "</li>\n",
              "</ul></li>\n",
              "</ul>\n",
              "</div>\n",
              "</aside>\n",
              "<div class=\"col-sm-8 col-md-9\">\n",
              "<div class=\"page-header action\">\n",
              "<h1>All products</h1>\n",
              "</div>\n",
              "<div id=\"messages\">\n",
              "</div>\n",
              "<div id=\"promotions\">\n",
              "</div>\n",
              "<form class=\"form-horizontal\" method=\"get\">\n",
              "<div style=\"display:none\">\n",
              "</div>\n",
              "<strong>1000</strong> results - showing <strong>1</strong> to <strong>20</strong>.\n",
              "                \n",
              "            \n",
              "            \n",
              "        \n",
              "    </form>\n",
              "<section>\n",
              "<div class=\"alert alert-warning\" role=\"alert\"><strong>Warning!</strong> This is a demo website for web scraping purposes. Prices and ratings here were randomly assigned and have no real meaning.</div>\n",
              "<div>\n",
              "<ol class=\"row\">\n",
              "<li class=\"col-xs-6 col-sm-4 col-md-3 col-lg-3\">\n",
              "<article class=\"product_pod\">\n",
              "<div class=\"image_container\">\n",
              "<a href=\"catalogue/a-light-in-the-attic_1000/index.html\"><img alt=\"A Light in the Attic\" class=\"thumbnail\" src=\"media/cache/2c/da/2cdad67c44b002e7ead0cc35693c0e8b.jpg\"/></a>\n",
              "</div>\n",
              "<p class=\"star-rating Three\">\n",
              "<i class=\"icon-star\"></i>\n",
              "<i class=\"icon-star\"></i>\n",
              "<i class=\"icon-star\"></i>\n",
              "<i class=\"icon-star\"></i>\n",
              "<i class=\"icon-star\"></i>\n",
              "</p>\n",
              "<h3><a href=\"catalogue/a-light-in-the-attic_1000/index.html\" title=\"A Light in the Attic\">A Light in the ...</a></h3>\n",
              "<div class=\"product_price\">\n",
              "<p class=\"price_color\">Â£51.77</p>\n",
              "<p class=\"instock availability\">\n",
              "<i class=\"icon-ok\"></i>\n",
              "    \n",
              "        In stock\n",
              "    \n",
              "</p>\n",
              "<form>\n",
              "<button class=\"btn btn-primary btn-block\" data-loading-text=\"Adding...\" type=\"submit\">Add to basket</button>\n",
              "</form>\n",
              "</div>\n",
              "</article>\n",
              "</li>\n",
              "<li class=\"col-xs-6 col-sm-4 col-md-3 col-lg-3\">\n",
              "<article class=\"product_pod\">\n",
              "<div class=\"image_container\">\n",
              "<a href=\"catalogue/tipping-the-velvet_999/index.html\"><img alt=\"Tipping the Velvet\" class=\"thumbnail\" src=\"media/cache/26/0c/260c6ae16bce31c8f8c95daddd9f4a1c.jpg\"/></a>\n",
              "</div>\n",
              "<p class=\"star-rating One\">\n",
              "<i class=\"icon-star\"></i>\n",
              "<i class=\"icon-star\"></i>\n",
              "<i class=\"icon-star\"></i>\n",
              "<i class=\"icon-star\"></i>\n",
              "<i class=\"icon-star\"></i>\n",
              "</p>\n",
              "<h3><a href=\"catalogue/tipping-the-velvet_999/index.html\" title=\"Tipping the Velvet\">Tipping the Velvet</a></h3>\n",
              "<div class=\"product_price\">\n",
              "<p class=\"price_color\">Â£53.74</p>\n",
              "<p class=\"instock availability\">\n",
              "<i class=\"icon-ok\"></i>\n",
              "    \n",
              "        In stock\n",
              "    \n",
              "</p>\n",
              "<form>\n",
              "<button class=\"btn btn-primary btn-block\" data-loading-text=\"Adding...\" type=\"submit\">Add to basket</button>\n",
              "</form>\n",
              "</div>\n",
              "</article>\n",
              "</li>\n",
              "<li class=\"col-xs-6 col-sm-4 col-md-3 col-lg-3\">\n",
              "<article class=\"product_pod\">\n",
              "<div class=\"image_container\">\n",
              "<a href=\"catalogue/soumission_998/index.html\"><img alt=\"Soumission\" class=\"thumbnail\" src=\"media/cache/3e/ef/3eef99c9d9adef34639f510662022830.jpg\"/></a>\n",
              "</div>\n",
              "<p class=\"star-rating One\">\n",
              "<i class=\"icon-star\"></i>\n",
              "<i class=\"icon-star\"></i>\n",
              "<i class=\"icon-star\"></i>\n",
              "<i class=\"icon-star\"></i>\n",
              "<i class=\"icon-star\"></i>\n",
              "</p>\n",
              "<h3><a href=\"catalogue/soumission_998/index.html\" title=\"Soumission\">Soumission</a></h3>\n",
              "<div class=\"product_price\">\n",
              "<p class=\"price_color\">Â£50.10</p>\n",
              "<p class=\"instock availability\">\n",
              "<i class=\"icon-ok\"></i>\n",
              "    \n",
              "        In stock\n",
              "    \n",
              "</p>\n",
              "<form>\n",
              "<button class=\"btn btn-primary btn-block\" data-loading-text=\"Adding...\" type=\"submit\">Add to basket</button>\n",
              "</form>\n",
              "</div>\n",
              "</article>\n",
              "</li>\n",
              "<li class=\"col-xs-6 col-sm-4 col-md-3 col-lg-3\">\n",
              "<article class=\"product_pod\">\n",
              "<div class=\"image_container\">\n",
              "<a href=\"catalogue/sharp-objects_997/index.html\"><img alt=\"Sharp Objects\" class=\"thumbnail\" src=\"media/cache/32/51/3251cf3a3412f53f339e42cac2134093.jpg\"/></a>\n",
              "</div>\n",
              "<p class=\"star-rating Four\">\n",
              "<i class=\"icon-star\"></i>\n",
              "<i class=\"icon-star\"></i>\n",
              "<i class=\"icon-star\"></i>\n",
              "<i class=\"icon-star\"></i>\n",
              "<i class=\"icon-star\"></i>\n",
              "</p>\n",
              "<h3><a href=\"catalogue/sharp-objects_997/index.html\" title=\"Sharp Objects\">Sharp Objects</a></h3>\n",
              "<div class=\"product_price\">\n",
              "<p class=\"price_color\">Â£47.82</p>\n",
              "<p class=\"instock availability\">\n",
              "<i class=\"icon-ok\"></i>\n",
              "    \n",
              "        In stock\n",
              "    \n",
              "</p>\n",
              "<form>\n",
              "<button class=\"btn btn-primary btn-block\" data-loading-text=\"Adding...\" type=\"submit\">Add to basket</button>\n",
              "</form>\n",
              "</div>\n",
              "</article>\n",
              "</li>\n",
              "<li class=\"col-xs-6 col-sm-4 col-md-3 col-lg-3\">\n",
              "<article class=\"product_pod\">\n",
              "<div class=\"image_container\">\n",
              "<a href=\"catalogue/sapiens-a-brief-history-of-humankind_996/index.html\"><img alt=\"Sapiens: A Brief History of Humankind\" class=\"thumbnail\" src=\"media/cache/be/a5/bea5697f2534a2f86a3ef27b5a8c12a6.jpg\"/></a>\n",
              "</div>\n",
              "<p class=\"star-rating Five\">\n",
              "<i class=\"icon-star\"></i>\n",
              "<i class=\"icon-star\"></i>\n",
              "<i class=\"icon-star\"></i>\n",
              "<i class=\"icon-star\"></i>\n",
              "<i class=\"icon-star\"></i>\n",
              "</p>\n",
              "<h3><a href=\"catalogue/sapiens-a-brief-history-of-humankind_996/index.html\" title=\"Sapiens: A Brief History of Humankind\">Sapiens: A Brief History ...</a></h3>\n",
              "<div class=\"product_price\">\n",
              "<p class=\"price_color\">Â£54.23</p>\n",
              "<p class=\"instock availability\">\n",
              "<i class=\"icon-ok\"></i>\n",
              "    \n",
              "        In stock\n",
              "    \n",
              "</p>\n",
              "<form>\n",
              "<button class=\"btn btn-primary btn-block\" data-loading-text=\"Adding...\" type=\"submit\">Add to basket</button>\n",
              "</form>\n",
              "</div>\n",
              "</article>\n",
              "</li>\n",
              "<li class=\"col-xs-6 col-sm-4 col-md-3 col-lg-3\">\n",
              "<article class=\"product_pod\">\n",
              "<div class=\"image_container\">\n",
              "<a href=\"catalogue/the-requiem-red_995/index.html\"><img alt=\"The Requiem Red\" class=\"thumbnail\" src=\"media/cache/68/33/68339b4c9bc034267e1da611ab3b34f8.jpg\"/></a>\n",
              "</div>\n",
              "<p class=\"star-rating One\">\n",
              "<i class=\"icon-star\"></i>\n",
              "<i class=\"icon-star\"></i>\n",
              "<i class=\"icon-star\"></i>\n",
              "<i class=\"icon-star\"></i>\n",
              "<i class=\"icon-star\"></i>\n",
              "</p>\n",
              "<h3><a href=\"catalogue/the-requiem-red_995/index.html\" title=\"The Requiem Red\">The Requiem Red</a></h3>\n",
              "<div class=\"product_price\">\n",
              "<p class=\"price_color\">Â£22.65</p>\n",
              "<p class=\"instock availability\">\n",
              "<i class=\"icon-ok\"></i>\n",
              "    \n",
              "        In stock\n",
              "    \n",
              "</p>\n",
              "<form>\n",
              "<button class=\"btn btn-primary btn-block\" data-loading-text=\"Adding...\" type=\"submit\">Add to basket</button>\n",
              "</form>\n",
              "</div>\n",
              "</article>\n",
              "</li>\n",
              "<li class=\"col-xs-6 col-sm-4 col-md-3 col-lg-3\">\n",
              "<article class=\"product_pod\">\n",
              "<div class=\"image_container\">\n",
              "<a href=\"catalogue/the-dirty-little-secrets-of-getting-your-dream-job_994/index.html\"><img alt=\"The Dirty Little Secrets of Getting Your Dream Job\" class=\"thumbnail\" src=\"media/cache/92/27/92274a95b7c251fea59a2b8a78275ab4.jpg\"/></a>\n",
              "</div>\n",
              "<p class=\"star-rating Four\">\n",
              "<i class=\"icon-star\"></i>\n",
              "<i class=\"icon-star\"></i>\n",
              "<i class=\"icon-star\"></i>\n",
              "<i class=\"icon-star\"></i>\n",
              "<i class=\"icon-star\"></i>\n",
              "</p>\n",
              "<h3><a href=\"catalogue/the-dirty-little-secrets-of-getting-your-dream-job_994/index.html\" title=\"The Dirty Little Secrets of Getting Your Dream Job\">The Dirty Little Secrets ...</a></h3>\n",
              "<div class=\"product_price\">\n",
              "<p class=\"price_color\">Â£33.34</p>\n",
              "<p class=\"instock availability\">\n",
              "<i class=\"icon-ok\"></i>\n",
              "    \n",
              "        In stock\n",
              "    \n",
              "</p>\n",
              "<form>\n",
              "<button class=\"btn btn-primary btn-block\" data-loading-text=\"Adding...\" type=\"submit\">Add to basket</button>\n",
              "</form>\n",
              "</div>\n",
              "</article>\n",
              "</li>\n",
              "<li class=\"col-xs-6 col-sm-4 col-md-3 col-lg-3\">\n",
              "<article class=\"product_pod\">\n",
              "<div class=\"image_container\">\n",
              "<a href=\"catalogue/the-coming-woman-a-novel-based-on-the-life-of-the-infamous-feminist-victoria-woodhull_993/index.html\"><img alt=\"The Coming Woman: A Novel Based on the Life of the Infamous Feminist, Victoria Woodhull\" class=\"thumbnail\" src=\"media/cache/3d/54/3d54940e57e662c4dd1f3ff00c78cc64.jpg\"/></a>\n",
              "</div>\n",
              "<p class=\"star-rating Three\">\n",
              "<i class=\"icon-star\"></i>\n",
              "<i class=\"icon-star\"></i>\n",
              "<i class=\"icon-star\"></i>\n",
              "<i class=\"icon-star\"></i>\n",
              "<i class=\"icon-star\"></i>\n",
              "</p>\n",
              "<h3><a href=\"catalogue/the-coming-woman-a-novel-based-on-the-life-of-the-infamous-feminist-victoria-woodhull_993/index.html\" title=\"The Coming Woman: A Novel Based on the Life of the Infamous Feminist, Victoria Woodhull\">The Coming Woman: A ...</a></h3>\n",
              "<div class=\"product_price\">\n",
              "<p class=\"price_color\">Â£17.93</p>\n",
              "<p class=\"instock availability\">\n",
              "<i class=\"icon-ok\"></i>\n",
              "    \n",
              "        In stock\n",
              "    \n",
              "</p>\n",
              "<form>\n",
              "<button class=\"btn btn-primary btn-block\" data-loading-text=\"Adding...\" type=\"submit\">Add to basket</button>\n",
              "</form>\n",
              "</div>\n",
              "</article>\n",
              "</li>\n",
              "<li class=\"col-xs-6 col-sm-4 col-md-3 col-lg-3\">\n",
              "<article class=\"product_pod\">\n",
              "<div class=\"image_container\">\n",
              "<a href=\"catalogue/the-boys-in-the-boat-nine-americans-and-their-epic-quest-for-gold-at-the-1936-berlin-olympics_992/index.html\"><img alt=\"The Boys in the Boat: Nine Americans and Their Epic Quest for Gold at the 1936 Berlin Olympics\" class=\"thumbnail\" src=\"media/cache/66/88/66883b91f6804b2323c8369331cb7dd1.jpg\"/></a>\n",
              "</div>\n",
              "<p class=\"star-rating Four\">\n",
              "<i class=\"icon-star\"></i>\n",
              "<i class=\"icon-star\"></i>\n",
              "<i class=\"icon-star\"></i>\n",
              "<i class=\"icon-star\"></i>\n",
              "<i class=\"icon-star\"></i>\n",
              "</p>\n",
              "<h3><a href=\"catalogue/the-boys-in-the-boat-nine-americans-and-their-epic-quest-for-gold-at-the-1936-berlin-olympics_992/index.html\" title=\"The Boys in the Boat: Nine Americans and Their Epic Quest for Gold at the 1936 Berlin Olympics\">The Boys in the ...</a></h3>\n",
              "<div class=\"product_price\">\n",
              "<p class=\"price_color\">Â£22.60</p>\n",
              "<p class=\"instock availability\">\n",
              "<i class=\"icon-ok\"></i>\n",
              "    \n",
              "        In stock\n",
              "    \n",
              "</p>\n",
              "<form>\n",
              "<button class=\"btn btn-primary btn-block\" data-loading-text=\"Adding...\" type=\"submit\">Add to basket</button>\n",
              "</form>\n",
              "</div>\n",
              "</article>\n",
              "</li>\n",
              "<li class=\"col-xs-6 col-sm-4 col-md-3 col-lg-3\">\n",
              "<article class=\"product_pod\">\n",
              "<div class=\"image_container\">\n",
              "<a href=\"catalogue/the-black-maria_991/index.html\"><img alt=\"The Black Maria\" class=\"thumbnail\" src=\"media/cache/58/46/5846057e28022268153beff6d352b06c.jpg\"/></a>\n",
              "</div>\n",
              "<p class=\"star-rating One\">\n",
              "<i class=\"icon-star\"></i>\n",
              "<i class=\"icon-star\"></i>\n",
              "<i class=\"icon-star\"></i>\n",
              "<i class=\"icon-star\"></i>\n",
              "<i class=\"icon-star\"></i>\n",
              "</p>\n",
              "<h3><a href=\"catalogue/the-black-maria_991/index.html\" title=\"The Black Maria\">The Black Maria</a></h3>\n",
              "<div class=\"product_price\">\n",
              "<p class=\"price_color\">Â£52.15</p>\n",
              "<p class=\"instock availability\">\n",
              "<i class=\"icon-ok\"></i>\n",
              "    \n",
              "        In stock\n",
              "    \n",
              "</p>\n",
              "<form>\n",
              "<button class=\"btn btn-primary btn-block\" data-loading-text=\"Adding...\" type=\"submit\">Add to basket</button>\n",
              "</form>\n",
              "</div>\n",
              "</article>\n",
              "</li>\n",
              "<li class=\"col-xs-6 col-sm-4 col-md-3 col-lg-3\">\n",
              "<article class=\"product_pod\">\n",
              "<div class=\"image_container\">\n",
              "<a href=\"catalogue/starving-hearts-triangular-trade-trilogy-1_990/index.html\"><img alt=\"Starving Hearts (Triangular Trade Trilogy, #1)\" class=\"thumbnail\" src=\"media/cache/be/f4/bef44da28c98f905a3ebec0b87be8530.jpg\"/></a>\n",
              "</div>\n",
              "<p class=\"star-rating Two\">\n",
              "<i class=\"icon-star\"></i>\n",
              "<i class=\"icon-star\"></i>\n",
              "<i class=\"icon-star\"></i>\n",
              "<i class=\"icon-star\"></i>\n",
              "<i class=\"icon-star\"></i>\n",
              "</p>\n",
              "<h3><a href=\"catalogue/starving-hearts-triangular-trade-trilogy-1_990/index.html\" title=\"Starving Hearts (Triangular Trade Trilogy, #1)\">Starving Hearts (Triangular Trade ...</a></h3>\n",
              "<div class=\"product_price\">\n",
              "<p class=\"price_color\">Â£13.99</p>\n",
              "<p class=\"instock availability\">\n",
              "<i class=\"icon-ok\"></i>\n",
              "    \n",
              "        In stock\n",
              "    \n",
              "</p>\n",
              "<form>\n",
              "<button class=\"btn btn-primary btn-block\" data-loading-text=\"Adding...\" type=\"submit\">Add to basket</button>\n",
              "</form>\n",
              "</div>\n",
              "</article>\n",
              "</li>\n",
              "<li class=\"col-xs-6 col-sm-4 col-md-3 col-lg-3\">\n",
              "<article class=\"product_pod\">\n",
              "<div class=\"image_container\">\n",
              "<a href=\"catalogue/shakespeares-sonnets_989/index.html\"><img alt=\"Shakespeare's Sonnets\" class=\"thumbnail\" src=\"media/cache/10/48/1048f63d3b5061cd2f424d20b3f9b666.jpg\"/></a>\n",
              "</div>\n",
              "<p class=\"star-rating Four\">\n",
              "<i class=\"icon-star\"></i>\n",
              "<i class=\"icon-star\"></i>\n",
              "<i class=\"icon-star\"></i>\n",
              "<i class=\"icon-star\"></i>\n",
              "<i class=\"icon-star\"></i>\n",
              "</p>\n",
              "<h3><a href=\"catalogue/shakespeares-sonnets_989/index.html\" title=\"Shakespeare's Sonnets\">Shakespeare's Sonnets</a></h3>\n",
              "<div class=\"product_price\">\n",
              "<p class=\"price_color\">Â£20.66</p>\n",
              "<p class=\"instock availability\">\n",
              "<i class=\"icon-ok\"></i>\n",
              "    \n",
              "        In stock\n",
              "    \n",
              "</p>\n",
              "<form>\n",
              "<button class=\"btn btn-primary btn-block\" data-loading-text=\"Adding...\" type=\"submit\">Add to basket</button>\n",
              "</form>\n",
              "</div>\n",
              "</article>\n",
              "</li>\n",
              "<li class=\"col-xs-6 col-sm-4 col-md-3 col-lg-3\">\n",
              "<article class=\"product_pod\">\n",
              "<div class=\"image_container\">\n",
              "<a href=\"catalogue/set-me-free_988/index.html\"><img alt=\"Set Me Free\" class=\"thumbnail\" src=\"media/cache/5b/88/5b88c52633f53cacf162c15f4f823153.jpg\"/></a>\n",
              "</div>\n",
              "<p class=\"star-rating Five\">\n",
              "<i class=\"icon-star\"></i>\n",
              "<i class=\"icon-star\"></i>\n",
              "<i class=\"icon-star\"></i>\n",
              "<i class=\"icon-star\"></i>\n",
              "<i class=\"icon-star\"></i>\n",
              "</p>\n",
              "<h3><a href=\"catalogue/set-me-free_988/index.html\" title=\"Set Me Free\">Set Me Free</a></h3>\n",
              "<div class=\"product_price\">\n",
              "<p class=\"price_color\">Â£17.46</p>\n",
              "<p class=\"instock availability\">\n",
              "<i class=\"icon-ok\"></i>\n",
              "    \n",
              "        In stock\n",
              "    \n",
              "</p>\n",
              "<form>\n",
              "<button class=\"btn btn-primary btn-block\" data-loading-text=\"Adding...\" type=\"submit\">Add to basket</button>\n",
              "</form>\n",
              "</div>\n",
              "</article>\n",
              "</li>\n",
              "<li class=\"col-xs-6 col-sm-4 col-md-3 col-lg-3\">\n",
              "<article class=\"product_pod\">\n",
              "<div class=\"image_container\">\n",
              "<a href=\"catalogue/scott-pilgrims-precious-little-life-scott-pilgrim-1_987/index.html\"><img alt=\"Scott Pilgrim's Precious Little Life (Scott Pilgrim #1)\" class=\"thumbnail\" src=\"media/cache/94/b1/94b1b8b244bce9677c2f29ccc890d4d2.jpg\"/></a>\n",
              "</div>\n",
              "<p class=\"star-rating Five\">\n",
              "<i class=\"icon-star\"></i>\n",
              "<i class=\"icon-star\"></i>\n",
              "<i class=\"icon-star\"></i>\n",
              "<i class=\"icon-star\"></i>\n",
              "<i class=\"icon-star\"></i>\n",
              "</p>\n",
              "<h3><a href=\"catalogue/scott-pilgrims-precious-little-life-scott-pilgrim-1_987/index.html\" title=\"Scott Pilgrim's Precious Little Life (Scott Pilgrim #1)\">Scott Pilgrim's Precious Little ...</a></h3>\n",
              "<div class=\"product_price\">\n",
              "<p class=\"price_color\">Â£52.29</p>\n",
              "<p class=\"instock availability\">\n",
              "<i class=\"icon-ok\"></i>\n",
              "    \n",
              "        In stock\n",
              "    \n",
              "</p>\n",
              "<form>\n",
              "<button class=\"btn btn-primary btn-block\" data-loading-text=\"Adding...\" type=\"submit\">Add to basket</button>\n",
              "</form>\n",
              "</div>\n",
              "</article>\n",
              "</li>\n",
              "<li class=\"col-xs-6 col-sm-4 col-md-3 col-lg-3\">\n",
              "<article class=\"product_pod\">\n",
              "<div class=\"image_container\">\n",
              "<a href=\"catalogue/rip-it-up-and-start-again_986/index.html\"><img alt=\"Rip it Up and Start Again\" class=\"thumbnail\" src=\"media/cache/81/c4/81c4a973364e17d01f217e1188253d5e.jpg\"/></a>\n",
              "</div>\n",
              "<p class=\"star-rating Five\">\n",
              "<i class=\"icon-star\"></i>\n",
              "<i class=\"icon-star\"></i>\n",
              "<i class=\"icon-star\"></i>\n",
              "<i class=\"icon-star\"></i>\n",
              "<i class=\"icon-star\"></i>\n",
              "</p>\n",
              "<h3><a href=\"catalogue/rip-it-up-and-start-again_986/index.html\" title=\"Rip it Up and Start Again\">Rip it Up and ...</a></h3>\n",
              "<div class=\"product_price\">\n",
              "<p class=\"price_color\">Â£35.02</p>\n",
              "<p class=\"instock availability\">\n",
              "<i class=\"icon-ok\"></i>\n",
              "    \n",
              "        In stock\n",
              "    \n",
              "</p>\n",
              "<form>\n",
              "<button class=\"btn btn-primary btn-block\" data-loading-text=\"Adding...\" type=\"submit\">Add to basket</button>\n",
              "</form>\n",
              "</div>\n",
              "</article>\n",
              "</li>\n",
              "<li class=\"col-xs-6 col-sm-4 col-md-3 col-lg-3\">\n",
              "<article class=\"product_pod\">\n",
              "<div class=\"image_container\">\n",
              "<a href=\"catalogue/our-band-could-be-your-life-scenes-from-the-american-indie-underground-1981-1991_985/index.html\"><img alt=\"Our Band Could Be Your Life: Scenes from the American Indie Underground, 1981-1991\" class=\"thumbnail\" src=\"media/cache/54/60/54607fe8945897cdcced0044103b10b6.jpg\"/></a>\n",
              "</div>\n",
              "<p class=\"star-rating Three\">\n",
              "<i class=\"icon-star\"></i>\n",
              "<i class=\"icon-star\"></i>\n",
              "<i class=\"icon-star\"></i>\n",
              "<i class=\"icon-star\"></i>\n",
              "<i class=\"icon-star\"></i>\n",
              "</p>\n",
              "<h3><a href=\"catalogue/our-band-could-be-your-life-scenes-from-the-american-indie-underground-1981-1991_985/index.html\" title=\"Our Band Could Be Your Life: Scenes from the American Indie Underground, 1981-1991\">Our Band Could Be ...</a></h3>\n",
              "<div class=\"product_price\">\n",
              "<p class=\"price_color\">Â£57.25</p>\n",
              "<p class=\"instock availability\">\n",
              "<i class=\"icon-ok\"></i>\n",
              "    \n",
              "        In stock\n",
              "    \n",
              "</p>\n",
              "<form>\n",
              "<button class=\"btn btn-primary btn-block\" data-loading-text=\"Adding...\" type=\"submit\">Add to basket</button>\n",
              "</form>\n",
              "</div>\n",
              "</article>\n",
              "</li>\n",
              "<li class=\"col-xs-6 col-sm-4 col-md-3 col-lg-3\">\n",
              "<article class=\"product_pod\">\n",
              "<div class=\"image_container\">\n",
              "<a href=\"catalogue/olio_984/index.html\"><img alt=\"Olio\" class=\"thumbnail\" src=\"media/cache/55/33/553310a7162dfbc2c6d19a84da0df9e1.jpg\"/></a>\n",
              "</div>\n",
              "<p class=\"star-rating One\">\n",
              "<i class=\"icon-star\"></i>\n",
              "<i class=\"icon-star\"></i>\n",
              "<i class=\"icon-star\"></i>\n",
              "<i class=\"icon-star\"></i>\n",
              "<i class=\"icon-star\"></i>\n",
              "</p>\n",
              "<h3><a href=\"catalogue/olio_984/index.html\" title=\"Olio\">Olio</a></h3>\n",
              "<div class=\"product_price\">\n",
              "<p class=\"price_color\">Â£23.88</p>\n",
              "<p class=\"instock availability\">\n",
              "<i class=\"icon-ok\"></i>\n",
              "    \n",
              "        In stock\n",
              "    \n",
              "</p>\n",
              "<form>\n",
              "<button class=\"btn btn-primary btn-block\" data-loading-text=\"Adding...\" type=\"submit\">Add to basket</button>\n",
              "</form>\n",
              "</div>\n",
              "</article>\n",
              "</li>\n",
              "<li class=\"col-xs-6 col-sm-4 col-md-3 col-lg-3\">\n",
              "<article class=\"product_pod\">\n",
              "<div class=\"image_container\">\n",
              "<a href=\"catalogue/mesaerion-the-best-science-fiction-stories-1800-1849_983/index.html\"><img alt=\"Mesaerion: The Best Science Fiction Stories 1800-1849\" class=\"thumbnail\" src=\"media/cache/09/a3/09a3aef48557576e1a85ba7efea8ecb7.jpg\"/></a>\n",
              "</div>\n",
              "<p class=\"star-rating One\">\n",
              "<i class=\"icon-star\"></i>\n",
              "<i class=\"icon-star\"></i>\n",
              "<i class=\"icon-star\"></i>\n",
              "<i class=\"icon-star\"></i>\n",
              "<i class=\"icon-star\"></i>\n",
              "</p>\n",
              "<h3><a href=\"catalogue/mesaerion-the-best-science-fiction-stories-1800-1849_983/index.html\" title=\"Mesaerion: The Best Science Fiction Stories 1800-1849\">Mesaerion: The Best Science ...</a></h3>\n",
              "<div class=\"product_price\">\n",
              "<p class=\"price_color\">Â£37.59</p>\n",
              "<p class=\"instock availability\">\n",
              "<i class=\"icon-ok\"></i>\n",
              "    \n",
              "        In stock\n",
              "    \n",
              "</p>\n",
              "<form>\n",
              "<button class=\"btn btn-primary btn-block\" data-loading-text=\"Adding...\" type=\"submit\">Add to basket</button>\n",
              "</form>\n",
              "</div>\n",
              "</article>\n",
              "</li>\n",
              "<li class=\"col-xs-6 col-sm-4 col-md-3 col-lg-3\">\n",
              "<article class=\"product_pod\">\n",
              "<div class=\"image_container\">\n",
              "<a href=\"catalogue/libertarianism-for-beginners_982/index.html\"><img alt=\"Libertarianism for Beginners\" class=\"thumbnail\" src=\"media/cache/0b/bc/0bbcd0a6f4bcd81ccb1049a52736406e.jpg\"/></a>\n",
              "</div>\n",
              "<p class=\"star-rating Two\">\n",
              "<i class=\"icon-star\"></i>\n",
              "<i class=\"icon-star\"></i>\n",
              "<i class=\"icon-star\"></i>\n",
              "<i class=\"icon-star\"></i>\n",
              "<i class=\"icon-star\"></i>\n",
              "</p>\n",
              "<h3><a href=\"catalogue/libertarianism-for-beginners_982/index.html\" title=\"Libertarianism for Beginners\">Libertarianism for Beginners</a></h3>\n",
              "<div class=\"product_price\">\n",
              "<p class=\"price_color\">Â£51.33</p>\n",
              "<p class=\"instock availability\">\n",
              "<i class=\"icon-ok\"></i>\n",
              "    \n",
              "        In stock\n",
              "    \n",
              "</p>\n",
              "<form>\n",
              "<button class=\"btn btn-primary btn-block\" data-loading-text=\"Adding...\" type=\"submit\">Add to basket</button>\n",
              "</form>\n",
              "</div>\n",
              "</article>\n",
              "</li>\n",
              "<li class=\"col-xs-6 col-sm-4 col-md-3 col-lg-3\">\n",
              "<article class=\"product_pod\">\n",
              "<div class=\"image_container\">\n",
              "<a href=\"catalogue/its-only-the-himalayas_981/index.html\"><img alt=\"It's Only the Himalayas\" class=\"thumbnail\" src=\"media/cache/27/a5/27a53d0bb95bdd88288eaf66c9230d7e.jpg\"/></a>\n",
              "</div>\n",
              "<p class=\"star-rating Two\">\n",
              "<i class=\"icon-star\"></i>\n",
              "<i class=\"icon-star\"></i>\n",
              "<i class=\"icon-star\"></i>\n",
              "<i class=\"icon-star\"></i>\n",
              "<i class=\"icon-star\"></i>\n",
              "</p>\n",
              "<h3><a href=\"catalogue/its-only-the-himalayas_981/index.html\" title=\"It's Only the Himalayas\">It's Only the Himalayas</a></h3>\n",
              "<div class=\"product_price\">\n",
              "<p class=\"price_color\">Â£45.17</p>\n",
              "<p class=\"instock availability\">\n",
              "<i class=\"icon-ok\"></i>\n",
              "    \n",
              "        In stock\n",
              "    \n",
              "</p>\n",
              "<form>\n",
              "<button class=\"btn btn-primary btn-block\" data-loading-text=\"Adding...\" type=\"submit\">Add to basket</button>\n",
              "</form>\n",
              "</div>\n",
              "</article>\n",
              "</li>\n",
              "</ol>\n",
              "<div>\n",
              "<ul class=\"pager\">\n",
              "<li class=\"current\">\n",
              "            \n",
              "                Page 1 of 50\n",
              "            \n",
              "            </li>\n",
              "<li class=\"next\"><a href=\"catalogue/page-2.html\">next</a></li>\n",
              "</ul>\n",
              "</div>\n",
              "</div>\n",
              "</section>\n",
              "</div>\n",
              "</div><!-- /row -->\n",
              "</div><!-- /page_inner -->\n",
              "</div><!-- /container-fluid -->\n",
              "<footer class=\"footer container-fluid\">\n",
              "</footer>\n",
              "<!-- jQuery -->\n",
              "<script src=\"http://ajax.googleapis.com/ajax/libs/jquery/1.9.1/jquery.min.js\"></script>\n",
              "<script>window.jQuery || document.write('<script src=\"static/oscar/js/jquery/jquery-1.9.1.min.js\"><\\/script>')</script>\n",
              "<!-- Twitter Bootstrap -->\n",
              "<script src=\"static/oscar/js/bootstrap3/bootstrap.min.js\" type=\"text/javascript\"></script>\n",
              "<!-- Oscar -->\n",
              "<script charset=\"utf-8\" src=\"static/oscar/js/oscar/ui.js\" type=\"text/javascript\"></script>\n",
              "<script charset=\"utf-8\" src=\"static/oscar/js/bootstrap-datetimepicker/bootstrap-datetimepicker.js\" type=\"text/javascript\"></script>\n",
              "<script charset=\"utf-8\" src=\"static/oscar/js/bootstrap-datetimepicker/locales/bootstrap-datetimepicker.all.js\" type=\"text/javascript\"></script>\n",
              "<script type=\"text/javascript\">\n",
              "            $(function() {\n",
              "                \n",
              "    \n",
              "    \n",
              "    oscar.init();\n",
              "\n",
              "    oscar.search.init();\n",
              "\n",
              "            });\n",
              "        </script>\n",
              "<!-- Version: N/A -->\n",
              "</body>\n",
              "</html>"
            ]
          },
          "metadata": {},
          "execution_count": 89
        }
      ]
    },
    {
      "cell_type": "code",
      "source": [
        "a.title"
      ],
      "metadata": {
        "colab": {
          "base_uri": "https://localhost:8080/"
        },
        "id": "kOnkIRhwWHt3",
        "outputId": "b46ed08d-a2b5-4a49-9ed5-d476ca36c9fe"
      },
      "execution_count": null,
      "outputs": [
        {
          "output_type": "execute_result",
          "data": {
            "text/plain": [
              "<title>\n",
              "    All products | Books to Scrape - Sandbox\n",
              "</title>"
            ]
          },
          "metadata": {},
          "execution_count": 37
        }
      ]
    },
    {
      "cell_type": "code",
      "source": [
        "a.title.text"
      ],
      "metadata": {
        "colab": {
          "base_uri": "https://localhost:8080/",
          "height": 36
        },
        "id": "vKbgX6hpWidi",
        "outputId": "ba3dd67a-3ce2-464d-d68d-3682a2751059"
      },
      "execution_count": null,
      "outputs": [
        {
          "output_type": "execute_result",
          "data": {
            "text/plain": [
              "'\\n    All products | Books to Scrape - Sandbox\\n'"
            ],
            "application/vnd.google.colaboratory.intrinsic+json": {
              "type": "string"
            }
          },
          "metadata": {},
          "execution_count": 39
        }
      ]
    },
    {
      "cell_type": "code",
      "source": [
        "# prompt: how to  get a particular type of book\n",
        "\n",
        "books = a.select(\".product_pod\")\n",
        "book = books[0]\n",
        "book.select(\".star-rating.Three\")[0]['class'][1]\n"
      ],
      "metadata": {
        "colab": {
          "base_uri": "https://localhost:8080/",
          "height": 36
        },
        "id": "1HgJplqrX7q2",
        "outputId": "f9d40b4c-1218-4088-bc4d-7b174d20f764"
      },
      "execution_count": null,
      "outputs": [
        {
          "output_type": "execute_result",
          "data": {
            "text/plain": [
              "'Three'"
            ],
            "application/vnd.google.colaboratory.intrinsic+json": {
              "type": "string"
            }
          },
          "metadata": {},
          "execution_count": 40
        }
      ]
    },
    {
      "cell_type": "code",
      "source": [
        "vrl=\"https://books.toscrape.com/catalogue/tipping-the-velvet_999/index.html\"\n",
        "v=requests.get(vrl)\n",
        "v"
      ],
      "metadata": {
        "colab": {
          "base_uri": "https://localhost:8080/"
        },
        "id": "FXc8WDJIYUVX",
        "outputId": "5dd10522-9516-4079-90f7-8ca61691bc08"
      },
      "execution_count": null,
      "outputs": [
        {
          "output_type": "execute_result",
          "data": {
            "text/plain": [
              "<Response [200]>"
            ]
          },
          "metadata": {},
          "execution_count": 41
        }
      ]
    },
    {
      "cell_type": "code",
      "source": [
        "v=bs(v.text)"
      ],
      "metadata": {
        "id": "Nc_6Pv6uZiCA"
      },
      "execution_count": null,
      "outputs": []
    },
    {
      "cell_type": "code",
      "source": [
        "v.title"
      ],
      "metadata": {
        "colab": {
          "base_uri": "https://localhost:8080/"
        },
        "id": "91dCHwHFaNhW",
        "outputId": "ecd945f7-2c74-4ff4-9458-87a1b2bdb100"
      },
      "execution_count": null,
      "outputs": [
        {
          "output_type": "execute_result",
          "data": {
            "text/plain": [
              "<title>\n",
              "    Tipping the Velvet | Books to Scrape - Sandbox\n",
              "</title>"
            ]
          },
          "metadata": {},
          "execution_count": 43
        }
      ]
    },
    {
      "cell_type": "code",
      "source": [
        "v.title.text.split()[-1]"
      ],
      "metadata": {
        "colab": {
          "base_uri": "https://localhost:8080/",
          "height": 36
        },
        "id": "4nIgeKNcanVO",
        "outputId": "02e405cf-e21a-4073-de5d-d9bea47e6fd0"
      },
      "execution_count": null,
      "outputs": [
        {
          "output_type": "execute_result",
          "data": {
            "text/plain": [
              "'Sandbox'"
            ],
            "application/vnd.google.colaboratory.intrinsic+json": {
              "type": "string"
            }
          },
          "metadata": {},
          "execution_count": 44
        }
      ]
    },
    {
      "cell_type": "code",
      "source": [
        "v.text"
      ],
      "metadata": {
        "colab": {
          "base_uri": "https://localhost:8080/",
          "height": 218
        },
        "id": "IzlpkwPXaqM5",
        "outputId": "e4bc9169-2ecc-4f70-cd26-1ee23cefdc2f"
      },
      "execution_count": null,
      "outputs": [
        {
          "output_type": "execute_result",
          "data": {
            "text/plain": [
              "' \\n\\n\\n    Tipping the Velvet | Books to Scrape - Sandbox\\n\\n\\n\\n\\n\\n\\n\\n\\n\\n\\n\\n\\n\\n\\n\\n\\n\\nBooks to Scrape We love being scraped!\\n\\n\\n\\n\\n\\n\\n\\n\\nHome\\n\\n\\nBooks\\n\\n\\nHistorical Fiction\\n\\nTipping the Velvet\\n\\n\\n\\n\\n\\n\\n\\n\\n\\n\\n\\n\\n\\n\\n\\n\\n\\n\\n\\n\\n\\nTipping the Velvet\\nÂ£53.74\\n\\n\\n    \\n        In stock (20 available)\\n    \\n\\n\\n\\n\\n\\n\\n\\n\\xa0\\n\\n\\n\\n\\nWarning! This is a demo website for web scraping purposes. Prices and ratings here were randomly assigned and have no real meaning.\\n\\n\\n\\nProduct Description\\n\\n\"Erotic and absorbing...Written with starling power.\"--\"The New York Times Book Review \" Nan King, an oyster girl, is captivated by the music hall phenomenon Kitty Butler, a male impersonator extraordinaire treading the boards in Canterbury. Through a friend at the box office, Nan manages to visit all her shows and finally meet her heroine. Soon after, she becomes Kitty\\'s \"Erotic and absorbing...Written with starling power.\"--\"The New York Times Book Review \" Nan King, an oyster girl, is captivated by the music hall phenomenon Kitty Butler, a male impersonator extraordinaire treading the boards in Canterbury. Through a friend at the box office, Nan manages to visit all her shows and finally meet her heroine. Soon after, she becomes Kitty\\'s dresser and the two head for the bright lights of Leicester Square where they begin a glittering career as music-hall stars in an all-singing and dancing double act. At the same time, behind closed doors, they admit their attraction to each other and their affair begins. ...more\\n\\nProduct Information\\n\\n\\n\\nUPC90fa61229261140a\\n\\n\\nProduct TypeBooks\\n\\n\\nPrice (excl. tax)Â£53.74\\n\\n\\nPrice (incl. tax)Â£53.74\\n\\n\\nTaxÂ£0.00\\n\\n\\nAvailability\\nIn stock (20 available)\\n\\n\\nNumber of reviews\\n0\\n\\n\\n\\n\\n\\n\\n\\nProducts you recently viewed\\n\\n\\n\\n\\n\\n\\n\\n\\n\\n\\n\\n\\n\\n\\nA Light in the ...\\n\\nÂ£51.77\\n\\n\\n    \\n        In stock\\n    \\n\\n\\nAdd to basket\\n\\n\\n\\n\\n\\n\\n\\n\\n\\n\\n\\n\\n\\n\\n\\n\\n\\n\\n\\n\\n\\n\\n\\n\\n\\n'"
            ],
            "application/vnd.google.colaboratory.intrinsic+json": {
              "type": "string"
            }
          },
          "metadata": {},
          "execution_count": 45
        }
      ]
    },
    {
      "cell_type": "code",
      "source": [
        "v.find(['div', \"class\"=='course'])"
      ],
      "metadata": {
        "id": "fqGwJnblazz_",
        "colab": {
          "base_uri": "https://localhost:8080/"
        },
        "outputId": "697af1b2-7064-4a9d-a63f-391a923f0707"
      },
      "execution_count": null,
      "outputs": [
        {
          "output_type": "execute_result",
          "data": {
            "text/plain": [
              "<div class=\"page_inner\">\n",
              "<div class=\"row\">\n",
              "<div class=\"col-sm-8 h1\"><a href=\"../../index.html\">Books to Scrape</a><small> We love being scraped!</small>\n",
              "</div>\n",
              "</div>\n",
              "</div>"
            ]
          },
          "metadata": {},
          "execution_count": 46
        }
      ]
    },
    {
      "cell_type": "code",
      "source": [
        "\n",
        "books_tag = v.find_all('article', class_='product_pod')"
      ],
      "metadata": {
        "id": "umI9rtmPbVjo"
      },
      "execution_count": null,
      "outputs": []
    },
    {
      "cell_type": "code",
      "source": [
        "len(books_tag)"
      ],
      "metadata": {
        "colab": {
          "base_uri": "https://localhost:8080/"
        },
        "id": "ZPcsg-dtc2yv",
        "outputId": "79f147ee-d8c5-44e8-c944-c58226d26964"
      },
      "execution_count": null,
      "outputs": [
        {
          "output_type": "execute_result",
          "data": {
            "text/plain": [
              "1"
            ]
          },
          "metadata": {},
          "execution_count": 15
        }
      ]
    },
    {
      "cell_type": "code",
      "source": [
        "book_tag=books_tag\n",
        "book_tag"
      ],
      "metadata": {
        "colab": {
          "base_uri": "https://localhost:8080/"
        },
        "id": "bkhpo_CVc7gj",
        "outputId": "03ab84e0-3080-4756-a13b-87b0d4aa5a67"
      },
      "execution_count": null,
      "outputs": [
        {
          "output_type": "execute_result",
          "data": {
            "text/plain": [
              "[<article class=\"product_pod\">\n",
              " <div class=\"image_container\">\n",
              " <a href=\"../a-light-in-the-attic_1000/index.html\"><img alt=\"A Light in the Attic\" class=\"thumbnail\" src=\"../../media/cache/2c/da/2cdad67c44b002e7ead0cc35693c0e8b.jpg\"/></a>\n",
              " </div>\n",
              " <p class=\"star-rating Three\">\n",
              " <i class=\"icon-star\"></i>\n",
              " <i class=\"icon-star\"></i>\n",
              " <i class=\"icon-star\"></i>\n",
              " <i class=\"icon-star\"></i>\n",
              " <i class=\"icon-star\"></i>\n",
              " </p>\n",
              " <h3><a href=\"../a-light-in-the-attic_1000/index.html\" title=\"A Light in the Attic\">A Light in the ...</a></h3>\n",
              " <div class=\"product_price\">\n",
              " <p class=\"price_color\">Â£51.77</p>\n",
              " <p class=\"instock availability\">\n",
              " <i class=\"icon-ok\"></i>\n",
              "     \n",
              "         In stock\n",
              "     \n",
              " </p>\n",
              " <form>\n",
              " <button class=\"btn btn-primary btn-block\" data-loading-text=\"Adding...\" type=\"submit\">Add to basket</button>\n",
              " </form>\n",
              " </div>\n",
              " </article>]"
            ]
          },
          "metadata": {},
          "execution_count": 51
        }
      ]
    },
    {
      "cell_type": "code",
      "source": [
        "\n",
        "price = book_tag.find('p', class_='price_color').text[1:]\n",
        "price\n"
      ],
      "metadata": {
        "colab": {
          "base_uri": "https://localhost:8080/",
          "height": 36
        },
        "id": "EHOTzZBjdE77",
        "outputId": "931527cd-14d3-4411-896d-cedb24c34254"
      },
      "execution_count": null,
      "outputs": [
        {
          "output_type": "execute_result",
          "data": {
            "text/plain": [
              "'£51.77'"
            ],
            "application/vnd.google.colaboratory.intrinsic+json": {
              "type": "string"
            }
          },
          "metadata": {},
          "execution_count": 17
        }
      ]
    },
    {
      "cell_type": "code",
      "source": [
        "rating=book_tag.find(\"i\",class_=\"icon-star\")\n",
        "a=rating.find(\"i\",class_=\"icon-star\")\n",
        "a"
      ],
      "metadata": {
        "colab": {
          "base_uri": "https://localhost:8080/",
          "height": 365
        },
        "id": "SiFdSenqe-HB",
        "outputId": "822a5b61-94ba-493d-d2a0-63ab6383ff8b"
      },
      "execution_count": null,
      "outputs": [
        {
          "output_type": "error",
          "ename": "AttributeError",
          "evalue": "ResultSet object has no attribute 'find'. You're probably treating a list of elements like a single element. Did you call find_all() when you meant to call find()?",
          "traceback": [
            "\u001b[0;31m---------------------------------------------------------------------------\u001b[0m",
            "\u001b[0;31mAttributeError\u001b[0m                            Traceback (most recent call last)",
            "\u001b[0;32m<ipython-input-53-736747499bc8>\u001b[0m in \u001b[0;36m<cell line: 1>\u001b[0;34m()\u001b[0m\n\u001b[0;32m----> 1\u001b[0;31m \u001b[0mrating\u001b[0m\u001b[0;34m=\u001b[0m\u001b[0mbook_tag\u001b[0m\u001b[0;34m.\u001b[0m\u001b[0mfind\u001b[0m\u001b[0;34m(\u001b[0m\u001b[0;34m\"i\"\u001b[0m\u001b[0;34m,\u001b[0m\u001b[0mclass_\u001b[0m\u001b[0;34m=\u001b[0m\u001b[0;34m\"icon-star\"\u001b[0m\u001b[0;34m)\u001b[0m\u001b[0;34m\u001b[0m\u001b[0;34m\u001b[0m\u001b[0m\n\u001b[0m\u001b[1;32m      2\u001b[0m \u001b[0ma\u001b[0m\u001b[0;34m=\u001b[0m\u001b[0mrating\u001b[0m\u001b[0;34m.\u001b[0m\u001b[0mfind\u001b[0m\u001b[0;34m(\u001b[0m\u001b[0;34m\"i\"\u001b[0m\u001b[0;34m,\u001b[0m\u001b[0mclass_\u001b[0m\u001b[0;34m=\u001b[0m\u001b[0;34m\"icon-star\"\u001b[0m\u001b[0;34m)\u001b[0m\u001b[0;34m\u001b[0m\u001b[0;34m\u001b[0m\u001b[0m\n\u001b[1;32m      3\u001b[0m \u001b[0ma\u001b[0m\u001b[0;34m\u001b[0m\u001b[0;34m\u001b[0m\u001b[0m\n",
            "\u001b[0;32m/usr/local/lib/python3.10/dist-packages/bs4/element.py\u001b[0m in \u001b[0;36m__getattr__\u001b[0;34m(self, key)\u001b[0m\n\u001b[1;32m   2431\u001b[0m     \u001b[0;32mdef\u001b[0m \u001b[0m__getattr__\u001b[0m\u001b[0;34m(\u001b[0m\u001b[0mself\u001b[0m\u001b[0;34m,\u001b[0m \u001b[0mkey\u001b[0m\u001b[0;34m)\u001b[0m\u001b[0;34m:\u001b[0m\u001b[0;34m\u001b[0m\u001b[0;34m\u001b[0m\u001b[0m\n\u001b[1;32m   2432\u001b[0m         \u001b[0;34m\"\"\"Raise a helpful exception to explain a common code fix.\"\"\"\u001b[0m\u001b[0;34m\u001b[0m\u001b[0;34m\u001b[0m\u001b[0m\n\u001b[0;32m-> 2433\u001b[0;31m         raise AttributeError(\n\u001b[0m\u001b[1;32m   2434\u001b[0m             \u001b[0;34m\"ResultSet object has no attribute '%s'. You're probably treating a list of elements like a single element. Did you call find_all() when you meant to call find()?\"\u001b[0m \u001b[0;34m%\u001b[0m \u001b[0mkey\u001b[0m\u001b[0;34m\u001b[0m\u001b[0;34m\u001b[0m\u001b[0m\n\u001b[1;32m   2435\u001b[0m         )\n",
            "\u001b[0;31mAttributeError\u001b[0m: ResultSet object has no attribute 'find'. You're probably treating a list of elements like a single element. Did you call find_all() when you meant to call find()?"
          ]
        }
      ]
    },
    {
      "cell_type": "code",
      "source": [
        ".avaiblity=book_tag.find(\"p\",class_=\"instock availability\")\n",
        "avaiblity.text"
      ],
      "metadata": {
        "colab": {
          "base_uri": "https://localhost:8080/",
          "height": 36
        },
        "id": "4oAA7__6flIN",
        "outputId": "d1e61960-9275-448e-dc1c-fd7375fe61c0"
      },
      "execution_count": null,
      "outputs": [
        {
          "output_type": "execute_result",
          "data": {
            "text/plain": [
              "'\\n\\n    \\n        In stock\\n    \\n'"
            ],
            "application/vnd.google.colaboratory.intrinsic+json": {
              "type": "string"
            }
          },
          "metadata": {},
          "execution_count": 19
        }
      ]
    },
    {
      "cell_type": "code",
      "source": [
        "# prompt: save this file with coloumns like book names and ratings  into  a csv file\n",
        "\n",
        "import csv\n",
        "\n",
        "# Create a CSV file\n",
        "with open(\"books.csv\", \"w\", newline=\"\") as csvfile:\n",
        "    writer = csv.writer(csvfile)\n",
        "\n",
        "    # Write the header row\n",
        "    writer.writerow([\"Book Name\", \"Rating\"])\n",
        "\n",
        "    # Loop through each book and write its name and rating to the CSV file\n",
        "    for book in books_tag:\n",
        "        book_name = book.find(\"h3\").get_text()\n",
        "        rating = book.find(\"i\", class_=\"icon-star\").get(\"class\")[-1]\n",
        "\n",
        "        writer.writerow([book_name, rating])\n",
        "\n",
        "print(\"CSV file created successfully!\")\n"
      ],
      "metadata": {
        "id": "aPUqXuLWgVyc",
        "colab": {
          "base_uri": "https://localhost:8080/"
        },
        "outputId": "5e1c950b-cd23-4143-e37e-f7371218085f"
      },
      "execution_count": null,
      "outputs": [
        {
          "output_type": "stream",
          "name": "stdout",
          "text": [
            "CSV file created successfully!\n"
          ]
        }
      ]
    },
    {
      "cell_type": "code",
      "source": [
        "import regex as re\n",
        "writer"
      ],
      "metadata": {
        "colab": {
          "base_uri": "https://localhost:8080/"
        },
        "id": "Vs_FgqtigjgB",
        "outputId": "e023ebb0-8bdd-461f-a15b-bd37be5c93af"
      },
      "execution_count": null,
      "outputs": [
        {
          "output_type": "execute_result",
          "data": {
            "text/plain": [
              "<_csv.writer at 0x79166639a440>"
            ]
          },
          "metadata": {},
          "execution_count": 57
        }
      ]
    },
    {
      "cell_type": "code",
      "source": [
        "# prompt: save this file into dataframe form into csv file\n",
        "\n",
        "import pandas as pd\n",
        "\n",
        "# Create a list of dictionaries, where each dictionary represents a book\n",
        "book_data = []\n",
        "for book_tag in books_tag:\n",
        "    book_name = book_tag.find(\"h3\").get_text()\n",
        "    rating = book_tag.find(\"i\", class_=\"icon-star\").get(\"class\")[-1]\n",
        "    price = book_tag.find('p', class_='price_color').text[1:]\n",
        "    availability = book_tag.find(\"p\", class_=\"instock availability\").text\n",
        "\n",
        "    book_data.append({\n",
        "        \"Book Name\": book_name,\n",
        "        \"Rating\": rating,\n",
        "        \"Price\": price,\n",
        "        \"Availability\": availability\n",
        "    })\n",
        "\n",
        "# Create a Pandas DataFrame from the list of dictionaries\n",
        "df = pd.DataFrame(book_data)\n",
        "\n",
        "# Save the DataFrame to a CSV file\n",
        "df.to_csv(\"books.csv\", index=False)\n",
        "\n",
        "print(\"CSV file created successfully!\")\n"
      ],
      "metadata": {
        "colab": {
          "base_uri": "https://localhost:8080/"
        },
        "id": "fzkEobVnhUjg",
        "outputId": "70ea7b8a-26b8-4993-828a-f58bcab4e682"
      },
      "execution_count": null,
      "outputs": [
        {
          "output_type": "stream",
          "name": "stdout",
          "text": [
            "CSV file created successfully!\n"
          ]
        }
      ]
    },
    {
      "cell_type": "code",
      "source": [
        "# prompt: open the csv file\n",
        "\n",
        "df"
      ],
      "metadata": {
        "colab": {
          "base_uri": "https://localhost:8080/",
          "height": 89
        },
        "id": "-nzXTiy_hhBX",
        "outputId": "6109dcda-ede1-4d3f-d72f-f0fc4404ecf5"
      },
      "execution_count": null,
      "outputs": [
        {
          "output_type": "execute_result",
          "data": {
            "text/plain": [
              "            Book Name     Rating   Price                        Availability\n",
              "0  A Light in the ...  icon-star  £51.77  \\n\\n    \\n        In stock\\n    \\n"
            ],
            "text/html": [
              "\n",
              "  <div id=\"df-15cd0bb9-02d6-4120-a143-299ca387ce58\" class=\"colab-df-container\">\n",
              "    <div>\n",
              "<style scoped>\n",
              "    .dataframe tbody tr th:only-of-type {\n",
              "        vertical-align: middle;\n",
              "    }\n",
              "\n",
              "    .dataframe tbody tr th {\n",
              "        vertical-align: top;\n",
              "    }\n",
              "\n",
              "    .dataframe thead th {\n",
              "        text-align: right;\n",
              "    }\n",
              "</style>\n",
              "<table border=\"1\" class=\"dataframe\">\n",
              "  <thead>\n",
              "    <tr style=\"text-align: right;\">\n",
              "      <th></th>\n",
              "      <th>Book Name</th>\n",
              "      <th>Rating</th>\n",
              "      <th>Price</th>\n",
              "      <th>Availability</th>\n",
              "    </tr>\n",
              "  </thead>\n",
              "  <tbody>\n",
              "    <tr>\n",
              "      <th>0</th>\n",
              "      <td>A Light in the ...</td>\n",
              "      <td>icon-star</td>\n",
              "      <td>£51.77</td>\n",
              "      <td>\\n\\n    \\n        In stock\\n    \\n</td>\n",
              "    </tr>\n",
              "  </tbody>\n",
              "</table>\n",
              "</div>\n",
              "    <div class=\"colab-df-buttons\">\n",
              "\n",
              "  <div class=\"colab-df-container\">\n",
              "    <button class=\"colab-df-convert\" onclick=\"convertToInteractive('df-15cd0bb9-02d6-4120-a143-299ca387ce58')\"\n",
              "            title=\"Convert this dataframe to an interactive table.\"\n",
              "            style=\"display:none;\">\n",
              "\n",
              "  <svg xmlns=\"http://www.w3.org/2000/svg\" height=\"24px\" viewBox=\"0 -960 960 960\">\n",
              "    <path d=\"M120-120v-720h720v720H120Zm60-500h600v-160H180v160Zm220 220h160v-160H400v160Zm0 220h160v-160H400v160ZM180-400h160v-160H180v160Zm440 0h160v-160H620v160ZM180-180h160v-160H180v160Zm440 0h160v-160H620v160Z\"/>\n",
              "  </svg>\n",
              "    </button>\n",
              "\n",
              "  <style>\n",
              "    .colab-df-container {\n",
              "      display:flex;\n",
              "      gap: 12px;\n",
              "    }\n",
              "\n",
              "    .colab-df-convert {\n",
              "      background-color: #E8F0FE;\n",
              "      border: none;\n",
              "      border-radius: 50%;\n",
              "      cursor: pointer;\n",
              "      display: none;\n",
              "      fill: #1967D2;\n",
              "      height: 32px;\n",
              "      padding: 0 0 0 0;\n",
              "      width: 32px;\n",
              "    }\n",
              "\n",
              "    .colab-df-convert:hover {\n",
              "      background-color: #E2EBFA;\n",
              "      box-shadow: 0px 1px 2px rgba(60, 64, 67, 0.3), 0px 1px 3px 1px rgba(60, 64, 67, 0.15);\n",
              "      fill: #174EA6;\n",
              "    }\n",
              "\n",
              "    .colab-df-buttons div {\n",
              "      margin-bottom: 4px;\n",
              "    }\n",
              "\n",
              "    [theme=dark] .colab-df-convert {\n",
              "      background-color: #3B4455;\n",
              "      fill: #D2E3FC;\n",
              "    }\n",
              "\n",
              "    [theme=dark] .colab-df-convert:hover {\n",
              "      background-color: #434B5C;\n",
              "      box-shadow: 0px 1px 3px 1px rgba(0, 0, 0, 0.15);\n",
              "      filter: drop-shadow(0px 1px 2px rgba(0, 0, 0, 0.3));\n",
              "      fill: #FFFFFF;\n",
              "    }\n",
              "  </style>\n",
              "\n",
              "    <script>\n",
              "      const buttonEl =\n",
              "        document.querySelector('#df-15cd0bb9-02d6-4120-a143-299ca387ce58 button.colab-df-convert');\n",
              "      buttonEl.style.display =\n",
              "        google.colab.kernel.accessAllowed ? 'block' : 'none';\n",
              "\n",
              "      async function convertToInteractive(key) {\n",
              "        const element = document.querySelector('#df-15cd0bb9-02d6-4120-a143-299ca387ce58');\n",
              "        const dataTable =\n",
              "          await google.colab.kernel.invokeFunction('convertToInteractive',\n",
              "                                                    [key], {});\n",
              "        if (!dataTable) return;\n",
              "\n",
              "        const docLinkHtml = 'Like what you see? Visit the ' +\n",
              "          '<a target=\"_blank\" href=https://colab.research.google.com/notebooks/data_table.ipynb>data table notebook</a>'\n",
              "          + ' to learn more about interactive tables.';\n",
              "        element.innerHTML = '';\n",
              "        dataTable['output_type'] = 'display_data';\n",
              "        await google.colab.output.renderOutput(dataTable, element);\n",
              "        const docLink = document.createElement('div');\n",
              "        docLink.innerHTML = docLinkHtml;\n",
              "        element.appendChild(docLink);\n",
              "      }\n",
              "    </script>\n",
              "  </div>\n",
              "\n",
              "\n",
              "  <div id=\"id_7f2b64d1-2761-407f-8739-902338fb2f6a\">\n",
              "    <style>\n",
              "      .colab-df-generate {\n",
              "        background-color: #E8F0FE;\n",
              "        border: none;\n",
              "        border-radius: 50%;\n",
              "        cursor: pointer;\n",
              "        display: none;\n",
              "        fill: #1967D2;\n",
              "        height: 32px;\n",
              "        padding: 0 0 0 0;\n",
              "        width: 32px;\n",
              "      }\n",
              "\n",
              "      .colab-df-generate:hover {\n",
              "        background-color: #E2EBFA;\n",
              "        box-shadow: 0px 1px 2px rgba(60, 64, 67, 0.3), 0px 1px 3px 1px rgba(60, 64, 67, 0.15);\n",
              "        fill: #174EA6;\n",
              "      }\n",
              "\n",
              "      [theme=dark] .colab-df-generate {\n",
              "        background-color: #3B4455;\n",
              "        fill: #D2E3FC;\n",
              "      }\n",
              "\n",
              "      [theme=dark] .colab-df-generate:hover {\n",
              "        background-color: #434B5C;\n",
              "        box-shadow: 0px 1px 3px 1px rgba(0, 0, 0, 0.15);\n",
              "        filter: drop-shadow(0px 1px 2px rgba(0, 0, 0, 0.3));\n",
              "        fill: #FFFFFF;\n",
              "      }\n",
              "    </style>\n",
              "    <button class=\"colab-df-generate\" onclick=\"generateWithVariable('df')\"\n",
              "            title=\"Generate code using this dataframe.\"\n",
              "            style=\"display:none;\">\n",
              "\n",
              "  <svg xmlns=\"http://www.w3.org/2000/svg\" height=\"24px\"viewBox=\"0 0 24 24\"\n",
              "       width=\"24px\">\n",
              "    <path d=\"M7,19H8.4L18.45,9,17,7.55,7,17.6ZM5,21V16.75L18.45,3.32a2,2,0,0,1,2.83,0l1.4,1.43a1.91,1.91,0,0,1,.58,1.4,1.91,1.91,0,0,1-.58,1.4L9.25,21ZM18.45,9,17,7.55Zm-12,3A5.31,5.31,0,0,0,4.9,8.1,5.31,5.31,0,0,0,1,6.5,5.31,5.31,0,0,0,4.9,4.9,5.31,5.31,0,0,0,6.5,1,5.31,5.31,0,0,0,8.1,4.9,5.31,5.31,0,0,0,12,6.5,5.46,5.46,0,0,0,6.5,12Z\"/>\n",
              "  </svg>\n",
              "    </button>\n",
              "    <script>\n",
              "      (() => {\n",
              "      const buttonEl =\n",
              "        document.querySelector('#id_7f2b64d1-2761-407f-8739-902338fb2f6a button.colab-df-generate');\n",
              "      buttonEl.style.display =\n",
              "        google.colab.kernel.accessAllowed ? 'block' : 'none';\n",
              "\n",
              "      buttonEl.onclick = () => {\n",
              "        google.colab.notebook.generateWithVariable('df');\n",
              "      }\n",
              "      })();\n",
              "    </script>\n",
              "  </div>\n",
              "\n",
              "    </div>\n",
              "  </div>\n"
            ],
            "application/vnd.google.colaboratory.intrinsic+json": {
              "type": "dataframe",
              "variable_name": "df",
              "summary": "{\n  \"name\": \"df\",\n  \"rows\": 1,\n  \"fields\": [\n    {\n      \"column\": \"Book Name\",\n      \"properties\": {\n        \"dtype\": \"string\",\n        \"num_unique_values\": 1,\n        \"samples\": [\n          \"A Light in the ...\"\n        ],\n        \"semantic_type\": \"\",\n        \"description\": \"\"\n      }\n    },\n    {\n      \"column\": \"Rating\",\n      \"properties\": {\n        \"dtype\": \"string\",\n        \"num_unique_values\": 1,\n        \"samples\": [\n          \"icon-star\"\n        ],\n        \"semantic_type\": \"\",\n        \"description\": \"\"\n      }\n    },\n    {\n      \"column\": \"Price\",\n      \"properties\": {\n        \"dtype\": \"string\",\n        \"num_unique_values\": 1,\n        \"samples\": [\n          \"\\u00a351.77\"\n        ],\n        \"semantic_type\": \"\",\n        \"description\": \"\"\n      }\n    },\n    {\n      \"column\": \"Availability\",\n      \"properties\": {\n        \"dtype\": \"string\",\n        \"num_unique_values\": 1,\n        \"samples\": [\n          \"\\n\\n    \\n        In stock\\n    \\n\"\n        ],\n        \"semantic_type\": \"\",\n        \"description\": \"\"\n      }\n    }\n  ]\n}"
            }
          },
          "metadata": {},
          "execution_count": 72
        }
      ]
    },
    {
      "cell_type": "code",
      "source": [
        "import pandas as pd\n",
        "\n",
        "# Assume you have a Pandas dataframe called 'scraped_data'\n",
        "# Replace this with your actual dataframe\n",
        "scraped_data = pd.DataFrame({\n",
        "    'Name': ['Alice', 'Bob', 'Charlie'],\n",
        "    'Age': [25, 30, 22]\n",
        "})\n",
        "\n",
        "# Save to CSV\n",
        "scraped_data.to_csv('scraped_data.csv', index=False)\n"
      ],
      "metadata": {
        "id": "93SMcRh1iHJB"
      },
      "execution_count": null,
      "outputs": []
    },
    {
      "cell_type": "code",
      "source": [
        "scraped_data=open('scraped_data.csv',\"r\")\n",
        "scraped_data=scraped_data.close('scraped_data.csv')"
      ],
      "metadata": {
        "colab": {
          "base_uri": "https://localhost:8080/",
          "height": 165
        },
        "id": "wxspRLzUi7qL",
        "outputId": "36321213-df86-4223-e618-a12257c40512"
      },
      "execution_count": null,
      "outputs": [
        {
          "output_type": "error",
          "ename": "NameError",
          "evalue": "name 'close' is not defined",
          "traceback": [
            "\u001b[0;31m---------------------------------------------------------------------------\u001b[0m",
            "\u001b[0;31mNameError\u001b[0m                                 Traceback (most recent call last)",
            "\u001b[0;32m<ipython-input-70-e6a0a6731a25>\u001b[0m in \u001b[0;36m<cell line: 2>\u001b[0;34m()\u001b[0m\n\u001b[1;32m      1\u001b[0m \u001b[0mscraped_data\u001b[0m\u001b[0;34m=\u001b[0m\u001b[0mopen\u001b[0m\u001b[0;34m(\u001b[0m\u001b[0;34m'scraped_data.csv'\u001b[0m\u001b[0;34m,\u001b[0m\u001b[0;34m\"r\"\u001b[0m\u001b[0;34m)\u001b[0m\u001b[0;34m\u001b[0m\u001b[0;34m\u001b[0m\u001b[0m\n\u001b[0;32m----> 2\u001b[0;31m \u001b[0mscraped_data\u001b[0m\u001b[0;34m=\u001b[0m\u001b[0mclose\u001b[0m\u001b[0;34m(\u001b[0m\u001b[0;34m'scraped_data.csv'\u001b[0m\u001b[0;34m)\u001b[0m\u001b[0;34m\u001b[0m\u001b[0;34m\u001b[0m\u001b[0m\n\u001b[0m",
            "\u001b[0;31mNameError\u001b[0m: name 'close' is not defined"
          ]
        }
      ]
    },
    {
      "cell_type": "code",
      "source": [
        "rating = book_tag.find(\"i\", class_=\"icon-star\").get(\"class\")[-1]"
      ],
      "metadata": {
        "id": "gKQdGQsTjFiP"
      },
      "execution_count": null,
      "outputs": []
    },
    {
      "cell_type": "code",
      "source": [
        "\n",
        "rating"
      ],
      "metadata": {
        "colab": {
          "base_uri": "https://localhost:8080/",
          "height": 36
        },
        "id": "i-VZwRw9kksf",
        "outputId": "fcba5f24-fb0c-4dbc-abd0-e61821034610"
      },
      "execution_count": null,
      "outputs": [
        {
          "output_type": "execute_result",
          "data": {
            "text/plain": [
              "'icon-star'"
            ],
            "application/vnd.google.colaboratory.intrinsic+json": {
              "type": "string"
            }
          },
          "metadata": {},
          "execution_count": 78
        }
      ]
    },
    {
      "cell_type": "code",
      "source": [],
      "metadata": {
        "id": "ogd9J0SfkoM_"
      },
      "execution_count": null,
      "outputs": []
    }
  ]
}