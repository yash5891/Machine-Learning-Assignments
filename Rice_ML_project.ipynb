{
  "cells": [
    {
      "cell_type": "markdown",
      "metadata": {
        "id": "view-in-github",
        "colab_type": "text"
      },
      "source": [
        "<a href=\"https://colab.research.google.com/github/yash5891/Machine-Learning-Assignments/blob/main/Rice_ML_project.ipynb\" target=\"_parent\"><img src=\"https://colab.research.google.com/assets/colab-badge.svg\" alt=\"Open In Colab\"/></a>"
      ]
    },
    {
      "cell_type": "code",
      "execution_count": null,
      "id": "f12c1908",
      "metadata": {
        "id": "f12c1908"
      },
      "outputs": [],
      "source": [
        "import numpy as np\n",
        "import pandas as pd\n",
        "import matplotlib.pyplot as plt\n",
        "import seaborn as sns\n",
        "%matplotlib inline\n",
        "import re\n",
        "from flask import Flask, render_template, request\n",
        "app = Flask(__name__)"
      ]
    },
    {
      "cell_type": "markdown",
      "id": "5_nPKtpqfVAu",
      "metadata": {
        "id": "5_nPKtpqfVAu"
      },
      "source": []
    },
    {
      "cell_type": "code",
      "execution_count": null,
      "id": "65df5dc7",
      "metadata": {
        "id": "65df5dc7"
      },
      "outputs": [],
      "source": [
        "rice2019=pd.read_csv('/content/Rice_2019.csv')\n",
        "rice2020=pd.read_csv('/content/Rice_2020.csv')\n",
        "rice2021=pd.read_csv('/content/Rice_2021.csv')\n",
        "rice2022=pd.read_csv('/content/Rice_2022.csv')\n",
        "rice2023=pd.read_csv('/content/Rice_2023.csv')\n",
        "rice2024=pd.read_csv('/content/Rice_2024 (1).csv')\n"
      ]
    },
    {
      "cell_type": "code",
      "execution_count": null,
      "id": "0d00bf1b",
      "metadata": {
        "id": "0d00bf1b"
      },
      "outputs": [],
      "source": [
        "Rice=pd.concat([rice2019,rice2020,rice2021,rice2022,rice2023,rice2024])"
      ]
    },
    {
      "cell_type": "code",
      "execution_count": null,
      "id": "b3958426",
      "metadata": {
        "id": "b3958426"
      },
      "outputs": [],
      "source": [
        "Rice.head()"
      ]
    },
    {
      "cell_type": "code",
      "execution_count": null,
      "id": "f064c4db",
      "metadata": {
        "id": "f064c4db"
      },
      "outputs": [],
      "source": [
        "Rice['cost of cultivation']=0"
      ]
    },
    {
      "cell_type": "code",
      "execution_count": null,
      "id": "914ea74e",
      "metadata": {
        "id": "914ea74e"
      },
      "outputs": [],
      "source": [
        "Rice.loc[Rice['state']=='Gujarat','cost of cultivation']=24513"
      ]
    },
    {
      "cell_type": "code",
      "execution_count": null,
      "id": "c080583a",
      "metadata": {
        "id": "c080583a"
      },
      "outputs": [],
      "source": [
        "Rice.loc[Rice['state']=='Jharkhand','cost of cultivation']=19164"
      ]
    },
    {
      "cell_type": "code",
      "execution_count": null,
      "id": "a7f99482",
      "metadata": {
        "id": "a7f99482"
      },
      "outputs": [],
      "source": [
        "Rice.loc[Rice['state']=='Karnataka','cost of cultivation']=24334"
      ]
    },
    {
      "cell_type": "code",
      "execution_count": null,
      "id": "26defd3c",
      "metadata": {
        "id": "26defd3c"
      },
      "outputs": [],
      "source": [
        "Rice.loc[Rice['state']=='Andhra Pradesh','cost of cultivation']=28062"
      ]
    },
    {
      "cell_type": "code",
      "execution_count": null,
      "id": "0c60132c",
      "metadata": {
        "id": "0c60132c"
      },
      "outputs": [],
      "source": [
        "Rice.loc[Rice['state']=='Bihar','cost of cultivation']=18727"
      ]
    },
    {
      "cell_type": "code",
      "execution_count": null,
      "id": "3252a4ee",
      "metadata": {
        "id": "3252a4ee"
      },
      "outputs": [],
      "source": [
        "Rice.loc[Rice['state']=='Gujarat','cost of cultivation']=24513"
      ]
    },
    {
      "cell_type": "code",
      "execution_count": null,
      "id": "b12e674f",
      "metadata": {
        "id": "b12e674f"
      },
      "outputs": [],
      "source": [
        "Rice.loc[Rice['cost of cultivation']==0,'cost of cultivation']=34428"
      ]
    },
    {
      "cell_type": "code",
      "execution_count": null,
      "id": "cc08b835",
      "metadata": {
        "id": "cc08b835"
      },
      "outputs": [],
      "source": [
        "Rice.head()"
      ]
    },
    {
      "cell_type": "code",
      "execution_count": null,
      "id": "32c5d3e1",
      "metadata": {
        "id": "32c5d3e1"
      },
      "outputs": [],
      "source": [
        "Rice.isnull().sum()"
      ]
    },
    {
      "cell_type": "code",
      "execution_count": null,
      "id": "3e0aa930",
      "metadata": {
        "id": "3e0aa930"
      },
      "outputs": [],
      "source": [
        "Rice['cost of cultivation'].unique()"
      ]
    },
    {
      "cell_type": "code",
      "execution_count": null,
      "id": "84004098",
      "metadata": {
        "id": "84004098"
      },
      "outputs": [],
      "source": [
        "Rice['Yield (kg/ha)']=0\n"
      ]
    },
    {
      "cell_type": "code",
      "execution_count": null,
      "id": "88be18ca",
      "metadata": {
        "id": "88be18ca"
      },
      "outputs": [],
      "source": [
        "Rice.loc[Rice['state']=='Gujarat','Yield (kg/ha)']=1356\n"
      ]
    },
    {
      "cell_type": "code",
      "execution_count": null,
      "id": "f3d5509d",
      "metadata": {
        "id": "f3d5509d"
      },
      "outputs": [],
      "source": [
        "Rice.loc[Rice['state']=='Karnataka','Yield (kg/ha)']=3000"
      ]
    },
    {
      "cell_type": "code",
      "execution_count": null,
      "id": "92b5fc24",
      "metadata": {
        "id": "92b5fc24"
      },
      "outputs": [],
      "source": [
        "Rice.loc[Rice['state']=='Kerala','Yield (kg/ha)']=2884"
      ]
    },
    {
      "cell_type": "code",
      "execution_count": null,
      "id": "e668e002",
      "metadata": {
        "id": "e668e002"
      },
      "outputs": [],
      "source": [
        "Rice.loc[Rice['state']=='Maharashtra','Yield (kg/ha)']=1800"
      ]
    },
    {
      "cell_type": "code",
      "execution_count": null,
      "id": "Fxa-VFvM3QMy",
      "metadata": {
        "id": "Fxa-VFvM3QMy"
      },
      "outputs": [],
      "source": []
    },
    {
      "cell_type": "code",
      "execution_count": null,
      "id": "01b34909",
      "metadata": {
        "id": "01b34909"
      },
      "outputs": [],
      "source": [
        "Rice.loc[Rice['state']=='Jharkhand','Yield (kg/ha)']=960"
      ]
    },
    {
      "cell_type": "code",
      "execution_count": null,
      "id": "00923004",
      "metadata": {
        "id": "00923004"
      },
      "outputs": [],
      "source": [
        "Rice.loc[Rice['state']=='Manipur','Yield (kg/ha)']=1230"
      ]
    },
    {
      "cell_type": "code",
      "execution_count": null,
      "id": "09b863e9",
      "metadata": {
        "id": "09b863e9"
      },
      "outputs": [],
      "source": [
        "Rice.loc[Rice['state']=='Odisha','Yield (kg/ha)']=2300"
      ]
    },
    {
      "cell_type": "code",
      "execution_count": null,
      "id": "db2eb81d",
      "metadata": {
        "id": "db2eb81d"
      },
      "outputs": [],
      "source": [
        "Rice.loc[Rice['state']=='Tripura','Yield (kg/ha)']=2200"
      ]
    },
    {
      "cell_type": "code",
      "execution_count": null,
      "id": "05e07840",
      "metadata": {
        "id": "05e07840"
      },
      "outputs": [],
      "source": [
        "Rice.loc[Rice['state']=='Uttar Pradesh','Yield (kg/ha)']=2700"
      ]
    },
    {
      "cell_type": "code",
      "execution_count": null,
      "id": "b4d2c7d4",
      "metadata": {
        "id": "b4d2c7d4"
      },
      "outputs": [],
      "source": [
        "Rice.loc[Rice['state']=='Uttrakhand','Yield (kg/ha)']=2800"
      ]
    },
    {
      "cell_type": "code",
      "execution_count": null,
      "id": "030ebfd5",
      "metadata": {
        "id": "030ebfd5"
      },
      "outputs": [],
      "source": [
        "Rice.loc[Rice['state']=='West Bengal','Yield (kg/ha)']=2600"
      ]
    },
    {
      "cell_type": "code",
      "execution_count": null,
      "id": "3600d0a0",
      "metadata": {
        "id": "3600d0a0"
      },
      "outputs": [],
      "source": [
        "Rice.loc[Rice['state']=='Telangana','Yield (kg/ha)']=3700"
      ]
    },
    {
      "cell_type": "code",
      "execution_count": null,
      "id": "21e4049a",
      "metadata": {
        "id": "21e4049a"
      },
      "outputs": [],
      "source": [
        "Rice.loc[Rice['state']=='Andhra Pradesh','Yield (kg/ha)']=3395"
      ]
    },
    {
      "cell_type": "code",
      "execution_count": null,
      "id": "755f570a",
      "metadata": {
        "id": "755f570a"
      },
      "outputs": [],
      "source": [
        "Rice.loc[Rice['state']=='Bihar','Yield (kg/ha)']=2200"
      ]
    },
    {
      "cell_type": "code",
      "execution_count": null,
      "id": "fd46e65e",
      "metadata": {
        "id": "fd46e65e"
      },
      "outputs": [],
      "source": [
        "Rice.loc[Rice['state']=='NCT of Delhi','Yield (kg/ha)']=2000"
      ]
    },
    {
      "cell_type": "code",
      "execution_count": null,
      "id": "660c6242",
      "metadata": {
        "id": "660c6242"
      },
      "outputs": [],
      "source": [
        "Rice.loc[Rice['state']=='Madhya Pradesh','Yield (kg/ha)']=2789"
      ]
    },
    {
      "cell_type": "code",
      "execution_count": null,
      "id": "000dad3d",
      "metadata": {
        "id": "000dad3d"
      },
      "outputs": [],
      "source": [
        "Rice.loc[Rice['state']=='Meghalaya','Yield (kg/ha)']=1290"
      ]
    },
    {
      "cell_type": "code",
      "execution_count": null,
      "id": "c6802fb3",
      "metadata": {
        "id": "c6802fb3"
      },
      "outputs": [],
      "source": [
        "Rice.loc[Rice['state']=='Punjab','Yield (kg/ha)']='4000-5000'"
      ]
    },
    {
      "cell_type": "code",
      "execution_count": null,
      "id": "92856953",
      "metadata": {
        "id": "92856953"
      },
      "outputs": [],
      "source": [
        "Rice.loc[Rice['state']=='Rajasthan','Yield (kg/ha)']=1149"
      ]
    },
    {
      "cell_type": "code",
      "execution_count": null,
      "id": "2f6fb1df",
      "metadata": {
        "id": "2f6fb1df"
      },
      "outputs": [],
      "source": [
        "Rice.head()"
      ]
    },
    {
      "cell_type": "code",
      "execution_count": null,
      "id": "9ea508d1",
      "metadata": {
        "id": "9ea508d1"
      },
      "outputs": [],
      "source": [
        "Rice.drop('update_date',axis=1,inplace=True)\n",
        "Rice.head()"
      ]
    },
    {
      "cell_type": "code",
      "execution_count": null,
      "id": "8fa76873",
      "metadata": {
        "id": "8fa76873"
      },
      "outputs": [],
      "source": [
        "Rice.shape"
      ]
    },
    {
      "cell_type": "code",
      "execution_count": null,
      "id": "40306c02",
      "metadata": {
        "id": "40306c02"
      },
      "outputs": [],
      "source": [
        "Rice.isnull().sum()"
      ]
    },
    {
      "cell_type": "code",
      "execution_count": null,
      "id": "18dac937",
      "metadata": {
        "id": "18dac937"
      },
      "outputs": [],
      "source": [
        "len(Rice['variety'].unique())"
      ]
    },
    {
      "cell_type": "code",
      "execution_count": null,
      "id": "e0837b1b",
      "metadata": {
        "id": "e0837b1b"
      },
      "outputs": [],
      "source": [
        "len(Rice['state'].unique())"
      ]
    },
    {
      "cell_type": "code",
      "execution_count": null,
      "id": "354c3a83",
      "metadata": {
        "id": "354c3a83"
      },
      "outputs": [],
      "source": [
        "len(Rice['district'].unique())"
      ]
    },
    {
      "cell_type": "code",
      "execution_count": null,
      "id": "24a1afd5",
      "metadata": {
        "id": "24a1afd5"
      },
      "outputs": [],
      "source": [
        "len(Rice['market'].unique())"
      ]
    },
    {
      "cell_type": "code",
      "execution_count": null,
      "id": "b380c9b5",
      "metadata": {
        "id": "b380c9b5"
      },
      "outputs": [],
      "source": [
        "Gujarat=Rice[Rice['state']=='Gujarat']\n",
        "Gujarat.head()"
      ]
    },
    {
      "cell_type": "code",
      "execution_count": null,
      "id": "6c2e755d",
      "metadata": {
        "id": "6c2e755d"
      },
      "outputs": [],
      "source": [
        "Gujarat['variety'].value_counts().plot(kind='bar')"
      ]
    },
    {
      "cell_type": "code",
      "execution_count": null,
      "id": "4cc844b4",
      "metadata": {
        "id": "4cc844b4"
      },
      "outputs": [],
      "source": [
        "Gujarat['market'].value_counts().plot(kind='bar')"
      ]
    },
    {
      "cell_type": "code",
      "execution_count": null,
      "id": "9a94e950",
      "metadata": {
        "id": "9a94e950"
      },
      "outputs": [],
      "source": [
        "Gujarat['arrival_date'] = pd.to_datetime(Gujarat['arrival_date'], format='%d/%m/%Y')\n",
        "Gujarat['arrival_date'] = Gujarat['arrival_date'].dt.strftime('%Y-%m')\n",
        "Gujarat.head()"
      ]
    },
    {
      "cell_type": "code",
      "execution_count": null,
      "id": "5f96d471",
      "metadata": {
        "id": "5f96d471"
      },
      "outputs": [],
      "source": [
        "len(Gujarat['arrival_date'].unique())"
      ]
    },
    {
      "cell_type": "code",
      "execution_count": null,
      "id": "45431bcb",
      "metadata": {
        "id": "45431bcb"
      },
      "outputs": [],
      "source": [
        "# @title Default title text\n",
        "d1=Gujarat[Gujarat['arrival_date']=='2020-01']"
      ]
    },
    {
      "cell_type": "code",
      "execution_count": null,
      "id": "SVOFbLou-d_x",
      "metadata": {
        "id": "SVOFbLou-d_x"
      },
      "outputs": [],
      "source": [
        "d1=Gujarat[Gujarat['arrival_date']=='2020-01']\n",
        "d2=Gujarat[Gujarat['arrival_date']=='2020-02']\n",
        "d3=Gujarat[Gujarat['arrival_date']=='2020-03']\n",
        "d4=Gujarat[Gujarat['arrival_date']=='2020-04']\n",
        "d5=Gujarat[Gujarat['arrival_date']=='2020-05']\n",
        "d6=Gujarat[Gujarat['arrival_date']=='2020-06']\n",
        "d6=Gujarat[Gujarat['arrival_date']=='2020-07']\n",
        "d8=Gujarat[Gujarat['arrival_date']=='2020-08']\n",
        "d9=Gujarat[Gujarat['arrival_date']=='2020-09']\n",
        "\n"
      ]
    },
    {
      "cell_type": "code",
      "execution_count": null,
      "id": "feda729d",
      "metadata": {
        "id": "feda729d"
      },
      "outputs": [],
      "source": [
        "d2=Gujarat[Gujarat['arrival_date']=='2020-02']"
      ]
    },
    {
      "cell_type": "code",
      "execution_count": null,
      "id": "802ed046",
      "metadata": {
        "id": "802ed046"
      },
      "outputs": [],
      "source": [
        "d3=Gujarat[Gujarat['arrival_date']=='2020-03']"
      ]
    },
    {
      "cell_type": "code",
      "execution_count": null,
      "id": "13ee16bb",
      "metadata": {
        "id": "13ee16bb"
      },
      "outputs": [],
      "source": [
        "d4=Gujarat[Gujarat['arrival_date']=='2020-04']"
      ]
    },
    {
      "cell_type": "code",
      "execution_count": null,
      "id": "49de97a4",
      "metadata": {
        "id": "49de97a4"
      },
      "outputs": [],
      "source": [
        "d5=Gujarat[Gujarat['arrival_date']=='2020-05']"
      ]
    },
    {
      "cell_type": "code",
      "execution_count": null,
      "id": "656e9a58",
      "metadata": {
        "id": "656e9a58"
      },
      "outputs": [],
      "source": [
        "d6=Gujarat[Gujarat['arrival_date']=='2020-06']"
      ]
    },
    {
      "cell_type": "code",
      "execution_count": null,
      "id": "5e5e20c9",
      "metadata": {
        "id": "5e5e20c9"
      },
      "outputs": [],
      "source": [
        "d7=Gujarat[Gujarat['arrival_date']=='2020-07']"
      ]
    },
    {
      "cell_type": "code",
      "execution_count": null,
      "id": "034b5f9b",
      "metadata": {
        "id": "034b5f9b"
      },
      "outputs": [],
      "source": [
        "d8=Gujarat[Gujarat['arrival_date']=='2020-08']"
      ]
    },
    {
      "cell_type": "code",
      "execution_count": null,
      "id": "b1d50a2f",
      "metadata": {
        "id": "b1d50a2f"
      },
      "outputs": [],
      "source": [
        "d9=Gujarat[Gujarat['arrival_date']=='2020-09']\n"
      ]
    },
    {
      "cell_type": "code",
      "execution_count": null,
      "id": "4ba3e1da",
      "metadata": {
        "id": "4ba3e1da"
      },
      "outputs": [],
      "source": [
        "Gujarat_2020=pd.concat([d1,d2,d3,d4,d5,d6,d7,d8,d9])\n",
        "Gujarat_2020.head()"
      ]
    },
    {
      "cell_type": "code",
      "execution_count": null,
      "id": "2c910c60",
      "metadata": {
        "id": "2c910c60"
      },
      "outputs": [],
      "source": [
        "sns.scatterplot(x='arrival_date', y='max_price', data=Gujarat_2020, palette='rainbow')"
      ]
    },
    {
      "cell_type": "code",
      "execution_count": null,
      "id": "858a3c24",
      "metadata": {
        "id": "858a3c24"
      },
      "outputs": [],
      "source": [
        "sns.scatterplot(x='arrival_date', y='min_price', data=Gujarat_2020, palette='rainbow')"
      ]
    },
    {
      "cell_type": "code",
      "execution_count": null,
      "id": "f79c5cac",
      "metadata": {
        "id": "f79c5cac"
      },
      "outputs": [],
      "source": [
        "sns.scatterplot(x='arrival_date', y='modal_price', data=Gujarat_2020, palette='rainbow')"
      ]
    },
    {
      "cell_type": "code",
      "execution_count": null,
      "id": "fecbc966",
      "metadata": {
        "id": "fecbc966"
      },
      "outputs": [],
      "source": [
        "d11=Gujarat[Gujarat['arrival_date']=='2021-01']"
      ]
    },
    {
      "cell_type": "code",
      "execution_count": null,
      "id": "a4053bdd",
      "metadata": {
        "id": "a4053bdd"
      },
      "outputs": [],
      "source": [
        "d12=Gujarat[Gujarat['arrival_date']=='2021-02']"
      ]
    },
    {
      "cell_type": "code",
      "execution_count": null,
      "id": "f05ec629",
      "metadata": {
        "id": "f05ec629"
      },
      "outputs": [],
      "source": [
        "d13=Gujarat[Gujarat['arrival_date']=='2021-03']"
      ]
    },
    {
      "cell_type": "code",
      "execution_count": null,
      "id": "432249ea",
      "metadata": {
        "id": "432249ea"
      },
      "outputs": [],
      "source": [
        "d14=Gujarat[Gujarat['arrival_date']=='2021-04']"
      ]
    },
    {
      "cell_type": "code",
      "execution_count": null,
      "id": "5a1ce755",
      "metadata": {
        "id": "5a1ce755"
      },
      "outputs": [],
      "source": [
        "d15=Gujarat[Gujarat['arrival_date']=='2021-05']"
      ]
    },
    {
      "cell_type": "code",
      "execution_count": null,
      "id": "99d3a238",
      "metadata": {
        "id": "99d3a238"
      },
      "outputs": [],
      "source": [
        "d16=Gujarat[Gujarat['arrival_date']=='2021-06']"
      ]
    },
    {
      "cell_type": "code",
      "execution_count": null,
      "id": "d50f843b",
      "metadata": {
        "id": "d50f843b"
      },
      "outputs": [],
      "source": [
        "d17=Gujarat[Gujarat['arrival_date']=='2021-07']"
      ]
    },
    {
      "cell_type": "code",
      "execution_count": null,
      "id": "0d694242",
      "metadata": {
        "id": "0d694242"
      },
      "outputs": [],
      "source": [
        "d18=Gujarat[Gujarat['arrival_date']=='2021-08']"
      ]
    },
    {
      "cell_type": "code",
      "execution_count": null,
      "id": "35af5eb6",
      "metadata": {
        "id": "35af5eb6"
      },
      "outputs": [],
      "source": [
        "d19=Gujarat[Gujarat['arrival_date']=='2021-09']"
      ]
    },
    {
      "cell_type": "code",
      "execution_count": null,
      "id": "10d903ef",
      "metadata": {
        "id": "10d903ef"
      },
      "outputs": [],
      "source": [
        "d20=Gujarat[Gujarat['arrival_date']=='2021-10']"
      ]
    },
    {
      "cell_type": "code",
      "execution_count": null,
      "id": "0ebcfc1d",
      "metadata": {
        "id": "0ebcfc1d"
      },
      "outputs": [],
      "source": [
        "d21=Gujarat[Gujarat['arrival_date']=='2021-11']"
      ]
    },
    {
      "cell_type": "code",
      "execution_count": null,
      "id": "d8a0aa4d",
      "metadata": {
        "id": "d8a0aa4d"
      },
      "outputs": [],
      "source": [
        "d22=Gujarat[Gujarat['arrival_date']=='2021-12']"
      ]
    },
    {
      "cell_type": "code",
      "execution_count": null,
      "id": "3b9a2a47",
      "metadata": {
        "id": "3b9a2a47"
      },
      "outputs": [],
      "source": [
        "Gujarat_2021=pd.concat([d11,d12,d13,d14,d15,d16,d17,d18,d19,d20,d21,d22])\n",
        "Gujarat_2021.head()"
      ]
    },
    {
      "cell_type": "code",
      "execution_count": null,
      "id": "2b90278a",
      "metadata": {
        "id": "2b90278a"
      },
      "outputs": [],
      "source": [
        "sns.scatterplot(x='arrival_date', y='max_price', data=Gujarat_2021, palette='rainbow')"
      ]
    },
    {
      "cell_type": "code",
      "execution_count": null,
      "id": "f3912383",
      "metadata": {
        "id": "f3912383"
      },
      "outputs": [],
      "source": [
        "sns.scatterplot(x='arrival_date', y='min_price', data=Gujarat_2021, palette='rainbow')"
      ]
    },
    {
      "cell_type": "code",
      "execution_count": null,
      "id": "89b0fc0e",
      "metadata": {
        "id": "89b0fc0e"
      },
      "outputs": [],
      "source": [
        "sns.scatterplot(x='arrival_date', y='modal_price', data=Gujarat_2021, palette='rainbow')"
      ]
    },
    {
      "cell_type": "code",
      "execution_count": null,
      "id": "8e47d6d1",
      "metadata": {
        "id": "8e47d6d1"
      },
      "outputs": [],
      "source": [
        "d23=Gujarat[Gujarat['arrival_date']=='2022-01']"
      ]
    },
    {
      "cell_type": "code",
      "execution_count": null,
      "id": "a616b613",
      "metadata": {
        "id": "a616b613"
      },
      "outputs": [],
      "source": [
        "d24=Gujarat[Gujarat['arrival_date']=='2022-02']"
      ]
    },
    {
      "cell_type": "code",
      "execution_count": null,
      "id": "c6dab5f7",
      "metadata": {
        "id": "c6dab5f7"
      },
      "outputs": [],
      "source": [
        "d25=Gujarat[Gujarat['arrival_date']=='2022-03']"
      ]
    },
    {
      "cell_type": "code",
      "execution_count": null,
      "id": "e916563d",
      "metadata": {
        "id": "e916563d"
      },
      "outputs": [],
      "source": [
        "d26=Gujarat[Gujarat['arrival_date']=='2022-04']"
      ]
    },
    {
      "cell_type": "code",
      "execution_count": null,
      "id": "8a8d4932",
      "metadata": {
        "id": "8a8d4932"
      },
      "outputs": [],
      "source": [
        "d27=Gujarat[Gujarat['arrival_date']=='2022-05']"
      ]
    },
    {
      "cell_type": "code",
      "execution_count": null,
      "id": "17dd748e",
      "metadata": {
        "id": "17dd748e"
      },
      "outputs": [],
      "source": [
        "d28=Gujarat[Gujarat['arrival_date']=='2022-06']"
      ]
    },
    {
      "cell_type": "code",
      "execution_count": null,
      "id": "5ddf5529",
      "metadata": {
        "id": "5ddf5529"
      },
      "outputs": [],
      "source": [
        "d29=Gujarat[Gujarat['arrival_date']=='2022-07']"
      ]
    },
    {
      "cell_type": "code",
      "execution_count": null,
      "id": "4a618a9b",
      "metadata": {
        "id": "4a618a9b"
      },
      "outputs": [],
      "source": [
        "d30=Gujarat[Gujarat['arrival_date']=='2022-08']"
      ]
    },
    {
      "cell_type": "code",
      "execution_count": null,
      "id": "95292313",
      "metadata": {
        "id": "95292313"
      },
      "outputs": [],
      "source": [
        "d31=Gujarat[Gujarat['arrival_date']=='2022-09']"
      ]
    },
    {
      "cell_type": "code",
      "execution_count": null,
      "id": "201f2a12",
      "metadata": {
        "id": "201f2a12"
      },
      "outputs": [],
      "source": [
        "d32=Gujarat[Gujarat['arrival_date']=='2022-10']"
      ]
    },
    {
      "cell_type": "code",
      "execution_count": null,
      "id": "33466839",
      "metadata": {
        "id": "33466839"
      },
      "outputs": [],
      "source": [
        "d33=Gujarat[Gujarat['arrival_date']=='2022-11']"
      ]
    },
    {
      "cell_type": "code",
      "execution_count": null,
      "id": "044f7782",
      "metadata": {
        "id": "044f7782"
      },
      "outputs": [],
      "source": [
        "d34=Gujarat[Gujarat['arrival_date']=='2022-12']"
      ]
    },
    {
      "cell_type": "code",
      "execution_count": null,
      "id": "59b3c22e",
      "metadata": {
        "id": "59b3c22e"
      },
      "outputs": [],
      "source": [
        "Gujarat_2022=pd.concat([d23,d24,d25,d26,d27,d28,d29,d30,d31,d32,d33,d34])\n",
        "Gujarat_2022.head()"
      ]
    },
    {
      "cell_type": "code",
      "execution_count": null,
      "id": "e389dbd7",
      "metadata": {
        "id": "e389dbd7"
      },
      "outputs": [],
      "source": [
        "sns.scatterplot(x='arrival_date', y='min_price', data=Gujarat_2022, palette='rainbow')"
      ]
    },
    {
      "cell_type": "code",
      "execution_count": null,
      "id": "9979d412",
      "metadata": {
        "id": "9979d412"
      },
      "outputs": [],
      "source": [
        "sns.scatterplot(x='arrival_date', y='max_price', data=Gujarat_2022, palette='rainbow')"
      ]
    },
    {
      "cell_type": "code",
      "execution_count": null,
      "id": "8ae95356",
      "metadata": {
        "id": "8ae95356"
      },
      "outputs": [],
      "source": [
        "sns.scatterplot(x='arrival_date', y='modal_price', data=Gujarat_2022, palette='rainbow')"
      ]
    },
    {
      "cell_type": "code",
      "execution_count": null,
      "id": "5290132f",
      "metadata": {
        "id": "5290132f"
      },
      "outputs": [],
      "source": [
        "d35=Gujarat[Gujarat['arrival_date']=='2023-01']"
      ]
    },
    {
      "cell_type": "code",
      "execution_count": null,
      "id": "8514621d",
      "metadata": {
        "id": "8514621d"
      },
      "outputs": [],
      "source": [
        "d36=Gujarat[Gujarat['arrival_date']=='2023-02']"
      ]
    },
    {
      "cell_type": "code",
      "execution_count": null,
      "id": "355cdfeb",
      "metadata": {
        "id": "355cdfeb"
      },
      "outputs": [],
      "source": [
        "d37=Gujarat[Gujarat['arrival_date']=='2023-03']"
      ]
    },
    {
      "cell_type": "code",
      "execution_count": null,
      "id": "f80f80a6",
      "metadata": {
        "id": "f80f80a6"
      },
      "outputs": [],
      "source": [
        "d38=Gujarat[Gujarat['arrival_date']=='2023-04']"
      ]
    },
    {
      "cell_type": "code",
      "execution_count": null,
      "id": "bfcf286f",
      "metadata": {
        "id": "bfcf286f"
      },
      "outputs": [],
      "source": [
        "d39=Gujarat[Gujarat['arrival_date']=='2023-05']"
      ]
    },
    {
      "cell_type": "code",
      "execution_count": null,
      "id": "968c3312",
      "metadata": {
        "id": "968c3312"
      },
      "outputs": [],
      "source": [
        "d40=Gujarat[Gujarat['arrival_date']=='2023-06']"
      ]
    },
    {
      "cell_type": "code",
      "execution_count": null,
      "id": "2efd4aec",
      "metadata": {
        "id": "2efd4aec"
      },
      "outputs": [],
      "source": [
        "d41=Gujarat[Gujarat['arrival_date']=='2023-07']"
      ]
    },
    {
      "cell_type": "code",
      "execution_count": null,
      "id": "856c9324",
      "metadata": {
        "id": "856c9324"
      },
      "outputs": [],
      "source": [
        "d42=Gujarat[Gujarat['arrival_date']=='2023-08']"
      ]
    },
    {
      "cell_type": "code",
      "execution_count": null,
      "id": "95e22896",
      "metadata": {
        "id": "95e22896"
      },
      "outputs": [],
      "source": [
        "d43=Gujarat[Gujarat['arrival_date']=='2023-09']"
      ]
    },
    {
      "cell_type": "code",
      "execution_count": null,
      "id": "a829282d",
      "metadata": {
        "id": "a829282d"
      },
      "outputs": [],
      "source": [
        "d44=Gujarat[Gujarat['arrival_date']=='2023-10']"
      ]
    },
    {
      "cell_type": "code",
      "execution_count": null,
      "id": "c7838290",
      "metadata": {
        "id": "c7838290"
      },
      "outputs": [],
      "source": [
        "d45=Gujarat[Gujarat['arrival_date']=='2023-11']"
      ]
    },
    {
      "cell_type": "code",
      "execution_count": null,
      "id": "Pz8ibMEy3TZk",
      "metadata": {
        "id": "Pz8ibMEy3TZk"
      },
      "outputs": [],
      "source": []
    },
    {
      "cell_type": "code",
      "execution_count": null,
      "id": "6b07ba7a",
      "metadata": {
        "id": "6b07ba7a"
      },
      "outputs": [],
      "source": [
        "d46=Gujarat[Gujarat['arrival_date']=='2023-12']"
      ]
    },
    {
      "cell_type": "code",
      "execution_count": null,
      "id": "6782ed87",
      "metadata": {
        "id": "6782ed87"
      },
      "outputs": [],
      "source": [
        "Gujarat_2023=pd.concat([d35,d36,d37,d38,d39,d40,d41,d42,d43,d44,d45,d46])"
      ]
    },
    {
      "cell_type": "code",
      "execution_count": null,
      "id": "6744b4ad",
      "metadata": {
        "id": "6744b4ad"
      },
      "outputs": [],
      "source": [
        "sns.scatterplot(x='arrival_date', y='min_price', data=Gujarat_2023, palette='rainbow')"
      ]
    },
    {
      "cell_type": "code",
      "execution_count": null,
      "id": "3ae80f5e",
      "metadata": {
        "id": "3ae80f5e"
      },
      "outputs": [],
      "source": [
        "sns.scatterplot(x='arrival_date', y='max_price', data=Gujarat_2023, palette='rainbow')"
      ]
    },
    {
      "cell_type": "code",
      "execution_count": null,
      "id": "9ef18fee",
      "metadata": {
        "id": "9ef18fee"
      },
      "outputs": [],
      "source": [
        "sns.scatterplot(x='arrival_date', y='modal_price', data=Gujarat_2023, palette='rainbow')"
      ]
    },
    {
      "cell_type": "code",
      "execution_count": null,
      "id": "5d766059",
      "metadata": {
        "id": "5d766059"
      },
      "outputs": [],
      "source": [
        "d47=Gujarat[Gujarat['arrival_date']=='2024-01']"
      ]
    },
    {
      "cell_type": "code",
      "execution_count": null,
      "id": "dc5c9ee4",
      "metadata": {
        "id": "dc5c9ee4"
      },
      "outputs": [],
      "source": [
        "d48=Gujarat[Gujarat['arrival_date']=='2024-02']"
      ]
    },
    {
      "cell_type": "code",
      "execution_count": null,
      "id": "1f1bf391",
      "metadata": {
        "id": "1f1bf391"
      },
      "outputs": [],
      "source": [
        "d49=Gujarat[Gujarat['arrival_date']=='2024-03']"
      ]
    },
    {
      "cell_type": "code",
      "execution_count": null,
      "id": "1675d326",
      "metadata": {
        "id": "1675d326"
      },
      "outputs": [],
      "source": [
        "Gujarat_2024=pd.concat([d47,d48,d49])"
      ]
    },
    {
      "cell_type": "code",
      "execution_count": null,
      "id": "fe7b6e0b",
      "metadata": {
        "id": "fe7b6e0b"
      },
      "outputs": [],
      "source": [
        "sns.scatterplot(x='arrival_date', y='min_price', data=Gujarat_2024, palette='rainbow')"
      ]
    },
    {
      "cell_type": "code",
      "execution_count": null,
      "id": "89ee11c4",
      "metadata": {
        "id": "89ee11c4"
      },
      "outputs": [],
      "source": [
        "sns.scatterplot(x='arrival_date', y='max_price', data=Gujarat_2024, palette='rainbow')"
      ]
    },
    {
      "cell_type": "code",
      "execution_count": null,
      "id": "2bc8ce93",
      "metadata": {
        "id": "2bc8ce93"
      },
      "outputs": [],
      "source": [
        "sns.scatterplot(x='arrival_date', y='modal_price', data=Gujarat_2024, palette='rainbow')"
      ]
    },
    {
      "cell_type": "code",
      "execution_count": null,
      "id": "26f27c5d",
      "metadata": {
        "id": "26f27c5d"
      },
      "outputs": [],
      "source": [
        "West_Bengal=Rice[Rice['state']=='West Bengal']\n",
        "West_Bengal.head()\n"
      ]
    },
    {
      "cell_type": "code",
      "execution_count": null,
      "id": "50eb88f7",
      "metadata": {
        "id": "50eb88f7"
      },
      "outputs": [],
      "source": [
        "West_Bengal['variety'].value_counts().plot(kind='bar')"
      ]
    },
    {
      "cell_type": "code",
      "execution_count": null,
      "id": "a470ffef",
      "metadata": {
        "id": "a470ffef"
      },
      "outputs": [],
      "source": [
        "West_Bengal['market'].value_counts().plot(kind='bar',figsize=(25,25))"
      ]
    },
    {
      "cell_type": "code",
      "execution_count": null,
      "id": "17ce3781",
      "metadata": {
        "id": "17ce3781"
      },
      "outputs": [],
      "source": [
        "sns.countplot(West_Bengal['market'])"
      ]
    },
    {
      "cell_type": "code",
      "execution_count": null,
      "id": "5942638f",
      "metadata": {
        "id": "5942638f"
      },
      "outputs": [],
      "source": [
        "\n",
        "\n",
        "\n",
        "\n",
        "\n",
        "\n",
        "\n"
      ]
    },
    {
      "cell_type": "code",
      "execution_count": null,
      "id": "776fd645",
      "metadata": {
        "id": "776fd645"
      },
      "outputs": [],
      "source": [
        "w1=West_Bengal[West_Bengal['arrival_date']=='2019-01']\n",
        "w2=West_Bengal[West_Bengal['arrival_date']=='2019-02']\n",
        "w3=West_Bengal[West_Bengal['arrival_date']=='2019-03']\n",
        "w4=West_Bengal[West_Bengal['arrival_date']=='2019-04']\n",
        "w5=West_Bengal[West_Bengal['arrival_date']=='2019-05']\n",
        "w6=West_Bengal[West_Bengal['arrival_date']=='2019-06']\n",
        "w7=West_Bengal[West_Bengal['arrival_date']=='2019-07']\n",
        "w8=West_Bengal[West_Bengal['arrival_date']=='2019-08']\n",
        "w9=West_Bengal[West_Bengal['arrival_date']=='2019-09']\n",
        "w10=West_Bengal[West_Bengal['arrival_date']==\"2019-10\"]\n",
        "w11=West_Bengal[West_Bengal['arrival_date']==\"2019-11\"]\n",
        "w12=West_Bengal[West_Bengal['arrival_date']==\"2019-12\"]\n",
        "w1\n"
      ]
    },
    {
      "cell_type": "code",
      "execution_count": null,
      "id": "3150fe45",
      "metadata": {
        "id": "3150fe45"
      },
      "outputs": [],
      "source": [
        "West_Bengal_2019=pd.concat([w1,w2,w3,w4,w5,w6,w7,w8,w9,w10,w11,w12])\n",
        "West_Bengal_2019.head()"
      ]
    },
    {
      "cell_type": "code",
      "execution_count": null,
      "id": "bd4a53fb",
      "metadata": {
        "id": "bd4a53fb"
      },
      "outputs": [],
      "source": [
        "w1=West_Bengal[West_Bengal['arrival_date']=='2019-01']\n",
        "w2=West_Bengal[West_Bengal['arrival_date']=='2019-02']\n",
        "w3=West_Bengal[West_Bengal['arrival_date']=='2019-03']\n",
        "w4=West_Bengal[West_Bengal['arrival_date']=='2019-04']\n",
        "w5=West_Bengal[West_Bengal['arrival_date']=='2019-05']\n",
        "w6=West_Bengal[West_Bengal['arrival_date']=='2019-06']\n",
        "w7=West_Bengal[West_Bengal['arrival_date']=='2019-07']\n",
        "w8=West_Bengal[West_Bengal['arrival_date']=='2019-08']\n",
        "w9=West_Bengal[West_Bengal['arrival_date']=='2019-09']\n",
        "w10=West_Bengal[West_Bengal['arrival_date']==\"2019-10\"]\n",
        "w11=West_Bengal[West_Bengal['arrival_date']==\"2019-11\"]\n",
        "w12=West_Bengal[West_Bengal['arrival_date']==\"2019-12\"]\n",
        "w1"
      ]
    },
    {
      "cell_type": "code",
      "execution_count": null,
      "id": "6294bae8",
      "metadata": {
        "id": "6294bae8"
      },
      "outputs": [],
      "source": []
    },
    {
      "cell_type": "code",
      "execution_count": null,
      "id": "6d853628",
      "metadata": {
        "id": "6d853628"
      },
      "outputs": [],
      "source": []
    },
    {
      "cell_type": "code",
      "execution_count": null,
      "id": "ee64c5ba",
      "metadata": {
        "id": "ee64c5ba"
      },
      "outputs": [],
      "source": []
    },
    {
      "cell_type": "code",
      "execution_count": null,
      "id": "61d61a0d",
      "metadata": {
        "id": "61d61a0d"
      },
      "outputs": [],
      "source": []
    },
    {
      "cell_type": "code",
      "execution_count": null,
      "id": "b6d59870",
      "metadata": {
        "id": "b6d59870"
      },
      "outputs": [],
      "source": []
    },
    {
      "cell_type": "code",
      "execution_count": null,
      "id": "6f55b6a4",
      "metadata": {
        "id": "6f55b6a4"
      },
      "outputs": [],
      "source": []
    },
    {
      "cell_type": "code",
      "execution_count": null,
      "id": "3e4199ce",
      "metadata": {
        "id": "3e4199ce"
      },
      "outputs": [],
      "source": [
        "# prompt:  prompt: crreate a data frame with westbengal state and remove date  and remain with only month and year\n",
        "\n",
        "import pandas as pd\n",
        "West_Bengal['arrival_date'] = pd.to_datetime(West_Bengal['arrival_date'], format='%d/%m/%Y')\n",
        "West_Bengal['date'] = West_Bengal['arrival_date'].dt.strftime('%Y-%m')\n",
        "West_Bengal.head()\n"
      ]
    },
    {
      "cell_type": "code",
      "execution_count": null,
      "id": "61e6a925",
      "metadata": {
        "id": "61e6a925"
      },
      "outputs": [],
      "source": [
        "w1=West_Bengal[West_Bengal['arrival_date']=='2019-01']\n",
        "w2=West_Bengal[West_Bengal['arrival_date']=='2019-02']\n",
        "w3=West_Bengal[West_Bengal['arrival_date']=='2019-03']\n",
        "w4=West_Bengal[West_Bengal['arrival_date']=='2019-04']\n",
        "w5=West_Bengal[West_Bengal['arrival_date']=='2019-05']\n",
        "w6=West_Bengal[West_Bengal['arrival_date']=='2019-06']\n",
        "w7=West_Bengal[West_Bengal['arrival_date']=='2019-07']\n",
        "w8=West_Bengal[West_Bengal['arrival_date']=='2019-08']\n",
        "w9=West_Bengal[West_Bengal['arrival_date']=='2019-09']\n",
        "w10=West_Bengal[West_Bengal['arrival_date']==\"2019-10\"]\n",
        "w11=West_Bengal[West_Bengal['arrival_date']==\"2019-11\"]\n",
        "w12=West_Bengal[West_Bengal['arrival_date']==\"2019-12\"]\n",
        "w1"
      ]
    },
    {
      "cell_type": "code",
      "execution_count": null,
      "id": "8a3a1ec0",
      "metadata": {
        "id": "8a3a1ec0"
      },
      "outputs": [],
      "source": [
        "West_Bengal_2019=pd.concat([w1,w2,w3,w4,w5,w6,w7,w8,w9,w10,w11,w12])\n",
        "West_Bengal_2019.head()"
      ]
    },
    {
      "cell_type": "code",
      "execution_count": null,
      "id": "3bedae50",
      "metadata": {
        "id": "3bedae50"
      },
      "outputs": [],
      "source": [
        "# prompt: genrate westbengal data frame now with seprate 2020 data\n",
        "\n",
        "import pandas as pd\n",
        "w13=West_Bengal[West_Bengal['arrival_date']=='2020-01']\n",
        "w14=West_Bengal[West_Bengal['arrival_date']=='2020-02']\n",
        "w15=West_Bengal[West_Bengal['arrival_date']=='2020-03']\n",
        "w16=West_Bengal[West_Bengal['arrival_date']=='2020-04']\n",
        "w17=West_Bengal[West_Bengal['arrival_date']=='2020-05']\n",
        "w18=West_Bengal[West_Bengal['arrival_date']=='2020-06']\n",
        "w19=West_Bengal[West_Bengal['arrival_date']=='2020-07']\n",
        "w20=West_Bengal[West_Bengal['arrival_date']=='2020-08']\n",
        "w21=West_Bengal[West_Bengal['arrival_date']=='2020-09']\n",
        "w22=West_Bengal[West_Bengal['arrival_date']==\"2020-10\"]\n",
        "w23=West_Bengal[West_Bengal['arrival_date']==\"2020-11\"]\n",
        "w24=West_Bengal[West_Bengal['arrival_date']==\"2020-12\"]\n",
        "\n",
        "West_Bengal_2020=pd.concat([w13,w14,w15,w16,w17,w18,w19,w20,w21,w22,w23,w24])\n",
        "West_Bengal_2020.head()\n"
      ]
    },
    {
      "cell_type": "code",
      "execution_count": null,
      "id": "84d12f87",
      "metadata": {
        "id": "84d12f87"
      },
      "outputs": [],
      "source": [
        "# prompt: now with 2021\n",
        "\n",
        "import pandas as pd\n",
        "w25=West_Bengal[West_Bengal['arrival_date']=='2021-01']\n",
        "w26=West_Bengal[West_Bengal['arrival_date']=='2021-02']\n",
        "w27=West_Bengal[West_Bengal['arrival_date']=='2021-03']\n",
        "w28=West_Bengal[West_Bengal['arrival_date']=='2021-04']\n",
        "w29=West_Bengal[West_Bengal['arrival_date']=='2021-05']\n",
        "w30=West_Bengal[West_Bengal['arrival_date']=='2021-06']\n",
        "w31=West_Bengal[West_Bengal['arrival_date']=='2021-07']\n",
        "w32=West_Bengal[West_Bengal['arrival_date']=='2021-08']\n",
        "w33=West_Bengal[West_Bengal['arrival_date']=='2021-09']\n",
        "w34=West_Bengal[West_Bengal['arrival_date']==\"2021-10\"]\n",
        "w35=West_Bengal[West_Bengal['arrival_date']==\"2021-11\"]\n",
        "w36=West_Bengal[West_Bengal['arrival_date']==\"2021-12\"]\n",
        "West_Bengal_2021=pd.concat([w25,w26,w27,w28,w29,w30,w31,w32,w33,w34,w35,w36])\n",
        "West_Bengal_2021.head()\n"
      ]
    },
    {
      "cell_type": "code",
      "execution_count": null,
      "id": "0cf17a87",
      "metadata": {
        "id": "0cf17a87"
      },
      "outputs": [],
      "source": [
        "# prompt: now with 2022\n",
        "\n",
        "import pandas as pd\n",
        "w37=West_Bengal[West_Bengal['arrival_date']=='2022-01']\n",
        "w38=West_Bengal[West_Bengal['arrival_date']=='2022-02']\n",
        "w39=West_Bengal[West_Bengal['arrival_date']=='2022-03']\n",
        "w40=West_Bengal[West_Bengal['arrival_date']=='2022-04']\n",
        "w41=West_Bengal[West_Bengal['arrival_date']=='2022-05']\n",
        "w42=West_Bengal[West_Bengal['arrival_date']=='2022-06']\n",
        "w43=West_Bengal[West_Bengal['arrival_date']=='2022-07']\n",
        "w44=West_Bengal[West_Bengal['arrival_date']=='2022-08']\n",
        "w45=West_Bengal[West_Bengal['arrival_date']=='2022-09']\n",
        "w46=West_Bengal[West_Bengal['arrival_date']==\"2022-10\"]\n",
        "w47=West_Bengal[West_Bengal['arrival_date']==\"2022-11\"]\n",
        "w48=West_Bengal[West_Bengal['arrival_date']==\"2022-12\"]\n",
        "West_Bengal_2022=pd.concat([w37,w38,w39,w40,w41,w42,w43,w44,w45,w46,w47,w48])\n",
        "West_Bengal_2022.head()\n"
      ]
    },
    {
      "cell_type": "code",
      "execution_count": null,
      "id": "035310f3",
      "metadata": {
        "id": "035310f3"
      },
      "outputs": [],
      "source": [
        "# prompt: now with 2023\n",
        "\n",
        "import pandas as pd\n",
        "w49=West_Bengal[West_Bengal['date']=='2023-01']\n",
        "w50=West_Bengal[West_Bengal['date']=='2023-02']\n",
        "w51=West_Bengal[West_Bengal['date']=='2023-03']\n",
        "w52=West_Bengal[West_Bengal['date']=='2023-04']\n",
        "w53=West_Bengal[West_Bengal['date']=='2023-05']\n",
        "w54=West_Bengal[West_Bengal['date']=='2023-06']\n",
        "w55=West_Bengal[West_Bengal['date']=='2023-07']\n",
        "w56=West_Bengal[West_Bengal['date']=='2023-08']\n",
        "w57=West_Bengal[West_Bengal['date']=='2023-09']\n",
        "w58=West_Bengal[West_Bengal['date']=='2023-10']\n",
        "w59=West_Bengal[West_Bengal['date']=='2023-11']\n",
        "w60=West_Bengal[West_Bengal['date']=='2023-12']\n",
        "West_Bengal_2023=pd.concat([w49,w50,w51,w52,w53,w54,w55,w56,w57,w58,w59,w60])\n"
      ]
    },
    {
      "cell_type": "code",
      "execution_count": null,
      "id": "WbiJlyk56T7V",
      "metadata": {
        "id": "WbiJlyk56T7V",
        "colab": {
          "base_uri": "https://localhost:8080/"
        },
        "outputId": "59eec7e8-ca41-4371-9772-61f6b959f7ff"
      },
      "outputs": [
        {
          "metadata": {
            "tags": null
          },
          "name": "stdout",
          "output_type": "stream",
          "text": [
            " * Serving Flask app '__main__'\n",
            " * Debug mode: off\n"
          ]
        },
        {
          "metadata": {
            "tags": null
          },
          "name": "stderr",
          "output_type": "stream",
          "text": [
            "INFO:werkzeug:\u001b[31m\u001b[1mWARNING: This is a development server. Do not use it in a production deployment. Use a production WSGI server instead.\u001b[0m\n",
            " * Running on all addresses (0.0.0.0)\n",
            " * Running on http://127.0.0.1:5000\n",
            " * Running on http://172.28.0.12:5000\n",
            "INFO:werkzeug:\u001b[33mPress CTRL+C to quit\u001b[0m\n"
          ]
        }
      ],
      "source": [
        "import json\n",
        "from flask import Flask, render_template, request\n",
        "from prophet import Prophet  # Make sure to import Prophet from the correct module\n",
        "\n",
        "app = Flask(__name__)\n",
        "\n",
        "# Define the prediction function\n",
        "def predict(periods):\n",
        "    # Assuming West_Bengal is your DataFrame containing data\n",
        "    West_Bengal['ds'] = West_Bengal.date\n",
        "    West_Bengal['y'] = West_Bengal.modal_price\n",
        "\n",
        "    # Fitting the Prophet model\n",
        "    m = Prophet(yearly_seasonality=True, seasonality_prior_scale=0.1)\n",
        "    m.fit(West_Bengal)\n",
        "\n",
        "    # Making future dataframe and predicting\n",
        "    future = m.make_future_dataframe(periods=periods)\n",
        "    forecast = m.predict(future)\n",
        "\n",
        "    # Plotting components\n",
        "    prediction = m.plot_components(forecast)\n",
        "\n",
        "    # Return the prediction and forecast as JSON data\n",
        "    return json.dumps({'prediction': prediction, 'forecast': forecast.to_json()})  # Convert forecast DataFrame to JSON\n",
        "\n",
        "@app.route('/')\n",
        "def index():\n",
        "    return render_template('index.html')\n",
        "\n",
        "@app.route('/predict/<int:num_days>', methods=['POST'])\n",
        "def predict_route(num_days):\n",
        "    # Call the prediction function with the specified number of days\n",
        "    result = predict(num_days)\n",
        "    return result\n",
        "\n",
        "if __name__ == '__main__':\n",
        "    app.run(host='0.0.0.0', port=5000)\n"
      ]
    },
    {
      "cell_type": "code",
      "source": [
        "from pyngrok import ngrok\n",
        "import time\n",
        "\n",
        "# Set ngrok authtoken\n",
        "ngrok.set_auth_token(\"2f3VCycqzAeiBSEEmVb6NyKSCjD_5t8F2JqBRSzRFxJ99AaYG\")\n",
        "\n",
        "# Wait for ngrok tunnel to be established\n",
        "time.sleep(10)  # Adjust the delay as needed, e.g., 10 seconds\n",
        "\n",
        "# Get ngrok URL\n",
        "try:\n",
        "    tunnels = ngrok.get_tunnels()\n",
        "    ngrok_url = tunnels[0].public_url\n",
        "    print(\"Ngrok URL:\", ngrok_url)\n",
        "except Exception as e:\n",
        "    print(\"Error:\", e)\n",
        "    print(\"Failed to retrieve Ngrok URL. Make sure ngrok is running and try again.\")\n"
      ],
      "metadata": {
        "id": "YV-Qgf8rhgHD"
      },
      "id": "YV-Qgf8rhgHD",
      "execution_count": null,
      "outputs": []
    },
    {
      "cell_type": "code",
      "execution_count": null,
      "id": "kzN1JqvtC6l9",
      "metadata": {
        "colab": {
          "base_uri": "https://localhost:8080/",
          "height": 54
        },
        "id": "kzN1JqvtC6l9",
        "outputId": "9caa14a5-105b-409e-a8db-4c64f022714a"
      },
      "outputs": [
        {
          "data": {
            "text/html": [
              "<form id=\"prediction-form\">\n",
              "  <label for=\"num_days\">Number of Days:</label>\n",
              "  <input type=\"number\" id=\"num_days\" name=\"num_days\" required>\n",
              "  <button type=\"button\" onclick=\"predict()\">\n",
              "\n",
              "    \n",
              "  </button>\n",
              "</form>\n",
              "prediction(365)\n",
              "\n"
            ],
            "text/plain": [
              "<IPython.core.display.HTML object>"
            ]
          },
          "metadata": {},
          "output_type": "display_data"
        }
      ],
      "source": [
        "\n",
        "%%html\n",
        "<form id=\"prediction-form\">\n",
        "  <label for=\"num_days\">Number of Days:</label>\n",
        "  <input type=\"number\" id=\"num_days\" name=\"num_days\" required>\n",
        "  <button type=\"button\" onclick=\"predict()\">Predict</button>\n",
        "</form>\n",
        "prediction(365)\n",
        "\n"
      ]
    },
    {
      "cell_type": "markdown",
      "source": [],
      "metadata": {
        "id": "sRmzB5-1zrMV"
      },
      "id": "sRmzB5-1zrMV"
    },
    {
      "cell_type": "code",
      "source": [
        "%%javascript\n",
        "function predict() {\n",
        "  var numDays = document.getElementById('num_days').value;\n",
        "  google.colab.kernel.invokeFunction('notebook.predict', [numDays], {});\n",
        "}"
      ],
      "metadata": {
        "id": "KKwMUuQbar-7"
      },
      "id": "KKwMUuQbar-7",
      "execution_count": null,
      "outputs": []
    },
    {
      "cell_type": "code",
      "execution_count": null,
      "id": "E4QOA-UnLFbw",
      "metadata": {
        "id": "E4QOA-UnLFbw"
      },
      "outputs": [],
      "source": [
        "West_Bengal_2023"
      ]
    },
    {
      "cell_type": "code",
      "execution_count": null,
      "id": "yVaQStddLRjA",
      "metadata": {
        "id": "yVaQStddLRjA"
      },
      "outputs": [],
      "source": [
        "b"
      ]
    },
    {
      "cell_type": "code",
      "execution_count": null,
      "id": "VGpVmjWhGDHr",
      "metadata": {
        "id": "VGpVmjWhGDHr"
      },
      "outputs": [],
      "source": [
        "# prompt: lineplot  for westbengal 2023 and target as modal price   and for  b data frame also\n",
        "\n",
        "sns.lineplot(x='arrival_date', y='modal_price', data=West_Bengal_2023,color=\"red\")\n",
        "sns.lineplot(x='ds', y='yhat', data=b)"
      ]
    },
    {
      "cell_type": "code",
      "execution_count": null,
      "id": "L2QW_cay9a52",
      "metadata": {
        "id": "L2QW_cay9a52"
      },
      "outputs": [],
      "source": [
        "a=forecast[forecast[\"ds\"]>=\"2023-01-01\"]\n",
        "b=a[a[\"ds\"]<=\"2024-01-01\"]\n",
        "b"
      ]
    },
    {
      "cell_type": "code",
      "execution_count": null,
      "id": "aG9gffOjHoAP",
      "metadata": {
        "id": "aG9gffOjHoAP"
      },
      "outputs": [],
      "source": [
        "# prompt: drop the rows in a data frame  before 2023\n",
        "\n",
        "a = a[a['ds'] >= '2023-01-12']\n",
        "a\n"
      ]
    },
    {
      "cell_type": "markdown",
      "id": "dR3DYI536Tmy",
      "metadata": {
        "id": "dR3DYI536Tmy"
      },
      "source": []
    },
    {
      "cell_type": "code",
      "execution_count": null,
      "id": "JHv_wwiuAVQN",
      "metadata": {
        "id": "JHv_wwiuAVQN"
      },
      "outputs": [],
      "source": [
        "# Fit the Prophet model using all available data\n",
        "\n",
        "\n",
        "# Make predictions for the entire date range\n",
        "future = m.make_future_dataframe(periods=len(West_Bengal))\n",
        "forecast = m.predict(future)\n",
        "\n",
        "from sklearn.metrics import mean_absolute_error, mean_squared_error, r2_score\n",
        "\n",
        "# Calculate the mean absolute error\n",
        "mae = mean_absolute_error(y_true, y_pred)\n",
        "\n",
        "# Calculate the mean squared error\n",
        "mse = mean_squared_error(y_true, y_pred)\n",
        "\n",
        "# Calculate the root mean squared error\n",
        "rmse = np.sqrt(mse)\n",
        "\n",
        "# Calculate the R-squared score\n",
        "r2_score = r2_score(y_true, y_pred)\n",
        "\n",
        "# Print the results\n",
        "print(\"Mean absolute error:\", mae)\n",
        "print(\"Mean squared error:\", mse)\n",
        "print(\"Root mean squared error:\", rmse)\n",
        "print(\"R-squared score:\", r2_score)\n"
      ]
    },
    {
      "cell_type": "code",
      "execution_count": null,
      "id": "kORDCKjcGq0O",
      "metadata": {
        "id": "kORDCKjcGq0O"
      },
      "outputs": [],
      "source": [
        "# prompt: now with 2024\n",
        "\n",
        "import pandas as pd\n",
        "w61=West_Bengal[West_Bengal['arrival_date']=='2024-01']\n",
        "w62=West_Bengal[West_Bengal['arrival_date']=='2024-02']\n",
        "w63=West_Bengal[West_Bengal['arrival_date']=='2024-03']\n",
        "West_Bengal_2024=pd.concat([w61,w62,w63])\n"
      ]
    },
    {
      "cell_type": "code",
      "execution_count": null,
      "id": "nvzEIgIdH8fU",
      "metadata": {
        "id": "nvzEIgIdH8fU"
      },
      "outputs": [],
      "source": [
        "# prompt: now apply arima algo on westbengal data frame on every year\n",
        "\n",
        "import pandas as pd\n",
        "from statsmodels.tsa.arima.model import ARIMA\n",
        "\n",
        "# Fit ARIMA model for each year\n",
        "for year in range(2019, 2025):\n",
        "    # Filter data for the current year\n",
        "    df_year= West_Bengal[West_Bengal['arrival_date'].str.startswith(str(year))]\n",
        "\n",
        "    # Fit ARIMA model\n",
        "    model = ARIMA(df_year['modal_price'], order=(1, 1, 1))\n",
        "    model_fit = model.fit()\n",
        "\n",
        "    # Print model summary\n",
        "    print(f\"ARIMA Model Summary for {year}:\")\n",
        "    print(model_fit.summary())\n"
      ]
    },
    {
      "cell_type": "code",
      "execution_count": null,
      "id": "27a_S6qLLMt2",
      "metadata": {
        "id": "27a_S6qLLMt2"
      },
      "outputs": [],
      "source": [
        "# prompt: calculate rolling mean and roliing std for westbengal data frame and plot it with big figure size\n",
        "\n",
        "import matplotlib.pyplot as plt\n",
        "# Calculate rolling mean and standard deviation\n",
        "rolling_mean = West_Bengal['modal_price'].rolling(window=12).mean()\n",
        "rolling_std = West_Bengal['modal_price'].rolling(window=12).std()\n",
        "\n",
        "# Plot the rolling mean and standard deviation\n",
        "plt.figure(figsize=(15, 5))\n",
        "plt.plot(West_Bengal['arrival_date'], rolling_mean, label='Rolling Mean')\n",
        "plt.plot(West_Bengal['arrival_date'], rolling_std, label='Rolling Standard Deviation')\n",
        "plt.title('Rolling Mean and Standard Deviation of Modal Price in West Bengal')\n",
        "plt.xlabel('Arrival Date')\n",
        "plt.ylabel('Price (Rs./Quintal)')\n",
        "plt.legend()\n",
        "plt.show()\n"
      ]
    },
    {
      "cell_type": "code",
      "execution_count": null,
      "id": "f279e68c",
      "metadata": {
        "id": "f279e68c"
      },
      "outputs": [],
      "source": [
        "Jharkhand=Rice[Rice['state']=='Jharkhand']\n",
        "print(Jharkhand['variety'].unique())\n",
        "Jharkhand.head()"
      ]
    },
    {
      "cell_type": "code",
      "execution_count": null,
      "id": "HbWXEVuvGorB",
      "metadata": {
        "id": "HbWXEVuvGorB"
      },
      "outputs": [],
      "source": [
        "# prompt: use arima model to forecast trend in west bengal for year 2024\n",
        "\n",
        "import pandas as pd\n",
        "import matplotlib.pyplot as plt\n",
        "# Forecast for 2024 using the ARIMA model\n",
        "forecast = model_fit.forecast(steps=12)\n",
        "\n",
        "# Create a DataFrame for the forecast\n",
        "forecast_df = pd.DataFrame(forecast, index=pd.date_range(start='2024-01', periods=12, freq='MS'))\n",
        "forecast_df.columns = ['predicted_modal_price']\n",
        "\n",
        "# Plot the forecast\n",
        "plt.figure(figsize=(12, 6))\n",
        "plt.plot(West_Bengal_2023.index, West_Bengal_2023['modal_price'], label='Historical Data',color=\"red\")\n",
        "plt.plot(forecast_df.index, forecast_df['predicted_modal_price'], label='Forecast',color=\"blue\")\n",
        "plt.xlabel('Arrival Date')\n",
        "plt.ylabel('Modal Price')\n",
        "plt.title('ARIMA Forecast for West Bengal Rice Prices in 2024')\n",
        "plt.legend()\n",
        "plt.show()\n"
      ]
    },
    {
      "cell_type": "code",
      "execution_count": null,
      "id": "f1ToTuSNtrqV",
      "metadata": {
        "id": "f1ToTuSNtrqV"
      },
      "outputs": [],
      "source": [
        "# prompt: use auto regressor model of arima\n",
        "\n",
        "import matplotlib.pyplot as plt\n",
        "# Import necessary libraries\n",
        "import pandas as pd\n",
        "from statsmodels.tsa.arima_model import ARIMA\n",
        "\n",
        "# Load the data\n",
        "df = Rice[Rice['state']=='West Bengal']\n",
        "\n",
        "# Fit ARIMA model\n",
        "model = ARIMA(df['modal_price'], order=(1, 1, 1))\n",
        "model_fit = model.fit()\n",
        "\n",
        "# Print model summary\n",
        "print(model_fit.summary())\n",
        "\n",
        "# Forecast for 2024\n",
        "forecast = model_fit.forecast(steps=12)\n",
        "\n",
        "# Create a DataFrame for the forecast\n",
        "forecast_df = pd.DataFrame(forecast, index=pd.date_range(start='2024-01', periods=12, freq='MS'))\n",
        "forecast_df.columns = ['predicted_modal_price']\n",
        "\n",
        "# Plot the forecast\n",
        "plt.figure(figsize=(12, 6))\n",
        "plt.plot(df['arrival_date'], df['modal_price'], label='Historical Data',color=\"red\")\n",
        "plt.plot(forecast_df.index, forecast_df['predicted_modal_price'], label='Forecast',color=\"blue\")\n",
        "plt.xlabel('Arrival Date')\n",
        "plt.ylabel('Modal Price')\n",
        "plt.title('ARIMA Forecast for West Bengal Rice Prices in 2024')\n",
        "plt.legend()\n",
        "plt.show()\n"
      ]
    },
    {
      "cell_type": "code",
      "execution_count": null,
      "id": "ff581f9d",
      "metadata": {
        "id": "ff581f9d"
      },
      "outputs": [],
      "source": [
        "Karnataka=Rice[Rice['state']=='Karnataka']\n",
        "print(Karnataka['variety'].unique())\n",
        "Karnataka.head()"
      ]
    },
    {
      "cell_type": "code",
      "execution_count": null,
      "id": "0c519a81",
      "metadata": {
        "id": "0c519a81"
      },
      "outputs": [],
      "source": [
        "Kerala=Rice[Rice['state']=='Kerala']\n",
        "print(Kerala['variety'].unique())\n",
        "Kerala.head()"
      ]
    },
    {
      "cell_type": "code",
      "execution_count": null,
      "id": "4628b98a",
      "metadata": {
        "id": "4628b98a"
      },
      "outputs": [],
      "source": [
        "Maharashtra=Rice[Rice['state']=='Maharashtra']\n",
        "print(Maharashtra['variety'].unique())\n",
        "Maharashtra.head()\n"
      ]
    },
    {
      "cell_type": "code",
      "execution_count": null,
      "id": "be613292",
      "metadata": {
        "id": "be613292"
      },
      "outputs": [],
      "source": [
        "Manipur=Rice[Rice['state']=='Manipur']\n",
        "print(Manipur['variety'].unique())\n",
        "Manipur.head()"
      ]
    },
    {
      "cell_type": "code",
      "execution_count": null,
      "id": "bf3edb3e",
      "metadata": {
        "id": "bf3edb3e"
      },
      "outputs": [],
      "source": [
        "Odisha=Rice[Rice['state']=='Odisha']\n",
        "print(Odisha['variety'].unique())\n",
        "Odisha.head()"
      ]
    },
    {
      "cell_type": "code",
      "execution_count": null,
      "id": "e85fdde3",
      "metadata": {
        "id": "e85fdde3"
      },
      "outputs": [],
      "source": [
        "Telangana=Rice[Rice['state']=='Telangana']\n",
        "print(Telangana['variety'].unique())\n",
        "Telangana.head()"
      ]
    },
    {
      "cell_type": "code",
      "execution_count": null,
      "id": "f18d123e",
      "metadata": {
        "id": "f18d123e"
      },
      "outputs": [],
      "source": [
        "Tripura=Rice[Rice['state']=='Tripura']\n",
        "print(Tripura['variety'].unique())\n",
        "Tripura.head()"
      ]
    },
    {
      "cell_type": "code",
      "execution_count": null,
      "id": "7171ff30",
      "metadata": {
        "id": "7171ff30"
      },
      "outputs": [],
      "source": [
        "Uttar_Pradesh=Rice[Rice['state']=='Uttar Pradesh']\n",
        "print(Uttar_Pradesh['variety'].unique())\n",
        "Uttar_Pradesh.head()"
      ]
    },
    {
      "cell_type": "code",
      "execution_count": null,
      "id": "e01ddd5c",
      "metadata": {
        "id": "e01ddd5c"
      },
      "outputs": [],
      "source": [
        "West_Bengal=Rice[Rice['state']=='West Bengal']\n",
        "print(West_Bengal['variety'].unique())\n",
        "West_Bengal.head()"
      ]
    },
    {
      "cell_type": "code",
      "execution_count": null,
      "id": "139c799b",
      "metadata": {
        "id": "139c799b"
      },
      "outputs": [],
      "source": [
        "Andhra_Pradesh=Rice[Rice['state']=='Andhra Pradesh']\n",
        "print(Andhra_Pradesh['variety'].unique())\n",
        "Andhra_Pradesh.head()"
      ]
    },
    {
      "cell_type": "code",
      "execution_count": null,
      "id": "c2919a9d",
      "metadata": {
        "id": "c2919a9d"
      },
      "outputs": [],
      "source": [
        "Bihar=Rice[Rice['state']=='Bihar']\n",
        "print(Bihar['variety'].unique())\n",
        "Bihar.head()"
      ]
    },
    {
      "cell_type": "code",
      "execution_count": null,
      "id": "ae764c81",
      "metadata": {
        "id": "ae764c81"
      },
      "outputs": [],
      "source": [
        "NCT_of_Delhi=Rice[Rice['state']=='NCT of Delhi']\n",
        "print(NCT_of_Delhi['variety'].unique())\n",
        "NCT_of_Delhi.head()"
      ]
    },
    {
      "cell_type": "code",
      "execution_count": null,
      "id": "2d4c9c58",
      "metadata": {
        "id": "2d4c9c58"
      },
      "outputs": [],
      "source": [
        "Uttrakhand=Rice[Rice['state']=='Uttrakhand']\n",
        "print(Uttrakhand['variety'].unique())\n",
        "Uttrakhand.head()"
      ]
    },
    {
      "cell_type": "code",
      "execution_count": null,
      "id": "fcf12a75",
      "metadata": {
        "id": "fcf12a75"
      },
      "outputs": [],
      "source": [
        "Rajasthan=Rice[Rice['state']=='Rajasthan']\n",
        "print(Rajasthan['variety'].unique())\n",
        "Rajasthan.head()"
      ]
    },
    {
      "cell_type": "code",
      "execution_count": null,
      "id": "159a14e0",
      "metadata": {
        "id": "159a14e0"
      },
      "outputs": [],
      "source": [
        "Maharashtra.head()"
      ]
    },
    {
      "cell_type": "code",
      "execution_count": null,
      "id": "fee3bbda",
      "metadata": {
        "id": "fee3bbda"
      },
      "outputs": [],
      "source": [
        "print(max(Maharashtra['modal_price']))\n",
        "print(min(Maharashtra['modal_price']))\n",
        "print(max(Maharashtra['min_price']))\n",
        "print(min(Maharashtra['min_price']))\n",
        "print(min(Maharashtra['max_price']))\n",
        "print(max(Maharashtra['max_price']))"
      ]
    },
    {
      "cell_type": "code",
      "execution_count": null,
      "id": "a6d71461",
      "metadata": {
        "id": "a6d71461"
      },
      "outputs": [],
      "source": [
        "Maharashtra[Maharashtra['modal_price']==11000]"
      ]
    },
    {
      "cell_type": "code",
      "execution_count": null,
      "id": "43c4589a",
      "metadata": {
        "id": "43c4589a"
      },
      "outputs": [],
      "source": [
        "Maharashtra[Maharashtra['modal_price']==1000]"
      ]
    },
    {
      "cell_type": "code",
      "execution_count": null,
      "id": "6c64684f",
      "metadata": {
        "id": "6c64684f"
      },
      "outputs": [],
      "source": [
        "Maharashtra[Maharashtra['min_price']==9500]"
      ]
    },
    {
      "cell_type": "code",
      "execution_count": null,
      "id": "274a0c33",
      "metadata": {
        "id": "274a0c33"
      },
      "outputs": [],
      "source": [
        "Maharashtra[Maharashtra['min_price']==260]"
      ]
    },
    {
      "cell_type": "code",
      "execution_count": null,
      "id": "a122c4ed",
      "metadata": {
        "id": "a122c4ed"
      },
      "outputs": [],
      "source": [
        "Maharashtra[Maharashtra['max_price']==1000]"
      ]
    },
    {
      "cell_type": "code",
      "execution_count": null,
      "id": "bdbec9c9",
      "metadata": {
        "id": "bdbec9c9"
      },
      "outputs": [],
      "source": [
        "Maharashtra[Maharashtra['max_price']==12000]"
      ]
    },
    {
      "cell_type": "code",
      "execution_count": null,
      "id": "c3254545",
      "metadata": {
        "id": "c3254545"
      },
      "outputs": [],
      "source": [
        "mumbai=Maharashtra[Maharashtra['district']=='Mumbai']"
      ]
    },
    {
      "cell_type": "code",
      "execution_count": null,
      "id": "21c87066",
      "metadata": {
        "id": "21c87066"
      },
      "outputs": [],
      "source": [
        "mumbai.head()"
      ]
    },
    {
      "cell_type": "code",
      "execution_count": null,
      "id": "2337d937",
      "metadata": {
        "id": "2337d937"
      },
      "outputs": [],
      "source": [
        "mumbai"
      ]
    },
    {
      "cell_type": "code",
      "execution_count": null,
      "id": "7bc8d747",
      "metadata": {
        "id": "7bc8d747"
      },
      "outputs": [],
      "source": [
        "kalyan=Maharashtra[Maharashtra['market']=='Kalyan']"
      ]
    },
    {
      "cell_type": "code",
      "execution_count": null,
      "id": "09af695f",
      "metadata": {
        "id": "09af695f"
      },
      "outputs": [],
      "source": [
        "kalyan.head()"
      ]
    },
    {
      "cell_type": "code",
      "execution_count": null,
      "id": "aa45a223",
      "metadata": {
        "id": "aa45a223"
      },
      "outputs": [],
      "source": [
        "kalyan"
      ]
    },
    {
      "cell_type": "code",
      "execution_count": null,
      "id": "74a04f3c",
      "metadata": {
        "id": "74a04f3c"
      },
      "outputs": [],
      "source": [
        "import pandas as pd\n",
        "from statsmodels.tsa.arima.model import ARIMA\n",
        "from sklearn.metrics import mean_squared_error\n",
        "\n",
        "# Load data\n",
        "\n",
        "\n",
        "# Convert 'arrival_date' to datetime\n",
        "Rice['arrival_date'] = pd.to_datetime(Rice['arrival_date'])\n",
        "\n",
        "# Optional: Set 'arrival_date' as index\n",
        "# data.set_index('arrival_date', inplace=True)\n",
        "\n",
        "# Handle missing values\n",
        "# data.dropna(inplace=True) or impute missing values\n",
        "\n",
        "# Split data into train and test sets\n",
        "train_size = int(len(Rice) * 0.8)\n",
        "train, test = Rice[:train_size], Rice[train_size:]\n",
        "\n",
        "# Fit ARIMA model\n",
        "model = ARIMA(train['modal_price'], order=(5,1,0))\n",
        "model_fit = model.fit()\n",
        "\n",
        "# Make predictions\n",
        "predictions = model_fit.forecast(steps=len(test))\n",
        "\n",
        "# Evaluate model\n",
        "mse = mean_squared_error(test['modal_price'], predictions)\n",
        "print('Mean Squared Error:', mse)\n",
        "\n",
        "# Visualize predictions vs actual\n",
        "# ...\n",
        "\n",
        "# Further analysis and interpretation\n",
        "# ...\n"
      ]
    },
    {
      "cell_type": "code",
      "execution_count": null,
      "id": "45281ceb",
      "metadata": {
        "id": "45281ceb"
      },
      "outputs": [],
      "source": [
        "import numpy as np\n",
        "import pandas as pd\n",
        "from sklearn.preprocessing import MinMaxScaler\n",
        "from sklearn.model_selection import train_test_split\n",
        "from sklearn.ensemble import GradientBoostingRegressor\n",
        "from sklearn.metrics import mean_squared_error\n",
        "\n",
        "# Load your dataset\n",
        "\n",
        "\n",
        "\n",
        "\n",
        "# Data Preprocessing\n",
        "# Handle missing values\n",
        "Rice.dropna(inplace=True)\n",
        "\n",
        "# Feature Selection\n",
        "features = ['district', 'market', 'commodity', 'variety', 'arrival_date', 'min_price', 'max_price', 'modal_price']\n",
        "Rice = Rice[features]\n",
        "\n",
        "# Encoding categorical variables (if necessary)\n",
        "# For simplicity, you can use pandas get_dummies or OneHotEncoder from sklearn\n",
        "\n",
        "# Scale numerical features\n",
        "scaler = MinMaxScaler()\n",
        "Rice[['min_price', 'max_price', 'modal_price']] = scaler.fit_transform(Rice[['min_price', 'max_price', 'modal_price']])\n",
        "\n",
        "# Sequence Creation\n",
        "# You can create sequences of a fixed length from your dataset\n",
        "\n",
        "# Split into X (input) and y (output)\n",
        "# Define your X and y\n",
        "\n",
        "# Convert data to PyTorch tensors\n",
        "X_tensor = torch.tensor(X, dtype=torch.float32)\n",
        "y_tensor = torch.tensor(y, dtype=torch.float32)\n",
        "\n",
        "# Create DataLoader\n",
        "dataset = TensorDataset(X_tensor, y_tensor)\n",
        "batch_size = 32\n",
        "dataloader = DataLoader(dataset, batch_size=batch_size, shuffle=True)\n",
        "\n",
        "# Model Architecture\n",
        "class LSTMModel(nn.Module):\n",
        "    def __init__(self, input_size, hidden_size, num_layers=1):\n",
        "        super(LSTMModel, self).__init__()\n",
        "        self.hidden_size = hidden_size\n",
        "        self.num_layers = num_layers\n",
        "        self.lstm = nn.LSTM(input_size, hidden_size, num_layers, batch_first=True)\n",
        "        self.fc = nn.Linear(hidden_size, 1)\n",
        "\n",
        "    def forward(self, x):\n",
        "        h0 = torch.zeros(self.num_layers, x.size(0), self.hidden_size).to(x.device)\n",
        "        c0 = torch.zeros(self.num_layers, x.size(0), self.hidden_size).to(x.device)\n",
        "\n",
        "        out, _ = self.lstm(x, (h0, c0))\n",
        "        out = self.fc(out[:, -1, :])\n",
        "        return out\n",
        "\n",
        "input_size = X.shape[1]\n",
        "hidden_size = 50\n",
        "num_layers = 1\n",
        "model = LSTMModel(input_size, hidden_size, num_layers)\n",
        "\n",
        "# Define loss function and optimizer\n",
        "criterion = nn.MSELoss()\n",
        "optimizer = torch.optim.Adam(model.parameters(), lr=0.001)\n",
        "\n",
        "# Training the model\n",
        "num_epochs = 100\n",
        "for epoch in range(num_epochs):\n",
        "    for inputs, targets in dataloader:\n",
        "        optimizer.zero_grad()\n",
        "        outputs = model(inputs)\n",
        "        loss = criterion(outputs.squeeze(), targets)\n",
        "        loss.backward()\n",
        "        optimizer.step()\n",
        "\n",
        "    if (epoch+1) % 10 == 0:\n",
        "        print(f'Epoch [{epoch+1}/{num_epochs}], Loss: {loss.item():.4f}')\n",
        "\n",
        "# Model Evaluation\n",
        "# Evaluate your model on the test set\n",
        "\n",
        "\n",
        "# Prediction\n",
        "# Make predictions on new data\n"
      ]
    },
    {
      "cell_type": "code",
      "execution_count": null,
      "id": "4418ab2e",
      "metadata": {
        "id": "4418ab2e"
      },
      "outputs": [],
      "source": [
        "pip install torch torchvision torchaudio\n"
      ]
    },
    {
      "cell_type": "code",
      "execution_count": null,
      "id": "ba763790",
      "metadata": {
        "id": "ba763790"
      },
      "outputs": [],
      "source": [
        "pip list | grep torch\n"
      ]
    },
    {
      "cell_type": "code",
      "execution_count": null,
      "id": "0b8390f3",
      "metadata": {
        "id": "0b8390f3"
      },
      "outputs": [],
      "source": [
        "pip install tensorflow\n",
        "\n"
      ]
    },
    {
      "cell_type": "code",
      "execution_count": null,
      "id": "c24fa600",
      "metadata": {
        "id": "c24fa600"
      },
      "outputs": [],
      "source": [
        "import numpy as np\n",
        "import pandas as pd\n",
        "from sklearn.preprocessing import MinMaxScaler\n",
        "from keras.models import Sequential\n",
        "from keras.layers import LSTM, Dense\n",
        "from sklearn.model_selection import train_test_split\n",
        "\n",
        "# Load your dataset\n",
        "data = pd.read_csv(\"your_data.csv\")\n",
        "\n",
        "# Data Preprocessing\n",
        "# Handle missing values\n",
        "data.dropna(inplace=True)\n",
        "\n",
        "# Feature Selection\n",
        "features = ['district', 'market', 'commodity', 'variety', 'arrival_date', 'min_price', 'max_price', 'modal_price']\n",
        "data = data[features]\n",
        "\n",
        "# Encoding categorical variables (if necessary)\n",
        "# For simplicity, you can use pandas get_dummies or OneHotEncoder from sklearn\n",
        "\n",
        "# Scale numerical features\n",
        "scaler = MinMaxScaler()\n",
        "data[['min_price', 'max_price', 'modal_price']] = scaler.fit_transform(data[['min_price', 'max_price', 'modal_price']])\n",
        "\n",
        "# Sequence Creation\n",
        "# You can create sequences of a fixed length from your dataset\n",
        "\n",
        "# Split into X (input) and y (output)\n",
        "# Define your X and y\n",
        "\n",
        "# Split the data into training and validation sets\n",
        "X_train, X_val, y_train, y_val = train_test_split(X, y, test_size=0.2, random_state=42)\n",
        "\n",
        "# Reshape input data for LSTM\n",
        "X_train = X_train.reshape((X_train.shape[0], 1, X_train.shape[1]))\n",
        "X_val = X_val.reshape((X_val.shape[0], 1, X_val.shape[1]))\n",
        "\n",
        "# Model Architecture\n",
        "model = Sequential([\n",
        "    LSTM(units=50, activation='relu', input_shape=(X_train.shape[1], X_train.shape[2])),\n",
        "    Dense(units=1)\n",
        "])\n",
        "\n",
        "# Compile the model\n",
        "model.compile(optimizer='adam', loss='mean_squared_error')\n",
        "\n",
        "# Train the model\n",
        "model.fit(X_train, y_train, epochs=100, batch_size=32, validation_data=(X_val, y_val))\n",
        "\n",
        "# Model Evaluation\n",
        "# Evaluate your model on the test set\n",
        "\n",
        "# Prediction\n",
        "# Make predictions on new data\n"
      ]
    }
  ],
  "metadata": {
    "colab": {
      "provenance": [],
      "include_colab_link": true
    },
    "kernelspec": {
      "display_name": "Python 3 (ipykernel)",
      "language": "python",
      "name": "python3"
    },
    "language_info": {
      "codemirror_mode": {
        "name": "ipython",
        "version": 3
      },
      "file_extension": ".py",
      "mimetype": "text/x-python",
      "name": "python",
      "nbconvert_exporter": "python",
      "pygments_lexer": "ipython3",
      "version": "3.9.13"
    }
  },
  "nbformat": 4,
  "nbformat_minor": 5
}